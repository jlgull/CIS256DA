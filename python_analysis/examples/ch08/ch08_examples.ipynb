{
 "cells": [
  {
   "cell_type": "markdown",
   "metadata": {},
   "source": [
    "# Chapter 8: How to analyze the data"
   ]
  },
  {
   "cell_type": "code",
   "execution_count": 1,
   "metadata": {},
   "outputs": [],
   "source": [
    "import pandas as pd\n",
    "import seaborn as sns"
   ]
  },
  {
   "cell_type": "markdown",
   "metadata": {},
   "source": [
    "## Pg 274 - How to melt columns to create long data"
   ]
  },
  {
   "cell_type": "code",
   "execution_count": 2,
   "metadata": {},
   "outputs": [
    {
     "name": "stdout",
     "output_type": "stream",
     "text": [
      "<class 'pandas.core.frame.DataFrame'>\n",
      "RangeIndex: 205 entries, 0 to 204\n",
      "Data columns (total 5 columns):\n",
      " #   Column      Non-Null Count  Dtype  \n",
      "---  ------      --------------  -----  \n",
      " 0   aspiration  205 non-null    object \n",
      " 1   carbody     205 non-null    object \n",
      " 2   enginesize  205 non-null    int64  \n",
      " 3   curbweight  205 non-null    int64  \n",
      " 4   price       205 non-null    float64\n",
      "dtypes: float64(1), int64(2), object(2)\n",
      "memory usage: 29.8 KB\n"
     ]
    },
    {
     "data": {
      "text/html": [
       "<div>\n",
       "<style scoped>\n",
       "    .dataframe tbody tr th:only-of-type {\n",
       "        vertical-align: middle;\n",
       "    }\n",
       "\n",
       "    .dataframe tbody tr th {\n",
       "        vertical-align: top;\n",
       "    }\n",
       "\n",
       "    .dataframe thead th {\n",
       "        text-align: right;\n",
       "    }\n",
       "</style>\n",
       "<table border=\"1\" class=\"dataframe\">\n",
       "  <thead>\n",
       "    <tr style=\"text-align: right;\">\n",
       "      <th></th>\n",
       "      <th>aspiration</th>\n",
       "      <th>carbody</th>\n",
       "      <th>enginesize</th>\n",
       "      <th>curbweight</th>\n",
       "      <th>price</th>\n",
       "    </tr>\n",
       "  </thead>\n",
       "  <tbody>\n",
       "    <tr>\n",
       "      <th>0</th>\n",
       "      <td>std</td>\n",
       "      <td>convertible</td>\n",
       "      <td>130</td>\n",
       "      <td>2548</td>\n",
       "      <td>13495.0</td>\n",
       "    </tr>\n",
       "    <tr>\n",
       "      <th>1</th>\n",
       "      <td>std</td>\n",
       "      <td>convertible</td>\n",
       "      <td>130</td>\n",
       "      <td>2548</td>\n",
       "      <td>16500.0</td>\n",
       "    </tr>\n",
       "    <tr>\n",
       "      <th>2</th>\n",
       "      <td>std</td>\n",
       "      <td>hatchback</td>\n",
       "      <td>152</td>\n",
       "      <td>2823</td>\n",
       "      <td>16500.0</td>\n",
       "    </tr>\n",
       "    <tr>\n",
       "      <th>3</th>\n",
       "      <td>std</td>\n",
       "      <td>sedan</td>\n",
       "      <td>109</td>\n",
       "      <td>2337</td>\n",
       "      <td>13950.0</td>\n",
       "    </tr>\n",
       "    <tr>\n",
       "      <th>4</th>\n",
       "      <td>std</td>\n",
       "      <td>sedan</td>\n",
       "      <td>136</td>\n",
       "      <td>2824</td>\n",
       "      <td>17450.0</td>\n",
       "    </tr>\n",
       "  </tbody>\n",
       "</table>\n",
       "</div>"
      ],
      "text/plain": [
       "  aspiration      carbody  enginesize  curbweight    price\n",
       "0        std  convertible         130        2548  13495.0\n",
       "1        std  convertible         130        2548  16500.0\n",
       "2        std    hatchback         152        2823  16500.0\n",
       "3        std        sedan         109        2337  13950.0\n",
       "4        std        sedan         136        2824  17450.0"
      ]
     },
     "execution_count": 2,
     "metadata": {},
     "output_type": "execute_result"
    }
   ],
   "source": [
    "# Pg 275\n",
    "cars = pd.read_pickle('cars.pkl')\n",
    "\n",
    "cars.info(memory_usage = 'deep')\n",
    "\n",
    "cars.head()"
   ]
  },
  {
   "cell_type": "code",
   "execution_count": 3,
   "metadata": {},
   "outputs": [
    {
     "name": "stdout",
     "output_type": "stream",
     "text": [
      "<class 'pandas.core.frame.DataFrame'>\n",
      "RangeIndex: 410 entries, 0 to 409\n",
      "Data columns (total 3 columns):\n",
      " #   Column        Non-Null Count  Dtype  \n",
      "---  ------        --------------  -----  \n",
      " 0   price         410 non-null    float64\n",
      " 1   feature       410 non-null    object \n",
      " 2   featureValue  410 non-null    int64  \n",
      "dtypes: float64(1), int64(1), object(1)\n",
      "memory usage: 33.4 KB\n"
     ]
    },
    {
     "data": {
      "text/html": [
       "<div>\n",
       "<style scoped>\n",
       "    .dataframe tbody tr th:only-of-type {\n",
       "        vertical-align: middle;\n",
       "    }\n",
       "\n",
       "    .dataframe tbody tr th {\n",
       "        vertical-align: top;\n",
       "    }\n",
       "\n",
       "    .dataframe thead th {\n",
       "        text-align: right;\n",
       "    }\n",
       "</style>\n",
       "<table border=\"1\" class=\"dataframe\">\n",
       "  <thead>\n",
       "    <tr style=\"text-align: right;\">\n",
       "      <th></th>\n",
       "      <th>price</th>\n",
       "      <th>feature</th>\n",
       "      <th>featureValue</th>\n",
       "    </tr>\n",
       "  </thead>\n",
       "  <tbody>\n",
       "    <tr>\n",
       "      <th>0</th>\n",
       "      <td>13495.0</td>\n",
       "      <td>enginesize</td>\n",
       "      <td>130</td>\n",
       "    </tr>\n",
       "    <tr>\n",
       "      <th>1</th>\n",
       "      <td>16500.0</td>\n",
       "      <td>enginesize</td>\n",
       "      <td>130</td>\n",
       "    </tr>\n",
       "    <tr>\n",
       "      <th>2</th>\n",
       "      <td>16500.0</td>\n",
       "      <td>enginesize</td>\n",
       "      <td>152</td>\n",
       "    </tr>\n",
       "    <tr>\n",
       "      <th>3</th>\n",
       "      <td>13950.0</td>\n",
       "      <td>enginesize</td>\n",
       "      <td>109</td>\n",
       "    </tr>\n",
       "    <tr>\n",
       "      <th>4</th>\n",
       "      <td>17450.0</td>\n",
       "      <td>enginesize</td>\n",
       "      <td>136</td>\n",
       "    </tr>\n",
       "    <tr>\n",
       "      <th>...</th>\n",
       "      <td>...</td>\n",
       "      <td>...</td>\n",
       "      <td>...</td>\n",
       "    </tr>\n",
       "    <tr>\n",
       "      <th>405</th>\n",
       "      <td>16845.0</td>\n",
       "      <td>curbweight</td>\n",
       "      <td>2952</td>\n",
       "    </tr>\n",
       "    <tr>\n",
       "      <th>406</th>\n",
       "      <td>19045.0</td>\n",
       "      <td>curbweight</td>\n",
       "      <td>3049</td>\n",
       "    </tr>\n",
       "    <tr>\n",
       "      <th>407</th>\n",
       "      <td>21485.0</td>\n",
       "      <td>curbweight</td>\n",
       "      <td>3012</td>\n",
       "    </tr>\n",
       "    <tr>\n",
       "      <th>408</th>\n",
       "      <td>22470.0</td>\n",
       "      <td>curbweight</td>\n",
       "      <td>3217</td>\n",
       "    </tr>\n",
       "    <tr>\n",
       "      <th>409</th>\n",
       "      <td>22625.0</td>\n",
       "      <td>curbweight</td>\n",
       "      <td>3062</td>\n",
       "    </tr>\n",
       "  </tbody>\n",
       "</table>\n",
       "<p>410 rows × 3 columns</p>\n",
       "</div>"
      ],
      "text/plain": [
       "       price     feature  featureValue\n",
       "0    13495.0  enginesize           130\n",
       "1    16500.0  enginesize           130\n",
       "2    16500.0  enginesize           152\n",
       "3    13950.0  enginesize           109\n",
       "4    17450.0  enginesize           136\n",
       "..       ...         ...           ...\n",
       "405  16845.0  curbweight          2952\n",
       "406  19045.0  curbweight          3049\n",
       "407  21485.0  curbweight          3012\n",
       "408  22470.0  curbweight          3217\n",
       "409  22625.0  curbweight          3062\n",
       "\n",
       "[410 rows x 3 columns]"
      ]
     },
     "execution_count": 3,
     "metadata": {},
     "output_type": "execute_result"
    }
   ],
   "source": [
    "# Pg 275\n",
    "cars_melted = pd.melt(cars, id_vars='price',\n",
    "                      value_vars=['enginesize','curbweight'],\n",
    "                      var_name='feature', value_name='featureValue')\n",
    "\n",
    "cars_melted.info(memory_usage = 'deep')\n",
    "\n",
    "cars_melted\n"
   ]
  },
  {
   "cell_type": "markdown",
   "metadata": {},
   "source": [
    "## Pg 276 - How to plot melted columns"
   ]
  },
  {
   "cell_type": "code",
   "execution_count": 4,
   "metadata": {},
   "outputs": [
    {
     "data": {
      "image/png": "[encoded data removed]",
      "text/plain": [
       "<Figure size 452x360 with 1 Axes>"
      ]
     },
     "metadata": {
      "needs_background": "light"
     },
     "output_type": "display_data"
    }
   ],
   "source": [
    "# Pg 277\n",
    "sns.relplot(data=cars_melted, x='featureValue', y='price', \n",
    "            hue='feature');"
   ]
  },
  {
   "cell_type": "code",
   "execution_count": 5,
   "metadata": {},
   "outputs": [
    {
     "data": {
      "image/png": "[encoded data removed]",
      "text/plain": [
       "<Figure size 1000x500 with 2 Axes>"
      ]
     },
     "metadata": {},
     "output_type": "display_data"
    }
   ],
   "source": [
    "# Pg 277\n",
    "sns.relplot(data=cars_melted, x='featureValue', y='price', \n",
    "            col='feature', facet_kws={'sharex':False});"
   ]
  },
  {
   "cell_type": "markdown",
   "metadata": {},
   "source": [
    "##  Pg 278 - How to group and apply a single aggregate method"
   ]
  },
  {
   "cell_type": "code",
   "execution_count": 6,
   "metadata": {},
   "outputs": [
    {
     "name": "stdout",
     "output_type": "stream",
     "text": [
      "<class 'pandas.core.frame.DataFrame'>\n",
      "RangeIndex: 274123 entries, 0 to 274122\n",
      "Data columns (total 8 columns):\n",
      " #   Column          Non-Null Count   Dtype         \n",
      "---  ------          --------------   -----         \n",
      " 0   fire_name       128667 non-null  object        \n",
      " 1   fire_year       274123 non-null  int64         \n",
      " 2   state           274123 non-null  object        \n",
      " 3   discovery_date  274123 non-null  datetime64[ns]\n",
      " 4   contain_date    137376 non-null  datetime64[ns]\n",
      " 5   acres_burned    274123 non-null  float64       \n",
      " 6   fire_month      274123 non-null  int64         \n",
      " 7   days_burning    137376 non-null  float64       \n",
      "dtypes: datetime64[ns](2), float64(2), int64(2), object(2)\n",
      "memory usage: 39.7 MB\n"
     ]
    },
    {
     "data": {
      "text/html": [
       "<div>\n",
       "<style scoped>\n",
       "    .dataframe tbody tr th:only-of-type {\n",
       "        vertical-align: middle;\n",
       "    }\n",
       "\n",
       "    .dataframe tbody tr th {\n",
       "        vertical-align: top;\n",
       "    }\n",
       "\n",
       "    .dataframe thead th {\n",
       "        text-align: right;\n",
       "    }\n",
       "</style>\n",
       "<table border=\"1\" class=\"dataframe\">\n",
       "  <thead>\n",
       "    <tr style=\"text-align: right;\">\n",
       "      <th></th>\n",
       "      <th>fire_name</th>\n",
       "      <th>fire_year</th>\n",
       "      <th>state</th>\n",
       "      <th>discovery_date</th>\n",
       "      <th>contain_date</th>\n",
       "      <th>acres_burned</th>\n",
       "      <th>fire_month</th>\n",
       "      <th>days_burning</th>\n",
       "    </tr>\n",
       "  </thead>\n",
       "  <tbody>\n",
       "    <tr>\n",
       "      <th>0</th>\n",
       "      <td>Power</td>\n",
       "      <td>2004</td>\n",
       "      <td>CA</td>\n",
       "      <td>2004-10-06</td>\n",
       "      <td>2004-10-21</td>\n",
       "      <td>16823.0</td>\n",
       "      <td>10</td>\n",
       "      <td>15.0</td>\n",
       "    </tr>\n",
       "    <tr>\n",
       "      <th>1</th>\n",
       "      <td>Freds</td>\n",
       "      <td>2004</td>\n",
       "      <td>CA</td>\n",
       "      <td>2004-10-13</td>\n",
       "      <td>2004-10-17</td>\n",
       "      <td>7700.0</td>\n",
       "      <td>10</td>\n",
       "      <td>4.0</td>\n",
       "    </tr>\n",
       "    <tr>\n",
       "      <th>2</th>\n",
       "      <td>Bachelor</td>\n",
       "      <td>2004</td>\n",
       "      <td>NM</td>\n",
       "      <td>2004-07-20</td>\n",
       "      <td>2004-07-20</td>\n",
       "      <td>10.0</td>\n",
       "      <td>7</td>\n",
       "      <td>0.0</td>\n",
       "    </tr>\n",
       "  </tbody>\n",
       "</table>\n",
       "</div>"
      ],
      "text/plain": [
       "  fire_name  fire_year state discovery_date contain_date  acres_burned  \\\n",
       "0     Power       2004    CA     2004-10-06   2004-10-21       16823.0   \n",
       "1     Freds       2004    CA     2004-10-13   2004-10-17        7700.0   \n",
       "2  Bachelor       2004    NM     2004-07-20   2004-07-20          10.0   \n",
       "\n",
       "   fire_month  days_burning  \n",
       "0          10          15.0  \n",
       "1          10           4.0  \n",
       "2           7           0.0  "
      ]
     },
     "execution_count": 6,
     "metadata": {},
     "output_type": "execute_result"
    }
   ],
   "source": [
    "# Pg 279 get the data\n",
    "fires = pd.read_pickle('fires_prepared.pkl')\n",
    "fires = fires.reset_index(drop=True)\n",
    "\n",
    "fires.info(memory_usage = 'deep')\n",
    "\n",
    "fires.head(3)\n"
   ]
  },
  {
   "cell_type": "code",
   "execution_count": 7,
   "metadata": {},
   "outputs": [
    {
     "data": {
      "text/html": [
       "<div>\n",
       "<style scoped>\n",
       "    .dataframe tbody tr th:only-of-type {\n",
       "        vertical-align: middle;\n",
       "    }\n",
       "\n",
       "    .dataframe tbody tr th {\n",
       "        vertical-align: top;\n",
       "    }\n",
       "\n",
       "    .dataframe thead th {\n",
       "        text-align: right;\n",
       "    }\n",
       "</style>\n",
       "<table border=\"1\" class=\"dataframe\">\n",
       "  <thead>\n",
       "    <tr style=\"text-align: right;\">\n",
       "      <th></th>\n",
       "      <th>fire_year</th>\n",
       "      <th>acres_burned</th>\n",
       "      <th>fire_month</th>\n",
       "      <th>days_burning</th>\n",
       "    </tr>\n",
       "    <tr>\n",
       "      <th>state</th>\n",
       "      <th></th>\n",
       "      <th></th>\n",
       "      <th></th>\n",
       "      <th></th>\n",
       "    </tr>\n",
       "  </thead>\n",
       "  <tbody>\n",
       "    <tr>\n",
       "      <th>AK</th>\n",
       "      <td>2004.742504</td>\n",
       "      <td>11367.199362</td>\n",
       "      <td>6.264198</td>\n",
       "      <td>32.081535</td>\n",
       "    </tr>\n",
       "    <tr>\n",
       "      <th>AL</th>\n",
       "      <td>2003.885422</td>\n",
       "      <td>42.348169</td>\n",
       "      <td>5.022529</td>\n",
       "      <td>0.272676</td>\n",
       "    </tr>\n",
       "    <tr>\n",
       "      <th>AR</th>\n",
       "      <td>2005.850793</td>\n",
       "      <td>50.281673</td>\n",
       "      <td>5.581081</td>\n",
       "      <td>0.400992</td>\n",
       "    </tr>\n",
       "  </tbody>\n",
       "</table>\n",
       "</div>"
      ],
      "text/plain": [
       "         fire_year  acres_burned  fire_month  days_burning\n",
       "state                                                     \n",
       "AK     2004.742504  11367.199362    6.264198     32.081535\n",
       "AL     2003.885422     42.348169    5.022529      0.272676\n",
       "AR     2005.850793     50.281673    5.581081      0.400992"
      ]
     },
     "execution_count": 7,
     "metadata": {},
     "output_type": "execute_result"
    }
   ],
   "source": [
    "# Pg 279 \n",
    "\n",
    "fires.groupby('state').mean().head(3)"
   ]
  },
  {
   "cell_type": "code",
   "execution_count": 8,
   "metadata": {},
   "outputs": [
    {
     "name": "stderr",
     "output_type": "stream",
     "text": [
      "/tmp/ipykernel_244663/291792523.py:3: FutureWarning: Dropping invalid columns in DataFrameGroupBy.max is deprecated. In a future version, a TypeError will be raised. Before calling .max, select only columns which should be valid for the function.\n",
      "  fires.groupby(['state','fire_year','fire_month']).max().dropna().head(3)\n"
     ]
    },
    {
     "data": {
      "text/html": [
       "<div>\n",
       "<style scoped>\n",
       "    .dataframe tbody tr th:only-of-type {\n",
       "        vertical-align: middle;\n",
       "    }\n",
       "\n",
       "    .dataframe tbody tr th {\n",
       "        vertical-align: top;\n",
       "    }\n",
       "\n",
       "    .dataframe thead th {\n",
       "        text-align: right;\n",
       "    }\n",
       "</style>\n",
       "<table border=\"1\" class=\"dataframe\">\n",
       "  <thead>\n",
       "    <tr style=\"text-align: right;\">\n",
       "      <th></th>\n",
       "      <th></th>\n",
       "      <th></th>\n",
       "      <th>discovery_date</th>\n",
       "      <th>contain_date</th>\n",
       "      <th>acres_burned</th>\n",
       "      <th>days_burning</th>\n",
       "    </tr>\n",
       "    <tr>\n",
       "      <th>state</th>\n",
       "      <th>fire_year</th>\n",
       "      <th>fire_month</th>\n",
       "      <th></th>\n",
       "      <th></th>\n",
       "      <th></th>\n",
       "      <th></th>\n",
       "    </tr>\n",
       "  </thead>\n",
       "  <tbody>\n",
       "    <tr>\n",
       "      <th rowspan=\"3\" valign=\"top\">AK</th>\n",
       "      <th rowspan=\"3\" valign=\"top\">1992</th>\n",
       "      <th>5</th>\n",
       "      <td>1992-05-31</td>\n",
       "      <td>1992-06-22</td>\n",
       "      <td>1410.0</td>\n",
       "      <td>50.0</td>\n",
       "    </tr>\n",
       "    <tr>\n",
       "      <th>6</th>\n",
       "      <td>1992-06-29</td>\n",
       "      <td>1992-09-17</td>\n",
       "      <td>48087.0</td>\n",
       "      <td>82.0</td>\n",
       "    </tr>\n",
       "    <tr>\n",
       "      <th>7</th>\n",
       "      <td>1992-07-30</td>\n",
       "      <td>1992-09-17</td>\n",
       "      <td>35090.0</td>\n",
       "      <td>77.0</td>\n",
       "    </tr>\n",
       "  </tbody>\n",
       "</table>\n",
       "</div>"
      ],
      "text/plain": [
       "                           discovery_date contain_date  acres_burned  \\\n",
       "state fire_year fire_month                                             \n",
       "AK    1992      5              1992-05-31   1992-06-22        1410.0   \n",
       "                6              1992-06-29   1992-09-17       48087.0   \n",
       "                7              1992-07-30   1992-09-17       35090.0   \n",
       "\n",
       "                            days_burning  \n",
       "state fire_year fire_month                \n",
       "AK    1992      5                   50.0  \n",
       "                6                   82.0  \n",
       "                7                   77.0  "
      ]
     },
     "execution_count": 8,
     "metadata": {},
     "output_type": "execute_result"
    }
   ],
   "source": [
    "# Pg 279 \n",
    "\n",
    "fires.groupby(['state','fire_year','fire_month']).max().dropna().head(3)"
   ]
  },
  {
   "cell_type": "markdown",
   "metadata": {},
   "source": [
    "## Pg 280 - How to work with a DataFrameGroupBy object"
   ]
  },
  {
   "cell_type": "code",
   "execution_count": 9,
   "metadata": {},
   "outputs": [
    {
     "data": {
      "text/html": [
       "<div>\n",
       "<style scoped>\n",
       "    .dataframe tbody tr th:only-of-type {\n",
       "        vertical-align: middle;\n",
       "    }\n",
       "\n",
       "    .dataframe tbody tr th {\n",
       "        vertical-align: top;\n",
       "    }\n",
       "\n",
       "    .dataframe thead th {\n",
       "        text-align: right;\n",
       "    }\n",
       "</style>\n",
       "<table border=\"1\" class=\"dataframe\">\n",
       "  <thead>\n",
       "    <tr style=\"text-align: right;\">\n",
       "      <th></th>\n",
       "      <th>fire_name</th>\n",
       "      <th>fire_year</th>\n",
       "      <th>state</th>\n",
       "      <th>discovery_date</th>\n",
       "      <th>contain_date</th>\n",
       "      <th>acres_burned</th>\n",
       "      <th>fire_month</th>\n",
       "      <th>days_burning</th>\n",
       "    </tr>\n",
       "  </thead>\n",
       "  <tbody>\n",
       "    <tr>\n",
       "      <th>0</th>\n",
       "      <td>Power</td>\n",
       "      <td>2004</td>\n",
       "      <td>CA</td>\n",
       "      <td>2004-10-06</td>\n",
       "      <td>2004-10-21</td>\n",
       "      <td>16823.0</td>\n",
       "      <td>10</td>\n",
       "      <td>15.0</td>\n",
       "    </tr>\n",
       "    <tr>\n",
       "      <th>1</th>\n",
       "      <td>Freds</td>\n",
       "      <td>2004</td>\n",
       "      <td>CA</td>\n",
       "      <td>2004-10-13</td>\n",
       "      <td>2004-10-17</td>\n",
       "      <td>7700.0</td>\n",
       "      <td>10</td>\n",
       "      <td>4.0</td>\n",
       "    </tr>\n",
       "    <tr>\n",
       "      <th>2</th>\n",
       "      <td>Bachelor</td>\n",
       "      <td>2004</td>\n",
       "      <td>NM</td>\n",
       "      <td>2004-07-20</td>\n",
       "      <td>2004-07-20</td>\n",
       "      <td>10.0</td>\n",
       "      <td>7</td>\n",
       "      <td>0.0</td>\n",
       "    </tr>\n",
       "  </tbody>\n",
       "</table>\n",
       "</div>"
      ],
      "text/plain": [
       "  fire_name  fire_year state discovery_date contain_date  acres_burned  \\\n",
       "0     Power       2004    CA     2004-10-06   2004-10-21       16823.0   \n",
       "1     Freds       2004    CA     2004-10-13   2004-10-17        7700.0   \n",
       "2  Bachelor       2004    NM     2004-07-20   2004-07-20          10.0   \n",
       "\n",
       "   fire_month  days_burning  \n",
       "0          10          15.0  \n",
       "1          10           4.0  \n",
       "2           7           0.0  "
      ]
     },
     "execution_count": 9,
     "metadata": {},
     "output_type": "execute_result"
    }
   ],
   "source": [
    "# Pg 281 \n",
    "\n",
    "fires.head(3)"
   ]
  },
  {
   "cell_type": "code",
   "execution_count": 10,
   "metadata": {},
   "outputs": [
    {
     "data": {
      "text/html": [
       "<div>\n",
       "<style scoped>\n",
       "    .dataframe tbody tr th:only-of-type {\n",
       "        vertical-align: middle;\n",
       "    }\n",
       "\n",
       "    .dataframe tbody tr th {\n",
       "        vertical-align: top;\n",
       "    }\n",
       "\n",
       "    .dataframe thead th {\n",
       "        text-align: right;\n",
       "    }\n",
       "</style>\n",
       "<table border=\"1\" class=\"dataframe\">\n",
       "  <thead>\n",
       "    <tr style=\"text-align: right;\">\n",
       "      <th></th>\n",
       "      <th>acres_burned</th>\n",
       "      <th>fire_month</th>\n",
       "      <th>days_burning</th>\n",
       "    </tr>\n",
       "    <tr>\n",
       "      <th>fire_year</th>\n",
       "      <th></th>\n",
       "      <th></th>\n",
       "      <th></th>\n",
       "    </tr>\n",
       "  </thead>\n",
       "  <tbody>\n",
       "    <tr>\n",
       "      <th>1992</th>\n",
       "      <td>2123889.91</td>\n",
       "      <td>45643</td>\n",
       "      <td>6230.0</td>\n",
       "    </tr>\n",
       "    <tr>\n",
       "      <th>1993</th>\n",
       "      <td>2118394.10</td>\n",
       "      <td>52880</td>\n",
       "      <td>7283.0</td>\n",
       "    </tr>\n",
       "    <tr>\n",
       "      <th>1994</th>\n",
       "      <td>4033880.06</td>\n",
       "      <td>57669</td>\n",
       "      <td>20158.0</td>\n",
       "    </tr>\n",
       "  </tbody>\n",
       "</table>\n",
       "</div>"
      ],
      "text/plain": [
       "           acres_burned  fire_month  days_burning\n",
       "fire_year                                        \n",
       "1992         2123889.91       45643        6230.0\n",
       "1993         2118394.10       52880        7283.0\n",
       "1994         4033880.06       57669       20158.0"
      ]
     },
     "execution_count": 10,
     "metadata": {},
     "output_type": "execute_result"
    }
   ],
   "source": [
    "# Pg 281 \n",
    "\n",
    "yearly_group = fires.groupby('fire_year')\n",
    "yearly_sums = yearly_group.sum()\n",
    "yearly_sums.head(3)"
   ]
  },
  {
   "cell_type": "code",
   "execution_count": 11,
   "metadata": {},
   "outputs": [
    {
     "data": {
      "text/html": [
       "<div>\n",
       "<style scoped>\n",
       "    .dataframe tbody tr th:only-of-type {\n",
       "        vertical-align: middle;\n",
       "    }\n",
       "\n",
       "    .dataframe tbody tr th {\n",
       "        vertical-align: top;\n",
       "    }\n",
       "\n",
       "    .dataframe thead th {\n",
       "        text-align: right;\n",
       "    }\n",
       "</style>\n",
       "<table border=\"1\" class=\"dataframe\">\n",
       "  <thead>\n",
       "    <tr style=\"text-align: right;\">\n",
       "      <th></th>\n",
       "      <th>fire_year</th>\n",
       "      <th>acres_burned</th>\n",
       "      <th>fire_month</th>\n",
       "      <th>days_burning</th>\n",
       "    </tr>\n",
       "  </thead>\n",
       "  <tbody>\n",
       "    <tr>\n",
       "      <th>0</th>\n",
       "      <td>1992</td>\n",
       "      <td>2123889.91</td>\n",
       "      <td>45643</td>\n",
       "      <td>6230.0</td>\n",
       "    </tr>\n",
       "    <tr>\n",
       "      <th>1</th>\n",
       "      <td>1993</td>\n",
       "      <td>2118394.10</td>\n",
       "      <td>52880</td>\n",
       "      <td>7283.0</td>\n",
       "    </tr>\n",
       "    <tr>\n",
       "      <th>2</th>\n",
       "      <td>1994</td>\n",
       "      <td>4033880.06</td>\n",
       "      <td>57669</td>\n",
       "      <td>20158.0</td>\n",
       "    </tr>\n",
       "  </tbody>\n",
       "</table>\n",
       "</div>"
      ],
      "text/plain": [
       "   fire_year  acres_burned  fire_month  days_burning\n",
       "0       1992    2123889.91       45643        6230.0\n",
       "1       1993    2118394.10       52880        7283.0\n",
       "2       1994    4033880.06       57669       20158.0"
      ]
     },
     "execution_count": 11,
     "metadata": {},
     "output_type": "execute_result"
    }
   ],
   "source": [
    "# Pg 281 \n",
    "\n",
    "yearly_group = fires.groupby('fire_year', as_index=False)\n",
    "yearly_sums = yearly_group.sum()\n",
    "yearly_sums.head(3)"
   ]
  },
  {
   "cell_type": "markdown",
   "metadata": {},
   "source": [
    "## Pg 282 - How to apply multiple aggregate methods"
   ]
  },
  {
   "cell_type": "code",
   "execution_count": 12,
   "metadata": {},
   "outputs": [],
   "source": [
    "# Pg 283 \n",
    "\n",
    "monthly_group = fires.groupby(['state','fire_year','fire_month'])"
   ]
  },
  {
   "cell_type": "code",
   "execution_count": 13,
   "metadata": {},
   "outputs": [
    {
     "name": "stderr",
     "output_type": "stream",
     "text": [
      "/tmp/ipykernel_244663/3933424351.py:3: FutureWarning: ['fire_name', 'discovery_date', 'contain_date'] did not aggregate successfully. If any error is raised this will raise in a future version of pandas. Drop these columns/ops to avoid this warning.\n",
      "  monthly_group.agg(['sum','count','mean']).head(3)\n"
     ]
    },
    {
     "data": {
      "text/html": [
       "<div>\n",
       "<style scoped>\n",
       "    .dataframe tbody tr th:only-of-type {\n",
       "        vertical-align: middle;\n",
       "    }\n",
       "\n",
       "    .dataframe tbody tr th {\n",
       "        vertical-align: top;\n",
       "    }\n",
       "\n",
       "    .dataframe thead tr th {\n",
       "        text-align: left;\n",
       "    }\n",
       "\n",
       "    .dataframe thead tr:last-of-type th {\n",
       "        text-align: right;\n",
       "    }\n",
       "</style>\n",
       "<table border=\"1\" class=\"dataframe\">\n",
       "  <thead>\n",
       "    <tr>\n",
       "      <th></th>\n",
       "      <th></th>\n",
       "      <th></th>\n",
       "      <th colspan=\"3\" halign=\"left\">acres_burned</th>\n",
       "      <th colspan=\"3\" halign=\"left\">days_burning</th>\n",
       "    </tr>\n",
       "    <tr>\n",
       "      <th></th>\n",
       "      <th></th>\n",
       "      <th></th>\n",
       "      <th>sum</th>\n",
       "      <th>count</th>\n",
       "      <th>mean</th>\n",
       "      <th>sum</th>\n",
       "      <th>count</th>\n",
       "      <th>mean</th>\n",
       "    </tr>\n",
       "    <tr>\n",
       "      <th>state</th>\n",
       "      <th>fire_year</th>\n",
       "      <th>fire_month</th>\n",
       "      <th></th>\n",
       "      <th></th>\n",
       "      <th></th>\n",
       "      <th></th>\n",
       "      <th></th>\n",
       "      <th></th>\n",
       "    </tr>\n",
       "  </thead>\n",
       "  <tbody>\n",
       "    <tr>\n",
       "      <th rowspan=\"3\" valign=\"top\">AK</th>\n",
       "      <th rowspan=\"3\" valign=\"top\">1992</th>\n",
       "      <th>5</th>\n",
       "      <td>4202.0</td>\n",
       "      <td>15</td>\n",
       "      <td>280.133333</td>\n",
       "      <td>135.0</td>\n",
       "      <td>14</td>\n",
       "      <td>9.642857</td>\n",
       "    </tr>\n",
       "    <tr>\n",
       "      <th>6</th>\n",
       "      <td>86401.0</td>\n",
       "      <td>26</td>\n",
       "      <td>3323.115385</td>\n",
       "      <td>417.0</td>\n",
       "      <td>25</td>\n",
       "      <td>16.680000</td>\n",
       "    </tr>\n",
       "    <tr>\n",
       "      <th>7</th>\n",
       "      <td>48516.7</td>\n",
       "      <td>26</td>\n",
       "      <td>1866.026923</td>\n",
       "      <td>500.0</td>\n",
       "      <td>22</td>\n",
       "      <td>22.727273</td>\n",
       "    </tr>\n",
       "  </tbody>\n",
       "</table>\n",
       "</div>"
      ],
      "text/plain": [
       "                           acres_burned                    days_burning        \\\n",
       "                                    sum count         mean          sum count   \n",
       "state fire_year fire_month                                                      \n",
       "AK    1992      5                4202.0    15   280.133333        135.0    14   \n",
       "                6               86401.0    26  3323.115385        417.0    25   \n",
       "                7               48516.7    26  1866.026923        500.0    22   \n",
       "\n",
       "                                       \n",
       "                                 mean  \n",
       "state fire_year fire_month             \n",
       "AK    1992      5            9.642857  \n",
       "                6           16.680000  \n",
       "                7           22.727273  "
      ]
     },
     "execution_count": 13,
     "metadata": {},
     "output_type": "execute_result"
    }
   ],
   "source": [
    "# Pg 283 \n",
    "\n",
    "monthly_group.agg(['sum','count','mean']).head(3)"
   ]
  },
  {
   "cell_type": "code",
   "execution_count": 14,
   "metadata": {},
   "outputs": [
    {
     "data": {
      "text/html": [
       "<div>\n",
       "<style scoped>\n",
       "    .dataframe tbody tr th:only-of-type {\n",
       "        vertical-align: middle;\n",
       "    }\n",
       "\n",
       "    .dataframe tbody tr th {\n",
       "        vertical-align: top;\n",
       "    }\n",
       "\n",
       "    .dataframe thead th {\n",
       "        text-align: right;\n",
       "    }\n",
       "</style>\n",
       "<table border=\"1\" class=\"dataframe\">\n",
       "  <thead>\n",
       "    <tr style=\"text-align: right;\">\n",
       "      <th></th>\n",
       "      <th></th>\n",
       "      <th></th>\n",
       "      <th>sum</th>\n",
       "      <th>count</th>\n",
       "      <th>mean</th>\n",
       "    </tr>\n",
       "    <tr>\n",
       "      <th>state</th>\n",
       "      <th>fire_year</th>\n",
       "      <th>fire_month</th>\n",
       "      <th></th>\n",
       "      <th></th>\n",
       "      <th></th>\n",
       "    </tr>\n",
       "  </thead>\n",
       "  <tbody>\n",
       "    <tr>\n",
       "      <th rowspan=\"3\" valign=\"top\">AK</th>\n",
       "      <th rowspan=\"3\" valign=\"top\">1992</th>\n",
       "      <th>5</th>\n",
       "      <td>135.0</td>\n",
       "      <td>14</td>\n",
       "      <td>9.642857</td>\n",
       "    </tr>\n",
       "    <tr>\n",
       "      <th>6</th>\n",
       "      <td>417.0</td>\n",
       "      <td>25</td>\n",
       "      <td>16.680000</td>\n",
       "    </tr>\n",
       "    <tr>\n",
       "      <th>7</th>\n",
       "      <td>500.0</td>\n",
       "      <td>22</td>\n",
       "      <td>22.727273</td>\n",
       "    </tr>\n",
       "  </tbody>\n",
       "</table>\n",
       "</div>"
      ],
      "text/plain": [
       "                              sum  count       mean\n",
       "state fire_year fire_month                         \n",
       "AK    1992      5           135.0     14   9.642857\n",
       "                6           417.0     25  16.680000\n",
       "                7           500.0     22  22.727273"
      ]
     },
     "execution_count": 14,
     "metadata": {},
     "output_type": "execute_result"
    }
   ],
   "source": [
    "# Pg 283 \n",
    "\n",
    "monthly_group.days_burning.agg(['sum','count','mean']).head(3)"
   ]
  },
  {
   "cell_type": "code",
   "execution_count": 15,
   "metadata": {},
   "outputs": [
    {
     "data": {
      "text/html": [
       "<div>\n",
       "<style scoped>\n",
       "    .dataframe tbody tr th:only-of-type {\n",
       "        vertical-align: middle;\n",
       "    }\n",
       "\n",
       "    .dataframe tbody tr th {\n",
       "        vertical-align: top;\n",
       "    }\n",
       "\n",
       "    .dataframe thead tr th {\n",
       "        text-align: left;\n",
       "    }\n",
       "\n",
       "    .dataframe thead tr:last-of-type th {\n",
       "        text-align: right;\n",
       "    }\n",
       "</style>\n",
       "<table border=\"1\" class=\"dataframe\">\n",
       "  <thead>\n",
       "    <tr>\n",
       "      <th></th>\n",
       "      <th></th>\n",
       "      <th></th>\n",
       "      <th colspan=\"3\" halign=\"left\">acres_burned</th>\n",
       "      <th colspan=\"2\" halign=\"left\">days_burning</th>\n",
       "      <th>fire_name</th>\n",
       "    </tr>\n",
       "    <tr>\n",
       "      <th></th>\n",
       "      <th></th>\n",
       "      <th></th>\n",
       "      <th>sum</th>\n",
       "      <th>max</th>\n",
       "      <th>min</th>\n",
       "      <th>sum</th>\n",
       "      <th>mean</th>\n",
       "      <th>count</th>\n",
       "    </tr>\n",
       "    <tr>\n",
       "      <th>state</th>\n",
       "      <th>fire_year</th>\n",
       "      <th>fire_month</th>\n",
       "      <th></th>\n",
       "      <th></th>\n",
       "      <th></th>\n",
       "      <th></th>\n",
       "      <th></th>\n",
       "      <th></th>\n",
       "    </tr>\n",
       "  </thead>\n",
       "  <tbody>\n",
       "    <tr>\n",
       "      <th rowspan=\"3\" valign=\"top\">AK</th>\n",
       "      <th rowspan=\"3\" valign=\"top\">1992</th>\n",
       "      <th>5</th>\n",
       "      <td>4202.0</td>\n",
       "      <td>1410.0</td>\n",
       "      <td>10.0</td>\n",
       "      <td>135.0</td>\n",
       "      <td>9.642857</td>\n",
       "      <td>14</td>\n",
       "    </tr>\n",
       "    <tr>\n",
       "      <th>6</th>\n",
       "      <td>86401.0</td>\n",
       "      <td>48087.0</td>\n",
       "      <td>10.0</td>\n",
       "      <td>417.0</td>\n",
       "      <td>16.680000</td>\n",
       "      <td>23</td>\n",
       "    </tr>\n",
       "    <tr>\n",
       "      <th>7</th>\n",
       "      <td>48516.7</td>\n",
       "      <td>35090.0</td>\n",
       "      <td>10.0</td>\n",
       "      <td>500.0</td>\n",
       "      <td>22.727273</td>\n",
       "      <td>26</td>\n",
       "    </tr>\n",
       "  </tbody>\n",
       "</table>\n",
       "</div>"
      ],
      "text/plain": [
       "                           acres_burned                days_burning  \\\n",
       "                                    sum      max   min          sum   \n",
       "state fire_year fire_month                                            \n",
       "AK    1992      5                4202.0   1410.0  10.0        135.0   \n",
       "                6               86401.0  48087.0  10.0        417.0   \n",
       "                7               48516.7  35090.0  10.0        500.0   \n",
       "\n",
       "                                      fire_name  \n",
       "                                 mean     count  \n",
       "state fire_year fire_month                       \n",
       "AK    1992      5            9.642857        14  \n",
       "                6           16.680000        23  \n",
       "                7           22.727273        26  "
      ]
     },
     "execution_count": 15,
     "metadata": {},
     "output_type": "execute_result"
    }
   ],
   "source": [
    "# Pg 283\n",
    "\n",
    "df = monthly_group.agg({'acres_burned':['sum','max','min'],\n",
    "                   'days_burning':['sum','mean'],\n",
    "                   'fire_name':'count'})\n",
    "df.head(3)"
   ]
  },
  {
   "cell_type": "markdown",
   "metadata": {},
   "source": [
    "## Pg 284 - How to use the pivot() method"
   ]
  },
  {
   "cell_type": "code",
   "execution_count": 16,
   "metadata": {},
   "outputs": [
    {
     "data": {
      "text/html": [
       "<div>\n",
       "<style scoped>\n",
       "    .dataframe tbody tr th:only-of-type {\n",
       "        vertical-align: middle;\n",
       "    }\n",
       "\n",
       "    .dataframe tbody tr th {\n",
       "        vertical-align: top;\n",
       "    }\n",
       "\n",
       "    .dataframe thead th {\n",
       "        text-align: right;\n",
       "    }\n",
       "</style>\n",
       "<table border=\"1\" class=\"dataframe\">\n",
       "  <thead>\n",
       "    <tr style=\"text-align: right;\">\n",
       "      <th></th>\n",
       "      <th>state</th>\n",
       "      <th>fire_year</th>\n",
       "      <th>acres_burned</th>\n",
       "      <th>fire_month</th>\n",
       "      <th>days_burning</th>\n",
       "    </tr>\n",
       "  </thead>\n",
       "  <tbody>\n",
       "    <tr>\n",
       "      <th>0</th>\n",
       "      <td>AK</td>\n",
       "      <td>1992</td>\n",
       "      <td>142444.7</td>\n",
       "      <td>454</td>\n",
       "      <td>1145.0</td>\n",
       "    </tr>\n",
       "    <tr>\n",
       "      <th>1</th>\n",
       "      <td>AK</td>\n",
       "      <td>1993</td>\n",
       "      <td>686630.5</td>\n",
       "      <td>961</td>\n",
       "      <td>3373.0</td>\n",
       "    </tr>\n",
       "  </tbody>\n",
       "</table>\n",
       "</div>"
      ],
      "text/plain": [
       "  state  fire_year  acres_burned  fire_month  days_burning\n",
       "0    AK       1992      142444.7         454        1145.0\n",
       "1    AK       1993      686630.5         961        3373.0"
      ]
     },
     "execution_count": 16,
     "metadata": {},
     "output_type": "execute_result"
    }
   ],
   "source": [
    "# Pg 285\n",
    "\n",
    "states = ['AK','CA','ID','TX']\n",
    "top_states = fires.groupby(['state','fire_year'], as_index=False).sum()\n",
    "top_states = top_states.query('state in @states')\n",
    "top_states.head(2)"
   ]
  },
  {
   "cell_type": "code",
   "execution_count": 17,
   "metadata": {},
   "outputs": [
    {
     "data": {
      "text/html": [
       "<div>\n",
       "<style scoped>\n",
       "    .dataframe tbody tr th:only-of-type {\n",
       "        vertical-align: middle;\n",
       "    }\n",
       "\n",
       "    .dataframe tbody tr th {\n",
       "        vertical-align: top;\n",
       "    }\n",
       "\n",
       "    .dataframe thead th {\n",
       "        text-align: right;\n",
       "    }\n",
       "</style>\n",
       "<table border=\"1\" class=\"dataframe\">\n",
       "  <thead>\n",
       "    <tr style=\"text-align: right;\">\n",
       "      <th>state</th>\n",
       "      <th>AK</th>\n",
       "      <th>CA</th>\n",
       "      <th>ID</th>\n",
       "      <th>TX</th>\n",
       "    </tr>\n",
       "    <tr>\n",
       "      <th>fire_year</th>\n",
       "      <th></th>\n",
       "      <th></th>\n",
       "      <th></th>\n",
       "      <th></th>\n",
       "    </tr>\n",
       "  </thead>\n",
       "  <tbody>\n",
       "    <tr>\n",
       "      <th>1992</th>\n",
       "      <td>142444.7</td>\n",
       "      <td>289254.9</td>\n",
       "      <td>683495.2</td>\n",
       "      <td>31500.3</td>\n",
       "    </tr>\n",
       "    <tr>\n",
       "      <th>1993</th>\n",
       "      <td>686630.5</td>\n",
       "      <td>315011.1</td>\n",
       "      <td>7658.5</td>\n",
       "      <td>114265.5</td>\n",
       "    </tr>\n",
       "    <tr>\n",
       "      <th>1994</th>\n",
       "      <td>261604.7</td>\n",
       "      <td>401619.2</td>\n",
       "      <td>727133.0</td>\n",
       "      <td>69200.2</td>\n",
       "    </tr>\n",
       "    <tr>\n",
       "      <th>1995</th>\n",
       "      <td>43762.6</td>\n",
       "      <td>210519.3</td>\n",
       "      <td>268047.5</td>\n",
       "      <td>53015.8</td>\n",
       "    </tr>\n",
       "    <tr>\n",
       "      <th>1996</th>\n",
       "      <td>598407.2</td>\n",
       "      <td>700022.4</td>\n",
       "      <td>895505.1</td>\n",
       "      <td>211119.3</td>\n",
       "    </tr>\n",
       "  </tbody>\n",
       "</table>\n",
       "</div>"
      ],
      "text/plain": [
       "state            AK        CA        ID        TX\n",
       "fire_year                                        \n",
       "1992       142444.7  289254.9  683495.2   31500.3\n",
       "1993       686630.5  315011.1    7658.5  114265.5\n",
       "1994       261604.7  401619.2  727133.0   69200.2\n",
       "1995        43762.6  210519.3  268047.5   53015.8\n",
       "1996       598407.2  700022.4  895505.1  211119.3"
      ]
     },
     "execution_count": 17,
     "metadata": {},
     "output_type": "execute_result"
    }
   ],
   "source": [
    "# Pg 285\n",
    "\n",
    "top_states.pivot(index='fire_year', columns='state', values='acres_burned').head(5)"
   ]
  },
  {
   "cell_type": "code",
   "execution_count": 18,
   "metadata": {},
   "outputs": [
    {
     "data": {
      "image/png": "[encoded data removed]",
      "text/plain": [
       "<Figure size 640x480 with 1 Axes>"
      ]
     },
     "metadata": {},
     "output_type": "display_data"
    }
   ],
   "source": [
    "# Pg 285\n",
    "\n",
    "top_states.pivot(index='fire_year', columns='state', values='acres_burned').plot();"
   ]
  },
  {
   "cell_type": "markdown",
   "metadata": {},
   "source": [
    "## Pg 286 - How to use the pivot_table() method"
   ]
  },
  {
   "cell_type": "code",
   "execution_count": 19,
   "metadata": {},
   "outputs": [
    {
     "data": {
      "text/html": [
       "<div>\n",
       "<style scoped>\n",
       "    .dataframe tbody tr th:only-of-type {\n",
       "        vertical-align: middle;\n",
       "    }\n",
       "\n",
       "    .dataframe tbody tr th {\n",
       "        vertical-align: top;\n",
       "    }\n",
       "\n",
       "    .dataframe thead th {\n",
       "        text-align: right;\n",
       "    }\n",
       "</style>\n",
       "<table border=\"1\" class=\"dataframe\">\n",
       "  <thead>\n",
       "    <tr style=\"text-align: right;\">\n",
       "      <th>state</th>\n",
       "      <th>AK</th>\n",
       "      <th>CA</th>\n",
       "      <th>ID</th>\n",
       "      <th>TX</th>\n",
       "    </tr>\n",
       "    <tr>\n",
       "      <th>fire_year</th>\n",
       "      <th></th>\n",
       "      <th></th>\n",
       "      <th></th>\n",
       "      <th></th>\n",
       "    </tr>\n",
       "  </thead>\n",
       "  <tbody>\n",
       "    <tr>\n",
       "      <th>1992</th>\n",
       "      <td>142444.7</td>\n",
       "      <td>289254.9</td>\n",
       "      <td>683495.2</td>\n",
       "      <td>31500.3</td>\n",
       "    </tr>\n",
       "    <tr>\n",
       "      <th>1993</th>\n",
       "      <td>686630.5</td>\n",
       "      <td>315011.1</td>\n",
       "      <td>7658.5</td>\n",
       "      <td>114265.5</td>\n",
       "    </tr>\n",
       "  </tbody>\n",
       "</table>\n",
       "</div>"
      ],
      "text/plain": [
       "state            AK        CA        ID        TX\n",
       "fire_year                                        \n",
       "1992       142444.7  289254.9  683495.2   31500.3\n",
       "1993       686630.5  315011.1    7658.5  114265.5"
      ]
     },
     "execution_count": 19,
     "metadata": {},
     "output_type": "execute_result"
    }
   ],
   "source": [
    "# Pg 287\n",
    "\n",
    "states = ['AK','CA','ID','TX']\n",
    "fires_top_4 = fires.query('state in @states')\n",
    "fires_top_4 = fires_top_4.pivot_table(index='fire_year', columns='state', \n",
    "                                     values='acres_burned', aggfunc='sum')\n",
    "fires_top_4.head(2)"
   ]
  },
  {
   "cell_type": "code",
   "execution_count": 20,
   "metadata": {},
   "outputs": [
    {
     "data": {
      "image/png": "[encoded data removed]",
      "text/plain": [
       "<Figure size 640x480 with 1 Axes>"
      ]
     },
     "metadata": {},
     "output_type": "display_data"
    }
   ],
   "source": [
    "# Pg 287\n",
    "\n",
    "fires_top_4.plot();"
   ]
  },
  {
   "cell_type": "markdown",
   "metadata": {},
   "source": [
    "## Pg 288 - How to create bins of equal size"
   ]
  },
  {
   "cell_type": "code",
   "execution_count": 21,
   "metadata": {},
   "outputs": [],
   "source": [
    "# Pg 289\n",
    "\n",
    "fires_filtered = fires.query('fire_year == 2010 and days_burning > 0').dropna()"
   ]
  },
  {
   "cell_type": "code",
   "execution_count": 22,
   "metadata": {},
   "outputs": [
    {
     "data": {
      "text/plain": [
       "173229    (-296.103, 76535.75]\n",
       "173230    (-296.103, 76535.75]\n",
       "173231    (-296.103, 76535.75]\n",
       "173232    (-296.103, 76535.75]\n",
       "173233    (-296.103, 76535.75]\n",
       "                  ...         \n",
       "273969    (-296.103, 76535.75]\n",
       "274046    (-296.103, 76535.75]\n",
       "274049    (-296.103, 76535.75]\n",
       "274081    (-296.103, 76535.75]\n",
       "274116    (-296.103, 76535.75]\n",
       "Name: acres_burned, Length: 1858, dtype: category\n",
       "Categories (4, interval[float64, right]): [(-296.103, 76535.75] < (76535.75, 153061.5] < (153061.5, 229587.25] < (229587.25, 306113.0]]"
      ]
     },
     "execution_count": 22,
     "metadata": {},
     "output_type": "execute_result"
    }
   ],
   "source": [
    "# Pg 289\n",
    "\n",
    "pd.cut(fires_filtered.acres_burned, bins=4)"
   ]
  },
  {
   "cell_type": "code",
   "execution_count": 23,
   "metadata": {},
   "outputs": [
    {
     "data": {
      "text/plain": [
       "173229    (0, 100000]\n",
       "173230    (0, 100000]\n",
       "173231    (0, 100000]\n",
       "173232    (0, 100000]\n",
       "173233    (0, 100000]\n",
       "             ...     \n",
       "273969    (0, 100000]\n",
       "274046    (0, 100000]\n",
       "274049    (0, 100000]\n",
       "274081    (0, 100000]\n",
       "274116    (0, 100000]\n",
       "Name: acres_burned, Length: 1858, dtype: category\n",
       "Categories (4, interval[int64, right]): [(0, 100000] < (100000, 200000] < (200000, 300000] < (300000, 400000]]"
      ]
     },
     "execution_count": 23,
     "metadata": {},
     "output_type": "execute_result"
    }
   ],
   "source": [
    "# Pg 289\n",
    "\n",
    "pd.cut(fires_filtered.acres_burned, bins=[0,100000,200000,300000,400000])"
   ]
  },
  {
   "cell_type": "code",
   "execution_count": 24,
   "metadata": {},
   "outputs": [
    {
     "data": {
      "text/plain": [
       "173229    small\n",
       "173230    small\n",
       "173231    small\n",
       "173232    small\n",
       "173233    small\n",
       "          ...  \n",
       "273969    small\n",
       "274046    small\n",
       "274049    small\n",
       "274081    small\n",
       "274116    small\n",
       "Name: acres_burned, Length: 1858, dtype: category\n",
       "Categories (4, object): ['small' < 'medium' < 'large' < 'very large']"
      ]
     },
     "execution_count": 24,
     "metadata": {},
     "output_type": "execute_result"
    }
   ],
   "source": [
    "# Pg 289\n",
    "\n",
    "pd.cut(fires_filtered.acres_burned, bins=[0,100000,200000,300000,400000],\n",
    "       labels=['small','medium','large','very large'])"
   ]
  },
  {
   "cell_type": "code",
   "execution_count": 25,
   "metadata": {},
   "outputs": [
    {
     "data": {
      "text/plain": [
       "small         1855\n",
       "medium           2\n",
       "very large       1\n",
       "large            0\n",
       "Name: acres_burned, dtype: int64"
      ]
     },
     "execution_count": 25,
     "metadata": {},
     "output_type": "execute_result"
    }
   ],
   "source": [
    "# Pg 289\n",
    "\n",
    "pd.cut(fires_filtered.acres_burned, bins=[0,100000,200000,300000,400000],\n",
    "       labels=['small','medium','large','very large']).value_counts()"
   ]
  },
  {
   "cell_type": "markdown",
   "metadata": {},
   "source": [
    "## Pg 290 - How to create bins with equal numbers of unique items"
   ]
  },
  {
   "cell_type": "code",
   "execution_count": 26,
   "metadata": {},
   "outputs": [
    {
     "data": {
      "text/plain": [
       "173229         small\n",
       "173230    very large\n",
       "173231    very large\n",
       "173232         large\n",
       "173233        medium\n",
       "             ...    \n",
       "273969         small\n",
       "274046        medium\n",
       "274049        medium\n",
       "274081         small\n",
       "274116        medium\n",
       "Name: acres_burned, Length: 1858, dtype: category\n",
       "Categories (4, object): ['small' < 'medium' < 'large' < 'very large']"
      ]
     },
     "execution_count": 26,
     "metadata": {},
     "output_type": "execute_result"
    }
   ],
   "source": [
    "# Pg 291\n",
    "\n",
    "pd.qcut(fires_filtered.acres_burned, q=4,\n",
    "        labels=['small','medium','large','very large'])"
   ]
  },
  {
   "cell_type": "code",
   "execution_count": 27,
   "metadata": {},
   "outputs": [
    {
     "data": {
      "text/plain": [
       "small         466\n",
       "medium        465\n",
       "very large    464\n",
       "large         463\n",
       "Name: acres_burned, dtype: int64"
      ]
     },
     "execution_count": 27,
     "metadata": {},
     "output_type": "execute_result"
    }
   ],
   "source": [
    "# Pg 291\n",
    "\n",
    "pd.qcut(fires_filtered.acres_burned, q=4,\n",
    "        labels=['small','medium','large','very large']).value_counts()"
   ]
  },
  {
   "cell_type": "code",
   "execution_count": 28,
   "metadata": {},
   "outputs": [],
   "source": [
    "# Pg 291\n",
    "\n",
    "fires_filtered['fire_size'] = pd.qcut(fires_filtered.acres_burned, q=4,\n",
    "    labels=['small','medium','large','very large'])"
   ]
  },
  {
   "cell_type": "code",
   "execution_count": 29,
   "metadata": {},
   "outputs": [
    {
     "data": {
      "text/plain": [
       "short     1018\n",
       "long       433\n",
       "medium     407\n",
       "Name: days_burning, dtype: int64"
      ]
     },
     "execution_count": 29,
     "metadata": {},
     "output_type": "execute_result"
    }
   ],
   "source": [
    "# Pg 291\n",
    "\n",
    "pd.qcut(fires_filtered.days_burning, q=4,\n",
    "        labels=['short','medium','long'], duplicates='drop').value_counts()"
   ]
  },
  {
   "cell_type": "markdown",
   "metadata": {},
   "source": [
    "## Pg 292 - How to plot the binned data"
   ]
  },
  {
   "cell_type": "code",
   "execution_count": 30,
   "metadata": {},
   "outputs": [
    {
     "data": {
      "text/html": [
       "<div>\n",
       "<style scoped>\n",
       "    .dataframe tbody tr th:only-of-type {\n",
       "        vertical-align: middle;\n",
       "    }\n",
       "\n",
       "    .dataframe tbody tr th {\n",
       "        vertical-align: top;\n",
       "    }\n",
       "\n",
       "    .dataframe thead th {\n",
       "        text-align: right;\n",
       "    }\n",
       "</style>\n",
       "<table border=\"1\" class=\"dataframe\">\n",
       "  <thead>\n",
       "    <tr style=\"text-align: right;\">\n",
       "      <th></th>\n",
       "      <th>fire_name</th>\n",
       "      <th>fire_year</th>\n",
       "      <th>state</th>\n",
       "      <th>discovery_date</th>\n",
       "      <th>contain_date</th>\n",
       "      <th>acres_burned</th>\n",
       "      <th>fire_month</th>\n",
       "      <th>days_burning</th>\n",
       "      <th>fire_size</th>\n",
       "    </tr>\n",
       "  </thead>\n",
       "  <tbody>\n",
       "    <tr>\n",
       "      <th>173229</th>\n",
       "      <td>Fourmile Trail</td>\n",
       "      <td>2010</td>\n",
       "      <td>AK</td>\n",
       "      <td>2010-04-28</td>\n",
       "      <td>2010-05-05</td>\n",
       "      <td>16.8</td>\n",
       "      <td>4</td>\n",
       "      <td>7.0</td>\n",
       "      <td>small</td>\n",
       "    </tr>\n",
       "    <tr>\n",
       "      <th>173230</th>\n",
       "      <td>Granite Tors</td>\n",
       "      <td>2010</td>\n",
       "      <td>AK</td>\n",
       "      <td>2010-05-27</td>\n",
       "      <td>2010-08-11</td>\n",
       "      <td>7880.0</td>\n",
       "      <td>5</td>\n",
       "      <td>76.0</td>\n",
       "      <td>very large</td>\n",
       "    </tr>\n",
       "    <tr>\n",
       "      <th>173231</th>\n",
       "      <td>Goldbug Creek</td>\n",
       "      <td>2010</td>\n",
       "      <td>AK</td>\n",
       "      <td>2010-06-23</td>\n",
       "      <td>2010-06-28</td>\n",
       "      <td>2777.0</td>\n",
       "      <td>6</td>\n",
       "      <td>5.0</td>\n",
       "      <td>very large</td>\n",
       "    </tr>\n",
       "    <tr>\n",
       "      <th>173232</th>\n",
       "      <td>Broken Tree</td>\n",
       "      <td>2010</td>\n",
       "      <td>AK</td>\n",
       "      <td>2010-05-24</td>\n",
       "      <td>2010-07-08</td>\n",
       "      <td>112.0</td>\n",
       "      <td>5</td>\n",
       "      <td>45.0</td>\n",
       "      <td>large</td>\n",
       "    </tr>\n",
       "    <tr>\n",
       "      <th>173233</th>\n",
       "      <td>Folger Creek</td>\n",
       "      <td>2010</td>\n",
       "      <td>AK</td>\n",
       "      <td>2010-07-01</td>\n",
       "      <td>2010-07-16</td>\n",
       "      <td>90.0</td>\n",
       "      <td>7</td>\n",
       "      <td>15.0</td>\n",
       "      <td>medium</td>\n",
       "    </tr>\n",
       "  </tbody>\n",
       "</table>\n",
       "</div>"
      ],
      "text/plain": [
       "             fire_name  fire_year state discovery_date contain_date  \\\n",
       "173229  Fourmile Trail       2010    AK     2010-04-28   2010-05-05   \n",
       "173230    Granite Tors       2010    AK     2010-05-27   2010-08-11   \n",
       "173231   Goldbug Creek       2010    AK     2010-06-23   2010-06-28   \n",
       "173232     Broken Tree       2010    AK     2010-05-24   2010-07-08   \n",
       "173233    Folger Creek       2010    AK     2010-07-01   2010-07-16   \n",
       "\n",
       "        acres_burned  fire_month  days_burning   fire_size  \n",
       "173229          16.8           4           7.0       small  \n",
       "173230        7880.0           5          76.0  very large  \n",
       "173231        2777.0           6           5.0  very large  \n",
       "173232         112.0           5          45.0       large  \n",
       "173233          90.0           7          15.0      medium  "
      ]
     },
     "execution_count": 30,
     "metadata": {},
     "output_type": "execute_result"
    }
   ],
   "source": [
    "# Pg 293\n",
    "\n",
    "fires_filtered.head(5)"
   ]
  },
  {
   "cell_type": "code",
   "execution_count": 31,
   "metadata": {},
   "outputs": [
    {
     "data": {
      "image/png": "[encoded data removed]",
      "text/plain": [
       "<Figure size 620.5x500 with 1 Axes>"
      ]
     },
     "metadata": {},
     "output_type": "display_data"
    }
   ],
   "source": [
    "# Pg 293\n",
    "\n",
    "sns.catplot(data=fires_filtered, kind='count', x='fire_month', hue='fire_size');"
   ]
  },
  {
   "cell_type": "markdown",
   "metadata": {},
   "source": [
    "## Pg 294 - How to select the rows with the largest values"
   ]
  },
  {
   "cell_type": "code",
   "execution_count": 32,
   "metadata": {},
   "outputs": [
    {
     "data": {
      "text/html": [
       "<div>\n",
       "<style scoped>\n",
       "    .dataframe tbody tr th:only-of-type {\n",
       "        vertical-align: middle;\n",
       "    }\n",
       "\n",
       "    .dataframe tbody tr th {\n",
       "        vertical-align: top;\n",
       "    }\n",
       "\n",
       "    .dataframe thead th {\n",
       "        text-align: right;\n",
       "    }\n",
       "</style>\n",
       "<table border=\"1\" class=\"dataframe\">\n",
       "  <thead>\n",
       "    <tr style=\"text-align: right;\">\n",
       "      <th></th>\n",
       "      <th>aspiration</th>\n",
       "      <th>carbody</th>\n",
       "      <th>enginesize</th>\n",
       "      <th>curbweight</th>\n",
       "      <th>price</th>\n",
       "    </tr>\n",
       "  </thead>\n",
       "  <tbody>\n",
       "    <tr>\n",
       "      <th>49</th>\n",
       "      <td>std</td>\n",
       "      <td>sedan</td>\n",
       "      <td>326</td>\n",
       "      <td>3950</td>\n",
       "      <td>36000.0</td>\n",
       "    </tr>\n",
       "    <tr>\n",
       "      <th>73</th>\n",
       "      <td>std</td>\n",
       "      <td>sedan</td>\n",
       "      <td>308</td>\n",
       "      <td>3900</td>\n",
       "      <td>40960.0</td>\n",
       "    </tr>\n",
       "    <tr>\n",
       "      <th>74</th>\n",
       "      <td>std</td>\n",
       "      <td>hardtop</td>\n",
       "      <td>304</td>\n",
       "      <td>3715</td>\n",
       "      <td>45400.0</td>\n",
       "    </tr>\n",
       "    <tr>\n",
       "      <th>47</th>\n",
       "      <td>std</td>\n",
       "      <td>sedan</td>\n",
       "      <td>258</td>\n",
       "      <td>4066</td>\n",
       "      <td>32250.0</td>\n",
       "    </tr>\n",
       "    <tr>\n",
       "      <th>48</th>\n",
       "      <td>std</td>\n",
       "      <td>sedan</td>\n",
       "      <td>258</td>\n",
       "      <td>4066</td>\n",
       "      <td>35550.0</td>\n",
       "    </tr>\n",
       "    <tr>\n",
       "      <th>71</th>\n",
       "      <td>std</td>\n",
       "      <td>sedan</td>\n",
       "      <td>234</td>\n",
       "      <td>3740</td>\n",
       "      <td>34184.0</td>\n",
       "    </tr>\n",
       "  </tbody>\n",
       "</table>\n",
       "</div>"
      ],
      "text/plain": [
       "   aspiration  carbody  enginesize  curbweight    price\n",
       "49        std    sedan         326        3950  36000.0\n",
       "73        std    sedan         308        3900  40960.0\n",
       "74        std  hardtop         304        3715  45400.0\n",
       "47        std    sedan         258        4066  32250.0\n",
       "48        std    sedan         258        4066  35550.0\n",
       "71        std    sedan         234        3740  34184.0"
      ]
     },
     "execution_count": 32,
     "metadata": {},
     "output_type": "execute_result"
    }
   ],
   "source": [
    "# Pg 295\n",
    "\n",
    "cars.nlargest(n=6, columns='enginesize')"
   ]
  },
  {
   "cell_type": "code",
   "execution_count": 33,
   "metadata": {},
   "outputs": [
    {
     "data": {
      "text/html": [
       "<div>\n",
       "<style scoped>\n",
       "    .dataframe tbody tr th:only-of-type {\n",
       "        vertical-align: middle;\n",
       "    }\n",
       "\n",
       "    .dataframe tbody tr th {\n",
       "        vertical-align: top;\n",
       "    }\n",
       "\n",
       "    .dataframe thead th {\n",
       "        text-align: right;\n",
       "    }\n",
       "</style>\n",
       "<table border=\"1\" class=\"dataframe\">\n",
       "  <thead>\n",
       "    <tr style=\"text-align: right;\">\n",
       "      <th></th>\n",
       "      <th>aspiration</th>\n",
       "      <th>carbody</th>\n",
       "      <th>enginesize</th>\n",
       "      <th>curbweight</th>\n",
       "      <th>price</th>\n",
       "    </tr>\n",
       "  </thead>\n",
       "  <tbody>\n",
       "    <tr>\n",
       "      <th>49</th>\n",
       "      <td>std</td>\n",
       "      <td>sedan</td>\n",
       "      <td>326</td>\n",
       "      <td>3950</td>\n",
       "      <td>36000.0</td>\n",
       "    </tr>\n",
       "    <tr>\n",
       "      <th>73</th>\n",
       "      <td>std</td>\n",
       "      <td>sedan</td>\n",
       "      <td>308</td>\n",
       "      <td>3900</td>\n",
       "      <td>40960.0</td>\n",
       "    </tr>\n",
       "    <tr>\n",
       "      <th>74</th>\n",
       "      <td>std</td>\n",
       "      <td>hardtop</td>\n",
       "      <td>304</td>\n",
       "      <td>3715</td>\n",
       "      <td>45400.0</td>\n",
       "    </tr>\n",
       "    <tr>\n",
       "      <th>48</th>\n",
       "      <td>std</td>\n",
       "      <td>sedan</td>\n",
       "      <td>258</td>\n",
       "      <td>4066</td>\n",
       "      <td>35550.0</td>\n",
       "    </tr>\n",
       "    <tr>\n",
       "      <th>47</th>\n",
       "      <td>std</td>\n",
       "      <td>sedan</td>\n",
       "      <td>258</td>\n",
       "      <td>4066</td>\n",
       "      <td>32250.0</td>\n",
       "    </tr>\n",
       "    <tr>\n",
       "      <th>72</th>\n",
       "      <td>std</td>\n",
       "      <td>convertible</td>\n",
       "      <td>234</td>\n",
       "      <td>3685</td>\n",
       "      <td>35056.0</td>\n",
       "    </tr>\n",
       "  </tbody>\n",
       "</table>\n",
       "</div>"
      ],
      "text/plain": [
       "   aspiration      carbody  enginesize  curbweight    price\n",
       "49        std        sedan         326        3950  36000.0\n",
       "73        std        sedan         308        3900  40960.0\n",
       "74        std      hardtop         304        3715  45400.0\n",
       "48        std        sedan         258        4066  35550.0\n",
       "47        std        sedan         258        4066  32250.0\n",
       "72        std  convertible         234        3685  35056.0"
      ]
     },
     "execution_count": 33,
     "metadata": {},
     "output_type": "execute_result"
    }
   ],
   "source": [
    "# Pg 295\n",
    "\n",
    "cars.nlargest(n=6, columns=['enginesize','price'])"
   ]
  },
  {
   "cell_type": "markdown",
   "metadata": {},
   "source": [
    "## Pg 296 - How to calculate percent change"
   ]
  },
  {
   "cell_type": "code",
   "execution_count": 47,
   "metadata": {},
   "outputs": [
    {
     "data": {
      "text/plain": [
       "<bound method NDFrame.head of                  acres_burned\n",
       "state fire_year              \n",
       "AK    1992          142444.70\n",
       "      1993          686630.50\n",
       "      1994          261604.70\n",
       "      1995           43762.60\n",
       "      1996          598407.20\n",
       "...                       ...\n",
       "WY    2011          134336.25\n",
       "      2012          481206.46\n",
       "      2013           53884.90\n",
       "      2014            7179.43\n",
       "      2015           36233.50\n",
       "\n",
       "[1148 rows x 1 columns]>"
      ]
     },
     "execution_count": 47,
     "metadata": {},
     "output_type": "execute_result"
    }
   ],
   "source": [
    "# Pg 297\n",
    "\n",
    "df = fires[['state','fire_year','acres_burned']] \\\n",
    "    .groupby(['state','fire_year']).sum()\n",
    "df.head"
   ]
  },
  {
   "cell_type": "code",
   "execution_count": 48,
   "metadata": {},
   "outputs": [
    {
     "data": {
      "text/html": [
       "<div>\n",
       "<style scoped>\n",
       "    .dataframe tbody tr th:only-of-type {\n",
       "        vertical-align: middle;\n",
       "    }\n",
       "\n",
       "    .dataframe tbody tr th {\n",
       "        vertical-align: top;\n",
       "    }\n",
       "\n",
       "    .dataframe thead th {\n",
       "        text-align: right;\n",
       "    }\n",
       "</style>\n",
       "<table border=\"1\" class=\"dataframe\">\n",
       "  <thead>\n",
       "    <tr style=\"text-align: right;\">\n",
       "      <th></th>\n",
       "      <th></th>\n",
       "      <th>acres_burned</th>\n",
       "    </tr>\n",
       "    <tr>\n",
       "      <th>state</th>\n",
       "      <th>fire_year</th>\n",
       "      <th></th>\n",
       "    </tr>\n",
       "  </thead>\n",
       "  <tbody>\n",
       "    <tr>\n",
       "      <th rowspan=\"5\" valign=\"top\">AK</th>\n",
       "      <th>1992</th>\n",
       "      <td>NaN</td>\n",
       "    </tr>\n",
       "    <tr>\n",
       "      <th>1993</th>\n",
       "      <td>3.820330</td>\n",
       "    </tr>\n",
       "    <tr>\n",
       "      <th>1994</th>\n",
       "      <td>-0.619002</td>\n",
       "    </tr>\n",
       "    <tr>\n",
       "      <th>1995</th>\n",
       "      <td>-0.832715</td>\n",
       "    </tr>\n",
       "    <tr>\n",
       "      <th>1996</th>\n",
       "      <td>12.673941</td>\n",
       "    </tr>\n",
       "    <tr>\n",
       "      <th>...</th>\n",
       "      <th>...</th>\n",
       "      <td>...</td>\n",
       "    </tr>\n",
       "    <tr>\n",
       "      <th rowspan=\"5\" valign=\"top\">WY</th>\n",
       "      <th>2011</th>\n",
       "      <td>0.552941</td>\n",
       "    </tr>\n",
       "    <tr>\n",
       "      <th>2012</th>\n",
       "      <td>2.582104</td>\n",
       "    </tr>\n",
       "    <tr>\n",
       "      <th>2013</th>\n",
       "      <td>-0.888021</td>\n",
       "    </tr>\n",
       "    <tr>\n",
       "      <th>2014</th>\n",
       "      <td>-0.866764</td>\n",
       "    </tr>\n",
       "    <tr>\n",
       "      <th>2015</th>\n",
       "      <td>4.046849</td>\n",
       "    </tr>\n",
       "  </tbody>\n",
       "</table>\n",
       "<p>1148 rows × 1 columns</p>\n",
       "</div>"
      ],
      "text/plain": [
       "                 acres_burned\n",
       "state fire_year              \n",
       "AK    1992                NaN\n",
       "      1993           3.820330\n",
       "      1994          -0.619002\n",
       "      1995          -0.832715\n",
       "      1996          12.673941\n",
       "...                       ...\n",
       "WY    2011           0.552941\n",
       "      2012           2.582104\n",
       "      2013          -0.888021\n",
       "      2014          -0.866764\n",
       "      2015           4.046849\n",
       "\n",
       "[1148 rows x 1 columns]"
      ]
     },
     "execution_count": 48,
     "metadata": {},
     "output_type": "execute_result"
    }
   ],
   "source": [
    "# Pg 297\n",
    "\n",
    "df.pct_change()"
   ]
  },
  {
   "cell_type": "markdown",
   "metadata": {},
   "source": [
    "## Pg 298 - How to rank rows"
   ]
  },
  {
   "cell_type": "code",
   "execution_count": 49,
   "metadata": {},
   "outputs": [
    {
     "data": {
      "text/html": [
       "<div>\n",
       "<style scoped>\n",
       "    .dataframe tbody tr th:only-of-type {\n",
       "        vertical-align: middle;\n",
       "    }\n",
       "\n",
       "    .dataframe tbody tr th {\n",
       "        vertical-align: top;\n",
       "    }\n",
       "\n",
       "    .dataframe thead th {\n",
       "        text-align: right;\n",
       "    }\n",
       "</style>\n",
       "<table border=\"1\" class=\"dataframe\">\n",
       "  <thead>\n",
       "    <tr style=\"text-align: right;\">\n",
       "      <th></th>\n",
       "      <th>acres_burned</th>\n",
       "      <th>fire_year</th>\n",
       "      <th>days_burning</th>\n",
       "    </tr>\n",
       "    <tr>\n",
       "      <th>state</th>\n",
       "      <th></th>\n",
       "      <th></th>\n",
       "      <th></th>\n",
       "    </tr>\n",
       "  </thead>\n",
       "  <tbody>\n",
       "    <tr>\n",
       "      <th>AK</th>\n",
       "      <td>3.222601e+07</td>\n",
       "      <td>5683445</td>\n",
       "      <td>80268.0</td>\n",
       "    </tr>\n",
       "    <tr>\n",
       "      <th>AL</th>\n",
       "      <td>8.101628e+05</td>\n",
       "      <td>38336332</td>\n",
       "      <td>2886.0</td>\n",
       "    </tr>\n",
       "    <tr>\n",
       "      <th>AR</th>\n",
       "      <td>4.502221e+05</td>\n",
       "      <td>17960388</td>\n",
       "      <td>1132.0</td>\n",
       "    </tr>\n",
       "  </tbody>\n",
       "</table>\n",
       "</div>"
      ],
      "text/plain": [
       "       acres_burned  fire_year  days_burning\n",
       "state                                       \n",
       "AK     3.222601e+07    5683445       80268.0\n",
       "AL     8.101628e+05   38336332        2886.0\n",
       "AR     4.502221e+05   17960388        1132.0"
      ]
     },
     "execution_count": 49,
     "metadata": {},
     "output_type": "execute_result"
    }
   ],
   "source": [
    "# Pg 299\n",
    "\n",
    "df = fires.groupby('state').sum() \\\n",
    "    [['acres_burned','fire_year','days_burning']]\n",
    "df.head(3)"
   ]
  },
  {
   "cell_type": "code",
   "execution_count": 50,
   "metadata": {},
   "outputs": [
    {
     "data": {
      "text/html": [
       "<div>\n",
       "<style scoped>\n",
       "    .dataframe tbody tr th:only-of-type {\n",
       "        vertical-align: middle;\n",
       "    }\n",
       "\n",
       "    .dataframe tbody tr th {\n",
       "        vertical-align: top;\n",
       "    }\n",
       "\n",
       "    .dataframe thead th {\n",
       "        text-align: right;\n",
       "    }\n",
       "</style>\n",
       "<table border=\"1\" class=\"dataframe\">\n",
       "  <thead>\n",
       "    <tr style=\"text-align: right;\">\n",
       "      <th></th>\n",
       "      <th>acres_burned</th>\n",
       "      <th>fire_year</th>\n",
       "      <th>days_burning</th>\n",
       "      <th>acres_rank</th>\n",
       "    </tr>\n",
       "    <tr>\n",
       "      <th>state</th>\n",
       "      <th></th>\n",
       "      <th></th>\n",
       "      <th></th>\n",
       "      <th></th>\n",
       "    </tr>\n",
       "  </thead>\n",
       "  <tbody>\n",
       "    <tr>\n",
       "      <th>AK</th>\n",
       "      <td>3.222601e+07</td>\n",
       "      <td>5683445</td>\n",
       "      <td>80268.0</td>\n",
       "      <td>1.0</td>\n",
       "    </tr>\n",
       "    <tr>\n",
       "      <th>AL</th>\n",
       "      <td>8.101628e+05</td>\n",
       "      <td>38336332</td>\n",
       "      <td>2886.0</td>\n",
       "      <td>23.0</td>\n",
       "    </tr>\n",
       "    <tr>\n",
       "      <th>AR</th>\n",
       "      <td>4.502221e+05</td>\n",
       "      <td>17960388</td>\n",
       "      <td>1132.0</td>\n",
       "      <td>27.0</td>\n",
       "    </tr>\n",
       "  </tbody>\n",
       "</table>\n",
       "</div>"
      ],
      "text/plain": [
       "       acres_burned  fire_year  days_burning  acres_rank\n",
       "state                                                   \n",
       "AK     3.222601e+07    5683445       80268.0         1.0\n",
       "AL     8.101628e+05   38336332        2886.0        23.0\n",
       "AR     4.502221e+05   17960388        1132.0        27.0"
      ]
     },
     "execution_count": 50,
     "metadata": {},
     "output_type": "execute_result"
    }
   ],
   "source": [
    "# Pg 299\n",
    "\n",
    "df['acres_rank'] = df.acres_burned.rank(ascending=False)\n",
    "df.head(3)"
   ]
  },
  {
   "cell_type": "code",
   "execution_count": 59,
   "metadata": {},
   "outputs": [
    {
     "data": {
      "text/html": [
       "<div>\n",
       "<style scoped>\n",
       "    .dataframe tbody tr th:only-of-type {\n",
       "        vertical-align: middle;\n",
       "    }\n",
       "\n",
       "    .dataframe tbody tr th {\n",
       "        vertical-align: top;\n",
       "    }\n",
       "\n",
       "    .dataframe thead th {\n",
       "        text-align: right;\n",
       "    }\n",
       "</style>\n",
       "<table border=\"1\" class=\"dataframe\">\n",
       "  <thead>\n",
       "    <tr style=\"text-align: right;\">\n",
       "      <th></th>\n",
       "      <th>acres_burned</th>\n",
       "      <th>fire_year</th>\n",
       "      <th>days_burning</th>\n",
       "      <th>acres_rank</th>\n",
       "      <th>days_rank</th>\n",
       "    </tr>\n",
       "    <tr>\n",
       "      <th>state</th>\n",
       "      <th></th>\n",
       "      <th></th>\n",
       "      <th></th>\n",
       "      <th></th>\n",
       "      <th></th>\n",
       "    </tr>\n",
       "  </thead>\n",
       "  <tbody>\n",
       "    <tr>\n",
       "      <th>RI</th>\n",
       "      <td>147.45</td>\n",
       "      <td>22092</td>\n",
       "      <td>0.0</td>\n",
       "      <td>51.0</td>\n",
       "      <td>1.0</td>\n",
       "    </tr>\n",
       "    <tr>\n",
       "      <th>VT</th>\n",
       "      <td>985.70</td>\n",
       "      <td>46240</td>\n",
       "      <td>6.0</td>\n",
       "      <td>50.0</td>\n",
       "      <td>3.0</td>\n",
       "    </tr>\n",
       "    <tr>\n",
       "      <th>CT</th>\n",
       "      <td>7358.20</td>\n",
       "      <td>364159</td>\n",
       "      <td>6.0</td>\n",
       "      <td>46.0</td>\n",
       "      <td>3.0</td>\n",
       "    </tr>\n",
       "    <tr>\n",
       "      <th>NH</th>\n",
       "      <td>1232.23</td>\n",
       "      <td>82240</td>\n",
       "      <td>9.0</td>\n",
       "      <td>49.0</td>\n",
       "      <td>4.0</td>\n",
       "    </tr>\n",
       "    <tr>\n",
       "      <th>DE</th>\n",
       "      <td>4674.50</td>\n",
       "      <td>38055</td>\n",
       "      <td>11.0</td>\n",
       "      <td>47.0</td>\n",
       "      <td>5.0</td>\n",
       "    </tr>\n",
       "    <tr>\n",
       "      <th>IA</th>\n",
       "      <td>65292.45</td>\n",
       "      <td>2289724</td>\n",
       "      <td>20.0</td>\n",
       "      <td>38.0</td>\n",
       "      <td>6.0</td>\n",
       "    </tr>\n",
       "    <tr>\n",
       "      <th>MA</th>\n",
       "      <td>4632.00</td>\n",
       "      <td>102541</td>\n",
       "      <td>37.0</td>\n",
       "      <td>48.0</td>\n",
       "      <td>7.0</td>\n",
       "    </tr>\n",
       "    <tr>\n",
       "      <th>ME</th>\n",
       "      <td>14935.70</td>\n",
       "      <td>582034</td>\n",
       "      <td>52.0</td>\n",
       "      <td>45.0</td>\n",
       "      <td>8.0</td>\n",
       "    </tr>\n",
       "    <tr>\n",
       "      <th>MD</th>\n",
       "      <td>64404.48</td>\n",
       "      <td>675686</td>\n",
       "      <td>78.0</td>\n",
       "      <td>39.0</td>\n",
       "      <td>9.0</td>\n",
       "    </tr>\n",
       "    <tr>\n",
       "      <th>IL</th>\n",
       "      <td>19862.30</td>\n",
       "      <td>782662</td>\n",
       "      <td>110.0</td>\n",
       "      <td>42.0</td>\n",
       "      <td>10.0</td>\n",
       "    </tr>\n",
       "  </tbody>\n",
       "</table>\n",
       "</div>"
      ],
      "text/plain": [
       "       acres_burned  fire_year  days_burning  acres_rank  days_rank\n",
       "state                                                              \n",
       "RI           147.45      22092           0.0        51.0        1.0\n",
       "VT           985.70      46240           6.0        50.0        3.0\n",
       "CT          7358.20     364159           6.0        46.0        3.0\n",
       "NH          1232.23      82240           9.0        49.0        4.0\n",
       "DE          4674.50      38055          11.0        47.0        5.0\n",
       "IA         65292.45    2289724          20.0        38.0        6.0\n",
       "MA          4632.00     102541          37.0        48.0        7.0\n",
       "ME         14935.70     582034          52.0        45.0        8.0\n",
       "MD         64404.48     675686          78.0        39.0        9.0\n",
       "IL         19862.30     782662         110.0        42.0       10.0"
      ]
     },
     "execution_count": 59,
     "metadata": {},
     "output_type": "execute_result"
    }
   ],
   "source": [
    "# Pg 299\n",
    "\n",
    "df['days_rank'] = df.days_burning.rank(method='max')\n",
    "df.sort_values('days_burning').head(10)"
   ]
  },
  {
   "cell_type": "code",
   "execution_count": null,
   "metadata": {},
   "outputs": [],
   "source": []
  }
 ],
 "metadata": {
  "kernelspec": {
   "display_name": "Python 3 (ipykernel)",
   "language": "python",
   "name": "python3"
  },
  "language_info": {
   "codemirror_mode": {
    "name": "ipython",
    "version": 3
   },
   "file_extension": ".py",
   "mimetype": "text/x-python",
   "name": "python",
   "nbconvert_exporter": "python",
   "pygments_lexer": "ipython3",
   "version": "3.10.6"
  }
 },
 "nbformat": 4,
 "nbformat_minor": 4
}
