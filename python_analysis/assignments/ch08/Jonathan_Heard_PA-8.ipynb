{
 "cells": [
  {
   "cell_type": "markdown",
   "id": "dcc974d5-08c8-43bd-8c30-aab1c88a757e",
   "metadata": {},
   "source": [
    "# Project Assignment 8 - Analyze the avocado data \n",
    "## Author: Jonathan Heard\n",
    "## Class: CIS256DA"
   ]
  },
  {
   "cell_type": "markdown",
   "id": "d37e6322-e007-4ace-b9b7-f44104dab4e1",
   "metadata": {},
   "source": [
    "Chapter 8 Asignment\n",
    "\n",
    "Data for this assignment is in: avocado.csv\n",
    "\n",
    "Tasks\n",
    "\n",
    "1. Read the data from the CSV file into a DataFrame and display the first five rows (3 pts.).\n",
    "2. Display basic information about the DataFrame and its columns to see that the Date column has the object type (2 pts.).\n",
    "3. Convert the Date column to the datetime type (2 pts.).\n",
    "4. Filter the data so it contains just the rows for 2015, for the conventional type, and for the region named Albany. \n",
    "        Store just the Date, Total Bags, and Small Bags columns in a new DataFrame (3 pts.).\n",
    "5. Melt the data in the Total Bags and Small Bags columns, but not the values in the Date column. \n",
    "        Name the column that contains the type of bag Bags, and name the column that contains the number of bags Count. \n",
    "        Then, display the resulting new DataFrame (4 pts.).\n",
    "6. Plot the melted data with Seaborn in a line plot, using the hue parameter to distinguish between the bag types (2 pts.).\n",
    "7. Bin the data in the Total Volume column into four quantiles labeled ‘poor’, ‘modest’, ‘good’, and ‘excellent’, \n",
    "        and store the bin labels in a new column (3 pts.).\n",
    "8. Plot the binned data by year using a Seaborn count plot (2 pts.).\n",
    "\n",
    "Questions\n",
    "\n",
    "You must show the code that answers each question, include your answer as a comment.\n",
    "\n",
    "1. Of the three bag sizes, which size sells the most? Hint: Melt the three bag size columns and plot the bags by year (4 pts.).\n",
    "2. Which type of avocado sells the most (3 pts.)?\n",
    "\n",
    "After completing the assignment, please submit your .ipynb file.\n"
   ]
  },
  {
   "cell_type": "markdown",
   "id": "6be6c4f7-dc2d-4981-8033-5f49e1cddc07",
   "metadata": {},
   "source": [
    "## Import required modules"
   ]
  },
  {
   "cell_type": "code",
   "execution_count": 1,
   "id": "b6f2a02a-ff69-47ab-acf0-f2971cf78a32",
   "metadata": {},
   "outputs": [],
   "source": [
    "# Import the modules needed for this project.\n",
    "\n",
    "# Import pandas and assign the alias pd\n",
    "import pandas as pd\n",
    "\n",
    "# Import seaborn and assign the alias sbn\n",
    "import seaborn as sbn\n"
   ]
  },
  {
   "cell_type": "markdown",
   "id": "f1bd65f6-1414-4318-952c-34157e13aafd",
   "metadata": {},
   "source": [
    "## Tasks"
   ]
  },
  {
   "cell_type": "code",
   "execution_count": 2,
   "id": "4e0be4ba-6962-416e-bb8e-6440e6d0e5fd",
   "metadata": {},
   "outputs": [
    {
     "data": {
      "text/html": [
       "<div>\n",
       "<style scoped>\n",
       "    .dataframe tbody tr th:only-of-type {\n",
       "        vertical-align: middle;\n",
       "    }\n",
       "\n",
       "    .dataframe tbody tr th {\n",
       "        vertical-align: top;\n",
       "    }\n",
       "\n",
       "    .dataframe thead th {\n",
       "        text-align: right;\n",
       "    }\n",
       "</style>\n",
       "<table border=\"1\" class=\"dataframe\">\n",
       "  <thead>\n",
       "    <tr style=\"text-align: right;\">\n",
       "      <th></th>\n",
       "      <th>Unnamed: 0</th>\n",
       "      <th>Date</th>\n",
       "      <th>AveragePrice</th>\n",
       "      <th>Total Volume</th>\n",
       "      <th>4046</th>\n",
       "      <th>4225</th>\n",
       "      <th>4770</th>\n",
       "      <th>Total Bags</th>\n",
       "      <th>Small Bags</th>\n",
       "      <th>Large Bags</th>\n",
       "      <th>XLarge Bags</th>\n",
       "      <th>type</th>\n",
       "      <th>year</th>\n",
       "      <th>region</th>\n",
       "    </tr>\n",
       "  </thead>\n",
       "  <tbody>\n",
       "    <tr>\n",
       "      <th>0</th>\n",
       "      <td>0</td>\n",
       "      <td>2015-12-27</td>\n",
       "      <td>1.33</td>\n",
       "      <td>64236.62</td>\n",
       "      <td>1036.74</td>\n",
       "      <td>54454.85</td>\n",
       "      <td>48.16</td>\n",
       "      <td>8696.87</td>\n",
       "      <td>8603.62</td>\n",
       "      <td>93.25</td>\n",
       "      <td>0.0</td>\n",
       "      <td>conventional</td>\n",
       "      <td>2015</td>\n",
       "      <td>Albany</td>\n",
       "    </tr>\n",
       "    <tr>\n",
       "      <th>1</th>\n",
       "      <td>1</td>\n",
       "      <td>2015-12-20</td>\n",
       "      <td>1.35</td>\n",
       "      <td>54876.98</td>\n",
       "      <td>674.28</td>\n",
       "      <td>44638.81</td>\n",
       "      <td>58.33</td>\n",
       "      <td>9505.56</td>\n",
       "      <td>9408.07</td>\n",
       "      <td>97.49</td>\n",
       "      <td>0.0</td>\n",
       "      <td>conventional</td>\n",
       "      <td>2015</td>\n",
       "      <td>Albany</td>\n",
       "    </tr>\n",
       "    <tr>\n",
       "      <th>2</th>\n",
       "      <td>2</td>\n",
       "      <td>2015-12-13</td>\n",
       "      <td>0.93</td>\n",
       "      <td>118220.22</td>\n",
       "      <td>794.70</td>\n",
       "      <td>109149.67</td>\n",
       "      <td>130.50</td>\n",
       "      <td>8145.35</td>\n",
       "      <td>8042.21</td>\n",
       "      <td>103.14</td>\n",
       "      <td>0.0</td>\n",
       "      <td>conventional</td>\n",
       "      <td>2015</td>\n",
       "      <td>Albany</td>\n",
       "    </tr>\n",
       "    <tr>\n",
       "      <th>3</th>\n",
       "      <td>3</td>\n",
       "      <td>2015-12-06</td>\n",
       "      <td>1.08</td>\n",
       "      <td>78992.15</td>\n",
       "      <td>1132.00</td>\n",
       "      <td>71976.41</td>\n",
       "      <td>72.58</td>\n",
       "      <td>5811.16</td>\n",
       "      <td>5677.40</td>\n",
       "      <td>133.76</td>\n",
       "      <td>0.0</td>\n",
       "      <td>conventional</td>\n",
       "      <td>2015</td>\n",
       "      <td>Albany</td>\n",
       "    </tr>\n",
       "    <tr>\n",
       "      <th>4</th>\n",
       "      <td>4</td>\n",
       "      <td>2015-11-29</td>\n",
       "      <td>1.28</td>\n",
       "      <td>51039.60</td>\n",
       "      <td>941.48</td>\n",
       "      <td>43838.39</td>\n",
       "      <td>75.78</td>\n",
       "      <td>6183.95</td>\n",
       "      <td>5986.26</td>\n",
       "      <td>197.69</td>\n",
       "      <td>0.0</td>\n",
       "      <td>conventional</td>\n",
       "      <td>2015</td>\n",
       "      <td>Albany</td>\n",
       "    </tr>\n",
       "  </tbody>\n",
       "</table>\n",
       "</div>"
      ],
      "text/plain": [
       "   Unnamed: 0        Date  AveragePrice  Total Volume     4046       4225  \\\n",
       "0           0  2015-12-27          1.33      64236.62  1036.74   54454.85   \n",
       "1           1  2015-12-20          1.35      54876.98   674.28   44638.81   \n",
       "2           2  2015-12-13          0.93     118220.22   794.70  109149.67   \n",
       "3           3  2015-12-06          1.08      78992.15  1132.00   71976.41   \n",
       "4           4  2015-11-29          1.28      51039.60   941.48   43838.39   \n",
       "\n",
       "     4770  Total Bags  Small Bags  Large Bags  XLarge Bags          type  \\\n",
       "0   48.16     8696.87     8603.62       93.25          0.0  conventional   \n",
       "1   58.33     9505.56     9408.07       97.49          0.0  conventional   \n",
       "2  130.50     8145.35     8042.21      103.14          0.0  conventional   \n",
       "3   72.58     5811.16     5677.40      133.76          0.0  conventional   \n",
       "4   75.78     6183.95     5986.26      197.69          0.0  conventional   \n",
       "\n",
       "   year  region  \n",
       "0  2015  Albany  \n",
       "1  2015  Albany  \n",
       "2  2015  Albany  \n",
       "3  2015  Albany  \n",
       "4  2015  Albany  "
      ]
     },
     "execution_count": 2,
     "metadata": {},
     "output_type": "execute_result"
    }
   ],
   "source": [
    "# Task 01 Read the data from the CSV file into a DataFrame and display the first five rows.\n",
    "\n",
    "avocado_data = pd.read_csv(\"avocado.csv\")\n",
    "\n",
    "avocado_data.head(5)\n"
   ]
  },
  {
   "cell_type": "code",
   "execution_count": 3,
   "id": "ff90adac-fd15-464e-afd7-88d8a42b3a9f",
   "metadata": {},
   "outputs": [
    {
     "name": "stdout",
     "output_type": "stream",
     "text": [
      "<class 'pandas.core.frame.DataFrame'>\n",
      "RangeIndex: 18249 entries, 0 to 18248\n",
      "Data columns (total 14 columns):\n",
      " #   Column        Non-Null Count  Dtype  \n",
      "---  ------        --------------  -----  \n",
      " 0   Unnamed: 0    18249 non-null  int64  \n",
      " 1   Date          18249 non-null  object \n",
      " 2   AveragePrice  18249 non-null  float64\n",
      " 3   Total Volume  18249 non-null  float64\n",
      " 4   4046          18249 non-null  float64\n",
      " 5   4225          18249 non-null  float64\n",
      " 6   4770          18249 non-null  float64\n",
      " 7   Total Bags    18249 non-null  float64\n",
      " 8   Small Bags    18249 non-null  float64\n",
      " 9   Large Bags    18249 non-null  float64\n",
      " 10  XLarge Bags   18249 non-null  float64\n",
      " 11  type          18249 non-null  object \n",
      " 12  year          18249 non-null  int64  \n",
      " 13  region        18249 non-null  object \n",
      "dtypes: float64(9), int64(2), object(3)\n",
      "memory usage: 5.0 MB\n"
     ]
    }
   ],
   "source": [
    "# Task 02 Display basic information about the DataFrame and its columns to see that the Date column has the object type.\n",
    "\n",
    "avocado_data.info(memory_usage = 'deep')\n"
   ]
  },
  {
   "cell_type": "code",
   "execution_count": null,
   "id": "c658f32b-b593-43cb-b145-adb59934af8e",
   "metadata": {},
   "outputs": [],
   "source": [
    "# Task 03 Convert the Date column to the datetime type.\n",
    "\n"
   ]
  },
  {
   "cell_type": "code",
   "execution_count": null,
   "id": "a7c7d94e-3d00-40c0-a39f-40b29a2d6690",
   "metadata": {},
   "outputs": [],
   "source": [
    "# Task 04 Filter the data so it contains just the rows for 2015, for the conventional type, and for the region named Albany. \n",
    "#       Store just the Date, Total Bags, and Small Bags columns in a new DataFrame.\n",
    "\n"
   ]
  },
  {
   "cell_type": "code",
   "execution_count": null,
   "id": "ef1f5d54-4ad0-4b26-869c-5c74818f401f",
   "metadata": {},
   "outputs": [],
   "source": [
    "# Task 05 Melt the data in the Total Bags and Small Bags columns, but not the values in the Date column. \n",
    "#       Name the column that contains the type of bag Bags, and name the column that contains the number of bags Count. \n",
    "#       Then, display the resulting new DataFrame.\n",
    "\n"
   ]
  },
  {
   "cell_type": "code",
   "execution_count": null,
   "id": "609fb4f2-80f9-4637-9aef-4ae26e74d970",
   "metadata": {},
   "outputs": [],
   "source": [
    "# Task 06 Plot the melted data with Seaborn in a line plot, using the hue parameter to distinguish between the bag types.\n",
    "\n"
   ]
  },
  {
   "cell_type": "code",
   "execution_count": null,
   "id": "1ccfcdf5-aa3e-401f-b15a-0cf2882459a1",
   "metadata": {},
   "outputs": [],
   "source": [
    "# Task 07 Bin the data in the Total Volume column into four quantiles labeled ‘poor’, ‘modest’, ‘good’, and ‘excellent’, \n",
    "#       and store the bin labels in a new column (3 pts.).\n",
    "\n"
   ]
  },
  {
   "cell_type": "code",
   "execution_count": null,
   "id": "36e6647a-ae05-4f2c-a8d3-b4ddc8205bd4",
   "metadata": {},
   "outputs": [],
   "source": [
    "# Task 08 Plot the binned data by year using a Seaborn count plot.\n",
    "\n"
   ]
  },
  {
   "cell_type": "markdown",
   "id": "9cbf905e-27fe-4aba-a3b5-51abf223193a",
   "metadata": {},
   "source": [
    "## Questions"
   ]
  },
  {
   "cell_type": "code",
   "execution_count": null,
   "id": "aec36c23-2d23-461f-91e7-017ae95ddc72",
   "metadata": {},
   "outputs": [],
   "source": [
    "# Question 01: Of the three bag sizes, which size sells the most? \n",
    "#              Hint: Melt the three bag size columns and plot the bags by year.\n",
    "\n"
   ]
  },
  {
   "cell_type": "code",
   "execution_count": null,
   "id": "4b5d191f-9f07-43a9-9f12-cabee656f2d2",
   "metadata": {},
   "outputs": [],
   "source": [
    "# Question 02: Which type of avocado sells the most?\n",
    "\n"
   ]
  }
 ],
 "metadata": {
  "kernelspec": {
   "display_name": "Python 3 (ipykernel)",
   "language": "python",
   "name": "python3"
  },
  "language_info": {
   "codemirror_mode": {
    "name": "ipython",
    "version": 3
   },
   "file_extension": ".py",
   "mimetype": "text/x-python",
   "name": "python",
   "nbconvert_exporter": "python",
   "pygments_lexer": "ipython3",
   "version": "3.10.6"
  }
 },
 "nbformat": 4,
 "nbformat_minor": 5
}
