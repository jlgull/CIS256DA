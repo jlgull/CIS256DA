{
 "cells": [
  {
   "cell_type": "markdown",
   "id": "dcc974d5-08c8-43bd-8c30-aab1c88a757e",
   "metadata": {},
   "source": [
    "# Assignment 10 - Use linear regression with the MPG data \n",
    "## Author: Jonathan Heard\n",
    "## Class: CIS256DA"
   ]
  },
  {
   "cell_type": "markdown",
   "id": "b1f291a3-7194-4e56-94c2-2e550fb7ed65",
   "metadata": {},
   "source": [
    "## The data file for this project is available from the Seaborn website. \n",
    "##  To load this data into a DataFrame, run this code: mpg = sns.load_dataset('mpg')."
   ]
  },
  {
   "cell_type": "markdown",
   "id": "d37e6322-e007-4ace-b9b7-f44104dab4e1",
   "metadata": {},
   "source": [
    "Tasks\n",
    "\n",
    " 1. The data file for this project is available from the Seaborn website. To load this data into a DataFrame, run this code: mpg = sns.load_dataset('mpg').\n",
    " 2. Display the first five rows of data.\n",
    " 3. Get the correlation data for the mpg column. Sort the results to make it easier to see the columns with the stronger correlations.\n",
    " 4. Use the column with the strongest positive or negative correlation to the mpg column to split the data into test and training datasets, \n",
    "     where the test dataset consists of 20% of the total dataset. Be sure to specify a value for the random_state parameter.\n",
    " 5. Create a linear regression model from the training dataset.\n",
    " 6. Score the model using the test dataset.\n",
    " 7. Score the model using the training dataset.\n",
    " 8. Predict the y values based on the x values in the test dataset, and store the results in a variable. Then, put the predicted values in a new DataFrame.\n",
    " 9. Join the y_test and predicted data with the x_test data, save the combined data in a new DataFrame, and then display the first five rows of data.\n",
    "10. Add the residuals to the new DataFrame created in step 9.\n",
    "11. Plot the residuals in a Seaborn KDE plot.\n",
    "12. Melt the actual and predicted MPG columns together, assigning appropriate values to the variable and value names.\n",
    "13. Use a Seaborn scatter plot to plot the predicted data.\n",
    "\n",
    "After completing the assignment, please submit your .ipynb file.\n",
    "\n"
   ]
  },
  {
   "cell_type": "markdown",
   "id": "6be6c4f7-dc2d-4981-8033-5f49e1cddc07",
   "metadata": {},
   "source": [
    "## Import required modules"
   ]
  },
  {
   "cell_type": "code",
   "execution_count": 1,
   "id": "b6f2a02a-ff69-47ab-acf0-f2971cf78a32",
   "metadata": {},
   "outputs": [],
   "source": [
    "# Import the modules needed for this project.\n",
    "\n",
    "# Import pandas and assign the alias pd\n",
    "import pandas as pd\n",
    "\n",
    "# Import Seaborn and assign the alias sns\n",
    "import seaborn as sns\n",
    "\n",
    "# Import the Scikit-learn library\n",
    "from sklearn.linear_model import LinearRegression\n",
    "from sklearn.model_selection import train_test_split\n"
   ]
  },
  {
   "cell_type": "markdown",
   "id": "f1bd65f6-1414-4318-952c-34157e13aafd",
   "metadata": {},
   "source": [
    "# Tasks list"
   ]
  },
  {
   "cell_type": "code",
   "execution_count": 2,
   "id": "4e0be4ba-6962-416e-bb8e-6440e6d0e5fd",
   "metadata": {},
   "outputs": [],
   "source": [
    "# Task 01 - The data file for this project is available from the Seaborn website. \n",
    "#           To load this data into a DataFrame, run this code: mpg = sns.load_dataset('mpg').\n",
    "\n",
    "mpg = sns.load_dataset('mpg')\n"
   ]
  },
  {
   "cell_type": "code",
   "execution_count": 3,
   "id": "ff90adac-fd15-464e-afd7-88d8a42b3a9f",
   "metadata": {},
   "outputs": [
    {
     "name": "stdout",
     "output_type": "stream",
     "text": [
      "<class 'pandas.core.frame.DataFrame'>\n",
      "RangeIndex: 398 entries, 0 to 397\n",
      "Data columns (total 9 columns):\n",
      " #   Column        Non-Null Count  Dtype  \n",
      "---  ------        --------------  -----  \n",
      " 0   mpg           398 non-null    float64\n",
      " 1   cylinders     398 non-null    int64  \n",
      " 2   displacement  398 non-null    float64\n",
      " 3   horsepower    392 non-null    float64\n",
      " 4   weight        398 non-null    int64  \n",
      " 5   acceleration  398 non-null    float64\n",
      " 6   model_year    398 non-null    int64  \n",
      " 7   origin        398 non-null    object \n",
      " 8   name          398 non-null    object \n",
      "dtypes: float64(4), int64(3), object(2)\n",
      "memory usage: 74.0 KB\n"
     ]
    },
    {
     "data": {
      "text/html": [
       "<div>\n",
       "<style scoped>\n",
       "    .dataframe tbody tr th:only-of-type {\n",
       "        vertical-align: middle;\n",
       "    }\n",
       "\n",
       "    .dataframe tbody tr th {\n",
       "        vertical-align: top;\n",
       "    }\n",
       "\n",
       "    .dataframe thead th {\n",
       "        text-align: right;\n",
       "    }\n",
       "</style>\n",
       "<table border=\"1\" class=\"dataframe\">\n",
       "  <thead>\n",
       "    <tr style=\"text-align: right;\">\n",
       "      <th></th>\n",
       "      <th>mpg</th>\n",
       "      <th>cylinders</th>\n",
       "      <th>displacement</th>\n",
       "      <th>horsepower</th>\n",
       "      <th>weight</th>\n",
       "      <th>acceleration</th>\n",
       "      <th>model_year</th>\n",
       "      <th>origin</th>\n",
       "      <th>name</th>\n",
       "    </tr>\n",
       "  </thead>\n",
       "  <tbody>\n",
       "    <tr>\n",
       "      <th>0</th>\n",
       "      <td>18.0</td>\n",
       "      <td>8</td>\n",
       "      <td>307.0</td>\n",
       "      <td>130.0</td>\n",
       "      <td>3504</td>\n",
       "      <td>12.0</td>\n",
       "      <td>70</td>\n",
       "      <td>usa</td>\n",
       "      <td>chevrolet chevelle malibu</td>\n",
       "    </tr>\n",
       "    <tr>\n",
       "      <th>1</th>\n",
       "      <td>15.0</td>\n",
       "      <td>8</td>\n",
       "      <td>350.0</td>\n",
       "      <td>165.0</td>\n",
       "      <td>3693</td>\n",
       "      <td>11.5</td>\n",
       "      <td>70</td>\n",
       "      <td>usa</td>\n",
       "      <td>buick skylark 320</td>\n",
       "    </tr>\n",
       "    <tr>\n",
       "      <th>2</th>\n",
       "      <td>18.0</td>\n",
       "      <td>8</td>\n",
       "      <td>318.0</td>\n",
       "      <td>150.0</td>\n",
       "      <td>3436</td>\n",
       "      <td>11.0</td>\n",
       "      <td>70</td>\n",
       "      <td>usa</td>\n",
       "      <td>plymouth satellite</td>\n",
       "    </tr>\n",
       "    <tr>\n",
       "      <th>3</th>\n",
       "      <td>16.0</td>\n",
       "      <td>8</td>\n",
       "      <td>304.0</td>\n",
       "      <td>150.0</td>\n",
       "      <td>3433</td>\n",
       "      <td>12.0</td>\n",
       "      <td>70</td>\n",
       "      <td>usa</td>\n",
       "      <td>amc rebel sst</td>\n",
       "    </tr>\n",
       "    <tr>\n",
       "      <th>4</th>\n",
       "      <td>17.0</td>\n",
       "      <td>8</td>\n",
       "      <td>302.0</td>\n",
       "      <td>140.0</td>\n",
       "      <td>3449</td>\n",
       "      <td>10.5</td>\n",
       "      <td>70</td>\n",
       "      <td>usa</td>\n",
       "      <td>ford torino</td>\n",
       "    </tr>\n",
       "  </tbody>\n",
       "</table>\n",
       "</div>"
      ],
      "text/plain": [
       "    mpg  cylinders  displacement  horsepower  weight  acceleration  \\\n",
       "0  18.0          8         307.0       130.0    3504          12.0   \n",
       "1  15.0          8         350.0       165.0    3693          11.5   \n",
       "2  18.0          8         318.0       150.0    3436          11.0   \n",
       "3  16.0          8         304.0       150.0    3433          12.0   \n",
       "4  17.0          8         302.0       140.0    3449          10.5   \n",
       "\n",
       "   model_year origin                       name  \n",
       "0          70    usa  chevrolet chevelle malibu  \n",
       "1          70    usa          buick skylark 320  \n",
       "2          70    usa         plymouth satellite  \n",
       "3          70    usa              amc rebel sst  \n",
       "4          70    usa                ford torino  "
      ]
     },
     "execution_count": 3,
     "metadata": {},
     "output_type": "execute_result"
    }
   ],
   "source": [
    "# Task 02 - Display the first five rows of data.\n",
    "\n",
    "# Nice to have a quick look at the total of the data, also how big a file it really is.\n",
    "mpg.info(memory_usage = 'deep')\n",
    "\n",
    "mpg.head(5)\n"
   ]
  },
  {
   "cell_type": "code",
   "execution_count": 4,
   "id": "c658f32b-b593-43cb-b145-adb59934af8e",
   "metadata": {},
   "outputs": [
    {
     "data": {
      "text/html": [
       "<div>\n",
       "<style scoped>\n",
       "    .dataframe tbody tr th:only-of-type {\n",
       "        vertical-align: middle;\n",
       "    }\n",
       "\n",
       "    .dataframe tbody tr th {\n",
       "        vertical-align: top;\n",
       "    }\n",
       "\n",
       "    .dataframe thead th {\n",
       "        text-align: right;\n",
       "    }\n",
       "</style>\n",
       "<table border=\"1\" class=\"dataframe\">\n",
       "  <thead>\n",
       "    <tr style=\"text-align: right;\">\n",
       "      <th></th>\n",
       "      <th>mpg</th>\n",
       "    </tr>\n",
       "  </thead>\n",
       "  <tbody>\n",
       "    <tr>\n",
       "      <th>mpg</th>\n",
       "      <td>1.000000</td>\n",
       "    </tr>\n",
       "    <tr>\n",
       "      <th>model_year</th>\n",
       "      <td>0.579267</td>\n",
       "    </tr>\n",
       "    <tr>\n",
       "      <th>acceleration</th>\n",
       "      <td>0.420289</td>\n",
       "    </tr>\n",
       "    <tr>\n",
       "      <th>cylinders</th>\n",
       "      <td>-0.775396</td>\n",
       "    </tr>\n",
       "    <tr>\n",
       "      <th>horsepower</th>\n",
       "      <td>-0.778427</td>\n",
       "    </tr>\n",
       "    <tr>\n",
       "      <th>displacement</th>\n",
       "      <td>-0.804203</td>\n",
       "    </tr>\n",
       "    <tr>\n",
       "      <th>weight</th>\n",
       "      <td>-0.831741</td>\n",
       "    </tr>\n",
       "  </tbody>\n",
       "</table>\n",
       "</div>"
      ],
      "text/plain": [
       "                   mpg\n",
       "mpg           1.000000\n",
       "model_year    0.579267\n",
       "acceleration  0.420289\n",
       "cylinders    -0.775396\n",
       "horsepower   -0.778427\n",
       "displacement -0.804203\n",
       "weight       -0.831741"
      ]
     },
     "execution_count": 4,
     "metadata": {},
     "output_type": "execute_result"
    }
   ],
   "source": [
    "# Task 03 - Get the correlation data for the mpg column. Sort the results to make it easier to see the columns with the stronger correlations.\n",
    "\n",
    "mpg.corr()[['mpg']].sort_values(by = 'mpg', ascending = False)\n"
   ]
  },
  {
   "cell_type": "code",
   "execution_count": 5,
   "id": "a7c7d94e-3d00-40c0-a39f-40b29a2d6690",
   "metadata": {},
   "outputs": [],
   "source": [
    "# Task 04 - Use the column with the strongest positive or negative correlation to the mpg column to split the data into test and training datasets, \n",
    "#           where the test dataset consists of 20% of the total dataset. Be sure to specify a value for the random_state parameter.\n",
    "\n",
    "# Since I already missed this question in the quiz, I chose to use weight as it had the highest correlation value, even if negative..\n",
    " \n",
    "# I had mpg and weight reversed until I got to Task 8 and realized I was trying to predict weight based on mpg.\n",
    "# I had to return here and switched the two columns, then proceed back to Task 8.\n",
    "\n",
    "x_train, x_test, y_train, y_test = train_test_split(mpg[['weight']], mpg[['mpg']],\n",
    "                                                   test_size = 0.20, random_state = 42)\n"
   ]
  },
  {
   "cell_type": "code",
   "execution_count": 6,
   "id": "ef1f5d54-4ad0-4b26-869c-5c74818f401f",
   "metadata": {},
   "outputs": [
    {
     "data": {
      "text/html": [
       "<style>#sk-container-id-1 {color: black;background-color: white;}#sk-container-id-1 pre{padding: 0;}#sk-container-id-1 div.sk-toggleable {background-color: white;}#sk-container-id-1 label.sk-toggleable__label {cursor: pointer;display: block;width: 100%;margin-bottom: 0;padding: 0.3em;box-sizing: border-box;text-align: center;}#sk-container-id-1 label.sk-toggleable__label-arrow:before {content: \"▸\";float: left;margin-right: 0.25em;color: #696969;}#sk-container-id-1 label.sk-toggleable__label-arrow:hover:before {color: black;}#sk-container-id-1 div.sk-estimator:hover label.sk-toggleable__label-arrow:before {color: black;}#sk-container-id-1 div.sk-toggleable__content {max-height: 0;max-width: 0;overflow: hidden;text-align: left;background-color: #f0f8ff;}#sk-container-id-1 div.sk-toggleable__content pre {margin: 0.2em;color: black;border-radius: 0.25em;background-color: #f0f8ff;}#sk-container-id-1 input.sk-toggleable__control:checked~div.sk-toggleable__content {max-height: 200px;max-width: 100%;overflow: auto;}#sk-container-id-1 input.sk-toggleable__control:checked~label.sk-toggleable__label-arrow:before {content: \"▾\";}#sk-container-id-1 div.sk-estimator input.sk-toggleable__control:checked~label.sk-toggleable__label {background-color: #d4ebff;}#sk-container-id-1 div.sk-label input.sk-toggleable__control:checked~label.sk-toggleable__label {background-color: #d4ebff;}#sk-container-id-1 input.sk-hidden--visually {border: 0;clip: rect(1px 1px 1px 1px);clip: rect(1px, 1px, 1px, 1px);height: 1px;margin: -1px;overflow: hidden;padding: 0;position: absolute;width: 1px;}#sk-container-id-1 div.sk-estimator {font-family: monospace;background-color: #f0f8ff;border: 1px dotted black;border-radius: 0.25em;box-sizing: border-box;margin-bottom: 0.5em;}#sk-container-id-1 div.sk-estimator:hover {background-color: #d4ebff;}#sk-container-id-1 div.sk-parallel-item::after {content: \"\";width: 100%;border-bottom: 1px solid gray;flex-grow: 1;}#sk-container-id-1 div.sk-label:hover label.sk-toggleable__label {background-color: #d4ebff;}#sk-container-id-1 div.sk-serial::before {content: \"\";position: absolute;border-left: 1px solid gray;box-sizing: border-box;top: 0;bottom: 0;left: 50%;z-index: 0;}#sk-container-id-1 div.sk-serial {display: flex;flex-direction: column;align-items: center;background-color: white;padding-right: 0.2em;padding-left: 0.2em;position: relative;}#sk-container-id-1 div.sk-item {position: relative;z-index: 1;}#sk-container-id-1 div.sk-parallel {display: flex;align-items: stretch;justify-content: center;background-color: white;position: relative;}#sk-container-id-1 div.sk-item::before, #sk-container-id-1 div.sk-parallel-item::before {content: \"\";position: absolute;border-left: 1px solid gray;box-sizing: border-box;top: 0;bottom: 0;left: 50%;z-index: -1;}#sk-container-id-1 div.sk-parallel-item {display: flex;flex-direction: column;z-index: 1;position: relative;background-color: white;}#sk-container-id-1 div.sk-parallel-item:first-child::after {align-self: flex-end;width: 50%;}#sk-container-id-1 div.sk-parallel-item:last-child::after {align-self: flex-start;width: 50%;}#sk-container-id-1 div.sk-parallel-item:only-child::after {width: 0;}#sk-container-id-1 div.sk-dashed-wrapped {border: 1px dashed gray;margin: 0 0.4em 0.5em 0.4em;box-sizing: border-box;padding-bottom: 0.4em;background-color: white;}#sk-container-id-1 div.sk-label label {font-family: monospace;font-weight: bold;display: inline-block;line-height: 1.2em;}#sk-container-id-1 div.sk-label-container {text-align: center;}#sk-container-id-1 div.sk-container {/* jupyter's `normalize.less` sets `[hidden] { display: none; }` but bootstrap.min.css set `[hidden] { display: none !important; }` so we also need the `!important` here to be able to override the default hidden behavior on the sphinx rendered scikit-learn.org. See: https://github.com/scikit-learn/scikit-learn/issues/21755 */display: inline-block !important;position: relative;}#sk-container-id-1 div.sk-text-repr-fallback {display: none;}</style><div id=\"sk-container-id-1\" class=\"sk-top-container\"><div class=\"sk-text-repr-fallback\"><pre>LinearRegression()</pre><b>In a Jupyter environment, please rerun this cell to show the HTML representation or trust the notebook. <br />On GitHub, the HTML representation is unable to render, please try loading this page with nbviewer.org.</b></div><div class=\"sk-container\" hidden><div class=\"sk-item\"><div class=\"sk-estimator sk-toggleable\"><input class=\"sk-toggleable__control sk-hidden--visually\" id=\"sk-estimator-id-1\" type=\"checkbox\" checked><label for=\"sk-estimator-id-1\" class=\"sk-toggleable__label sk-toggleable__label-arrow\">LinearRegression</label><div class=\"sk-toggleable__content\"><pre>LinearRegression()</pre></div></div></div></div></div>"
      ],
      "text/plain": [
       "LinearRegression()"
      ]
     },
     "execution_count": 6,
     "metadata": {},
     "output_type": "execute_result"
    }
   ],
   "source": [
    "# Task 05 - Create a linear regression model from the training dataset.\n",
    "\n",
    "mpgModel = LinearRegression()\n",
    "mpgModel.fit(x_train, y_train)\n"
   ]
  },
  {
   "cell_type": "code",
   "execution_count": 7,
   "id": "76da488b-c3e9-463a-93ed-b8d544865ce1",
   "metadata": {},
   "outputs": [
    {
     "data": {
      "text/plain": [
       "0.722971057303075"
      ]
     },
     "execution_count": 7,
     "metadata": {},
     "output_type": "execute_result"
    }
   ],
   "source": [
    "# Task 06 - Score the model using the test dataset.\n",
    "\n",
    "mpgModel.score(x_test, y_test)\n"
   ]
  },
  {
   "cell_type": "code",
   "execution_count": 8,
   "id": "25a940e9-2452-47c8-a7f4-ce721e5d6270",
   "metadata": {},
   "outputs": [
    {
     "data": {
      "text/plain": [
       "0.6844798112332582"
      ]
     },
     "execution_count": 8,
     "metadata": {},
     "output_type": "execute_result"
    }
   ],
   "source": [
    "# Task 07 - Score the model using the training dataset.\n",
    "\n",
    "mpgModel.score(x_train, y_train)\n"
   ]
  },
  {
   "cell_type": "code",
   "execution_count": 9,
   "id": "ff6f6f5c-ac52-41f9-b18b-52924bdb4310",
   "metadata": {},
   "outputs": [
    {
     "data": {
      "text/html": [
       "<div>\n",
       "<style scoped>\n",
       "    .dataframe tbody tr th:only-of-type {\n",
       "        vertical-align: middle;\n",
       "    }\n",
       "\n",
       "    .dataframe tbody tr th {\n",
       "        vertical-align: top;\n",
       "    }\n",
       "\n",
       "    .dataframe thead th {\n",
       "        text-align: right;\n",
       "    }\n",
       "</style>\n",
       "<table border=\"1\" class=\"dataframe\">\n",
       "  <thead>\n",
       "    <tr style=\"text-align: right;\">\n",
       "      <th></th>\n",
       "      <th>mpg_predicted</th>\n",
       "    </tr>\n",
       "  </thead>\n",
       "  <tbody>\n",
       "    <tr>\n",
       "      <th>0</th>\n",
       "      <td>32.771653</td>\n",
       "    </tr>\n",
       "    <tr>\n",
       "      <th>1</th>\n",
       "      <td>26.293302</td>\n",
       "    </tr>\n",
       "    <tr>\n",
       "      <th>2</th>\n",
       "      <td>26.223055</td>\n",
       "    </tr>\n",
       "    <tr>\n",
       "      <th>3</th>\n",
       "      <td>16.029409</td>\n",
       "    </tr>\n",
       "    <tr>\n",
       "      <th>4</th>\n",
       "      <td>13.711252</td>\n",
       "    </tr>\n",
       "  </tbody>\n",
       "</table>\n",
       "</div>"
      ],
      "text/plain": [
       "   mpg_predicted\n",
       "0      32.771653\n",
       "1      26.293302\n",
       "2      26.223055\n",
       "3      16.029409\n",
       "4      13.711252"
      ]
     },
     "execution_count": 9,
     "metadata": {},
     "output_type": "execute_result"
    }
   ],
   "source": [
    "# Task 08 - Predict the y values based on the x values in the test dataset, and store the results in a variable.\n",
    "#           Then, put the predicted values in a new DataFrame.\n",
    "\n",
    "y_predicted_mpg = mpgModel.predict(x_test)\n",
    "\n",
    "predicted_mpg = pd.DataFrame(y_predicted_mpg, columns = ['mpg_predicted'])\n",
    "\n",
    "predicted_mpg.head()\n",
    "    "
   ]
  },
  {
   "cell_type": "code",
   "execution_count": 10,
   "id": "b56200ba-7a02-4856-93f9-78d0910c846a",
   "metadata": {},
   "outputs": [
    {
     "data": {
      "text/html": [
       "<div>\n",
       "<style scoped>\n",
       "    .dataframe tbody tr th:only-of-type {\n",
       "        vertical-align: middle;\n",
       "    }\n",
       "\n",
       "    .dataframe tbody tr th {\n",
       "        vertical-align: top;\n",
       "    }\n",
       "\n",
       "    .dataframe thead th {\n",
       "        text-align: right;\n",
       "    }\n",
       "</style>\n",
       "<table border=\"1\" class=\"dataframe\">\n",
       "  <thead>\n",
       "    <tr style=\"text-align: right;\">\n",
       "      <th></th>\n",
       "      <th>mpg_predicted</th>\n",
       "      <th>mpg</th>\n",
       "      <th>weight</th>\n",
       "    </tr>\n",
       "  </thead>\n",
       "  <tbody>\n",
       "    <tr>\n",
       "      <th>0</th>\n",
       "      <td>32.771653</td>\n",
       "      <td>33.0</td>\n",
       "      <td>1795</td>\n",
       "    </tr>\n",
       "    <tr>\n",
       "      <th>1</th>\n",
       "      <td>26.293302</td>\n",
       "      <td>28.0</td>\n",
       "      <td>2625</td>\n",
       "    </tr>\n",
       "    <tr>\n",
       "      <th>2</th>\n",
       "      <td>26.223055</td>\n",
       "      <td>19.0</td>\n",
       "      <td>2634</td>\n",
       "    </tr>\n",
       "    <tr>\n",
       "      <th>3</th>\n",
       "      <td>16.029409</td>\n",
       "      <td>13.0</td>\n",
       "      <td>3940</td>\n",
       "    </tr>\n",
       "    <tr>\n",
       "      <th>4</th>\n",
       "      <td>13.711252</td>\n",
       "      <td>14.0</td>\n",
       "      <td>4237</td>\n",
       "    </tr>\n",
       "  </tbody>\n",
       "</table>\n",
       "</div>"
      ],
      "text/plain": [
       "   mpg_predicted   mpg  weight\n",
       "0      32.771653  33.0    1795\n",
       "1      26.293302  28.0    2625\n",
       "2      26.223055  19.0    2634\n",
       "3      16.029409  13.0    3940\n",
       "4      13.711252  14.0    4237"
      ]
     },
     "execution_count": 10,
     "metadata": {},
     "output_type": "execute_result"
    }
   ],
   "source": [
    "# Task 09 - Join the y_test and predicted data with the x_test data, save the combined data in a new DataFrame, \n",
    "#           and then display the first five rows of data.\n",
    "\n",
    "combined_mpg = predicted_mpg.join([y_test.reset_index(drop = True),\n",
    "                                  x_test.reset_index(drop = True)])\n",
    "\n",
    "combined_mpg.head()\n"
   ]
  },
  {
   "cell_type": "code",
   "execution_count": 11,
   "id": "aec36c23-2d23-461f-91e7-017ae95ddc72",
   "metadata": {},
   "outputs": [
    {
     "data": {
      "text/html": [
       "<div>\n",
       "<style scoped>\n",
       "    .dataframe tbody tr th:only-of-type {\n",
       "        vertical-align: middle;\n",
       "    }\n",
       "\n",
       "    .dataframe tbody tr th {\n",
       "        vertical-align: top;\n",
       "    }\n",
       "\n",
       "    .dataframe thead th {\n",
       "        text-align: right;\n",
       "    }\n",
       "</style>\n",
       "<table border=\"1\" class=\"dataframe\">\n",
       "  <thead>\n",
       "    <tr style=\"text-align: right;\">\n",
       "      <th></th>\n",
       "      <th>mpg_predicted</th>\n",
       "      <th>mpg</th>\n",
       "      <th>weight</th>\n",
       "      <th>mpg_residual</th>\n",
       "    </tr>\n",
       "  </thead>\n",
       "  <tbody>\n",
       "    <tr>\n",
       "      <th>0</th>\n",
       "      <td>32.771653</td>\n",
       "      <td>33.0</td>\n",
       "      <td>1795</td>\n",
       "      <td>0.228347</td>\n",
       "    </tr>\n",
       "    <tr>\n",
       "      <th>1</th>\n",
       "      <td>26.293302</td>\n",
       "      <td>28.0</td>\n",
       "      <td>2625</td>\n",
       "      <td>1.706698</td>\n",
       "    </tr>\n",
       "    <tr>\n",
       "      <th>2</th>\n",
       "      <td>26.223055</td>\n",
       "      <td>19.0</td>\n",
       "      <td>2634</td>\n",
       "      <td>-7.223055</td>\n",
       "    </tr>\n",
       "    <tr>\n",
       "      <th>3</th>\n",
       "      <td>16.029409</td>\n",
       "      <td>13.0</td>\n",
       "      <td>3940</td>\n",
       "      <td>-3.029409</td>\n",
       "    </tr>\n",
       "    <tr>\n",
       "      <th>4</th>\n",
       "      <td>13.711252</td>\n",
       "      <td>14.0</td>\n",
       "      <td>4237</td>\n",
       "      <td>0.288748</td>\n",
       "    </tr>\n",
       "  </tbody>\n",
       "</table>\n",
       "</div>"
      ],
      "text/plain": [
       "   mpg_predicted   mpg  weight  mpg_residual\n",
       "0      32.771653  33.0    1795      0.228347\n",
       "1      26.293302  28.0    2625      1.706698\n",
       "2      26.223055  19.0    2634     -7.223055\n",
       "3      16.029409  13.0    3940     -3.029409\n",
       "4      13.711252  14.0    4237      0.288748"
      ]
     },
     "execution_count": 11,
     "metadata": {},
     "output_type": "execute_result"
    }
   ],
   "source": [
    "# Task 10 - Add the residuals to the new DataFrame created in step 9.\n",
    "\n",
    "combined_mpg['mpg_residual'] = combined_mpg.mpg - combined_mpg.mpg_predicted\n",
    "\n",
    "combined_mpg.head()\n"
   ]
  },
  {
   "cell_type": "code",
   "execution_count": 12,
   "id": "4b5d191f-9f07-43a9-9f12-cabee656f2d2",
   "metadata": {},
   "outputs": [
    {
     "data": {
      "image/png": "[encoded data removed]",
      "text/plain": [
       "<Figure size 360x360 with 1 Axes>"
      ]
     },
     "metadata": {
      "needs_background": "light"
     },
     "output_type": "display_data"
    }
   ],
   "source": [
    "# Task 11 - Plot the residuals in a Seaborn KDE plot.\n",
    "\n",
    "sns.displot(data = combined_mpg, kind = 'kde', x = 'mpg_residual');\n"
   ]
  },
  {
   "cell_type": "code",
   "execution_count": 13,
   "id": "ada2e678-d59f-4445-b748-6d4b0c8713e1",
   "metadata": {},
   "outputs": [
    {
     "data": {
      "text/html": [
       "<div>\n",
       "<style scoped>\n",
       "    .dataframe tbody tr th:only-of-type {\n",
       "        vertical-align: middle;\n",
       "    }\n",
       "\n",
       "    .dataframe tbody tr th {\n",
       "        vertical-align: top;\n",
       "    }\n",
       "\n",
       "    .dataframe thead th {\n",
       "        text-align: right;\n",
       "    }\n",
       "</style>\n",
       "<table border=\"1\" class=\"dataframe\">\n",
       "  <thead>\n",
       "    <tr style=\"text-align: right;\">\n",
       "      <th></th>\n",
       "      <th>weight</th>\n",
       "      <th>mpg_source</th>\n",
       "      <th>mpg_value</th>\n",
       "    </tr>\n",
       "  </thead>\n",
       "  <tbody>\n",
       "    <tr>\n",
       "      <th>0</th>\n",
       "      <td>1795</td>\n",
       "      <td>mpg</td>\n",
       "      <td>33.0</td>\n",
       "    </tr>\n",
       "    <tr>\n",
       "      <th>1</th>\n",
       "      <td>2625</td>\n",
       "      <td>mpg</td>\n",
       "      <td>28.0</td>\n",
       "    </tr>\n",
       "    <tr>\n",
       "      <th>2</th>\n",
       "      <td>2634</td>\n",
       "      <td>mpg</td>\n",
       "      <td>19.0</td>\n",
       "    </tr>\n",
       "    <tr>\n",
       "      <th>3</th>\n",
       "      <td>3940</td>\n",
       "      <td>mpg</td>\n",
       "      <td>13.0</td>\n",
       "    </tr>\n",
       "    <tr>\n",
       "      <th>4</th>\n",
       "      <td>4237</td>\n",
       "      <td>mpg</td>\n",
       "      <td>14.0</td>\n",
       "    </tr>\n",
       "  </tbody>\n",
       "</table>\n",
       "</div>"
      ],
      "text/plain": [
       "   weight mpg_source  mpg_value\n",
       "0    1795        mpg       33.0\n",
       "1    2625        mpg       28.0\n",
       "2    2634        mpg       19.0\n",
       "3    3940        mpg       13.0\n",
       "4    4237        mpg       14.0"
      ]
     },
     "execution_count": 13,
     "metadata": {},
     "output_type": "execute_result"
    }
   ],
   "source": [
    "# Task 12 - Melt the actual and predicted MPG columns together, \n",
    "#           assigning appropriate values to the variable and value names.\n",
    "\n",
    "melted_mpg = pd.melt(combined_mpg, id_vars = ['weight'], value_vars = ['mpg', 'mpg_predicted'],\n",
    "                    var_name = 'mpg_source', value_name = 'mpg_value')\n",
    "\n",
    "melted_mpg.head()\n"
   ]
  },
  {
   "cell_type": "code",
   "execution_count": 14,
   "id": "cf9d19cf-f101-4703-8541-b75d50dcafe1",
   "metadata": {},
   "outputs": [
    {
     "data": {
      "image/png": "[encoded data removed]",
      "text/plain": [
       "<Figure size 1754.38x800 with 1 Axes>"
      ]
     },
     "metadata": {},
     "output_type": "display_data"
    }
   ],
   "source": [
    "# Task 13 - Use a Seaborn scatter plot to plot the predicted data.\n",
    "\n",
    "ax = sns.relplot(data = melted_mpg, x = 'weight', y = 'mpg_value', hue = 'mpg_source', height = 8, aspect = 2)\n",
    "\n",
    "ax.set(title = 'Vehicle Weight versus mpg.', ylabel = 'MPG (Miles per gallon)');\n"
   ]
  },
  {
   "cell_type": "code",
   "execution_count": null,
   "id": "cd20f2a7-e9d6-4990-820c-9d0faa14e884",
   "metadata": {},
   "outputs": [],
   "source": []
  }
 ],
 "metadata": {
  "kernelspec": {
   "display_name": "Python 3 (ipykernel)",
   "language": "python",
   "name": "python3"
  },
  "language_info": {
   "codemirror_mode": {
    "name": "ipython",
    "version": 3
   },
   "file_extension": ".py",
   "mimetype": "text/x-python",
   "name": "python",
   "nbconvert_exporter": "python",
   "pygments_lexer": "ipython3",
   "version": "3.10.6"
  }
 },
 "nbformat": 4,
 "nbformat_minor": 5
}
