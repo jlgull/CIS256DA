{
 "cells": [
  {
   "cell_type": "markdown",
   "metadata": {},
   "source": [
    "# Exercise 5-1: Get data from a CSV file - Page 193"
   ]
  },
  {
   "cell_type": "code",
   "execution_count": 1,
   "metadata": {},
   "outputs": [],
   "source": [
    "import pandas as pd\n",
    "from urllib import request"
   ]
  },
  {
   "cell_type": "code",
   "execution_count": 2,
   "metadata": {},
   "outputs": [],
   "source": [
    "# Modified Step 1, to save the data as a csv in the local drive\n",
    "\n",
    "polls_url = ('http://projects.fivethirtyeight.com/general-model/president_general_polls_2016.csv')\n"
   ]
  },
  {
   "cell_type": "code",
   "execution_count": 3,
   "metadata": {},
   "outputs": [
    {
     "data": {
      "text/plain": [
       "('president_polls_2016.csv', <http.client.HTTPMessage at 0x7f2a8873c7f0>)"
      ]
     },
     "execution_count": 3,
     "metadata": {},
     "output_type": "execute_result"
    }
   ],
   "source": [
    "# Step 2 - Download to exteral file to the local drive.\n",
    "\n",
    "request.urlretrieve(polls_url, filename = 'president_polls_2016.csv')"
   ]
  },
  {
   "cell_type": "code",
   "execution_count": 4,
   "metadata": {},
   "outputs": [],
   "source": [
    "# Step 4 - Read the csv from the local drive into a DataFrame.\n",
    "\n",
    "polls = pd.read_csv('president_polls_2016.csv')\n"
   ]
  },
  {
   "cell_type": "code",
   "execution_count": 5,
   "metadata": {},
   "outputs": [
    {
     "name": "stdout",
     "output_type": "stream",
     "text": [
      "<class 'pandas.core.frame.DataFrame'>\n",
      "RangeIndex: 12624 entries, 0 to 12623\n",
      "Data columns (total 27 columns):\n",
      " #   Column            Non-Null Count  Dtype  \n",
      "---  ------            --------------  -----  \n",
      " 0   cycle             12624 non-null  int64  \n",
      " 1   branch            12624 non-null  object \n",
      " 2   type              12624 non-null  object \n",
      " 3   matchup           12624 non-null  object \n",
      " 4   forecastdate      12624 non-null  object \n",
      " 5   state             12624 non-null  object \n",
      " 6   startdate         12624 non-null  object \n",
      " 7   enddate           12624 non-null  object \n",
      " 8   pollster          12624 non-null  object \n",
      " 9   grade             11337 non-null  object \n",
      " 10  samplesize        12621 non-null  float64\n",
      " 11  population        12624 non-null  object \n",
      " 12  poll_wt           12624 non-null  float64\n",
      " 13  rawpoll_clinton   12624 non-null  float64\n",
      " 14  rawpoll_trump     12624 non-null  float64\n",
      " 15  rawpoll_johnson   8397 non-null   float64\n",
      " 16  rawpoll_mcmullin  90 non-null     float64\n",
      " 17  adjpoll_clinton   12624 non-null  float64\n",
      " 18  adjpoll_trump     12624 non-null  float64\n",
      " 19  adjpoll_johnson   8397 non-null   float64\n",
      " 20  adjpoll_mcmullin  90 non-null     float64\n",
      " 21  multiversions     36 non-null     object \n",
      " 22  url               12621 non-null  object \n",
      " 23  poll_id           12624 non-null  int64  \n",
      " 24  question_id       12624 non-null  int64  \n",
      " 25  createddate       12624 non-null  object \n",
      " 26  timestamp         12624 non-null  object \n",
      "dtypes: float64(10), int64(3), object(14)\n",
      "memory usage: 2.6+ MB\n"
     ]
    },
    {
     "data": {
      "text/html": [
       "<div>\n",
       "<style scoped>\n",
       "    .dataframe tbody tr th:only-of-type {\n",
       "        vertical-align: middle;\n",
       "    }\n",
       "\n",
       "    .dataframe tbody tr th {\n",
       "        vertical-align: top;\n",
       "    }\n",
       "\n",
       "    .dataframe thead th {\n",
       "        text-align: right;\n",
       "    }\n",
       "</style>\n",
       "<table border=\"1\" class=\"dataframe\">\n",
       "  <thead>\n",
       "    <tr style=\"text-align: right;\">\n",
       "      <th></th>\n",
       "      <th>cycle</th>\n",
       "      <th>branch</th>\n",
       "      <th>type</th>\n",
       "      <th>matchup</th>\n",
       "      <th>forecastdate</th>\n",
       "      <th>state</th>\n",
       "      <th>startdate</th>\n",
       "      <th>enddate</th>\n",
       "      <th>pollster</th>\n",
       "      <th>grade</th>\n",
       "      <th>...</th>\n",
       "      <th>adjpoll_clinton</th>\n",
       "      <th>adjpoll_trump</th>\n",
       "      <th>adjpoll_johnson</th>\n",
       "      <th>adjpoll_mcmullin</th>\n",
       "      <th>multiversions</th>\n",
       "      <th>url</th>\n",
       "      <th>poll_id</th>\n",
       "      <th>question_id</th>\n",
       "      <th>createddate</th>\n",
       "      <th>timestamp</th>\n",
       "    </tr>\n",
       "  </thead>\n",
       "  <tbody>\n",
       "    <tr>\n",
       "      <th>0</th>\n",
       "      <td>2016</td>\n",
       "      <td>President</td>\n",
       "      <td>polls-plus</td>\n",
       "      <td>Clinton vs. Trump vs. Johnson</td>\n",
       "      <td>11/8/16</td>\n",
       "      <td>U.S.</td>\n",
       "      <td>11/3/2016</td>\n",
       "      <td>11/6/2016</td>\n",
       "      <td>ABC News/Washington Post</td>\n",
       "      <td>A+</td>\n",
       "      <td>...</td>\n",
       "      <td>45.20163</td>\n",
       "      <td>41.72430</td>\n",
       "      <td>4.626221</td>\n",
       "      <td>NaN</td>\n",
       "      <td>NaN</td>\n",
       "      <td>https://www.washingtonpost.com/news/the-fix/wp...</td>\n",
       "      <td>48630</td>\n",
       "      <td>76192</td>\n",
       "      <td>11/7/16</td>\n",
       "      <td>09:35:33  8 Nov 2016</td>\n",
       "    </tr>\n",
       "    <tr>\n",
       "      <th>1</th>\n",
       "      <td>2016</td>\n",
       "      <td>President</td>\n",
       "      <td>polls-plus</td>\n",
       "      <td>Clinton vs. Trump vs. Johnson</td>\n",
       "      <td>11/8/16</td>\n",
       "      <td>U.S.</td>\n",
       "      <td>11/1/2016</td>\n",
       "      <td>11/7/2016</td>\n",
       "      <td>Google Consumer Surveys</td>\n",
       "      <td>B</td>\n",
       "      <td>...</td>\n",
       "      <td>43.34557</td>\n",
       "      <td>41.21439</td>\n",
       "      <td>5.175792</td>\n",
       "      <td>NaN</td>\n",
       "      <td>NaN</td>\n",
       "      <td>https://datastudio.google.com/u/0/#/org//repor...</td>\n",
       "      <td>48847</td>\n",
       "      <td>76443</td>\n",
       "      <td>11/7/16</td>\n",
       "      <td>09:35:33  8 Nov 2016</td>\n",
       "    </tr>\n",
       "  </tbody>\n",
       "</table>\n",
       "<p>2 rows × 27 columns</p>\n",
       "</div>"
      ],
      "text/plain": [
       "   cycle     branch        type                        matchup forecastdate  \\\n",
       "0   2016  President  polls-plus  Clinton vs. Trump vs. Johnson      11/8/16   \n",
       "1   2016  President  polls-plus  Clinton vs. Trump vs. Johnson      11/8/16   \n",
       "\n",
       "  state  startdate    enddate                  pollster grade  ...  \\\n",
       "0  U.S.  11/3/2016  11/6/2016  ABC News/Washington Post    A+  ...   \n",
       "1  U.S.  11/1/2016  11/7/2016   Google Consumer Surveys     B  ...   \n",
       "\n",
       "   adjpoll_clinton adjpoll_trump  adjpoll_johnson  adjpoll_mcmullin  \\\n",
       "0         45.20163      41.72430         4.626221               NaN   \n",
       "1         43.34557      41.21439         5.175792               NaN   \n",
       "\n",
       "   multiversions                                                url  poll_id  \\\n",
       "0            NaN  https://www.washingtonpost.com/news/the-fix/wp...    48630   \n",
       "1            NaN  https://datastudio.google.com/u/0/#/org//repor...    48847   \n",
       "\n",
       "   question_id  createddate             timestamp  \n",
       "0        76192      11/7/16  09:35:33  8 Nov 2016  \n",
       "1        76443      11/7/16  09:35:33  8 Nov 2016  \n",
       "\n",
       "[2 rows x 27 columns]"
      ]
     },
     "execution_count": 5,
     "metadata": {},
     "output_type": "execute_result"
    }
   ],
   "source": [
    "# Step 5 - Read the DataFrame and display info() and head()\n",
    "\n",
    "# Basic info about the polls DataFrame\n",
    "polls.info()\n",
    "\n",
    "# A listing of the first 2 data rows.\n",
    "polls.head(2)\n"
   ]
  },
  {
   "cell_type": "code",
   "execution_count": null,
   "metadata": {},
   "outputs": [],
   "source": []
  }
 ],
 "metadata": {
  "kernelspec": {
   "display_name": "Python 3 (ipykernel)",
   "language": "python",
   "name": "python3"
  },
  "language_info": {
   "codemirror_mode": {
    "name": "ipython",
    "version": 3
   },
   "file_extension": ".py",
   "mimetype": "text/x-python",
   "name": "python",
   "nbconvert_exporter": "python",
   "pygments_lexer": "ipython3",
   "version": "3.10.6"
  }
 },
 "nbformat": 4,
 "nbformat_minor": 4
}
