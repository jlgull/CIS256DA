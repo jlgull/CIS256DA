{
 "cells": [
  {
   "cell_type": "markdown",
   "metadata": {},
   "source": [
    "# Exercise 5-3: Get data from a database"
   ]
  },
  {
   "cell_type": "code",
   "execution_count": 1,
   "metadata": {},
   "outputs": [],
   "source": [
    "# Single cell to do all importing\n",
    "\n",
    "# Import pandas and create an alias\n",
    "import pandas as pd\n",
    "\n",
    "# Import request from the urllib module\n",
    "from urllib import request\n",
    "\n",
    "# Import ZipFile from the zipfile module\n",
    "from zipfile import ZipFile\n",
    "\n",
    "# Import sqlite3\n",
    "import sqlite3\n"
   ]
  },
  {
   "cell_type": "code",
   "execution_count": 2,
   "metadata": {},
   "outputs": [],
   "source": [
    "fires_url = 'https://www.fs.usda.gov/rds/archive/products/RDS-2013-0009.4/RDS-2013-0009.4_SQLITE.zip'"
   ]
  },
  {
   "cell_type": "code",
   "execution_count": 3,
   "metadata": {},
   "outputs": [
    {
     "data": {
      "text/plain": [
       "('RDS_sqlite.zip', <http.client.HTTPMessage at 0x7f620a7c54b0>)"
      ]
     },
     "execution_count": 3,
     "metadata": {},
     "output_type": "execute_result"
    }
   ],
   "source": [
    "# Step 2, See figure 5-3, Download the zip file to the local drive\n",
    "request.urlretrieve(fires_url, filename = 'RDS_sqlite.zip')"
   ]
  },
  {
   "cell_type": "code",
   "execution_count": 4,
   "metadata": {},
   "outputs": [
    {
     "name": "stdout",
     "output_type": "stream",
     "text": [
      "Data/FPA_FOD_20170508.sqlite 173776108 795785216\n",
      "Data/ 0 0\n",
      "_metadata_RDS-2013-0009.4.xml 11816 51410\n",
      "Supplements/FPA_FOD_Source_List.pdf 74137 109336\n",
      "Supplements/ 0 0\n",
      "_fileindex_RDS-2013-0009.4.html 1098 4398\n",
      "_metadata_RDS-2013-0009.4.html 13803 88383\n"
     ]
    }
   ],
   "source": [
    "# Step 3 - See figure 5-4, Extract the files from the zip file and diplsy the file names\n",
    "\n",
    "file_names = list()\n",
    "with ZipFile('RDS_sqlite.zip', mode = 'r') as zip:\n",
    "    zip.extractall()\n",
    "    for file in zip.infolist():\n",
    "        file_names.append(file.filename)\n",
    "        print(file.filename, file.compress_size, file.file_size)\n",
    "        "
   ]
  },
  {
   "cell_type": "markdown",
   "metadata": {},
   "source": [
    "## Run queries against the database"
   ]
  },
  {
   "cell_type": "code",
   "execution_count": 5,
   "metadata": {},
   "outputs": [
    {
     "data": {
      "text/plain": [
       "[('spatial_ref_sys',),\n",
       " ('spatialite_history',),\n",
       " ('sqlite_sequence',),\n",
       " ('geometry_columns',),\n",
       " ('spatial_ref_sys_aux',),\n",
       " ('views_geometry_columns',),\n",
       " ('virts_geometry_columns',),\n",
       " ('geometry_columns_statistics',),\n",
       " ('views_geometry_columns_statistics',),\n",
       " ('virts_geometry_columns_statistics',),\n",
       " ('geometry_columns_field_infos',),\n",
       " ('views_geometry_columns_field_infos',),\n",
       " ('virts_geometry_columns_field_infos',),\n",
       " ('geometry_columns_time',),\n",
       " ('geometry_columns_auth',),\n",
       " ('views_geometry_columns_auth',),\n",
       " ('virts_geometry_columns_auth',),\n",
       " ('sql_statements_log',),\n",
       " ('SpatialIndex',),\n",
       " ('ElementaryGeometries',),\n",
       " ('KNN',),\n",
       " ('Fires',),\n",
       " ('idx_Fires_Shape',),\n",
       " ('idx_Fires_Shape_node',),\n",
       " ('idx_Fires_Shape_rowid',),\n",
       " ('idx_Fires_Shape_parent',),\n",
       " ('NWCG_UnitIDActive_20170109',)]"
      ]
     },
     "execution_count": 5,
     "metadata": {},
     "output_type": "execute_result"
    }
   ],
   "source": [
    "# Step 5 - See figure 5-5, create a connection object and a cursor object for the DB file.\n",
    "#          Then run a query to list the table names.\n",
    "\n",
    "fires_con = sqlite3.connect('Data/FPA_FOD_20170508.sqlite')\n",
    "fires_cur = fires_con.cursor()\n",
    "\n",
    "# Run a query to list the table names.\n",
    "fires_cur.execute(\n",
    "          'SELECT name FROM sqlite_master WHERE type = \"table\"').fetchall()"
   ]
  },
  {
   "cell_type": "code",
   "execution_count": 6,
   "metadata": {},
   "outputs": [
    {
     "data": {
      "text/plain": [
       "[(0, 'OBJECTID', 'INTEGER', 1, None, 1),\n",
       " (1, 'FOD_ID', 'int32', 0, None, 0),\n",
       " (2, 'FPA_ID', 'text(100)', 0, None, 0),\n",
       " (3, 'SOURCE_SYSTEM_TYPE', 'text(255)', 0, None, 0),\n",
       " (4, 'SOURCE_SYSTEM', 'text(30)', 0, None, 0),\n",
       " (5, 'NWCG_REPORTING_AGENCY', 'text(255)', 0, None, 0),\n",
       " (6, 'NWCG_REPORTING_UNIT_ID', 'text(255)', 0, None, 0),\n",
       " (7, 'NWCG_REPORTING_UNIT_NAME', 'text(255)', 0, None, 0),\n",
       " (8, 'SOURCE_REPORTING_UNIT', 'text(30)', 0, None, 0),\n",
       " (9, 'SOURCE_REPORTING_UNIT_NAME', 'text(255)', 0, None, 0),\n",
       " (10, 'LOCAL_FIRE_REPORT_ID', 'text(255)', 0, None, 0),\n",
       " (11, 'LOCAL_INCIDENT_ID', 'text(255)', 0, None, 0),\n",
       " (12, 'FIRE_CODE', 'text(10)', 0, None, 0),\n",
       " (13, 'FIRE_NAME', 'text(255)', 0, None, 0),\n",
       " (14, 'ICS_209_INCIDENT_NUMBER', 'text(255)', 0, None, 0),\n",
       " (15, 'ICS_209_NAME', 'text(255)', 0, None, 0),\n",
       " (16, 'MTBS_ID', 'text(255)', 0, None, 0),\n",
       " (17, 'MTBS_FIRE_NAME', 'text(50)', 0, None, 0),\n",
       " (18, 'COMPLEX_NAME', 'text(255)', 0, None, 0),\n",
       " (19, 'FIRE_YEAR', 'int16', 0, None, 0),\n",
       " (20, 'DISCOVERY_DATE', 'realdate', 0, None, 0),\n",
       " (21, 'DISCOVERY_DOY', 'int32', 0, None, 0),\n",
       " (22, 'DISCOVERY_TIME', 'text(4)', 0, None, 0),\n",
       " (23, 'STAT_CAUSE_CODE', 'float64', 0, None, 0),\n",
       " (24, 'STAT_CAUSE_DESCR', 'text(100)', 0, None, 0),\n",
       " (25, 'CONT_DATE', 'realdate', 0, None, 0),\n",
       " (26, 'CONT_DOY', 'int32', 0, None, 0),\n",
       " (27, 'CONT_TIME', 'text(4)', 0, None, 0),\n",
       " (28, 'FIRE_SIZE', 'float64', 0, None, 0),\n",
       " (29, 'FIRE_SIZE_CLASS', 'text(1)', 0, None, 0),\n",
       " (30, 'LATITUDE', 'float64', 0, None, 0),\n",
       " (31, 'LONGITUDE', 'float64', 0, None, 0),\n",
       " (32, 'OWNER_CODE', 'float64', 0, None, 0),\n",
       " (33, 'OWNER_DESCR', 'text(100)', 0, None, 0),\n",
       " (34, 'STATE', 'text(255)', 0, None, 0),\n",
       " (35, 'COUNTY', 'text(255)', 0, None, 0),\n",
       " (36, 'FIPS_CODE', 'text(255)', 0, None, 0),\n",
       " (37, 'FIPS_NAME', 'text(255)', 0, None, 0),\n",
       " (38, 'Shape', 'POINT', 1, None, 0)]"
      ]
     },
     "execution_count": 6,
     "metadata": {},
     "output_type": "execute_result"
    }
   ],
   "source": [
    "# Step 6 - See figure 5-6, run a query that lists the information about the columns in the Fires table.\n",
    "\n",
    "fires_cur.execute('PRAGMA table_info(Fires)').fetchall()"
   ]
  },
  {
   "cell_type": "markdown",
   "metadata": {},
   "source": [
    "## Read the results of a SQL query into a DataFrame"
   ]
  },
  {
   "cell_type": "code",
   "execution_count": 7,
   "metadata": {},
   "outputs": [],
   "source": [
    "# Step 7, See figure 5-6, use read_sql_query() method to read data into a DataFrame.\n",
    "# \n",
    "\n",
    "fires = pd.read_sql_query(\n",
    "        ''' SELECT STATE, FIRE_YEAR, DATETIME(DISCOVERY_DATE) AS DISCOVERY_DATE,\n",
    "        FIRE_NAME, FIRE_SIZE, LATITUDE, LONGITUDE\n",
    "        FROM Fires''', fires_con)\n"
   ]
  },
  {
   "cell_type": "code",
   "execution_count": 8,
   "metadata": {},
   "outputs": [
    {
     "data": {
      "text/html": [
       "<div>\n",
       "<style scoped>\n",
       "    .dataframe tbody tr th:only-of-type {\n",
       "        vertical-align: middle;\n",
       "    }\n",
       "\n",
       "    .dataframe tbody tr th {\n",
       "        vertical-align: top;\n",
       "    }\n",
       "\n",
       "    .dataframe thead th {\n",
       "        text-align: right;\n",
       "    }\n",
       "</style>\n",
       "<table border=\"1\" class=\"dataframe\">\n",
       "  <thead>\n",
       "    <tr style=\"text-align: right;\">\n",
       "      <th></th>\n",
       "      <th>STATE</th>\n",
       "      <th>FIRE_YEAR</th>\n",
       "      <th>DISCOVERY_DATE</th>\n",
       "      <th>FIRE_NAME</th>\n",
       "      <th>FIRE_SIZE</th>\n",
       "      <th>LATITUDE</th>\n",
       "      <th>LONGITUDE</th>\n",
       "    </tr>\n",
       "  </thead>\n",
       "  <tbody>\n",
       "    <tr>\n",
       "      <th>0</th>\n",
       "      <td>CA</td>\n",
       "      <td>2005</td>\n",
       "      <td>2005-02-02 00:00:00</td>\n",
       "      <td>FOUNTAIN</td>\n",
       "      <td>0.10</td>\n",
       "      <td>40.036944</td>\n",
       "      <td>-121.005833</td>\n",
       "    </tr>\n",
       "    <tr>\n",
       "      <th>1</th>\n",
       "      <td>CA</td>\n",
       "      <td>2004</td>\n",
       "      <td>2004-05-12 00:00:00</td>\n",
       "      <td>PIGEON</td>\n",
       "      <td>0.25</td>\n",
       "      <td>38.933056</td>\n",
       "      <td>-120.404444</td>\n",
       "    </tr>\n",
       "    <tr>\n",
       "      <th>2</th>\n",
       "      <td>CA</td>\n",
       "      <td>2004</td>\n",
       "      <td>2004-05-31 00:00:00</td>\n",
       "      <td>SLACK</td>\n",
       "      <td>0.10</td>\n",
       "      <td>38.984167</td>\n",
       "      <td>-120.735556</td>\n",
       "    </tr>\n",
       "    <tr>\n",
       "      <th>3</th>\n",
       "      <td>CA</td>\n",
       "      <td>2004</td>\n",
       "      <td>2004-06-28 00:00:00</td>\n",
       "      <td>DEER</td>\n",
       "      <td>0.10</td>\n",
       "      <td>38.559167</td>\n",
       "      <td>-119.913333</td>\n",
       "    </tr>\n",
       "    <tr>\n",
       "      <th>4</th>\n",
       "      <td>CA</td>\n",
       "      <td>2004</td>\n",
       "      <td>2004-06-28 00:00:00</td>\n",
       "      <td>STEVENOT</td>\n",
       "      <td>0.10</td>\n",
       "      <td>38.559167</td>\n",
       "      <td>-119.933056</td>\n",
       "    </tr>\n",
       "  </tbody>\n",
       "</table>\n",
       "</div>"
      ],
      "text/plain": [
       "  STATE  FIRE_YEAR       DISCOVERY_DATE FIRE_NAME  FIRE_SIZE   LATITUDE  \\\n",
       "0    CA       2005  2005-02-02 00:00:00  FOUNTAIN       0.10  40.036944   \n",
       "1    CA       2004  2004-05-12 00:00:00    PIGEON       0.25  38.933056   \n",
       "2    CA       2004  2004-05-31 00:00:00     SLACK       0.10  38.984167   \n",
       "3    CA       2004  2004-06-28 00:00:00      DEER       0.10  38.559167   \n",
       "4    CA       2004  2004-06-28 00:00:00  STEVENOT       0.10  38.559167   \n",
       "\n",
       "    LONGITUDE  \n",
       "0 -121.005833  \n",
       "1 -120.404444  \n",
       "2 -120.735556  \n",
       "3 -119.913333  \n",
       "4 -119.933056  "
      ]
     },
     "execution_count": 8,
     "metadata": {},
     "output_type": "execute_result"
    }
   ],
   "source": [
    "# Step 8, Display the first 5 rows of the fires DataFrame.\n",
    "\n",
    "fires.head()"
   ]
  },
  {
   "cell_type": "code",
   "execution_count": 9,
   "metadata": {},
   "outputs": [
    {
     "name": "stdout",
     "output_type": "stream",
     "text": [
      "<class 'pandas.core.frame.DataFrame'>\n",
      "RangeIndex: 1880465 entries, 0 to 1880464\n",
      "Data columns (total 7 columns):\n",
      " #   Column          Dtype  \n",
      "---  ------          -----  \n",
      " 0   STATE           object \n",
      " 1   FIRE_YEAR       int64  \n",
      " 2   DISCOVERY_DATE  object \n",
      " 3   FIRE_NAME       object \n",
      " 4   FIRE_SIZE       float64\n",
      " 5   LATITUDE        float64\n",
      " 6   LONGITUDE       float64\n",
      "dtypes: float64(3), int64(1), object(3)\n",
      "memory usage: 100.4+ MB\n"
     ]
    }
   ],
   "source": [
    "# Step 9, Display the info() information for the fires DataFrame.\n",
    "\n",
    "fires.info()"
   ]
  },
  {
   "cell_type": "code",
   "execution_count": 10,
   "metadata": {},
   "outputs": [
    {
     "data": {
      "text/html": [
       "<div>\n",
       "<style scoped>\n",
       "    .dataframe tbody tr th:only-of-type {\n",
       "        vertical-align: middle;\n",
       "    }\n",
       "\n",
       "    .dataframe tbody tr th {\n",
       "        vertical-align: top;\n",
       "    }\n",
       "\n",
       "    .dataframe thead th {\n",
       "        text-align: right;\n",
       "    }\n",
       "</style>\n",
       "<table border=\"1\" class=\"dataframe\">\n",
       "  <thead>\n",
       "    <tr style=\"text-align: right;\">\n",
       "      <th></th>\n",
       "      <th>STATE</th>\n",
       "      <th>FIRE_YEAR</th>\n",
       "      <th>DISCOVERY_DATE</th>\n",
       "      <th>FIRE_NAME</th>\n",
       "      <th>FIRE_SIZE</th>\n",
       "      <th>LATITUDE</th>\n",
       "      <th>LONGITUDE</th>\n",
       "    </tr>\n",
       "  </thead>\n",
       "  <tbody>\n",
       "    <tr>\n",
       "      <th>1459664</th>\n",
       "      <td>AZ</td>\n",
       "      <td>2011</td>\n",
       "      <td>2011-05-29 00:00:00</td>\n",
       "      <td>WALLOW</td>\n",
       "      <td>538049.0</td>\n",
       "      <td>33.606111</td>\n",
       "      <td>-109.449722</td>\n",
       "    </tr>\n",
       "    <tr>\n",
       "      <th>297291</th>\n",
       "      <td>AZ</td>\n",
       "      <td>2002</td>\n",
       "      <td>2002-06-18 00:00:00</td>\n",
       "      <td>RODEO</td>\n",
       "      <td>259158.9</td>\n",
       "      <td>34.108400</td>\n",
       "      <td>-110.485900</td>\n",
       "    </tr>\n",
       "    <tr>\n",
       "      <th>1059558</th>\n",
       "      <td>AZ</td>\n",
       "      <td>2005</td>\n",
       "      <td>2005-06-21 00:00:00</td>\n",
       "      <td>HUMBOLDT</td>\n",
       "      <td>248310.0</td>\n",
       "      <td>33.978333</td>\n",
       "      <td>-111.822778</td>\n",
       "    </tr>\n",
       "    <tr>\n",
       "      <th>1460217</th>\n",
       "      <td>AZ</td>\n",
       "      <td>2011</td>\n",
       "      <td>2011-05-08 00:00:00</td>\n",
       "      <td>HORSESHOE 2</td>\n",
       "      <td>222954.0</td>\n",
       "      <td>31.819722</td>\n",
       "      <td>-109.211111</td>\n",
       "    </tr>\n",
       "    <tr>\n",
       "      <th>297292</th>\n",
       "      <td>AZ</td>\n",
       "      <td>2002</td>\n",
       "      <td>2002-06-20 00:00:00</td>\n",
       "      <td>CHEDISKI</td>\n",
       "      <td>209704.1</td>\n",
       "      <td>34.136200</td>\n",
       "      <td>-110.702900</td>\n",
       "    </tr>\n",
       "  </tbody>\n",
       "</table>\n",
       "</div>"
      ],
      "text/plain": [
       "        STATE  FIRE_YEAR       DISCOVERY_DATE    FIRE_NAME  FIRE_SIZE  \\\n",
       "1459664    AZ       2011  2011-05-29 00:00:00       WALLOW   538049.0   \n",
       "297291     AZ       2002  2002-06-18 00:00:00        RODEO   259158.9   \n",
       "1059558    AZ       2005  2005-06-21 00:00:00     HUMBOLDT   248310.0   \n",
       "1460217    AZ       2011  2011-05-08 00:00:00  HORSESHOE 2   222954.0   \n",
       "297292     AZ       2002  2002-06-20 00:00:00     CHEDISKI   209704.1   \n",
       "\n",
       "          LATITUDE   LONGITUDE  \n",
       "1459664  33.606111 -109.449722  \n",
       "297291   34.108400 -110.485900  \n",
       "1059558  33.978333 -111.822778  \n",
       "1460217  31.819722 -109.211111  \n",
       "297292   34.136200 -110.702900  "
      ]
     },
     "execution_count": 10,
     "metadata": {},
     "output_type": "execute_result"
    }
   ],
   "source": [
    "# Create an Arizon only DataFrame and then display the first 5 rows of the az_fires DataFrame,\n",
    "#    sorted by FIRE_SIZE, in decending order.\n",
    "\n",
    "az_fires = fires.query('STATE == \"AZ\"')\n",
    "\n",
    "az_fires.sort_values('FIRE_SIZE', ascending = False).head()"
   ]
  },
  {
   "cell_type": "code",
   "execution_count": 11,
   "metadata": {},
   "outputs": [
    {
     "name": "stdout",
     "output_type": "stream",
     "text": [
      "<class 'pandas.core.frame.DataFrame'>\n",
      "Int64Index: 71586 entries, 75 to 1860016\n",
      "Data columns (total 7 columns):\n",
      " #   Column          Non-Null Count  Dtype  \n",
      "---  ------          --------------  -----  \n",
      " 0   STATE           71586 non-null  object \n",
      " 1   FIRE_YEAR       71586 non-null  int64  \n",
      " 2   DISCOVERY_DATE  71586 non-null  object \n",
      " 3   FIRE_NAME       60986 non-null  object \n",
      " 4   FIRE_SIZE       71586 non-null  float64\n",
      " 5   LATITUDE        71586 non-null  float64\n",
      " 6   LONGITUDE       71586 non-null  float64\n",
      "dtypes: float64(3), int64(1), object(3)\n",
      "memory usage: 4.4+ MB\n"
     ]
    }
   ],
   "source": [
    "az_fires.info()"
   ]
  },
  {
   "cell_type": "code",
   "execution_count": null,
   "metadata": {},
   "outputs": [],
   "source": []
  }
 ],
 "metadata": {
  "kernelspec": {
   "display_name": "Python 3 (ipykernel)",
   "language": "python",
   "name": "python3"
  },
  "language_info": {
   "codemirror_mode": {
    "name": "ipython",
    "version": 3
   },
   "file_extension": ".py",
   "mimetype": "text/x-python",
   "name": "python",
   "nbconvert_exporter": "python",
   "pygments_lexer": "ipython3",
   "version": "3.10.6"
  }
 },
 "nbformat": 4,
 "nbformat_minor": 4
}
