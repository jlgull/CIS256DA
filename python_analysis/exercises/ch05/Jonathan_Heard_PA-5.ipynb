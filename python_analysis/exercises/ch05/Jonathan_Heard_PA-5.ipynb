{
 "cells": [
  {
   "cell_type": "markdown",
   "id": "dcc974d5-08c8-43bd-8c30-aab1c88a757e",
   "metadata": {},
   "source": [
    "# Project Assignment 5 - Get different types of data \n",
    "## Author: Jonathan Heard\n",
    "## Class: CIS256DA"
   ]
  },
  {
   "cell_type": "markdown",
   "id": "d37e6322-e007-4ace-b9b7-f44104dab4e1",
   "metadata": {},
   "source": [
    "Chapter 5 Asignment\n",
    "\n",
    "Search KaggleLinks to an external site. for something that you are interested in to see if there is any datasets related to that interest. If there is, download that dataset.  If not, just download one of the trending datasets in the trending section as shown below (2 pts.):\n",
    "\n",
    "Tasks\n",
    "\n",
    "1. Read the data from the CSV file into a DataFrame (2 pts.).\n",
    "2. Display the first five rows of data (2 pts.).\n",
    "3. Display information about each of the columns (2 pts.).\n",
    "\n",
    "Question\n",
    "\n",
    "Why did you choose the downloaded dataset (2 pts.)?\n",
    "\n",
    "\n",
    "After completing the assignment, please submit your .ipynb file and the dataset you downloaded from Kaggle.\n",
    "\n"
   ]
  },
  {
   "cell_type": "markdown",
   "id": "9ca876ef-4634-4a78-918d-d63eae58cfc2",
   "metadata": {},
   "source": [
    "### The url for the site the data came from is:\n",
    "\n",
    "https://www.kaggle.com/datasets/taruntiwarihp/phishing-site-urls\n",
    "\n",
    "The download was a 9 MB zip file, \n",
    "    called \"Malicious_and_Phishing_attacks_ulrs_archive.zip\""
   ]
  },
  {
   "cell_type": "markdown",
   "id": "6be6c4f7-dc2d-4981-8033-5f49e1cddc07",
   "metadata": {},
   "source": [
    "## Import required modules"
   ]
  },
  {
   "cell_type": "code",
   "execution_count": 1,
   "id": "b6f2a02a-ff69-47ab-acf0-f2971cf78a32",
   "metadata": {},
   "outputs": [],
   "source": [
    "# Import the modules needed for this project.\n",
    "\n",
    "# Import pandas and assign the alias pd\n",
    "import pandas as pd\n",
    "\n",
    "# Import ZipFile from the zipfile module\n",
    "from zipfile import ZipFile\n"
   ]
  },
  {
   "cell_type": "markdown",
   "id": "f1bd65f6-1414-4318-952c-34157e13aafd",
   "metadata": {},
   "source": [
    "## Tasks list"
   ]
  },
  {
   "cell_type": "code",
   "execution_count": 2,
   "id": "d2207dd8-40b8-40ae-8d17-37cb93b742fa",
   "metadata": {},
   "outputs": [
    {
     "name": "stdout",
     "output_type": "stream",
     "text": [
      "phishing_site_urls.csv 9473313 31567326\n"
     ]
    }
   ],
   "source": [
    "# Extract the files from the zip file and diplsy the file names\n",
    "\n",
    "file_names = list()\n",
    "with ZipFile('Malicious_and_Phishing_attacks_ulrs_archive.zip', mode = 'r') as zip:\n",
    "    zip.extractall()\n",
    "    for file in zip.infolist():\n",
    "        file_names.append(file.filename)\n",
    "        print(file.filename, file.compress_size, file.file_size)\n",
    "        "
   ]
  },
  {
   "cell_type": "code",
   "execution_count": 3,
   "id": "4e0be4ba-6962-416e-bb8e-6440e6d0e5fd",
   "metadata": {},
   "outputs": [],
   "source": [
    "# Task 01 Read the data from the CSV file into a DataFrame (2 pts.).\n",
    "\n",
    "phishing = pd.read_csv('phishing_site_urls.csv')\n",
    "\n"
   ]
  },
  {
   "cell_type": "code",
   "execution_count": 4,
   "id": "ff90adac-fd15-464e-afd7-88d8a42b3a9f",
   "metadata": {},
   "outputs": [
    {
     "data": {
      "text/html": [
       "<div>\n",
       "<style scoped>\n",
       "    .dataframe tbody tr th:only-of-type {\n",
       "        vertical-align: middle;\n",
       "    }\n",
       "\n",
       "    .dataframe tbody tr th {\n",
       "        vertical-align: top;\n",
       "    }\n",
       "\n",
       "    .dataframe thead th {\n",
       "        text-align: right;\n",
       "    }\n",
       "</style>\n",
       "<table border=\"1\" class=\"dataframe\">\n",
       "  <thead>\n",
       "    <tr style=\"text-align: right;\">\n",
       "      <th></th>\n",
       "      <th>URL</th>\n",
       "      <th>Label</th>\n",
       "    </tr>\n",
       "  </thead>\n",
       "  <tbody>\n",
       "    <tr>\n",
       "      <th>0</th>\n",
       "      <td>nobell.it/70ffb52d079109dca5664cce6f317373782/...</td>\n",
       "      <td>bad</td>\n",
       "    </tr>\n",
       "    <tr>\n",
       "      <th>1</th>\n",
       "      <td>www.dghjdgf.com/paypal.co.uk/cycgi-bin/webscrc...</td>\n",
       "      <td>bad</td>\n",
       "    </tr>\n",
       "    <tr>\n",
       "      <th>2</th>\n",
       "      <td>serviciosbys.com/paypal.cgi.bin.get-into.herf....</td>\n",
       "      <td>bad</td>\n",
       "    </tr>\n",
       "    <tr>\n",
       "      <th>3</th>\n",
       "      <td>mail.printakid.com/www.online.americanexpress....</td>\n",
       "      <td>bad</td>\n",
       "    </tr>\n",
       "    <tr>\n",
       "      <th>4</th>\n",
       "      <td>thewhiskeydregs.com/wp-content/themes/widescre...</td>\n",
       "      <td>bad</td>\n",
       "    </tr>\n",
       "  </tbody>\n",
       "</table>\n",
       "</div>"
      ],
      "text/plain": [
       "                                                 URL Label\n",
       "0  nobell.it/70ffb52d079109dca5664cce6f317373782/...   bad\n",
       "1  www.dghjdgf.com/paypal.co.uk/cycgi-bin/webscrc...   bad\n",
       "2  serviciosbys.com/paypal.cgi.bin.get-into.herf....   bad\n",
       "3  mail.printakid.com/www.online.americanexpress....   bad\n",
       "4  thewhiskeydregs.com/wp-content/themes/widescre...   bad"
      ]
     },
     "execution_count": 4,
     "metadata": {},
     "output_type": "execute_result"
    }
   ],
   "source": [
    "# Task 02 Display the first five rows of data (2 pts.).\n",
    "\n",
    "phishing.head()"
   ]
  },
  {
   "cell_type": "code",
   "execution_count": 5,
   "id": "c658f32b-b593-43cb-b145-adb59934af8e",
   "metadata": {},
   "outputs": [
    {
     "name": "stdout",
     "output_type": "stream",
     "text": [
      "<class 'pandas.core.frame.DataFrame'>\n",
      "RangeIndex: 549346 entries, 0 to 549345\n",
      "Data columns (total 2 columns):\n",
      " #   Column  Non-Null Count   Dtype \n",
      "---  ------  --------------   ----- \n",
      " 0   URL     549346 non-null  object\n",
      " 1   Label   549346 non-null  object\n",
      "dtypes: object(2)\n",
      "memory usage: 8.4+ MB\n"
     ]
    }
   ],
   "source": [
    "# Task 03 Display information about each of the columns (2 pts.).\n",
    "\n",
    "phishing.info()"
   ]
  },
  {
   "cell_type": "markdown",
   "id": "45c539f6-2bc8-4b47-b9f0-b69c9a48812f",
   "metadata": {},
   "source": [
    "## Question"
   ]
  },
  {
   "cell_type": "markdown",
   "id": "b7d46eb0-ffa6-4362-8108-5f4ecc47f017",
   "metadata": {},
   "source": [
    "### Why did you choose the downloaded dataset (2 pts.)?\n",
    "\n",
    "The reason for my line of inquiry, is that I am always looking into Cybersecurity topics. I was not very happy with\n",
    "    my first few attempts at this assignment.\n",
    "\n",
    "I had to download 4 different zip files, before I found one that would let step 1 proceed.\n",
    "    \"Read the data from the CSV file into a DataFrame.\"\n",
    "\n",
    "I finally decided to quit looking once, I was able to satisfy the requirements for this assignment.\n",
    "\n",
    "The \"bad\" csv files I tried, all gave the same error messages as in the Jonathan_Heard_PA-5_Bad_csv.ipynb. I am \n",
    "    include\n",
    "    \n",
    "\n"
   ]
  },
  {
   "cell_type": "code",
   "execution_count": null,
   "id": "4b5d191f-9f07-43a9-9f12-cabee656f2d2",
   "metadata": {},
   "outputs": [],
   "source": []
  }
 ],
 "metadata": {
  "kernelspec": {
   "display_name": "Python 3 (ipykernel)",
   "language": "python",
   "name": "python3"
  },
  "language_info": {
   "codemirror_mode": {
    "name": "ipython",
    "version": 3
   },
   "file_extension": ".py",
   "mimetype": "text/x-python",
   "name": "python",
   "nbconvert_exporter": "python",
   "pygments_lexer": "ipython3",
   "version": "3.10.6"
  }
 },
 "nbformat": 4,
 "nbformat_minor": 5
}
