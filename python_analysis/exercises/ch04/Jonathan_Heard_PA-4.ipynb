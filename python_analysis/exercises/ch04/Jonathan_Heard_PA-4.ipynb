{
 "cells": [
  {
   "cell_type": "markdown",
   "id": "dcc974d5-08c8-43bd-8c30-aab1c88a757e",
   "metadata": {},
   "source": [
    "# Chapter 4, Assignment 2, Avocado analysis\n",
    "## Author: Jonathan Heard\n",
    "## Class: CIS256DA"
   ]
  },
  {
   "cell_type": "markdown",
   "id": "d37e6322-e007-4ace-b9b7-f44104dab4e1",
   "metadata": {},
   "source": [
    "Chapter 3 Asignment\n",
    "\n",
    "Data for this assignment is in: avocado.csv\n",
    "\n",
    "Tasks\n",
    "\n",
    "1. Read the data from the CSV file into a DataFrame and display the first five rows (3 pts.).\n",
    "2. Create the following plot with a Seaborn specific method (2 pts.).\n",
    "3. Create the same plot with a generic method (2 pts.).\n",
    "4. Create the same plot but with the hue parameter set to year and the dots for the total volume ranging in size from 10 to 100 (2 pts.).\n",
    "5. Create a plot that looks like the one that follows (2 pts.).\n",
    "\n",
    "After completing the assignment, please submit your .ipynb file.\n",
    "\n"
   ]
  },
  {
   "cell_type": "markdown",
   "id": "6be6c4f7-dc2d-4981-8033-5f49e1cddc07",
   "metadata": {},
   "source": [
    "## Import required modules"
   ]
  },
  {
   "cell_type": "code",
   "execution_count": null,
   "id": "b6f2a02a-ff69-47ab-acf0-f2971cf78a32",
   "metadata": {},
   "outputs": [],
   "source": [
    "# Import the modules needed for this project.\n",
    "import pandas as pd\n",
    "import seaborn as sbn"
   ]
  },
  {
   "cell_type": "markdown",
   "id": "f1bd65f6-1414-4318-952c-34157e13aafd",
   "metadata": {},
   "source": [
    "# Tasks list"
   ]
  },
  {
   "cell_type": "code",
   "execution_count": null,
   "id": "4e0be4ba-6962-416e-bb8e-6440e6d0e5fd",
   "metadata": {},
   "outputs": [],
   "source": [
    "# Task 01 Read the data from the CSV file into a DataFrame and display the first five rows.\n",
    "avocado_data_raw = pd.read_csv(\"avocado.csv\")\n",
    "\n",
    "# I decided I wanted to have the basic information as well as the first five rows of data.\n",
    "#    What if found was, I had to do it this order. If I put '.head()' first, it did not diplay.\n",
    "#    Could have used two cells; but I was trying to keep it to one.\n",
    "avocado_data_raw.info()\n",
    "avocado_data_raw.head(5)\n"
   ]
  },
  {
   "cell_type": "code",
   "execution_count": null,
   "id": "ff90adac-fd15-464e-afd7-88d8a42b3a9f",
   "metadata": {},
   "outputs": [],
   "source": [
    "# Task 02 Create the following plot with a Seaborn specific method \n",
    "\n"
   ]
  },
  {
   "cell_type": "code",
   "execution_count": null,
   "id": "c658f32b-b593-43cb-b145-adb59934af8e",
   "metadata": {},
   "outputs": [],
   "source": [
    "# Task 03 Create the same plot with a generic method.\n",
    "\n"
   ]
  },
  {
   "cell_type": "code",
   "execution_count": null,
   "id": "a7c7d94e-3d00-40c0-a39f-40b29a2d6690",
   "metadata": {},
   "outputs": [],
   "source": [
    "# Task 04 Create the same plot but with the hue parameter set to year and the dots for the total volume ranging in size from 10 to 100.\n",
    "\n"
   ]
  },
  {
   "cell_type": "code",
   "execution_count": null,
   "id": "ef1f5d54-4ad0-4b26-869c-5c74818f401f",
   "metadata": {},
   "outputs": [],
   "source": [
    "# Task 05 Create a plot that looks like the one that follows. \n",
    "\n"
   ]
  },
  {
   "cell_type": "code",
   "execution_count": null,
   "id": "aec36c23-2d23-461f-91e7-017ae95ddc72",
   "metadata": {},
   "outputs": [],
   "source": []
  }
 ],
 "metadata": {
  "kernelspec": {
   "display_name": "Python 3 (ipykernel)",
   "language": "python",
   "name": "python3"
  },
  "language_info": {
   "codemirror_mode": {
    "name": "ipython",
    "version": 3
   },
   "file_extension": ".py",
   "mimetype": "text/x-python",
   "name": "python",
   "nbconvert_exporter": "python",
   "pygments_lexer": "ipython3",
   "version": "3.10.6"
  }
 },
 "nbformat": 4,
 "nbformat_minor": 5
}
