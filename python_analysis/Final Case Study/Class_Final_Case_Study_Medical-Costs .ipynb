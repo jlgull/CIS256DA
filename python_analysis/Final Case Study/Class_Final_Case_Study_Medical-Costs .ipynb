{
 "cells": [
  {
   "cell_type": "markdown",
   "id": "ef88741c-81e1-43d1-8ae0-6c06f9a28ca9",
   "metadata": {},
   "source": [
    "# Case Study - Medical Costs\n",
    "\n",
    "The following instructions and dataset will be used for the Medical Costs case study.\n",
    "\n",
    "Dataset file to be used: insurance.csv\n",
    "\n",
    "Download insurance.csv\n",
    "\n",
    "    For the case study, create one Jupyter Notebook for the case study.\n",
    "    Use Code cells to store the code for your analysis.\n",
    "    Use Markdown cells to create headings that organize your Notebook and to create headings that provide short answers to questions.\n",
    "    Use Raw cells to store longer sections of raw text.\n",
    "    Use comments or raw text to describe your thought process and to document any code that’s hard to understand.\n"
   ]
  }
 ],
 "metadata": {
  "kernelspec": {
   "display_name": "Python 3 (ipykernel)",
   "language": "python",
   "name": "python3"
  },
  "language_info": {
   "codemirror_mode": {
    "name": "ipython",
    "version": 3
   },
   "file_extension": ".py",
   "mimetype": "text/x-python",
   "name": "python",
   "nbconvert_exporter": "python",
   "pygments_lexer": "ipython3",
   "version": "3.10.6"
  }
 },
 "nbformat": 4,
 "nbformat_minor": 5
}
