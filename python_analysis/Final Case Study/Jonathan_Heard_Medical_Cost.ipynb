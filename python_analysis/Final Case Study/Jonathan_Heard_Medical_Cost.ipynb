{
 "cells": [
  {
   "cell_type": "markdown",
   "id": "9278d0dc-b1b3-4007-8bb8-ac38cd5044bb",
   "metadata": {},
   "source": [
    "# The Medical Costs case study for section 1\n",
    "\n",
    "Prerequisite chapters: 2-4\n",
    "\n",
    "Scenario\n",
    "\n",
    "You are an analyst employed by a health care company. Your boss has asked you to produce a report that answers the following questions about medical insurance charges.\n",
    "\n",
    "Instructions\n",
    "\n",
    "1. Create a Notebook for the study, name the Notebook first_last_medical_costs where first_last specifies your first and last name.\n",
    "2. Complete the tasks listed\n",
    "3. Create a heading for the question.\n",
    "4. Create a table or plot that answers the question and use a heading or raw text to summarize what the table or plot tells you.\n",
    "5. Repeat steps 2-4 for each question.\n",
    "\n",
    "Tasks\n",
    "\n",
    "1. Read the data from the CSV file into a DataFrame (2 pts.).\n",
    "2. Display the first five rows of data (2 pts.).\n",
    "3. Display information about each of the columns (2 pts.).\n",
    "4. Display the number of unique values in each column (2 pts.).\n",
    "\n",
    "Questions\n",
    "\n",
    "1. How is age related to medical costs (5 pts.)?\n",
    "2. How is number of children related to medical costs (5 pts.)?\n",
    "3. How is the number of people distributed by region (5 pts.)?\n",
    "4. How is the number of people distributed by age (5 pts.)?\n",
    "5. How are the charges distributed (5 pts.)?\n",
    "\n",
    "Note\n",
    "\n",
    "    If you encounter warnings or errors as you work on this case study, search the Internet for a solution to the problem and implement it.\n",
    "\n",
    "After completing the assignment, please submit your .ipynb file."
   ]
  },
  {
   "cell_type": "markdown",
   "id": "cab4265a-c16a-4e29-9716-53625c4d4d26",
   "metadata": {},
   "source": [
    "# The Medical Costs case study for section 2\n",
    "\n",
    "Prerequisite chapters: 2-8\n",
    "\n",
    "Scenario\n",
    "\n",
    "Your boss liked your previous report so much that he wants you to expand on it by completing the following tasks and answering the following questions.\n",
    "\n",
    "Tasks and questions\n",
    "\n",
    "1. Bin the bmi column. To do that, search the Internet to determine how you should bin and label the data (5 pts.).\n",
    "2. How are the charges related to the bmi (5 pts.)?\n",
    "3. How is the smoker status related to the charges (5 pts.)?\n",
    "4. How are the charges related to the region (5 pts.)?\n",
    "5. Which region has the highest obesity percentage (5 pts.)?\n",
    "\n",
    "Instructions\n",
    "\n",
    "Add heading and code cells to the Notebook that you created for section 1 so that it completes the tasks and answers the questions shown above.\n",
    "\n",
    "After completing the assignment, please submit your .ipynb file.\n"
   ]
  },
  {
   "cell_type": "markdown",
   "id": "82b8fafa-7f8b-40dd-90ce-4756015a7bd5",
   "metadata": {},
   "source": [
    "## The Medical Costs case study for section 3\n",
    "\n",
    "Scenario\n",
    "\n",
    "Once again, your boss wants you to expand on your previous report by completing the following tasks and answering the following questions.\n",
    "\n",
    "Tasks and questions\n",
    "\n",
    "1. Create a simple regression to show the relationship between charges and age (10 pts.).\n",
    "2. How does this relationship change with smoking status (10 pts.)?\n",
    "3. How does this relationship change with BMI (10 pts.)?\n",
    "\n",
    "The following 3 tasks and questions are EXTRA CREDIT\n",
    "\n",
    "1. Create a multiple regression model to predict charges. To do that, you’ll need to dummy encode and rescale the data (10 pts.).\n",
    "2. Make predictions with your multiple regression model and evaluate how well your model is working (10 pts.).\n",
    "3. What is the optimal number of parameters for the multiple regression (10 pts.)?\n",
    "\n",
    "Instructions\n",
    "\n",
    "Add heading and code cells to the Notebook that you created for section 2 so that it answers the questions shown above.\n",
    "\n",
    "After completing the assignment, please submit your .ipynb file."
   ]
  },
  {
   "cell_type": "markdown",
   "id": "edfd2eba-c4cd-46ee-af9c-c40d88946104",
   "metadata": {},
   "source": [
    "## The Medical Costs case study for section 1\n",
    "\n",
    "Prerequisite chapters: 2-4\n",
    "\n",
    "Scenario\n",
    "\n",
    "You are an analyst employed by a health care company. Your boss has asked you to produce a report that answers the following questions about medical insurance charges.\n",
    "\n",
    "Instructions\n",
    "\n",
    "1. Create a Notebook for the study, name the Notebook first_last_medical_costs where first_last specifies your first and last name.\n",
    "2. Complete the tasks listed\n",
    "3. Create a heading for the question.\n",
    "4. Create a table or plot that answers the question and use a heading or raw text to summarize what the table or plot tells you.\n",
    "5. Repeat steps 2-4 for each question.\n"
   ]
  },
  {
   "cell_type": "markdown",
   "id": "a3b62aaf-c2a0-4e69-9932-592bbc344f8b",
   "metadata": {},
   "source": [
    "## Import all required modules"
   ]
  },
  {
   "cell_type": "code",
   "execution_count": 1,
   "id": "50cdfe61-6dd8-43c5-a9c2-9c4f9165e676",
   "metadata": {},
   "outputs": [],
   "source": [
    "# Import pandas and assign the alias pd\n",
    "import pandas as pd\n",
    "\n",
    "# Import Seaborn and assign the alias sns\n",
    "import seaborn as sns\n",
    "\n",
    "# Import the Scikit-learn library\n",
    "from sklearn.linear_model import LinearRegression\n",
    "from sklearn.model_selection import train_test_split\n",
    "\n",
    "# Import additional SciKit-learn class\n",
    "from sklearn.preprocessing import StandardScaler\n",
    "\n",
    "# Import additional SciKit-learn classes\n",
    "\n",
    "from sklearn.feature_selection import SelectKBest\n",
    "from sklearn.feature_selection import mutual_info_regression\n",
    "\n",
    "# Import mathplotlib.pyplot and assign the alias plt\n",
    "\n",
    "import matplotlib.pyplot as plt\n"
   ]
  },
  {
   "cell_type": "markdown",
   "id": "e542751e-662e-4f16-b050-9fbdf48af51a",
   "metadata": {},
   "source": [
    "## Tasks for Section 1 of the Medical Costs case study."
   ]
  },
  {
   "cell_type": "code",
   "execution_count": 2,
   "id": "5ee3b3de-2dca-41c6-911e-9ae5eae0ede0",
   "metadata": {},
   "outputs": [],
   "source": [
    "# 1. Read the data from the CSV file into a DataFrame.\n",
    "\n",
    "cost_data = pd.read_csv('insurance.csv')\n"
   ]
  },
  {
   "cell_type": "code",
   "execution_count": 3,
   "id": "aac063b2-8643-41a1-b7c7-e2a1413d7129",
   "metadata": {},
   "outputs": [
    {
     "data": {
      "text/html": [
       "<div>\n",
       "<style scoped>\n",
       "    .dataframe tbody tr th:only-of-type {\n",
       "        vertical-align: middle;\n",
       "    }\n",
       "\n",
       "    .dataframe tbody tr th {\n",
       "        vertical-align: top;\n",
       "    }\n",
       "\n",
       "    .dataframe thead th {\n",
       "        text-align: right;\n",
       "    }\n",
       "</style>\n",
       "<table border=\"1\" class=\"dataframe\">\n",
       "  <thead>\n",
       "    <tr style=\"text-align: right;\">\n",
       "      <th></th>\n",
       "      <th>age</th>\n",
       "      <th>sex</th>\n",
       "      <th>bmi</th>\n",
       "      <th>children</th>\n",
       "      <th>smoker</th>\n",
       "      <th>region</th>\n",
       "      <th>charges</th>\n",
       "    </tr>\n",
       "  </thead>\n",
       "  <tbody>\n",
       "    <tr>\n",
       "      <th>0</th>\n",
       "      <td>19</td>\n",
       "      <td>female</td>\n",
       "      <td>27.900</td>\n",
       "      <td>0</td>\n",
       "      <td>yes</td>\n",
       "      <td>southwest</td>\n",
       "      <td>16884.92400</td>\n",
       "    </tr>\n",
       "    <tr>\n",
       "      <th>1</th>\n",
       "      <td>18</td>\n",
       "      <td>male</td>\n",
       "      <td>33.770</td>\n",
       "      <td>1</td>\n",
       "      <td>no</td>\n",
       "      <td>southeast</td>\n",
       "      <td>1725.55230</td>\n",
       "    </tr>\n",
       "    <tr>\n",
       "      <th>2</th>\n",
       "      <td>28</td>\n",
       "      <td>male</td>\n",
       "      <td>33.000</td>\n",
       "      <td>3</td>\n",
       "      <td>no</td>\n",
       "      <td>southeast</td>\n",
       "      <td>4449.46200</td>\n",
       "    </tr>\n",
       "    <tr>\n",
       "      <th>3</th>\n",
       "      <td>33</td>\n",
       "      <td>male</td>\n",
       "      <td>22.705</td>\n",
       "      <td>0</td>\n",
       "      <td>no</td>\n",
       "      <td>northwest</td>\n",
       "      <td>21984.47061</td>\n",
       "    </tr>\n",
       "    <tr>\n",
       "      <th>4</th>\n",
       "      <td>32</td>\n",
       "      <td>male</td>\n",
       "      <td>28.880</td>\n",
       "      <td>0</td>\n",
       "      <td>no</td>\n",
       "      <td>northwest</td>\n",
       "      <td>3866.85520</td>\n",
       "    </tr>\n",
       "  </tbody>\n",
       "</table>\n",
       "</div>"
      ],
      "text/plain": [
       "   age     sex     bmi  children smoker     region      charges\n",
       "0   19  female  27.900         0    yes  southwest  16884.92400\n",
       "1   18    male  33.770         1     no  southeast   1725.55230\n",
       "2   28    male  33.000         3     no  southeast   4449.46200\n",
       "3   33    male  22.705         0     no  northwest  21984.47061\n",
       "4   32    male  28.880         0     no  northwest   3866.85520"
      ]
     },
     "execution_count": 3,
     "metadata": {},
     "output_type": "execute_result"
    }
   ],
   "source": [
    "# 2. Display the first five rows of data.\n",
    "\n",
    "cost_data.head()\n"
   ]
  },
  {
   "cell_type": "code",
   "execution_count": 4,
   "id": "73b88e13-14dd-4f79-9634-5a63e5fda7b4",
   "metadata": {},
   "outputs": [
    {
     "name": "stdout",
     "output_type": "stream",
     "text": [
      "<class 'pandas.core.frame.DataFrame'>\n",
      "RangeIndex: 1338 entries, 0 to 1337\n",
      "Data columns (total 7 columns):\n",
      " #   Column    Non-Null Count  Dtype  \n",
      "---  ------    --------------  -----  \n",
      " 0   age       1338 non-null   int64  \n",
      " 1   sex       1338 non-null   object \n",
      " 2   bmi       1338 non-null   float64\n",
      " 3   children  1338 non-null   int64  \n",
      " 4   smoker    1338 non-null   object \n",
      " 5   region    1338 non-null   object \n",
      " 6   charges   1338 non-null   float64\n",
      "dtypes: float64(2), int64(2), object(3)\n",
      "memory usage: 286.5 KB\n"
     ]
    }
   ],
   "source": [
    "# 3. Display information about each of the columns.\n",
    "\n",
    "cost_data.info(memory_usage = 'deep')\n"
   ]
  },
  {
   "cell_type": "code",
   "execution_count": 5,
   "id": "fe17a525-1996-4c8e-96c3-ebbf8f220dee",
   "metadata": {},
   "outputs": [
    {
     "data": {
      "text/plain": [
       "age           47\n",
       "sex            2\n",
       "bmi          548\n",
       "children       6\n",
       "smoker         2\n",
       "region         4\n",
       "charges     1337\n",
       "dtype: int64"
      ]
     },
     "execution_count": 5,
     "metadata": {},
     "output_type": "execute_result"
    }
   ],
   "source": [
    "# 4. Display the number of unique values in each column.\n",
    "\n",
    "cost_data.nunique()\n"
   ]
  },
  {
   "cell_type": "raw",
   "id": "8422ab12-45bb-42ef-acef-6689ec3883aa",
   "metadata": {},
   "source": [
    "Based on the nunique() method count, it looks like sex, smoker and even region can be made\n",
    "into dummy variables in future regression work."
   ]
  },
  {
   "cell_type": "code",
   "execution_count": 6,
   "id": "a80fcc25-3571-4849-bc5f-7680e30d13d9",
   "metadata": {},
   "outputs": [
    {
     "data": {
      "text/html": [
       "<div>\n",
       "<style scoped>\n",
       "    .dataframe tbody tr th:only-of-type {\n",
       "        vertical-align: middle;\n",
       "    }\n",
       "\n",
       "    .dataframe tbody tr th {\n",
       "        vertical-align: top;\n",
       "    }\n",
       "\n",
       "    .dataframe thead th {\n",
       "        text-align: right;\n",
       "    }\n",
       "</style>\n",
       "<table border=\"1\" class=\"dataframe\">\n",
       "  <thead>\n",
       "    <tr style=\"text-align: right;\">\n",
       "      <th></th>\n",
       "      <th>age</th>\n",
       "      <th>sex</th>\n",
       "      <th>bmi</th>\n",
       "      <th>children</th>\n",
       "      <th>smoker</th>\n",
       "      <th>region</th>\n",
       "      <th>cost</th>\n",
       "    </tr>\n",
       "  </thead>\n",
       "  <tbody>\n",
       "    <tr>\n",
       "      <th>0</th>\n",
       "      <td>19</td>\n",
       "      <td>female</td>\n",
       "      <td>27.900</td>\n",
       "      <td>0</td>\n",
       "      <td>yes</td>\n",
       "      <td>southwest</td>\n",
       "      <td>16884.92400</td>\n",
       "    </tr>\n",
       "    <tr>\n",
       "      <th>1</th>\n",
       "      <td>18</td>\n",
       "      <td>male</td>\n",
       "      <td>33.770</td>\n",
       "      <td>1</td>\n",
       "      <td>no</td>\n",
       "      <td>southeast</td>\n",
       "      <td>1725.55230</td>\n",
       "    </tr>\n",
       "    <tr>\n",
       "      <th>2</th>\n",
       "      <td>28</td>\n",
       "      <td>male</td>\n",
       "      <td>33.000</td>\n",
       "      <td>3</td>\n",
       "      <td>no</td>\n",
       "      <td>southeast</td>\n",
       "      <td>4449.46200</td>\n",
       "    </tr>\n",
       "    <tr>\n",
       "      <th>3</th>\n",
       "      <td>33</td>\n",
       "      <td>male</td>\n",
       "      <td>22.705</td>\n",
       "      <td>0</td>\n",
       "      <td>no</td>\n",
       "      <td>northwest</td>\n",
       "      <td>21984.47061</td>\n",
       "    </tr>\n",
       "    <tr>\n",
       "      <th>4</th>\n",
       "      <td>32</td>\n",
       "      <td>male</td>\n",
       "      <td>28.880</td>\n",
       "      <td>0</td>\n",
       "      <td>no</td>\n",
       "      <td>northwest</td>\n",
       "      <td>3866.85520</td>\n",
       "    </tr>\n",
       "  </tbody>\n",
       "</table>\n",
       "</div>"
      ],
      "text/plain": [
       "   age     sex     bmi  children smoker     region         cost\n",
       "0   19  female  27.900         0    yes  southwest  16884.92400\n",
       "1   18    male  33.770         1     no  southeast   1725.55230\n",
       "2   28    male  33.000         3     no  southeast   4449.46200\n",
       "3   33    male  22.705         0     no  northwest  21984.47061\n",
       "4   32    male  28.880         0     no  northwest   3866.85520"
      ]
     },
     "execution_count": 6,
     "metadata": {},
     "output_type": "execute_result"
    }
   ],
   "source": [
    "# Renamed the charges column to cost and then display the first five lines.\n",
    "\n",
    "cost_data.rename(columns = {'charges':'cost'}, inplace = True)\n",
    "\n",
    "cost_data.head()\n"
   ]
  },
  {
   "cell_type": "code",
   "execution_count": 7,
   "id": "ca772235-12fc-4cc9-a4fb-ea72c04010b7",
   "metadata": {},
   "outputs": [
    {
     "data": {
      "text/html": [
       "<div>\n",
       "<style scoped>\n",
       "    .dataframe tbody tr th:only-of-type {\n",
       "        vertical-align: middle;\n",
       "    }\n",
       "\n",
       "    .dataframe tbody tr th {\n",
       "        vertical-align: top;\n",
       "    }\n",
       "\n",
       "    .dataframe thead th {\n",
       "        text-align: right;\n",
       "    }\n",
       "</style>\n",
       "<table border=\"1\" class=\"dataframe\">\n",
       "  <thead>\n",
       "    <tr style=\"text-align: right;\">\n",
       "      <th></th>\n",
       "      <th>age</th>\n",
       "      <th>sex</th>\n",
       "      <th>bmi</th>\n",
       "      <th>children</th>\n",
       "      <th>smoker</th>\n",
       "      <th>region</th>\n",
       "      <th>cost</th>\n",
       "    </tr>\n",
       "  </thead>\n",
       "  <tbody>\n",
       "    <tr>\n",
       "      <th>0</th>\n",
       "      <td>19</td>\n",
       "      <td>female</td>\n",
       "      <td>27.900</td>\n",
       "      <td>0</td>\n",
       "      <td>yes</td>\n",
       "      <td>Southwest</td>\n",
       "      <td>16884.92400</td>\n",
       "    </tr>\n",
       "    <tr>\n",
       "      <th>1</th>\n",
       "      <td>18</td>\n",
       "      <td>male</td>\n",
       "      <td>33.770</td>\n",
       "      <td>1</td>\n",
       "      <td>no</td>\n",
       "      <td>Southeast</td>\n",
       "      <td>1725.55230</td>\n",
       "    </tr>\n",
       "    <tr>\n",
       "      <th>2</th>\n",
       "      <td>28</td>\n",
       "      <td>male</td>\n",
       "      <td>33.000</td>\n",
       "      <td>3</td>\n",
       "      <td>no</td>\n",
       "      <td>Southeast</td>\n",
       "      <td>4449.46200</td>\n",
       "    </tr>\n",
       "    <tr>\n",
       "      <th>3</th>\n",
       "      <td>33</td>\n",
       "      <td>male</td>\n",
       "      <td>22.705</td>\n",
       "      <td>0</td>\n",
       "      <td>no</td>\n",
       "      <td>Northwest</td>\n",
       "      <td>21984.47061</td>\n",
       "    </tr>\n",
       "    <tr>\n",
       "      <th>4</th>\n",
       "      <td>32</td>\n",
       "      <td>male</td>\n",
       "      <td>28.880</td>\n",
       "      <td>0</td>\n",
       "      <td>no</td>\n",
       "      <td>Northwest</td>\n",
       "      <td>3866.85520</td>\n",
       "    </tr>\n",
       "  </tbody>\n",
       "</table>\n",
       "</div>"
      ],
      "text/plain": [
       "   age     sex     bmi  children smoker     region         cost\n",
       "0   19  female  27.900         0    yes  Southwest  16884.92400\n",
       "1   18    male  33.770         1     no  Southeast   1725.55230\n",
       "2   28    male  33.000         3     no  Southeast   4449.46200\n",
       "3   33    male  22.705         0     no  Northwest  21984.47061\n",
       "4   32    male  28.880         0     no  Northwest   3866.85520"
      ]
     },
     "execution_count": 7,
     "metadata": {},
     "output_type": "execute_result"
    }
   ],
   "source": [
    "# Change the region column data to titlecase and display the first five lines. \n",
    "\n",
    "cost_data.region = cost_data.apply(lambda x: x.region.title(), axis = 1)\n",
    "\n",
    "cost_data.head()\n"
   ]
  },
  {
   "cell_type": "markdown",
   "id": "b29158cc-61f6-436d-b089-e67481850d7e",
   "metadata": {},
   "source": [
    "## Questions for Section 1 of the Medical Costs case study.\n",
    "\n",
    "1. How is age related to medical costs (5 pts.)?\n",
    "2. How is number of children related to medical costs (5 pts.)?\n",
    "3. How is the number of people distributed by region (5 pts.)?\n",
    "4. How is the number of people distributed by age (5 pts.)?\n",
    "5. How are the charges distributed (5 pts.)?"
   ]
  },
  {
   "cell_type": "code",
   "execution_count": 8,
   "id": "3c77b66c-39d7-484a-a7cb-de72e88d89ca",
   "metadata": {},
   "outputs": [],
   "source": [
    "# Question 1. How is age related to medical costs?"
   ]
  },
  {
   "cell_type": "code",
   "execution_count": 9,
   "id": "76d37717-be46-4ba1-82f7-c991220a361c",
   "metadata": {},
   "outputs": [
    {
     "data": {
      "text/html": [
       "<div>\n",
       "<style scoped>\n",
       "    .dataframe tbody tr th:only-of-type {\n",
       "        vertical-align: middle;\n",
       "    }\n",
       "\n",
       "    .dataframe tbody tr th {\n",
       "        vertical-align: top;\n",
       "    }\n",
       "\n",
       "    .dataframe thead th {\n",
       "        text-align: right;\n",
       "    }\n",
       "</style>\n",
       "<table border=\"1\" class=\"dataframe\">\n",
       "  <thead>\n",
       "    <tr style=\"text-align: right;\">\n",
       "      <th></th>\n",
       "      <th>age</th>\n",
       "      <th>cost</th>\n",
       "    </tr>\n",
       "  </thead>\n",
       "  <tbody>\n",
       "    <tr>\n",
       "      <th>46</th>\n",
       "      <td>64</td>\n",
       "      <td>23275.530837</td>\n",
       "    </tr>\n",
       "    <tr>\n",
       "      <th>43</th>\n",
       "      <td>61</td>\n",
       "      <td>22024.457609</td>\n",
       "    </tr>\n",
       "    <tr>\n",
       "      <th>42</th>\n",
       "      <td>60</td>\n",
       "      <td>21979.418507</td>\n",
       "    </tr>\n",
       "    <tr>\n",
       "      <th>45</th>\n",
       "      <td>63</td>\n",
       "      <td>19884.998461</td>\n",
       "    </tr>\n",
       "    <tr>\n",
       "      <th>25</th>\n",
       "      <td>43</td>\n",
       "      <td>19267.278653</td>\n",
       "    </tr>\n",
       "  </tbody>\n",
       "</table>\n",
       "</div>"
      ],
      "text/plain": [
       "    age          cost\n",
       "46   64  23275.530837\n",
       "43   61  22024.457609\n",
       "42   60  21979.418507\n",
       "45   63  19884.998461\n",
       "25   43  19267.278653"
      ]
     },
     "execution_count": 9,
     "metadata": {},
     "output_type": "execute_result"
    }
   ],
   "source": [
    "# Determine the average cost by age, using the groupby() method.\n",
    "\n",
    "cost_by_age = cost_data.groupby(['age']).cost.mean()\n",
    "\n",
    "cost_by_age = cost_by_age.reset_index().sort_values('cost', ascending = False)\n",
    "\n",
    "cost_by_age.head()\n"
   ]
  },
  {
   "cell_type": "code",
   "execution_count": 10,
   "id": "bf3f0410-0d2f-4913-af4c-dc1ebee03542",
   "metadata": {},
   "outputs": [
    {
     "data": {
      "image/png": "[encoded data removed]",
      "text/plain": [
       "<Figure size 576x576 with 1 Axes>"
      ]
     },
     "metadata": {
      "needs_background": "light"
     },
     "output_type": "display_data"
    }
   ],
   "source": [
    "# Plot the relationship between age and medical costs.\n",
    "\n",
    "# Found a method to increase the plot size, while researching on the internet on the following\n",
    "#   site: https://www.geeksforgeeks.org/how-to-set-a-seaborn-chart-figure-size/\n",
    "#   I had to import import matplotlib.pyplot as plt to make this code work.\n",
    "\n",
    "fig, ax = plt.subplots(figsize=(8, 8))\n",
    "\n",
    "ax = sns.regplot(data = cost_by_age, x = 'age', y = 'cost', ci = None)\n",
    "\n",
    "ax.set(title = 'Average Cost versus Age', xlabel = 'Age', ylabel = 'Average Cost');\n"
   ]
  },
  {
   "cell_type": "raw",
   "id": "f48fefe2-658a-4543-9d9c-90540182f24e",
   "metadata": {},
   "source": [
    "Based on the trend line in the graph above, there is a positive relationship between Average Cost\n",
    "  and the Age of the primary insured person. This data leaves some things sort of hanging. I have to assume that\n",
    "  the cost/charge is related to the entire family, not simply the primary person whose age is listed."
   ]
  },
  {
   "cell_type": "code",
   "execution_count": 11,
   "id": "ceb2e3b3-aef3-4ec2-86b9-3f38a21034af",
   "metadata": {},
   "outputs": [],
   "source": [
    "# Question 2. How is number of children related to medical costs?"
   ]
  },
  {
   "cell_type": "code",
   "execution_count": 12,
   "id": "0c4360df-78d0-4864-8db3-2752ab561da5",
   "metadata": {},
   "outputs": [
    {
     "data": {
      "text/plain": [
       "0    574\n",
       "1    324\n",
       "2    240\n",
       "3    157\n",
       "4     25\n",
       "5     18\n",
       "Name: children, dtype: int64"
      ]
     },
     "execution_count": 12,
     "metadata": {},
     "output_type": "execute_result"
    }
   ],
   "source": [
    "# Examine the number and range of the children column.\n",
    "\n",
    "cost_data.children.value_counts()\n"
   ]
  },
  {
   "cell_type": "code",
   "execution_count": 13,
   "id": "206dd7f3-a189-4c27-9065-466f6d3b2966",
   "metadata": {},
   "outputs": [
    {
     "data": {
      "text/html": [
       "<div>\n",
       "<style scoped>\n",
       "    .dataframe tbody tr th:only-of-type {\n",
       "        vertical-align: middle;\n",
       "    }\n",
       "\n",
       "    .dataframe tbody tr th {\n",
       "        vertical-align: top;\n",
       "    }\n",
       "\n",
       "    .dataframe thead th {\n",
       "        text-align: right;\n",
       "    }\n",
       "</style>\n",
       "<table border=\"1\" class=\"dataframe\">\n",
       "  <thead>\n",
       "    <tr style=\"text-align: right;\">\n",
       "      <th></th>\n",
       "      <th>children</th>\n",
       "      <th>cost</th>\n",
       "    </tr>\n",
       "  </thead>\n",
       "  <tbody>\n",
       "    <tr>\n",
       "      <th>3</th>\n",
       "      <td>3</td>\n",
       "      <td>15355.318367</td>\n",
       "    </tr>\n",
       "    <tr>\n",
       "      <th>2</th>\n",
       "      <td>2</td>\n",
       "      <td>15073.563734</td>\n",
       "    </tr>\n",
       "    <tr>\n",
       "      <th>4</th>\n",
       "      <td>4</td>\n",
       "      <td>13850.656311</td>\n",
       "    </tr>\n",
       "    <tr>\n",
       "      <th>1</th>\n",
       "      <td>1</td>\n",
       "      <td>12731.171832</td>\n",
       "    </tr>\n",
       "    <tr>\n",
       "      <th>0</th>\n",
       "      <td>0</td>\n",
       "      <td>12365.975602</td>\n",
       "    </tr>\n",
       "    <tr>\n",
       "      <th>5</th>\n",
       "      <td>5</td>\n",
       "      <td>8786.035247</td>\n",
       "    </tr>\n",
       "  </tbody>\n",
       "</table>\n",
       "</div>"
      ],
      "text/plain": [
       "   children          cost\n",
       "3         3  15355.318367\n",
       "2         2  15073.563734\n",
       "4         4  13850.656311\n",
       "1         1  12731.171832\n",
       "0         0  12365.975602\n",
       "5         5   8786.035247"
      ]
     },
     "execution_count": 13,
     "metadata": {},
     "output_type": "execute_result"
    }
   ],
   "source": [
    "# Determine the average cost by the number of children, using the groupby() method.\n",
    "\n",
    "cost_by_child = cost_data.groupby(['children']).cost.mean()\n",
    "\n",
    "cost_by_child = cost_by_child.reset_index().sort_values('cost', ascending = False)\n",
    "\n",
    "cost_by_child.head(10)\n"
   ]
  },
  {
   "cell_type": "code",
   "execution_count": 14,
   "id": "b9bcb8c7-5ed6-4938-81e7-726ce009898a",
   "metadata": {},
   "outputs": [
    {
     "data": {
      "image/png": "[encoded data removed]",
      "text/plain": [
       "<Figure size 432x288 with 1 Axes>"
      ]
     },
     "metadata": {
      "needs_background": "light"
     },
     "output_type": "display_data"
    }
   ],
   "source": [
    "cost_by_child.plot(x = 'children', y = 'cost', kind = 'bar', \n",
    "                   title = 'Average cost and number of Childern',\n",
    "                  xlabel = 'Number of Children',\n",
    "                  ylabel = 'Average Cost', legend = None);\n"
   ]
  },
  {
   "cell_type": "raw",
   "id": "d23fd768-842f-4d99-8f4c-d253b8d822fe",
   "metadata": {},
   "source": [
    "Based on the bar chart above, there does not seem to be a relationship\n",
    "  between the number of Childeren and the Average Cost."
   ]
  },
  {
   "cell_type": "code",
   "execution_count": 15,
   "id": "3f03d204-7744-46db-a5a4-b4fde76e231f",
   "metadata": {},
   "outputs": [],
   "source": [
    "# Question 3. How is the number of people distributed by region?"
   ]
  },
  {
   "cell_type": "code",
   "execution_count": 16,
   "id": "95af948f-385b-4cd6-ac69-c8cbf2ea67c7",
   "metadata": {},
   "outputs": [
    {
     "data": {
      "text/html": [
       "<div>\n",
       "<style scoped>\n",
       "    .dataframe tbody tr th:only-of-type {\n",
       "        vertical-align: middle;\n",
       "    }\n",
       "\n",
       "    .dataframe tbody tr th {\n",
       "        vertical-align: top;\n",
       "    }\n",
       "\n",
       "    .dataframe thead th {\n",
       "        text-align: right;\n",
       "    }\n",
       "</style>\n",
       "<table border=\"1\" class=\"dataframe\">\n",
       "  <thead>\n",
       "    <tr style=\"text-align: right;\">\n",
       "      <th></th>\n",
       "      <th>age</th>\n",
       "      <th>sex</th>\n",
       "      <th>bmi</th>\n",
       "      <th>children</th>\n",
       "      <th>smoker</th>\n",
       "      <th>region</th>\n",
       "      <th>cost</th>\n",
       "      <th>familySize</th>\n",
       "    </tr>\n",
       "  </thead>\n",
       "  <tbody>\n",
       "    <tr>\n",
       "      <th>0</th>\n",
       "      <td>19</td>\n",
       "      <td>female</td>\n",
       "      <td>27.900</td>\n",
       "      <td>0</td>\n",
       "      <td>yes</td>\n",
       "      <td>Southwest</td>\n",
       "      <td>16884.92400</td>\n",
       "      <td>1</td>\n",
       "    </tr>\n",
       "    <tr>\n",
       "      <th>1</th>\n",
       "      <td>18</td>\n",
       "      <td>male</td>\n",
       "      <td>33.770</td>\n",
       "      <td>1</td>\n",
       "      <td>no</td>\n",
       "      <td>Southeast</td>\n",
       "      <td>1725.55230</td>\n",
       "      <td>2</td>\n",
       "    </tr>\n",
       "    <tr>\n",
       "      <th>2</th>\n",
       "      <td>28</td>\n",
       "      <td>male</td>\n",
       "      <td>33.000</td>\n",
       "      <td>3</td>\n",
       "      <td>no</td>\n",
       "      <td>Southeast</td>\n",
       "      <td>4449.46200</td>\n",
       "      <td>4</td>\n",
       "    </tr>\n",
       "    <tr>\n",
       "      <th>3</th>\n",
       "      <td>33</td>\n",
       "      <td>male</td>\n",
       "      <td>22.705</td>\n",
       "      <td>0</td>\n",
       "      <td>no</td>\n",
       "      <td>Northwest</td>\n",
       "      <td>21984.47061</td>\n",
       "      <td>1</td>\n",
       "    </tr>\n",
       "    <tr>\n",
       "      <th>4</th>\n",
       "      <td>32</td>\n",
       "      <td>male</td>\n",
       "      <td>28.880</td>\n",
       "      <td>0</td>\n",
       "      <td>no</td>\n",
       "      <td>Northwest</td>\n",
       "      <td>3866.85520</td>\n",
       "      <td>1</td>\n",
       "    </tr>\n",
       "  </tbody>\n",
       "</table>\n",
       "</div>"
      ],
      "text/plain": [
       "   age     sex     bmi  children smoker     region         cost  familySize\n",
       "0   19  female  27.900         0    yes  Southwest  16884.92400           1\n",
       "1   18    male  33.770         1     no  Southeast   1725.55230           2\n",
       "2   28    male  33.000         3     no  Southeast   4449.46200           4\n",
       "3   33    male  22.705         0     no  Northwest  21984.47061           1\n",
       "4   32    male  28.880         0     no  Northwest   3866.85520           1"
      ]
     },
     "execution_count": 16,
     "metadata": {},
     "output_type": "execute_result"
    }
   ],
   "source": [
    "# Find the number of people in each family.\n",
    "\n",
    "cost_data['familySize'] = cost_data.children + 1\n",
    "\n",
    "cost_data.head()\n"
   ]
  },
  {
   "cell_type": "code",
   "execution_count": 17,
   "id": "9c83194b-9caa-4a38-9e48-7fac441516ae",
   "metadata": {},
   "outputs": [
    {
     "data": {
      "text/html": [
       "<div>\n",
       "<style scoped>\n",
       "    .dataframe tbody tr th:only-of-type {\n",
       "        vertical-align: middle;\n",
       "    }\n",
       "\n",
       "    .dataframe tbody tr th {\n",
       "        vertical-align: top;\n",
       "    }\n",
       "\n",
       "    .dataframe thead th {\n",
       "        text-align: right;\n",
       "    }\n",
       "</style>\n",
       "<table border=\"1\" class=\"dataframe\">\n",
       "  <thead>\n",
       "    <tr style=\"text-align: right;\">\n",
       "      <th></th>\n",
       "      <th>region</th>\n",
       "      <th>familySize</th>\n",
       "    </tr>\n",
       "  </thead>\n",
       "  <tbody>\n",
       "    <tr>\n",
       "      <th>2</th>\n",
       "      <td>Southeast</td>\n",
       "      <td>746</td>\n",
       "    </tr>\n",
       "    <tr>\n",
       "      <th>1</th>\n",
       "      <td>Northwest</td>\n",
       "      <td>698</td>\n",
       "    </tr>\n",
       "    <tr>\n",
       "      <th>3</th>\n",
       "      <td>Southwest</td>\n",
       "      <td>696</td>\n",
       "    </tr>\n",
       "    <tr>\n",
       "      <th>0</th>\n",
       "      <td>Northeast</td>\n",
       "      <td>663</td>\n",
       "    </tr>\n",
       "  </tbody>\n",
       "</table>\n",
       "</div>"
      ],
      "text/plain": [
       "      region  familySize\n",
       "2  Southeast         746\n",
       "1  Northwest         698\n",
       "3  Southwest         696\n",
       "0  Northeast         663"
      ]
     },
     "execution_count": 17,
     "metadata": {},
     "output_type": "execute_result"
    }
   ],
   "source": [
    "# Find the total number of people by region using the groupby() method.\n",
    "\n",
    "family_by_region = cost_data.groupby('region').familySize.sum()\n",
    "\n",
    "family_by_region = family_by_region.reset_index().sort_values('familySize', ascending = False)\n",
    "\n",
    "family_by_region.head()\n"
   ]
  },
  {
   "cell_type": "code",
   "execution_count": 18,
   "id": "7fb350b9-39e3-4f83-9294-796bb1c6ba36",
   "metadata": {},
   "outputs": [
    {
     "data": {
      "image/png": "[encoded data removed]",
      "text/plain": [
       "<Figure size 432x288 with 1 Axes>"
      ]
     },
     "metadata": {
      "needs_background": "light"
     },
     "output_type": "display_data"
    }
   ],
   "source": [
    "# Plot the results of summing the familySize vs. region.\n",
    "\n",
    "family_by_region.plot(x = 'region', y = 'familySize', kind = 'bar',\n",
    "                     title = 'Total family size for each Region',\n",
    "                     ylabel = 'Total Family Size', rot = 45, legend = None);\n"
   ]
  },
  {
   "cell_type": "raw",
   "id": "82f30504-423d-4f9b-9c59-c3276369cb33",
   "metadata": {},
   "source": [
    "The total family size seems to be evenly spread accross the for region.\n",
    "With the Southeast having the maximum at 746 and the Northeast the minimum at 663."
   ]
  },
  {
   "cell_type": "code",
   "execution_count": 19,
   "id": "bc014920-7e8f-4edf-b4d8-d2d65a0f20b0",
   "metadata": {},
   "outputs": [],
   "source": [
    "# Question 4. How is the number of people distributed by age?"
   ]
  },
  {
   "cell_type": "code",
   "execution_count": 20,
   "id": "df0e8db3-0ec1-42ff-9753-a8130783bc95",
   "metadata": {},
   "outputs": [
    {
     "data": {
      "text/plain": [
       "count    1338.000000\n",
       "mean       39.207025\n",
       "std        14.049960\n",
       "min        18.000000\n",
       "25%        27.000000\n",
       "50%        39.000000\n",
       "75%        51.000000\n",
       "max        64.000000\n",
       "Name: age, dtype: float64"
      ]
     },
     "execution_count": 20,
     "metadata": {},
     "output_type": "execute_result"
    }
   ],
   "source": [
    "# Use the describe() method to gather and show the data distribution of the age column.\n",
    "\n",
    "cost_data.age.describe()\n"
   ]
  },
  {
   "cell_type": "code",
   "execution_count": 21,
   "id": "58cae302-9dc3-4152-a37b-5f6256041bd2",
   "metadata": {},
   "outputs": [
    {
     "name": "stdout",
     "output_type": "stream",
     "text": [
      "\n",
      "The Youngest age listed is 18 years.\n",
      "\n",
      "The mean (or Average) age is 39.21 years.\n",
      "\n",
      "The Oldest age listed is 64 years.\n",
      "\n",
      "The Standard Deviation (STD) for the age data is 14.05 years.\n",
      "\n"
     ]
    }
   ],
   "source": [
    "# Use various statistical tools to print the data distribution of the age column.\n",
    "\n",
    "print(f'\\nThe Youngest age listed is {cost_data.age.min()} years.\\n')\n",
    "\n",
    "print(f'The mean (or Average) age is {cost_data.age.mean():.2f} years.\\n')\n",
    "\n",
    "print(f'The Oldest age listed is {cost_data.age.max()} years.\\n')\n",
    "\n",
    "print(f'The Standard Deviation (STD) for the age data is {cost_data.age.std():.2f} years.\\n')\n"
   ]
  },
  {
   "cell_type": "code",
   "execution_count": 22,
   "id": "a9754f71-e348-452c-ac5f-ab6f9b46c871",
   "metadata": {},
   "outputs": [
    {
     "data": {
      "image/png": "[encoded data removed]",
      "text/plain": [
       "<Figure size 360x360 with 1 Axes>"
      ]
     },
     "metadata": {
      "needs_background": "light"
     },
     "output_type": "display_data"
    }
   ],
   "source": [
    "# Create a KDE plot of the age column and draw a line at the Mean age.\n",
    "\n",
    "g = sns.displot(data = cost_data, x = 'age', kind = 'kde')\n",
    "\n",
    "for ax in g.axes.flat:\n",
    "    ax.axvline(cost_data.age.mean(), ls = '--', color = 'red')\n",
    "    ax.set(title = 'KDE plot of Age, with a red line at the Mean age.\\n\\n',\n",
    "          xlabel = 'Age')\n"
   ]
  },
  {
   "cell_type": "raw",
   "id": "9e9a1ca4-8e25-4a99-971f-303372b02977",
   "metadata": {},
   "source": [
    " Based on the data and plot, the age distribution is not a standard bell curve.\n",
    "   The Youngest (minimum) age is 18 and the Oldest (maximum) age is 64.\n",
    "   A simple middle of those two numbers would be 41; but the actual mean of the data is 39.41 years.\n",
    "   The graph shows a greater number of people below 41, which is why there is a double peak in the data."
   ]
  },
  {
   "cell_type": "code",
   "execution_count": 23,
   "id": "ba4c6372-2385-45e2-b90a-063cd65c03f2",
   "metadata": {},
   "outputs": [],
   "source": [
    "# Question 5. How are the charges distributed (5 pts.)?"
   ]
  },
  {
   "cell_type": "raw",
   "id": "5a09ab4a-0ebb-41de-9106-103751961715",
   "metadata": {},
   "source": [
    "I ended up doing 2 analysises of the charges data, realize I renamed the charges column to cost.\n",
    "\n",
    "The first method was a duplicate of the analysis I did for question 4.\n",
    "\n",
    "The second method was the method used in the Laptop Case study presented by the intructor.\n"
   ]
  },
  {
   "cell_type": "code",
   "execution_count": 24,
   "id": "e541da72-3688-453c-82e6-43203deb8cbf",
   "metadata": {},
   "outputs": [
    {
     "data": {
      "text/plain": [
       "count     1338.000000\n",
       "mean     13270.422265\n",
       "std      12110.011237\n",
       "min       1121.873900\n",
       "25%       4740.287150\n",
       "50%       9382.033000\n",
       "75%      16639.912515\n",
       "max      63770.428010\n",
       "Name: cost, dtype: float64"
      ]
     },
     "execution_count": 24,
     "metadata": {},
     "output_type": "execute_result"
    }
   ],
   "source": [
    "# Use the describe() method to gather and show the data distribution of the cost column.\n",
    "\n",
    "cost_data.cost.describe()\n"
   ]
  },
  {
   "cell_type": "code",
   "execution_count": 25,
   "id": "1c29d18e-56ab-45c7-b823-612617841519",
   "metadata": {},
   "outputs": [
    {
     "name": "stdout",
     "output_type": "stream",
     "text": [
      "\n",
      "The Lowest cost listed is $1121.87.\n",
      "\n",
      "The mean (or Average) cost is $13270.42.\n",
      "\n",
      "The Highest cost listed is $63770.43.\n",
      "\n",
      "The Standard Deviation (STD) for the cost data is $12110.01.\n",
      "\n"
     ]
    }
   ],
   "source": [
    "# Use various statistical tools to print the data distribution of the cost column.\n",
    "\n",
    "print(f'\\nThe Lowest cost listed is ${cost_data.cost.min():.2f}.\\n')\n",
    "\n",
    "print(f'The mean (or Average) cost is ${cost_data.cost.mean():.2f}.\\n')\n",
    "\n",
    "print(f'The Highest cost listed is ${cost_data.cost.max():.2f}.\\n')\n",
    "\n",
    "print(f'The Standard Deviation (STD) for the cost data is ${cost_data.cost.std():.2f}.\\n')\n"
   ]
  },
  {
   "cell_type": "code",
   "execution_count": 26,
   "id": "b757b5d7-7f7a-4f73-81e8-5efc52c134bf",
   "metadata": {},
   "outputs": [
    {
     "data": {
      "image/png": "[encoded data removed]",
      "text/plain": [
       "<Figure size 360x360 with 1 Axes>"
      ]
     },
     "metadata": {
      "needs_background": "light"
     },
     "output_type": "display_data"
    }
   ],
   "source": [
    "# Create a KDE plot of the cost column and draw a line at the Mean cost.\n",
    "\n",
    "g = sns.displot(data = cost_data, x = 'cost', kind = 'kde')\n",
    "\n",
    "for ax in g.axes.flat:\n",
    "    \n",
    "    ax.axvline(cost_data.cost.mean(), ls = '--', color = 'red')\n",
    "    ax.axvline(cost_data.cost.mean() - cost_data.cost.std(), ls = '--', color = 'green')\n",
    "    ax.axvline(cost_data.cost.mean() + cost_data.cost.std(), ls = '--', color = 'green') \n",
    "    \n",
    "    ax.set(title = 'KDE plot of Cost data, with a red line at the Mean cost\\n and green lines 1 STD above and below the Mean cost.\\n\\n' ,\n",
    "          xlabel = 'Cost in dollars.')\n"
   ]
  },
  {
   "cell_type": "code",
   "execution_count": 27,
   "id": "b391e0ba-3c7a-40cf-aa38-27fbd4f30af1",
   "metadata": {},
   "outputs": [
    {
     "data": {
      "image/png": "[encoded data removed]",
      "text/plain": [
       "<Figure size 360x360 with 1 Axes>"
      ]
     },
     "metadata": {
      "needs_background": "light"
     },
     "output_type": "display_data"
    }
   ],
   "source": [
    "g = sns.displot(data = cost_data, x = 'cost', bins = 15, kde = True)\n",
    "\n",
    "for ax in g.axes.flat:\n",
    "    ax.set(xlabel = 'Cost in dollars.');\n",
    "    "
   ]
  },
  {
   "cell_type": "raw",
   "id": "c1ba0caa-dc14-40ba-8cf8-28fcea079d42",
   "metadata": {},
   "source": [
    "It was interesting to see that the KDE plot line appears to be the same; but there was no data for below 0.\n",
    "\n",
    "Based on the review of the 2 sets of plots, the cost data seems to be have a larger number of data points or counts\n",
    "in the lower end of the Cost scale."
   ]
  },
  {
   "cell_type": "markdown",
   "id": "a1693460-c20f-4e35-8988-9f5fa8228a8f",
   "metadata": {},
   "source": [
    "# The Medical Costs case study for section 2\n",
    "\n",
    "Prerequisite chapters: 2-8\n",
    "\n",
    "Scenario\n",
    "\n",
    "Your boss liked your previous report so much that he wants you to expand on it by completing the following tasks and answering the following questions.\n"
   ]
  },
  {
   "cell_type": "markdown",
   "id": "c5cd3d8d-8ed4-4d3f-90b9-40ff462d5475",
   "metadata": {},
   "source": [
    "## Tasks and questions for Section 2 of the Medical Costs case study.\n",
    "\n",
    "1. Bin the bmi column. To do that, search the Internet to determine how you should bin and label the data (5 pts.).\n",
    "2. How are the charges related to the bmi (5 pts.)?\n",
    "3. How is the smoker status related to the charges (5 pts.)?\n",
    "4. How are the charges related to the region (5 pts.)?\n",
    "5. Which region has the highest obesity percentage (5 pts.)?"
   ]
  },
  {
   "cell_type": "code",
   "execution_count": 28,
   "id": "adb8a054-af0f-4d8a-8769-e5a2596702f9",
   "metadata": {},
   "outputs": [],
   "source": [
    "# Task 1. Bin the bmi column. To do that, search the Internet to determine how you should bin and label the data."
   ]
  },
  {
   "cell_type": "code",
   "execution_count": 29,
   "id": "e1b09dab-4f84-4dd1-8eaf-105eb201b6a4",
   "metadata": {},
   "outputs": [
    {
     "data": {
      "text/plain": [
       "<bound method NDFrame.head of 0       27.900\n",
       "1       33.770\n",
       "2       33.000\n",
       "3       22.705\n",
       "4       28.880\n",
       "         ...  \n",
       "1333    30.970\n",
       "1334    31.920\n",
       "1335    36.850\n",
       "1336    25.800\n",
       "1337    29.070\n",
       "Name: bmi, Length: 1338, dtype: float64>"
      ]
     },
     "execution_count": 29,
     "metadata": {},
     "output_type": "execute_result"
    }
   ],
   "source": [
    "# Display the basic bmi column data.\n",
    "\n",
    "cost_data.bmi.head\n"
   ]
  },
  {
   "cell_type": "code",
   "execution_count": 30,
   "id": "4d097335-45d5-4a0a-8905-de8203190ede",
   "metadata": {},
   "outputs": [
    {
     "data": {
      "text/plain": [
       "count    1338.000000\n",
       "mean       30.663397\n",
       "std         6.098187\n",
       "min        15.960000\n",
       "25%        26.296250\n",
       "50%        30.400000\n",
       "75%        34.693750\n",
       "max        53.130000\n",
       "Name: bmi, dtype: float64"
      ]
     },
     "execution_count": 30,
     "metadata": {},
     "output_type": "execute_result"
    }
   ],
   "source": [
    "# Use the describe() method to gather and show the data distribution of the bmi column.\n",
    "\n",
    "cost_data.bmi.describe()\n"
   ]
  },
  {
   "cell_type": "code",
   "execution_count": 31,
   "id": "68560914-e547-4647-a223-b94e8193b563",
   "metadata": {},
   "outputs": [
    {
     "data": {
      "image/png": "[encoded data removed]",
      "text/plain": [
       "<Figure size 360x360 with 1 Axes>"
      ]
     },
     "metadata": {
      "needs_background": "light"
     },
     "output_type": "display_data"
    }
   ],
   "source": [
    "# Plot the bmi data to further review the data. \n",
    "\n",
    "# I tried serveral bin counts and 15 seemed to match the KDE curve.\n",
    "\n",
    "g = sns.displot(data = cost_data, x = 'bmi', bins = 15, kde = True)\n",
    "\n",
    "for ax in g.axes.flat:\n",
    "    ax.set(xlabel = 'BMI value');\n",
    "    "
   ]
  },
  {
   "cell_type": "code",
   "execution_count": 32,
   "id": "daf50df6-d895-48b7-b787-fe3c56cf21c0",
   "metadata": {},
   "outputs": [
    {
     "data": {
      "text/plain": [
       "0       (23.394, 30.828]\n",
       "1       (30.828, 38.262]\n",
       "2       (30.828, 38.262]\n",
       "3       (15.923, 23.394]\n",
       "4       (23.394, 30.828]\n",
       "              ...       \n",
       "1333    (30.828, 38.262]\n",
       "1334    (30.828, 38.262]\n",
       "1335    (30.828, 38.262]\n",
       "1336    (23.394, 30.828]\n",
       "1337    (23.394, 30.828]\n",
       "Name: bmi, Length: 1338, dtype: category\n",
       "Categories (5, interval[float64, right]): [(15.923, 23.394] < (23.394, 30.828] < (30.828, 38.262] < (38.262, 45.696] < (45.696, 53.13]]"
      ]
     },
     "execution_count": 32,
     "metadata": {},
     "output_type": "execute_result"
    }
   ],
   "source": [
    "# Use cut(), for equal-sized bin to get a look at the data.\n",
    "\n",
    "pd.cut(cost_data.bmi, bins = 5)\n"
   ]
  },
  {
   "cell_type": "code",
   "execution_count": 33,
   "id": "917af708-52aa-41a0-891a-9cb13321955c",
   "metadata": {},
   "outputs": [
    {
     "data": {
      "text/plain": [
       "0                   (25.326, 28.797]\n",
       "1                    (32.032, 35.86]\n",
       "2                    (32.032, 35.86]\n",
       "3       (15.959000000000001, 25.326]\n",
       "4                   (28.797, 32.032]\n",
       "                    ...             \n",
       "1333                (28.797, 32.032]\n",
       "1334                (28.797, 32.032]\n",
       "1335                  (35.86, 53.13]\n",
       "1336                (25.326, 28.797]\n",
       "1337                (28.797, 32.032]\n",
       "Name: bmi, Length: 1338, dtype: category\n",
       "Categories (5, interval[float64, right]): [(15.959000000000001, 25.326] < (25.326, 28.797] < (28.797, 32.032] < (32.032, 35.86] < (35.86, 53.13]]"
      ]
     },
     "execution_count": 33,
     "metadata": {},
     "output_type": "execute_result"
    }
   ],
   "source": [
    "# Use qcut() to get same number of bmi values in each bin, to get a look at the data.\n",
    "\n",
    "pd.qcut(cost_data.bmi, q = 5)\n"
   ]
  },
  {
   "cell_type": "raw",
   "id": "2130df6e-06cf-41e0-8a16-239dd853f6d5",
   "metadata": {},
   "source": [
    "After reviewing both the cut() and qcut() methods, the cut() method seems to show a the bmi values best."
   ]
  },
  {
   "cell_type": "raw",
   "id": "2ccdcf3c-2966-4ce2-bc1e-e771eeac5e90",
   "metadata": {},
   "source": [
    "Went looking on the internet for how best to establish the bin range and labels. \n",
    "  Found the best sorce at this url: \n",
    "   https://www.ncbi.nlm.nih.gov/books/NBK541070/, \n",
    "   BMI Classification Percentile And Cut Off Points.\n",
    " \n",
    "The general design for my bins and labels, I didn't try to break down the Obesity ranges\n",
    "  for this study. Based on this I chose to label any bmi value greater than 30 as obese,\n",
    "  not as obesity, from the listing below.\n",
    "   \n",
    "Severely underweight - BMI less than 16.5kg/m^2\n",
    "Underweight - BMI under 18.5 kg/m^2\n",
    "Normal weight - BMI greater than or equal to 18.5 to 24.9 kg/m^2\n",
    "Overweight – BMI greater than or equal to 25 to 29.9 kg/m^2\n",
    "Obesity – BMI greater than or equal to 30 kg/m^2\n",
    "Obesity class I – BMI 30 to 34.9 kg/m^2\n",
    "Obesity class II – BMI 35 to 39.9 kg/m^2\n",
    "Obesity class III – BMI greater than or equal to 40 kg/m^2 (also referred to as severe, extreme, or massive obesity)"
   ]
  },
  {
   "cell_type": "code",
   "execution_count": 34,
   "id": "9d4038a6-a674-49fc-b754-81c35106c8ee",
   "metadata": {},
   "outputs": [
    {
     "data": {
      "text/html": [
       "<div>\n",
       "<style scoped>\n",
       "    .dataframe tbody tr th:only-of-type {\n",
       "        vertical-align: middle;\n",
       "    }\n",
       "\n",
       "    .dataframe tbody tr th {\n",
       "        vertical-align: top;\n",
       "    }\n",
       "\n",
       "    .dataframe thead th {\n",
       "        text-align: right;\n",
       "    }\n",
       "</style>\n",
       "<table border=\"1\" class=\"dataframe\">\n",
       "  <thead>\n",
       "    <tr style=\"text-align: right;\">\n",
       "      <th></th>\n",
       "      <th>age</th>\n",
       "      <th>sex</th>\n",
       "      <th>bmi</th>\n",
       "      <th>children</th>\n",
       "      <th>smoker</th>\n",
       "      <th>region</th>\n",
       "      <th>cost</th>\n",
       "      <th>familySize</th>\n",
       "      <th>bmiBins</th>\n",
       "    </tr>\n",
       "  </thead>\n",
       "  <tbody>\n",
       "    <tr>\n",
       "      <th>0</th>\n",
       "      <td>19</td>\n",
       "      <td>female</td>\n",
       "      <td>27.900</td>\n",
       "      <td>0</td>\n",
       "      <td>yes</td>\n",
       "      <td>Southwest</td>\n",
       "      <td>16884.92400</td>\n",
       "      <td>1</td>\n",
       "      <td>Overweight</td>\n",
       "    </tr>\n",
       "    <tr>\n",
       "      <th>1</th>\n",
       "      <td>18</td>\n",
       "      <td>male</td>\n",
       "      <td>33.770</td>\n",
       "      <td>1</td>\n",
       "      <td>no</td>\n",
       "      <td>Southeast</td>\n",
       "      <td>1725.55230</td>\n",
       "      <td>2</td>\n",
       "      <td>Obese</td>\n",
       "    </tr>\n",
       "    <tr>\n",
       "      <th>2</th>\n",
       "      <td>28</td>\n",
       "      <td>male</td>\n",
       "      <td>33.000</td>\n",
       "      <td>3</td>\n",
       "      <td>no</td>\n",
       "      <td>Southeast</td>\n",
       "      <td>4449.46200</td>\n",
       "      <td>4</td>\n",
       "      <td>Obese</td>\n",
       "    </tr>\n",
       "    <tr>\n",
       "      <th>3</th>\n",
       "      <td>33</td>\n",
       "      <td>male</td>\n",
       "      <td>22.705</td>\n",
       "      <td>0</td>\n",
       "      <td>no</td>\n",
       "      <td>Northwest</td>\n",
       "      <td>21984.47061</td>\n",
       "      <td>1</td>\n",
       "      <td>Normal Weight</td>\n",
       "    </tr>\n",
       "    <tr>\n",
       "      <th>4</th>\n",
       "      <td>32</td>\n",
       "      <td>male</td>\n",
       "      <td>28.880</td>\n",
       "      <td>0</td>\n",
       "      <td>no</td>\n",
       "      <td>Northwest</td>\n",
       "      <td>3866.85520</td>\n",
       "      <td>1</td>\n",
       "      <td>Overweight</td>\n",
       "    </tr>\n",
       "  </tbody>\n",
       "</table>\n",
       "</div>"
      ],
      "text/plain": [
       "   age     sex     bmi  children smoker     region         cost  familySize  \\\n",
       "0   19  female  27.900         0    yes  Southwest  16884.92400           1   \n",
       "1   18    male  33.770         1     no  Southeast   1725.55230           2   \n",
       "2   28    male  33.000         3     no  Southeast   4449.46200           4   \n",
       "3   33    male  22.705         0     no  Northwest  21984.47061           1   \n",
       "4   32    male  28.880         0     no  Northwest   3866.85520           1   \n",
       "\n",
       "         bmiBins  \n",
       "0     Overweight  \n",
       "1          Obese  \n",
       "2          Obese  \n",
       "3  Normal Weight  \n",
       "4     Overweight  "
      ]
     },
     "execution_count": 34,
     "metadata": {},
     "output_type": "execute_result"
    }
   ],
   "source": [
    "# Use cut(), to create bins and labels. Then add a bmiBins column and list the first five rows.\n",
    "\n",
    "cost_data['bmiBins'] = pd.cut(cost_data.bmi, bins = [0, 16.5, 18.5, 25, 30, 55],\n",
    "      labels = ['Severly underweight', 'Underweight', 'Normal Weight', 'Overweight', 'Obese'])\n",
    "\n",
    "cost_data.head()\n"
   ]
  },
  {
   "cell_type": "code",
   "execution_count": 35,
   "id": "6f96d8ce-6400-4bbf-bfcc-95fd0f47f3d3",
   "metadata": {},
   "outputs": [
    {
     "data": {
      "text/plain": [
       "Obese                  705\n",
       "Overweight             386\n",
       "Normal Weight          226\n",
       "Underweight             20\n",
       "Severly underweight      1\n",
       "Name: bmiBins, dtype: int64"
      ]
     },
     "execution_count": 35,
     "metadata": {},
     "output_type": "execute_result"
    }
   ],
   "source": [
    "# Now to show the breakdown by the bmi bins.\n",
    "\n",
    "cost_data.bmiBins.value_counts()\n"
   ]
  },
  {
   "cell_type": "code",
   "execution_count": 36,
   "id": "f71c547b-03ee-44ef-843b-2b61b28d79f9",
   "metadata": {},
   "outputs": [],
   "source": [
    "# Question 2. How are the charges related to the bmi?"
   ]
  },
  {
   "cell_type": "code",
   "execution_count": 37,
   "id": "1f91d9a6-463e-4fdc-8dc3-7f07a78ea377",
   "metadata": {},
   "outputs": [
    {
     "data": {
      "text/html": [
       "<div>\n",
       "<style scoped>\n",
       "    .dataframe tbody tr th:only-of-type {\n",
       "        vertical-align: middle;\n",
       "    }\n",
       "\n",
       "    .dataframe tbody tr th {\n",
       "        vertical-align: top;\n",
       "    }\n",
       "\n",
       "    .dataframe thead th {\n",
       "        text-align: right;\n",
       "    }\n",
       "</style>\n",
       "<table border=\"1\" class=\"dataframe\">\n",
       "  <thead>\n",
       "    <tr style=\"text-align: right;\">\n",
       "      <th></th>\n",
       "      <th>bmiBins</th>\n",
       "      <th>cost</th>\n",
       "    </tr>\n",
       "  </thead>\n",
       "  <tbody>\n",
       "    <tr>\n",
       "      <th>4</th>\n",
       "      <td>Obese</td>\n",
       "      <td>15560.926321</td>\n",
       "    </tr>\n",
       "    <tr>\n",
       "      <th>3</th>\n",
       "      <td>Overweight</td>\n",
       "      <td>10997.803881</td>\n",
       "    </tr>\n",
       "    <tr>\n",
       "      <th>2</th>\n",
       "      <td>Normal Weight</td>\n",
       "      <td>10435.440719</td>\n",
       "    </tr>\n",
       "    <tr>\n",
       "      <th>1</th>\n",
       "      <td>Underweight</td>\n",
       "      <td>9005.761865</td>\n",
       "    </tr>\n",
       "    <tr>\n",
       "      <th>0</th>\n",
       "      <td>Severly underweight</td>\n",
       "      <td>1694.796400</td>\n",
       "    </tr>\n",
       "  </tbody>\n",
       "</table>\n",
       "</div>"
      ],
      "text/plain": [
       "               bmiBins          cost\n",
       "4                Obese  15560.926321\n",
       "3           Overweight  10997.803881\n",
       "2        Normal Weight  10435.440719\n",
       "1          Underweight   9005.761865\n",
       "0  Severly underweight   1694.796400"
      ]
     },
     "execution_count": 37,
     "metadata": {},
     "output_type": "execute_result"
    }
   ],
   "source": [
    "# Determine the average cost by bmiBins, using the groupby() method.\n",
    "\n",
    "cost_by_bmi = cost_data.groupby(['bmiBins']).cost.mean()\n",
    "\n",
    "cost_by_bmi = cost_by_bmi.reset_index().sort_values('cost', ascending = False)\n",
    "\n",
    "cost_by_bmi.head()\n"
   ]
  },
  {
   "cell_type": "code",
   "execution_count": 38,
   "id": "23779f04-3734-4b74-b539-fcc2eafd5e4f",
   "metadata": {},
   "outputs": [
    {
     "data": {
      "image/png": "[encoded data removed]",
      "text/plain": [
       "<Figure size 720x360 with 1 Axes>"
      ]
     },
     "metadata": {
      "needs_background": "light"
     },
     "output_type": "display_data"
    }
   ],
   "source": [
    "# Plot the relationship between bmi and medical costs.\n",
    "\n",
    "ax = sns.catplot(data = cost_by_bmi, y = 'bmiBins', x = 'cost', kind = 'bar', aspect = 2.0)\n",
    "\n",
    "ax.set(title = 'Average Cost versus BMI data\\nGeneral labels for BMI ranges used.', ylabel = 'BMI Bins', xlabel = 'Average Cost');\n"
   ]
  },
  {
   "cell_type": "raw",
   "id": "1cb5bf30-555a-4415-aae3-7068fea11a9c",
   "metadata": {},
   "source": [
    "Based on this chart, there does seem to be a relationship between cost/charges and bmi.\n",
    "\n",
    "The \"Severly underweight\" data is an outlier; since there is only 1 person in that bmi bin.\n"
   ]
  },
  {
   "cell_type": "code",
   "execution_count": 39,
   "id": "cb5c435f-7900-4301-907c-9c1c6d818a38",
   "metadata": {},
   "outputs": [],
   "source": [
    "# Question 3. How is the smoker status related to the charges?"
   ]
  },
  {
   "cell_type": "code",
   "execution_count": 40,
   "id": "b4ad25ab-a3ec-4246-9a47-2ecd2aa3e084",
   "metadata": {},
   "outputs": [
    {
     "data": {
      "text/plain": [
       "0    yes\n",
       "1     no\n",
       "2     no\n",
       "3     no\n",
       "4     no\n",
       "Name: smoker, dtype: object"
      ]
     },
     "execution_count": 40,
     "metadata": {},
     "output_type": "execute_result"
    }
   ],
   "source": [
    "# Display the basic smoker column data.\n",
    "\n",
    "cost_data.smoker.head()\n"
   ]
  },
  {
   "cell_type": "code",
   "execution_count": 41,
   "id": "fba74c6c-f972-4018-8249-13c86bb2cc78",
   "metadata": {},
   "outputs": [],
   "source": [
    "# After reviewing the data, I am changing the yes/no to Yes/No.\n",
    "#   Used the title() method.\n",
    "\n",
    "cost_data.smoker = cost_data.smoker.str.title()\n"
   ]
  },
  {
   "cell_type": "code",
   "execution_count": 42,
   "id": "259ecfc6-645e-43ac-b01a-f4c85a578094",
   "metadata": {},
   "outputs": [
    {
     "data": {
      "text/plain": [
       "No     1064\n",
       "Yes     274\n",
       "Name: smoker, dtype: int64"
      ]
     },
     "execution_count": 42,
     "metadata": {},
     "output_type": "execute_result"
    }
   ],
   "source": [
    "# Now to show the breakdown by the smoker column.\n",
    "\n",
    "cost_data.smoker.value_counts()\n"
   ]
  },
  {
   "cell_type": "code",
   "execution_count": 43,
   "id": "55f37fbb-8665-45e0-b551-0334d5126aa2",
   "metadata": {},
   "outputs": [
    {
     "data": {
      "text/html": [
       "<div>\n",
       "<style scoped>\n",
       "    .dataframe tbody tr th:only-of-type {\n",
       "        vertical-align: middle;\n",
       "    }\n",
       "\n",
       "    .dataframe tbody tr th {\n",
       "        vertical-align: top;\n",
       "    }\n",
       "\n",
       "    .dataframe thead th {\n",
       "        text-align: right;\n",
       "    }\n",
       "</style>\n",
       "<table border=\"1\" class=\"dataframe\">\n",
       "  <thead>\n",
       "    <tr style=\"text-align: right;\">\n",
       "      <th></th>\n",
       "      <th>smoker</th>\n",
       "      <th>cost</th>\n",
       "    </tr>\n",
       "  </thead>\n",
       "  <tbody>\n",
       "    <tr>\n",
       "      <th>1</th>\n",
       "      <td>Yes</td>\n",
       "      <td>32050.231832</td>\n",
       "    </tr>\n",
       "    <tr>\n",
       "      <th>0</th>\n",
       "      <td>No</td>\n",
       "      <td>8434.268298</td>\n",
       "    </tr>\n",
       "  </tbody>\n",
       "</table>\n",
       "</div>"
      ],
      "text/plain": [
       "  smoker          cost\n",
       "1    Yes  32050.231832\n",
       "0     No   8434.268298"
      ]
     },
     "execution_count": 43,
     "metadata": {},
     "output_type": "execute_result"
    }
   ],
   "source": [
    "# Determine the average cost by smoker, using the groupby() method.\n",
    "\n",
    "cost_by_smoker = cost_data.groupby(['smoker']).cost.mean()\n",
    "\n",
    "cost_by_smoker = cost_by_smoker.reset_index().sort_values('cost', ascending = False)\n",
    "\n",
    "cost_by_smoker.head()\n"
   ]
  },
  {
   "cell_type": "code",
   "execution_count": 44,
   "id": "36e2089b-6120-4d32-97af-471f029a0568",
   "metadata": {},
   "outputs": [
    {
     "data": {
      "image/png": "[encoded data removed]",
      "text/plain": [
       "<Figure size 360x360 with 1 Axes>"
      ]
     },
     "metadata": {
      "needs_background": "light"
     },
     "output_type": "display_data"
    }
   ],
   "source": [
    "# Plot the data for the average cost/charge by smoker (Yes or No).\n",
    "\n",
    "g = sns.catplot(data = cost_by_smoker, x = 'smoker', y = 'cost', kind = 'bar')\n",
    "\n",
    "for ax in g.axes.flat:\n",
    "    ax.set(title = 'Average cost by Smoker status',\n",
    "          xlabel = 'Smoker Status',\n",
    "          ylabel = 'Average Cost');\n",
    "    "
   ]
  },
  {
   "cell_type": "raw",
   "id": "33ce4396-a48e-42a6-b784-d10cc21a6d1c",
   "metadata": {},
   "source": [
    "The answer to question 3, how is the smoker status related to the charges, appears\n",
    "  to be that the if the Smoker Status is \"Yes\" the Average Cost is increased from\n",
    "  $8,434.27 to $32,050.23 "
   ]
  },
  {
   "cell_type": "code",
   "execution_count": 45,
   "id": "74333e5f-b86c-4bfd-a721-c73f3e375d05",
   "metadata": {},
   "outputs": [],
   "source": [
    "# Question 4. How are the charges related to the region?"
   ]
  },
  {
   "cell_type": "code",
   "execution_count": 46,
   "id": "da42481d-36cb-4d66-9e3d-88b251c230fe",
   "metadata": {},
   "outputs": [
    {
     "data": {
      "text/html": [
       "<div>\n",
       "<style scoped>\n",
       "    .dataframe tbody tr th:only-of-type {\n",
       "        vertical-align: middle;\n",
       "    }\n",
       "\n",
       "    .dataframe tbody tr th {\n",
       "        vertical-align: top;\n",
       "    }\n",
       "\n",
       "    .dataframe thead th {\n",
       "        text-align: right;\n",
       "    }\n",
       "</style>\n",
       "<table border=\"1\" class=\"dataframe\">\n",
       "  <thead>\n",
       "    <tr style=\"text-align: right;\">\n",
       "      <th></th>\n",
       "      <th>region</th>\n",
       "      <th>cost</th>\n",
       "    </tr>\n",
       "  </thead>\n",
       "  <tbody>\n",
       "    <tr>\n",
       "      <th>2</th>\n",
       "      <td>Southeast</td>\n",
       "      <td>14735.411438</td>\n",
       "    </tr>\n",
       "    <tr>\n",
       "      <th>0</th>\n",
       "      <td>Northeast</td>\n",
       "      <td>13406.384516</td>\n",
       "    </tr>\n",
       "    <tr>\n",
       "      <th>1</th>\n",
       "      <td>Northwest</td>\n",
       "      <td>12417.575374</td>\n",
       "    </tr>\n",
       "    <tr>\n",
       "      <th>3</th>\n",
       "      <td>Southwest</td>\n",
       "      <td>12346.937377</td>\n",
       "    </tr>\n",
       "  </tbody>\n",
       "</table>\n",
       "</div>"
      ],
      "text/plain": [
       "      region          cost\n",
       "2  Southeast  14735.411438\n",
       "0  Northeast  13406.384516\n",
       "1  Northwest  12417.575374\n",
       "3  Southwest  12346.937377"
      ]
     },
     "execution_count": 46,
     "metadata": {},
     "output_type": "execute_result"
    }
   ],
   "source": [
    "# Find the Average cost by region using the groupby() method.\n",
    "\n",
    "cost_data_region = cost_data.groupby('region').cost.mean()\n",
    "\n",
    "cost_data_region = cost_data_region.reset_index().sort_values('cost', ascending = False)\n",
    "\n",
    "cost_data_region.head()\n"
   ]
  },
  {
   "cell_type": "code",
   "execution_count": 47,
   "id": "9beaf905-17f1-4113-b10b-f9f984b4f21d",
   "metadata": {},
   "outputs": [
    {
     "data": {
      "image/png": "[encoded data removed]",
      "text/plain": [
       "<Figure size 360x360 with 1 Axes>"
      ]
     },
     "metadata": {
      "needs_background": "light"
     },
     "output_type": "display_data"
    }
   ],
   "source": [
    "# Plot the data for the average cost/charge by region.\n",
    "\n",
    "g = sns.catplot(data = cost_data_region, x = 'region', y = 'cost', kind = 'bar')\n",
    "\n",
    "for ax in g.axes.flat:\n",
    "    ax.set(title = 'Average cost by Region',\n",
    "          xlabel = 'Region',\n",
    "          ylabel = 'Average Cost',\n",
    "          ylim = (12000,15000));\n",
    "    "
   ]
  },
  {
   "cell_type": "raw",
   "id": "ba5022d6-ae24-417c-bbed-8603db9d56c8",
   "metadata": {},
   "source": [
    "Based on the plot above, the average cost/charge in the Southeast is the highest; but more research would \n",
    "  be required to determine if there is some underlying driver for the difference. The difference between the \n",
    "  highest ($ 14,735.41) and the lowest ($ 12,346.94) is $ 2,388.47.\n",
    "  "
   ]
  },
  {
   "cell_type": "code",
   "execution_count": 48,
   "id": "945e63a3-6bed-485d-9593-39c0f2e39d25",
   "metadata": {},
   "outputs": [],
   "source": [
    "# Question 5. Which region has the highest obesity percentage?"
   ]
  },
  {
   "cell_type": "code",
   "execution_count": 49,
   "id": "51d5a6f7-6417-4c4c-aeed-46c349913362",
   "metadata": {},
   "outputs": [
    {
     "name": "stdout",
     "output_type": "stream",
     "text": [
      "<class 'pandas.core.frame.DataFrame'>\n",
      "RangeIndex: 4 entries, 0 to 3\n",
      "Data columns (total 2 columns):\n",
      " #   Column    Non-Null Count  Dtype \n",
      "---  ------    --------------  ----- \n",
      " 0   region    4 non-null      object\n",
      " 1   bmiCount  4 non-null      int64 \n",
      "dtypes: int64(1), object(1)\n",
      "memory usage: 192.0+ bytes\n"
     ]
    },
    {
     "data": {
      "text/html": [
       "<div>\n",
       "<style scoped>\n",
       "    .dataframe tbody tr th:only-of-type {\n",
       "        vertical-align: middle;\n",
       "    }\n",
       "\n",
       "    .dataframe tbody tr th {\n",
       "        vertical-align: top;\n",
       "    }\n",
       "\n",
       "    .dataframe thead th {\n",
       "        text-align: right;\n",
       "    }\n",
       "</style>\n",
       "<table border=\"1\" class=\"dataframe\">\n",
       "  <thead>\n",
       "    <tr style=\"text-align: right;\">\n",
       "      <th></th>\n",
       "      <th>region</th>\n",
       "      <th>bmiCount</th>\n",
       "    </tr>\n",
       "  </thead>\n",
       "  <tbody>\n",
       "    <tr>\n",
       "      <th>0</th>\n",
       "      <td>Northeast</td>\n",
       "      <td>324</td>\n",
       "    </tr>\n",
       "    <tr>\n",
       "      <th>1</th>\n",
       "      <td>Northwest</td>\n",
       "      <td>325</td>\n",
       "    </tr>\n",
       "    <tr>\n",
       "      <th>2</th>\n",
       "      <td>Southeast</td>\n",
       "      <td>364</td>\n",
       "    </tr>\n",
       "    <tr>\n",
       "      <th>3</th>\n",
       "      <td>Southwest</td>\n",
       "      <td>325</td>\n",
       "    </tr>\n",
       "  </tbody>\n",
       "</table>\n",
       "</div>"
      ],
      "text/plain": [
       "      region  bmiCount\n",
       "0  Northeast       324\n",
       "1  Northwest       325\n",
       "2  Southeast       364\n",
       "3  Southwest       325"
      ]
     },
     "execution_count": 49,
     "metadata": {},
     "output_type": "execute_result"
    }
   ],
   "source": [
    "# Determine the count of bmi items by region, using the groupby() method.\n",
    "#    Then convert the Series to a DataFrame and rename the bmi column to bmiCount.\n",
    "\n",
    "bmi_region_count_sr = cost_data.groupby(['region']).bmi.count()\n",
    "\n",
    "bmi_region_count = bmi_region_count_sr.to_frame().reset_index()\n",
    "\n",
    "bmi_region_count.rename(columns = {'bmi':'bmiCount'}, inplace = True)\n",
    "\n",
    "bmi_region_count.info()\n",
    "\n",
    "bmi_region_count.head()\n"
   ]
  },
  {
   "cell_type": "code",
   "execution_count": 50,
   "id": "9862d66f-7977-43f7-840a-fbb005ab789f",
   "metadata": {},
   "outputs": [
    {
     "name": "stdout",
     "output_type": "stream",
     "text": [
      "<class 'pandas.core.frame.DataFrame'>\n",
      "RangeIndex: 20 entries, 0 to 19\n",
      "Data columns (total 3 columns):\n",
      " #   Column   Non-Null Count  Dtype   \n",
      "---  ------   --------------  -----   \n",
      " 0   region   20 non-null     object  \n",
      " 1   bmiBins  20 non-null     category\n",
      " 2   bmi      20 non-null     int64   \n",
      "dtypes: category(1), int64(1), object(1)\n",
      "memory usage: 680.0+ bytes\n"
     ]
    },
    {
     "data": {
      "text/html": [
       "<div>\n",
       "<style scoped>\n",
       "    .dataframe tbody tr th:only-of-type {\n",
       "        vertical-align: middle;\n",
       "    }\n",
       "\n",
       "    .dataframe tbody tr th {\n",
       "        vertical-align: top;\n",
       "    }\n",
       "\n",
       "    .dataframe thead th {\n",
       "        text-align: right;\n",
       "    }\n",
       "</style>\n",
       "<table border=\"1\" class=\"dataframe\">\n",
       "  <thead>\n",
       "    <tr style=\"text-align: right;\">\n",
       "      <th></th>\n",
       "      <th>region</th>\n",
       "      <th>bmiBins</th>\n",
       "      <th>bmi</th>\n",
       "    </tr>\n",
       "  </thead>\n",
       "  <tbody>\n",
       "    <tr>\n",
       "      <th>0</th>\n",
       "      <td>Northeast</td>\n",
       "      <td>Severly underweight</td>\n",
       "      <td>1</td>\n",
       "    </tr>\n",
       "    <tr>\n",
       "      <th>1</th>\n",
       "      <td>Northeast</td>\n",
       "      <td>Underweight</td>\n",
       "      <td>9</td>\n",
       "    </tr>\n",
       "    <tr>\n",
       "      <th>2</th>\n",
       "      <td>Northeast</td>\n",
       "      <td>Normal Weight</td>\n",
       "      <td>73</td>\n",
       "    </tr>\n",
       "    <tr>\n",
       "      <th>3</th>\n",
       "      <td>Northeast</td>\n",
       "      <td>Overweight</td>\n",
       "      <td>98</td>\n",
       "    </tr>\n",
       "    <tr>\n",
       "      <th>4</th>\n",
       "      <td>Northeast</td>\n",
       "      <td>Obese</td>\n",
       "      <td>143</td>\n",
       "    </tr>\n",
       "  </tbody>\n",
       "</table>\n",
       "</div>"
      ],
      "text/plain": [
       "      region              bmiBins  bmi\n",
       "0  Northeast  Severly underweight    1\n",
       "1  Northeast          Underweight    9\n",
       "2  Northeast        Normal Weight   73\n",
       "3  Northeast           Overweight   98\n",
       "4  Northeast                Obese  143"
      ]
     },
     "execution_count": 50,
     "metadata": {},
     "output_type": "execute_result"
    }
   ],
   "source": [
    "# Determine the count of bmiBins for each region, using the groupby() method.\n",
    "#    Then convert the Series to a DataFrame.\n",
    "\n",
    "bmi_by_region_sr = cost_data.groupby(['region','bmiBins']).bmi.count()\n",
    "\n",
    "bmi_by_region = bmi_by_region_sr.to_frame().reset_index()\n",
    "\n",
    "bmi_by_region.info()\n",
    "\n",
    "bmi_by_region.head()\n"
   ]
  },
  {
   "cell_type": "code",
   "execution_count": 51,
   "id": "2d6cb95c-8d0f-4b70-87a1-636f90ffab53",
   "metadata": {},
   "outputs": [
    {
     "data": {
      "text/html": [
       "<div>\n",
       "<style scoped>\n",
       "    .dataframe tbody tr th:only-of-type {\n",
       "        vertical-align: middle;\n",
       "    }\n",
       "\n",
       "    .dataframe tbody tr th {\n",
       "        vertical-align: top;\n",
       "    }\n",
       "\n",
       "    .dataframe thead th {\n",
       "        text-align: right;\n",
       "    }\n",
       "</style>\n",
       "<table border=\"1\" class=\"dataframe\">\n",
       "  <thead>\n",
       "    <tr style=\"text-align: right;\">\n",
       "      <th></th>\n",
       "      <th>region</th>\n",
       "      <th>bmiBins</th>\n",
       "      <th>bmi</th>\n",
       "      <th>bmiCount</th>\n",
       "    </tr>\n",
       "  </thead>\n",
       "  <tbody>\n",
       "    <tr>\n",
       "      <th>0</th>\n",
       "      <td>Northeast</td>\n",
       "      <td>Severly underweight</td>\n",
       "      <td>1</td>\n",
       "      <td>324</td>\n",
       "    </tr>\n",
       "    <tr>\n",
       "      <th>1</th>\n",
       "      <td>Northeast</td>\n",
       "      <td>Underweight</td>\n",
       "      <td>9</td>\n",
       "      <td>324</td>\n",
       "    </tr>\n",
       "    <tr>\n",
       "      <th>2</th>\n",
       "      <td>Northeast</td>\n",
       "      <td>Normal Weight</td>\n",
       "      <td>73</td>\n",
       "      <td>324</td>\n",
       "    </tr>\n",
       "    <tr>\n",
       "      <th>3</th>\n",
       "      <td>Northeast</td>\n",
       "      <td>Overweight</td>\n",
       "      <td>98</td>\n",
       "      <td>324</td>\n",
       "    </tr>\n",
       "    <tr>\n",
       "      <th>4</th>\n",
       "      <td>Northeast</td>\n",
       "      <td>Obese</td>\n",
       "      <td>143</td>\n",
       "      <td>324</td>\n",
       "    </tr>\n",
       "  </tbody>\n",
       "</table>\n",
       "</div>"
      ],
      "text/plain": [
       "      region              bmiBins  bmi  bmiCount\n",
       "0  Northeast  Severly underweight    1       324\n",
       "1  Northeast          Underweight    9       324\n",
       "2  Northeast        Normal Weight   73       324\n",
       "3  Northeast           Overweight   98       324\n",
       "4  Northeast                Obese  143       324"
      ]
     },
     "execution_count": 51,
     "metadata": {},
     "output_type": "execute_result"
    }
   ],
   "source": [
    "# Join the two bmi region based DataFrames for future math and show the first five lines.\n",
    "\n",
    "bmi_joined = bmi_by_region.merge(bmi_region_count, on = 'region')\n",
    "\n",
    "bmi_joined.head()\n"
   ]
  },
  {
   "cell_type": "code",
   "execution_count": 52,
   "id": "a0a0e9bb-e401-48b9-9bac-3c523817fc14",
   "metadata": {},
   "outputs": [
    {
     "data": {
      "text/html": [
       "<div>\n",
       "<style scoped>\n",
       "    .dataframe tbody tr th:only-of-type {\n",
       "        vertical-align: middle;\n",
       "    }\n",
       "\n",
       "    .dataframe tbody tr th {\n",
       "        vertical-align: top;\n",
       "    }\n",
       "\n",
       "    .dataframe thead th {\n",
       "        text-align: right;\n",
       "    }\n",
       "</style>\n",
       "<table border=\"1\" class=\"dataframe\">\n",
       "  <thead>\n",
       "    <tr style=\"text-align: right;\">\n",
       "      <th></th>\n",
       "      <th>region</th>\n",
       "      <th>pct_Obese</th>\n",
       "    </tr>\n",
       "  </thead>\n",
       "  <tbody>\n",
       "    <tr>\n",
       "      <th>14</th>\n",
       "      <td>Southeast</td>\n",
       "      <td>66.76</td>\n",
       "    </tr>\n",
       "    <tr>\n",
       "      <th>19</th>\n",
       "      <td>Southwest</td>\n",
       "      <td>52.62</td>\n",
       "    </tr>\n",
       "    <tr>\n",
       "      <th>9</th>\n",
       "      <td>Northwest</td>\n",
       "      <td>45.54</td>\n",
       "    </tr>\n",
       "    <tr>\n",
       "      <th>4</th>\n",
       "      <td>Northeast</td>\n",
       "      <td>44.14</td>\n",
       "    </tr>\n",
       "  </tbody>\n",
       "</table>\n",
       "</div>"
      ],
      "text/plain": [
       "       region  pct_Obese\n",
       "14  Southeast      66.76\n",
       "19  Southwest      52.62\n",
       "9   Northwest      45.54\n",
       "4   Northeast      44.14"
      ]
     },
     "execution_count": 52,
     "metadata": {},
     "output_type": "execute_result"
    }
   ],
   "source": [
    "# Reduce the bmi_joined DataFrame to just the Obese entries\n",
    "#    Then calculate the percent of Obese for each region and sort the data.\n",
    "\n",
    "bmi_pct_obese = bmi_joined[['region', 'bmiBins', 'bmi', 'bmiCount']].query('bmiBins == \"Obese\"')\n",
    "\n",
    "bmi_pct_obese['pct_Obese'] = ((bmi_pct_obese.bmi / bmi_pct_obese.bmiCount) * 100).round(2)\n",
    "\n",
    "bmi_pct_obese[['region', 'pct_Obese']].sort_values('pct_Obese', ascending = False).head()\n"
   ]
  },
  {
   "cell_type": "raw",
   "id": "ba8c05b5-9738-49fc-aef7-1c42124be821",
   "metadata": {},
   "source": [
    "Based on the data displayed above, the Southeast region has highest obesity percentage."
   ]
  },
  {
   "cell_type": "markdown",
   "id": "ad31e197-7309-4beb-94da-83bfc8176a92",
   "metadata": {},
   "source": [
    "# The Medical Costs case study for section 3\n",
    "\n",
    "Scenario\n",
    "\n",
    "Once again, your boss wants you to expand on your previous report by completing the following tasks and answering the following questions.\n"
   ]
  },
  {
   "cell_type": "markdown",
   "id": "a77df516-2c24-4bae-8c4d-e9103848674a",
   "metadata": {},
   "source": [
    "## Tasks and questions for Section 3 of the Medical Costs case study.\n",
    "\n",
    "1. Create a simple regression to show the relationship between charges and age (10 pts.).\n",
    "2. How does this relationship change with smoking status (10 pts.)?\n",
    "3. How does this relationship change with BMI (10 pts.)?\n"
   ]
  },
  {
   "cell_type": "code",
   "execution_count": 53,
   "id": "5421d660-4473-436c-a5d8-a803d842f1cc",
   "metadata": {},
   "outputs": [],
   "source": [
    "# Question 1. Create a simple regression to show the relationship between charges and age."
   ]
  },
  {
   "cell_type": "code",
   "execution_count": null,
   "id": "391cf49b-46fd-418e-a7ef-f884ca2a1568",
   "metadata": {},
   "outputs": [],
   "source": []
  },
  {
   "cell_type": "code",
   "execution_count": null,
   "id": "fede6d63-d198-410e-a880-6f3eaa867fea",
   "metadata": {},
   "outputs": [],
   "source": []
  },
  {
   "cell_type": "code",
   "execution_count": null,
   "id": "24ba6935-0f69-4fef-8ae6-409b77af8b4d",
   "metadata": {},
   "outputs": [],
   "source": []
  },
  {
   "cell_type": "code",
   "execution_count": null,
   "id": "f67348c4-654b-4f51-9065-00bba837a45f",
   "metadata": {},
   "outputs": [],
   "source": []
  },
  {
   "cell_type": "code",
   "execution_count": null,
   "id": "ede7c867-cb8e-4962-bda0-ace3b7e5d3e4",
   "metadata": {},
   "outputs": [],
   "source": []
  },
  {
   "cell_type": "code",
   "execution_count": 54,
   "id": "16c00d5b-ad93-4365-ad66-bec82720adc7",
   "metadata": {},
   "outputs": [],
   "source": [
    "# Question 2. How does this relationship change with smoking status?"
   ]
  },
  {
   "cell_type": "code",
   "execution_count": null,
   "id": "245c1d23-dc01-48d2-9b98-c7cb70ccab7e",
   "metadata": {},
   "outputs": [],
   "source": []
  },
  {
   "cell_type": "code",
   "execution_count": null,
   "id": "aaa9fde9-24af-4699-b9c4-19bbef5212fa",
   "metadata": {},
   "outputs": [],
   "source": []
  },
  {
   "cell_type": "code",
   "execution_count": null,
   "id": "09deee79-fd36-403e-82b8-5daf669be280",
   "metadata": {},
   "outputs": [],
   "source": []
  },
  {
   "cell_type": "code",
   "execution_count": null,
   "id": "bfc0438e-86ef-42da-8afa-0963a91cad38",
   "metadata": {},
   "outputs": [],
   "source": []
  },
  {
   "cell_type": "code",
   "execution_count": null,
   "id": "acee1c7d-ec8c-40d0-95d6-243f84cab9cc",
   "metadata": {},
   "outputs": [],
   "source": []
  },
  {
   "cell_type": "code",
   "execution_count": 55,
   "id": "27a46ae0-8c96-4774-9b1f-ae779c49533d",
   "metadata": {},
   "outputs": [],
   "source": [
    "# Question 3. How does this relationship change with BMI?"
   ]
  },
  {
   "cell_type": "code",
   "execution_count": null,
   "id": "38a02df4-fb75-42f7-b4fb-737121c490d2",
   "metadata": {},
   "outputs": [],
   "source": []
  },
  {
   "cell_type": "code",
   "execution_count": null,
   "id": "c5168508-bec9-4b0a-8c18-c9aa18913a43",
   "metadata": {},
   "outputs": [],
   "source": []
  },
  {
   "cell_type": "code",
   "execution_count": null,
   "id": "b389c77d-8a8d-4fc9-acb6-fc981e6d3a8b",
   "metadata": {},
   "outputs": [],
   "source": []
  },
  {
   "cell_type": "code",
   "execution_count": null,
   "id": "aefa511d-dbb6-49af-ac81-e526eb3cbc4e",
   "metadata": {},
   "outputs": [],
   "source": []
  },
  {
   "cell_type": "code",
   "execution_count": null,
   "id": "3f76056b-1daf-42fd-85a4-182cb1ad2c3d",
   "metadata": {},
   "outputs": [],
   "source": []
  },
  {
   "cell_type": "code",
   "execution_count": null,
   "id": "b8d11051-417a-4e82-840e-76fb058ab9bb",
   "metadata": {},
   "outputs": [],
   "source": []
  },
  {
   "cell_type": "markdown",
   "id": "fe727222-439b-4a08-9f0a-bc9650e6bf8a",
   "metadata": {},
   "source": [
    "## The following 3 tasks and questions are EXTRA CREDIT\n",
    "\n",
    "1. Create a multiple regression model to predict charges. To do that, you’ll need to dummy encode and rescale the data (10 pts.).\n",
    "2. Make predictions with your multiple regression model and evaluate how well your model is working (10 pts.).\n",
    "3. What is the optimal number of parameters for the multiple regression (10 pts.)?"
   ]
  },
  {
   "cell_type": "code",
   "execution_count": 56,
   "id": "a214e19a-3cc2-40eb-bf83-18e35a881cb9",
   "metadata": {},
   "outputs": [],
   "source": [
    "# Question 1. Create a multiple regression model to predict charges. To do that, you’ll need to dummy encode and rescale the data."
   ]
  },
  {
   "cell_type": "code",
   "execution_count": null,
   "id": "26651871-4bdf-4cb6-8c9e-75cd3b3b0476",
   "metadata": {},
   "outputs": [],
   "source": []
  },
  {
   "cell_type": "code",
   "execution_count": null,
   "id": "729c996d-0f65-4686-9f48-230bf8727082",
   "metadata": {},
   "outputs": [],
   "source": []
  },
  {
   "cell_type": "code",
   "execution_count": null,
   "id": "e2e123cf-995c-4e93-a287-2326dec54294",
   "metadata": {},
   "outputs": [],
   "source": []
  },
  {
   "cell_type": "code",
   "execution_count": null,
   "id": "65eaa292-140c-4e15-9fe0-bf34428cf00f",
   "metadata": {},
   "outputs": [],
   "source": []
  },
  {
   "cell_type": "code",
   "execution_count": null,
   "id": "f59355b9-9ed3-43bf-80b8-864795f761d3",
   "metadata": {},
   "outputs": [],
   "source": []
  },
  {
   "cell_type": "code",
   "execution_count": 57,
   "id": "6fcfcfe1-594c-421c-bfc6-cf3765a16189",
   "metadata": {},
   "outputs": [],
   "source": [
    "# Question 2. Make predictions with your multiple regression model and evaluate how well your model is working."
   ]
  },
  {
   "cell_type": "code",
   "execution_count": null,
   "id": "a579e269-1864-4083-9739-1d2d1ee2e47d",
   "metadata": {},
   "outputs": [],
   "source": []
  },
  {
   "cell_type": "code",
   "execution_count": null,
   "id": "186d55ed-d929-4034-9980-423fb9318983",
   "metadata": {},
   "outputs": [],
   "source": []
  },
  {
   "cell_type": "code",
   "execution_count": null,
   "id": "be6c9922-e58f-42c4-9a4e-e634c18cec07",
   "metadata": {},
   "outputs": [],
   "source": []
  },
  {
   "cell_type": "code",
   "execution_count": null,
   "id": "ef5ba2b4-dc59-427c-8fa3-944bb64317ce",
   "metadata": {},
   "outputs": [],
   "source": []
  },
  {
   "cell_type": "code",
   "execution_count": null,
   "id": "8efcc7e9-48f6-4159-b892-b4aab268beb1",
   "metadata": {},
   "outputs": [],
   "source": []
  },
  {
   "cell_type": "code",
   "execution_count": 58,
   "id": "6c4651c7-479c-4c51-97ca-561c1edee132",
   "metadata": {},
   "outputs": [],
   "source": [
    "# Question 3. What is the optimal number of parameters for the multiple regression?"
   ]
  },
  {
   "cell_type": "code",
   "execution_count": null,
   "id": "b022a982-3d59-4e05-a223-354f84d53ffc",
   "metadata": {},
   "outputs": [],
   "source": []
  },
  {
   "cell_type": "code",
   "execution_count": null,
   "id": "fbb5c38f-e6fc-48ae-a637-cfffa06da7f6",
   "metadata": {},
   "outputs": [],
   "source": []
  },
  {
   "cell_type": "code",
   "execution_count": null,
   "id": "871edc37-4d5e-4763-8b7a-8655fb16291c",
   "metadata": {},
   "outputs": [],
   "source": []
  },
  {
   "cell_type": "code",
   "execution_count": null,
   "id": "d2872feb-b7ae-4fa6-b8d1-d51167b2925e",
   "metadata": {},
   "outputs": [],
   "source": []
  },
  {
   "cell_type": "code",
   "execution_count": null,
   "id": "b7a44208-2378-4c83-b4e8-8c9032fac613",
   "metadata": {},
   "outputs": [],
   "source": []
  },
  {
   "cell_type": "code",
   "execution_count": null,
   "id": "e4a398b3-15f2-479b-8bec-4b38d79790f4",
   "metadata": {},
   "outputs": [],
   "source": []
  }
 ],
 "metadata": {
  "kernelspec": {
   "display_name": "Python 3 (ipykernel)",
   "language": "python",
   "name": "python3"
  },
  "language_info": {
   "codemirror_mode": {
    "name": "ipython",
    "version": 3
   },
   "file_extension": ".py",
   "mimetype": "text/x-python",
   "name": "python",
   "nbconvert_exporter": "python",
   "pygments_lexer": "ipython3",
   "version": "3.10.6"
  }
 },
 "nbformat": 4,
 "nbformat_minor": 5
}
