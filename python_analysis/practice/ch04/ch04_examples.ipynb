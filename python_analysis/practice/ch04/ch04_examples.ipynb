{
 "cells": [
  {
   "cell_type": "markdown",
   "metadata": {},
   "source": [
    "# Chapter 4: The Seaborn essentials for data visualization"
   ]
  },
  {
   "cell_type": "code",
   "execution_count": null,
   "metadata": {},
   "outputs": [],
   "source": [
    "import pandas as pd\n",
    "import seaborn as sns"
   ]
  },
  {
   "cell_type": "markdown",
   "metadata": {},
   "source": [
    "## Get the data"
   ]
  },
  {
   "cell_type": "code",
   "execution_count": null,
   "metadata": {},
   "outputs": [],
   "source": [
    "mortality_data = pd.read_pickle('mortality_prepped.pkl')\n",
    "mortality_data.head()"
   ]
  },
  {
   "cell_type": "markdown",
   "metadata": {},
   "source": [
    "## General vs. specific"
   ]
  },
  {
   "cell_type": "code",
   "execution_count": null,
   "metadata": {},
   "outputs": [],
   "source": [
    "sns.relplot(data=mortality_data, kind='line',\n",
    "            x='Year', y='DeathRate', hue='AgeGroup')"
   ]
  },
  {
   "cell_type": "code",
   "execution_count": null,
   "metadata": {},
   "outputs": [],
   "source": [
    "sns.lineplot(data=mortality_data, \n",
    "             x='Year', y='DeathRate', hue='AgeGroup')"
   ]
  },
  {
   "cell_type": "markdown",
   "metadata": {},
   "source": [
    "## Basic parameters"
   ]
  },
  {
   "cell_type": "code",
   "execution_count": null,
   "metadata": {},
   "outputs": [],
   "source": [
    "sns.relplot(data=mortality_data, kind='line', \n",
    "            x='Year', y='DeathRate', hue='AgeGroup', palette='bright',\n",
    "            height=4, aspect=1.5)"
   ]
  },
  {
   "cell_type": "markdown",
   "metadata": {},
   "source": [
    "## Subplots"
   ]
  },
  {
   "cell_type": "code",
   "execution_count": null,
   "metadata": {},
   "outputs": [],
   "source": [
    "sns.relplot(data=mortality_data, \n",
    "            kind='line', x='Year', y='DeathRate', hue='AgeGroup', \n",
    "            height=4, aspect=1.25, \n",
    "            col='AgeGroup', col_wrap=2, legend=False)"
   ]
  },
  {
   "cell_type": "markdown",
   "metadata": {},
   "source": [
    "## Set the title and the x and y labels"
   ]
  },
  {
   "cell_type": "markdown",
   "metadata": {},
   "source": [
    "### Specific plot"
   ]
  },
  {
   "cell_type": "code",
   "execution_count": null,
   "metadata": {},
   "outputs": [],
   "source": [
    "ax = sns.lineplot(data=mortality_data, \n",
    "                  x='Year', y='DeathRate', hue='AgeGroup')\n",
    "ax.set(title='Deaths by Age Group', ylabel='Deaths per 100,000')"
   ]
  },
  {
   "cell_type": "markdown",
   "metadata": {},
   "source": [
    "### General plot"
   ]
  },
  {
   "cell_type": "code",
   "execution_count": null,
   "metadata": {},
   "outputs": [],
   "source": [
    "g = sns.relplot(data=mortality_data, kind='line',\n",
    "    x='Year', y='DeathRate', hue='AgeGroup', aspect=1.5)\n",
    "for ax in g.axes.flat:\n",
    "    ax.set(title='Deaths by Age Group', ylabel='Deaths per 100,000')"
   ]
  },
  {
   "cell_type": "markdown",
   "metadata": {},
   "source": [
    "## Set the ticks, x limits, and y limits"
   ]
  },
  {
   "cell_type": "code",
   "execution_count": null,
   "metadata": {},
   "outputs": [],
   "source": [
    "g = sns.relplot(data=mortality_data, kind='line',\n",
    "    x='Year', y='DeathRate', hue='AgeGroup', aspect=1.25)\n",
    "for ax in g.axes.flat:\n",
    "    ax.set(title='Deaths by Age Group (1910-1930)', ylabel='Deaths per 100,000', \n",
    "        xticks=[x for x in range(1910, 1931, 2)], \n",
    "        xlim=(1910,1930), ylim=(0,1750)),\n",
    "    ax.tick_params('x', labelrotation=30)"
   ]
  },
  {
   "cell_type": "code",
   "execution_count": null,
   "metadata": {},
   "outputs": [],
   "source": [
    "ax = sns.lineplot(data=mortality_data,\n",
    "     x='Year', y='DeathRate', hue='AgeGroup')\n",
    "ax.set(title='Deaths by Age Group (1910-1930)', \n",
    "      ylabel='Deaths per 100,000', \n",
    "      xticks=[x for x in range(1910,1931,2)], \n",
    "      xlim=(1910,1930), ylim=(0,1750))\n",
    "ax.tick_params('x', labelrotation=30)"
   ]
  },
  {
   "cell_type": "markdown",
   "metadata": {},
   "source": [
    "## Set the background style"
   ]
  },
  {
   "cell_type": "code",
   "execution_count": null,
   "metadata": {},
   "outputs": [],
   "source": [
    "sns.set_style('whitegrid')\n",
    "sns.relplot(data=mortality_data.query('Year >= 1910 and Year <= 1930'),\n",
    "    kind='line', x='Year', y='DeathRate', hue='AgeGroup', aspect=1.25)"
   ]
  },
  {
   "cell_type": "code",
   "execution_count": null,
   "metadata": {},
   "outputs": [],
   "source": [
    "sns.set_style('darkgrid')\n",
    "sns.relplot(data=mortality_data.query('Year >= 1910 and Year <= 1930'),\n",
    "    kind='line', x='Year', y='DeathRate', hue='AgeGroup', aspect=1.25)"
   ]
  },
  {
   "cell_type": "code",
   "execution_count": null,
   "metadata": {},
   "outputs": [],
   "source": [
    "sns.set_style('ticks')"
   ]
  },
  {
   "cell_type": "markdown",
   "metadata": {},
   "source": [
    "## Use the set() and suptitle() methods with subplots"
   ]
  },
  {
   "cell_type": "code",
   "execution_count": null,
   "metadata": {},
   "outputs": [],
   "source": [
    "g = sns.relplot(data=mortality_data.query('Year >= 1910 and Year <= 1930'),\n",
    "    kind='line', x='Year', y='DeathRate', hue='AgeGroup', legend=False,\n",
    "    col='AgeGroup', col_wrap=2, height=4)\n",
    "g.fig.suptitle('Deaths by Age Group (1910-1930)', y=1.025)\n",
    "g.set(ylabel='Deaths per 100,000', \n",
    "      xticks=[x for x in range(1910,1931,3)], \n",
    "      ylim=(0,1750))"
   ]
  },
  {
   "cell_type": "markdown",
   "metadata": {},
   "source": [
    "## Save a plot to a file"
   ]
  },
  {
   "cell_type": "markdown",
   "metadata": {},
   "source": [
    "### General plot"
   ]
  },
  {
   "cell_type": "code",
   "execution_count": null,
   "metadata": {},
   "outputs": [],
   "source": [
    "g = sns.relplot(data=mortality_data, kind='line',\n",
    "                x='Year', y='DeathRate', hue='AgeGroup')\n",
    "g.fig.subplots_adjust(bottom=0.35)  # adjust the bottom to fix the y labels\n",
    "g.savefig('lineChart.png')\n",
    "g.savefig('lineChart.svg')\n",
    "g.savefig('figures/lineChart.pdf')"
   ]
  },
  {
   "cell_type": "markdown",
   "metadata": {},
   "source": [
    "### Specific plot"
   ]
  },
  {
   "cell_type": "code",
   "execution_count": null,
   "metadata": {},
   "outputs": [],
   "source": [
    "ax = sns.lineplot(data=mortality_data, \n",
    "                  x='Year', y='DeathRate', hue='AgeGroup')\n",
    "ax.get_figure().savefig('lineChart.png')\n",
    "ax.get_figure().savefig('lineChart.svg')\n",
    "ax.get_figure().savefig('figures/lineChart.pdf')"
   ]
  },
  {
   "cell_type": "markdown",
   "metadata": {},
   "source": [
    "## Line plots"
   ]
  },
  {
   "cell_type": "code",
   "execution_count": null,
   "metadata": {},
   "outputs": [],
   "source": [
    "sns.relplot(data=mortality_data, kind='line', x='Year', y='DeathRate', \n",
    "            hue='AgeGroup')"
   ]
  },
  {
   "cell_type": "code",
   "execution_count": null,
   "metadata": {},
   "outputs": [],
   "source": [
    "sns.relplot(data=mortality_data, kind='line', x='Year', y='DeathRate')"
   ]
  },
  {
   "cell_type": "markdown",
   "metadata": {},
   "source": [
    "## Scatter plots"
   ]
  },
  {
   "cell_type": "code",
   "execution_count": null,
   "metadata": {},
   "outputs": [],
   "source": [
    "sns.relplot(data=mortality_data, kind='scatter', x='Year', y='DeathRate', \n",
    "            hue='AgeGroup')"
   ]
  },
  {
   "cell_type": "code",
   "execution_count": null,
   "metadata": {},
   "outputs": [],
   "source": [
    "g = sns.relplot(data=mortality_data.query('Year >= 1910 and Year <= 1930'), \n",
    "    kind='scatter', x='Year', y='DeathRate', hue='AgeGroup', \n",
    "    size='DeathRate', sizes=(10,100))\n",
    "for ax in g.axes.flat:\n",
    "    ax.set(xticks=[x for x in range(1910,1931,2)])"
   ]
  },
  {
   "cell_type": "markdown",
   "metadata": {},
   "source": [
    "## Bar plots"
   ]
  },
  {
   "cell_type": "code",
   "execution_count": null,
   "metadata": {},
   "outputs": [],
   "source": [
    "sns.catplot(data=mortality_data.query('Year in (1950,2000)'), \n",
    "            kind='bar', x='Year', y='DeathRate', ci=50)"
   ]
  },
  {
   "cell_type": "code",
   "execution_count": null,
   "metadata": {},
   "outputs": [],
   "source": [
    "sns.catplot(data=mortality_data.query('Year in (1950,2000)'), \n",
    "            kind='bar', x='DeathRate', y='Year', hue='AgeGroup', orient='h')"
   ]
  },
  {
   "cell_type": "markdown",
   "metadata": {},
   "source": [
    "## Box plots"
   ]
  },
  {
   "cell_type": "code",
   "execution_count": null,
   "metadata": {},
   "outputs": [],
   "source": [
    "sns.catplot(data=mortality_data.query('Year >= 1915 and Year <= 1920'), \n",
    "            kind='box', x='Year', y='DeathRate')"
   ]
  },
  {
   "cell_type": "code",
   "execution_count": null,
   "metadata": {},
   "outputs": [],
   "source": [
    "sns.catplot(data=mortality_data,\n",
    "            kind='box', x='DeathRate', y='AgeGroup', orient='h')"
   ]
  },
  {
   "cell_type": "markdown",
   "metadata": {},
   "source": [
    "## Histogram"
   ]
  },
  {
   "cell_type": "code",
   "execution_count": null,
   "metadata": {},
   "outputs": [],
   "source": [
    "sns.displot(data=mortality_data, kind='hist', x='DeathRate')"
   ]
  },
  {
   "cell_type": "code",
   "execution_count": null,
   "metadata": {},
   "outputs": [],
   "source": [
    "sns.displot(data=mortality_data, kind='hist', x='DeathRate', bins=8)"
   ]
  },
  {
   "cell_type": "markdown",
   "metadata": {},
   "source": [
    "## KDE and ECDF plots"
   ]
  },
  {
   "cell_type": "code",
   "execution_count": null,
   "metadata": {},
   "outputs": [],
   "source": [
    "sns.displot(data=mortality_data, kind='kde', x='DeathRate')"
   ]
  },
  {
   "cell_type": "code",
   "execution_count": null,
   "metadata": {},
   "outputs": [],
   "source": [
    "sns.displot(data=mortality_data, kind='ecdf', x='DeathRate', hue='AgeGroup')"
   ]
  },
  {
   "cell_type": "markdown",
   "metadata": {},
   "source": [
    "## Enhanced distribution plots"
   ]
  },
  {
   "cell_type": "code",
   "execution_count": null,
   "metadata": {},
   "outputs": [],
   "source": [
    "sns.displot(data=mortality_data, kind='hist', \n",
    "            x='DeathRate', kde=True, bins=8)"
   ]
  },
  {
   "cell_type": "code",
   "execution_count": null,
   "metadata": {},
   "outputs": [],
   "source": [
    "sns.displot(data=mortality_data, kind='kde', x='DeathRate', hue='AgeGroup', \n",
    "            fill=True, col='AgeGroup', col_wrap=2, height=3, legend=False)"
   ]
  },
  {
   "cell_type": "markdown",
   "metadata": {},
   "source": [
    "## Axes methods for enhancing a plot"
   ]
  },
  {
   "cell_type": "code",
   "execution_count": null,
   "metadata": {},
   "outputs": [],
   "source": [
    "g = sns.relplot(\n",
    "    data=mortality_data, \n",
    "    kind='line', x='Year', y='DeathRate', hue='AgeGroup', aspect=1.25)\n",
    "for ax in g.axes.flat:\n",
    "    ax.set_title('Deaths by Age Group (2000-2016)')\n",
    "    ax.set_xlabel('')\n",
    "    ax.set_xticks([x for x in range(2000,2017,2)])\n",
    "    ax.set_xticklabels(['Year ' + str(x) for x in range(0,17,2)])\n",
    "    ax.tick_params('x', labelrotation=30)\n",
    "    ax.set_ylabel('Deaths per 100,000')\n",
    "    ax.set_xlim(2000,2016)\n",
    "    ax.set_ylim(0,80)"
   ]
  },
  {
   "cell_type": "markdown",
   "metadata": {},
   "source": [
    "## Annotate a plot"
   ]
  },
  {
   "cell_type": "code",
   "execution_count": null,
   "metadata": {},
   "outputs": [],
   "source": [
    "ax = sns.lineplot(data=mortality_data, \n",
    "                  x='Year', y='DeathRate', hue='AgeGroup')\n",
    "ax.set_title('Deaths by Age Group')\n",
    "ax.set_ylabel('Deaths per 100,000')\n",
    "ax.annotate(text='Spanish Flu Pandemic', \n",
    "    xy=(1918, 1650), xytext=(1925, 1900), \n",
    "    arrowprops=dict(facecolor='red', width=3, headwidth=12, headlength=6))"
   ]
  },
  {
   "cell_type": "markdown",
   "metadata": {},
   "source": [
    "## Set color palette"
   ]
  },
  {
   "cell_type": "code",
   "execution_count": null,
   "metadata": {},
   "outputs": [],
   "source": [
    "colors = ['black','red','orange','blue']\n",
    "sns.set_palette(sns.color_palette(colors))\n",
    "sns.relplot(data=mortality_data, kind='line',\n",
    "            x='Year', y='DeathRate', hue='AgeGroup')"
   ]
  },
  {
   "cell_type": "code",
   "execution_count": null,
   "metadata": {},
   "outputs": [],
   "source": [
    "sns.set_palette(sns.color_palette('tab10'))"
   ]
  },
  {
   "cell_type": "markdown",
   "metadata": {},
   "source": [
    "## Axes methods for enhancing subplots"
   ]
  },
  {
   "cell_type": "code",
   "execution_count": null,
   "metadata": {},
   "outputs": [],
   "source": [
    "g = sns.relplot(\n",
    "    data=mortality_data.query('Year >= 1910 and Year <= 1930'),\n",
    "    kind='line', x='Year', y='DeathRate', hue='AgeGroup', legend=False,\n",
    "    col='AgeGroup', col_wrap=2, height=3, aspect=1.2)\n",
    "g.fig.suptitle('Deaths by Age Group (1910-1930)', y=1.025)\n",
    "for ax in g.axes.flat:\n",
    "    ax.set_ylabel('Deaths per 100,000')\n",
    "    ax.set_xticks([x for x in range(1910, 1931, 2)])\n",
    "    ax.tick_params('x', labelrotation=45)   "
   ]
  },
  {
   "cell_type": "markdown",
   "metadata": {},
   "source": [
    "## Custom titles for subplots"
   ]
  },
  {
   "cell_type": "code",
   "execution_count": null,
   "metadata": {},
   "outputs": [],
   "source": [
    "g = sns.relplot(\n",
    "    data=mortality_data.query('Year >= 1910 and Year <= 1930'), \n",
    "    kind='line', x='Year', y='DeathRate', hue='AgeGroup', legend=False, \n",
    "    col='AgeGroup', col_wrap=2, height=3, aspect=1.2)\n",
    "g.fig.suptitle('Deaths by Age Group (1910-1930)', y=1.025)\n",
    "ageGroups = mortality_data['AgeGroup'].drop_duplicates().tolist()\n",
    "for index, ax in enumerate(g.axes.flat):\n",
    "    ax.set_title(ageGroups[index])\n",
    "    ax.set_ylabel('Deaths per 100,000')\n",
    "    ax.set_xticks([x for x in range(1910, 1931, 2)])\n",
    "    ax.tick_params('x', labelrotation=45)"
   ]
  },
  {
   "cell_type": "markdown",
   "metadata": {},
   "source": [
    "## Set the size for a specific plot"
   ]
  },
  {
   "cell_type": "code",
   "execution_count": null,
   "metadata": {},
   "outputs": [],
   "source": [
    "# import a Matplotlib module and set the figure size\n",
    "import matplotlib.pyplot as plt\n",
    "fig, ax = plt.subplots(figsize=(10,7.5)) \n",
    "\n",
    "# create the line plot\n",
    "sns.lineplot(data=mortality_data, x='Year', y='DeathRate', hue='AgeGroup')\n",
    "\n",
    "# use the ax and fig objects to enhance and save the plot\n",
    "ax.set(title='Deaths by Age Group (1910-1930)', \n",
    "    ylabel='Deaths per 100,000', \n",
    "    xticks=[x for x in range(1910, 1931, 2)], \n",
    "    xlim=(1910,1930), ylim=(0,1750)),\n",
    "ax.tick_params('x', labelrotation=45)\n",
    "fig.savefig('deaths_by_age_group_line.png')"
   ]
  },
  {
   "cell_type": "code",
   "execution_count": null,
   "metadata": {},
   "outputs": [],
   "source": []
  }
 ],
 "metadata": {
  "kernelspec": {
   "display_name": "Python 3 (ipykernel)",
   "language": "python",
   "name": "python3"
  },
  "language_info": {
   "codemirror_mode": {
    "name": "ipython",
    "version": 3
   },
   "file_extension": ".py",
   "mimetype": "text/x-python",
   "name": "python",
   "nbconvert_exporter": "python",
   "pygments_lexer": "ipython3",
   "version": "3.10.6"
  },
  "nteract": {
   "version": "0.15.0"
  }
 },
 "nbformat": 4,
 "nbformat_minor": 4
}
