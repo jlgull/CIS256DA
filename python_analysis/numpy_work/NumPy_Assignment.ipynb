{
 "cells": [
  {
   "cell_type": "markdown",
   "id": "f938f04a",
   "metadata": {},
   "source": [
    "Each Question is worth 1 point"
   ]
  },
  {
   "cell_type": "code",
   "execution_count": null,
   "id": "d572bb2a",
   "metadata": {},
   "outputs": [],
   "source": [
    "import numpy as np"
   ]
  },
  {
   "cell_type": "markdown",
   "id": "01e14af4",
   "metadata": {},
   "source": [
    "1. Create a 3x3 matrix of zeros stored in a variable named zeros and print zeros"
   ]
  },
  {
   "cell_type": "code",
   "execution_count": null,
   "id": "a320ceab",
   "metadata": {},
   "outputs": [],
   "source": [
    "# Insert answer here"
   ]
  },
  {
   "cell_type": "markdown",
   "id": "8d7eb670",
   "metadata": {},
   "source": [
    "2. Create an array of 10 .1's stored in a variable named tenths and print tenths"
   ]
  },
  {
   "cell_type": "code",
   "execution_count": null,
   "id": "abcedaee",
   "metadata": {},
   "outputs": [],
   "source": [
    "# Insert answer here"
   ]
  },
  {
   "cell_type": "markdown",
   "id": "71c66dc4",
   "metadata": {},
   "source": [
    "3. Create an array of the odd number integers from 1 to 15 in a variable named odds and print odds\n"
   ]
  },
  {
   "cell_type": "code",
   "execution_count": null,
   "id": "e1332340",
   "metadata": {},
   "outputs": [],
   "source": [
    "# Insert answer here"
   ]
  },
  {
   "cell_type": "markdown",
   "id": "c2d39806",
   "metadata": {},
   "source": [
    "4. Create a 6x6 matrix with values ranging from 1 to 36 in a variable named sixBySix and print sixBySix"
   ]
  },
  {
   "cell_type": "code",
   "execution_count": null,
   "id": "82df90ad",
   "metadata": {},
   "outputs": [],
   "source": [
    "# Insert answer here"
   ]
  },
  {
   "cell_type": "markdown",
   "id": "6c6dcf74",
   "metadata": {},
   "source": [
    "5. Create a 3x3 identity matrix in a variable named identity and print identity"
   ]
  },
  {
   "cell_type": "code",
   "execution_count": null,
   "id": "7dacc9e0",
   "metadata": {},
   "outputs": [],
   "source": [
    "# Insert answer here"
   ]
  },
  {
   "cell_type": "markdown",
   "id": "e7ac5f6e",
   "metadata": {},
   "source": [
    "6. Create an array of 20 rand integers between 1 and 10 in a variable named twentyRandom and print twentyRandom"
   ]
  },
  {
   "cell_type": "code",
   "execution_count": null,
   "id": "c17c1dfe",
   "metadata": {},
   "outputs": [],
   "source": [
    "# Insert answer here"
   ]
  },
  {
   "cell_type": "markdown",
   "id": "239d4c01",
   "metadata": {},
   "source": [
    "7. Create an array of 21 lineraly spaced points between 0 and 5 in a variable called spaced print spaced"
   ]
  },
  {
   "cell_type": "code",
   "execution_count": null,
   "id": "9aa4e636",
   "metadata": {},
   "outputs": [],
   "source": [
    "# Insert answer here"
   ]
  },
  {
   "cell_type": "code",
   "execution_count": null,
   "id": "02d749d3",
   "metadata": {},
   "outputs": [],
   "source": [
    "# The arr array will be used to answer questions 8 through 13\n",
    "arr = np.arange(1, 51)\n",
    "print(arr)"
   ]
  },
  {
   "cell_type": "markdown",
   "id": "fd7ac96f",
   "metadata": {},
   "source": [
    "8. Use a slice to print the first five elements in the arr array"
   ]
  },
  {
   "cell_type": "code",
   "execution_count": null,
   "id": "7bd9793d",
   "metadata": {},
   "outputs": [],
   "source": [
    "# Insert answer here"
   ]
  },
  {
   "cell_type": "markdown",
   "id": "4d09b73c",
   "metadata": {},
   "source": [
    "9. Use a slice to print the last fifteen elements in the arr array"
   ]
  },
  {
   "cell_type": "code",
   "execution_count": null,
   "id": "41fba9c3",
   "metadata": {},
   "outputs": [],
   "source": [
    "# Insert answer here"
   ]
  },
  {
   "cell_type": "markdown",
   "id": "1f86051c",
   "metadata": {},
   "source": [
    "10. Use a slice to print the values from 20 through 30 in the arr array"
   ]
  },
  {
   "cell_type": "code",
   "execution_count": null,
   "id": "bf0987ea",
   "metadata": {},
   "outputs": [],
   "source": [
    "# Insert answer here"
   ]
  },
  {
   "cell_type": "markdown",
   "id": "e8ae6ab9",
   "metadata": {},
   "source": [
    "11. Print the values that are > 43 in the arr array using conditional selection"
   ]
  },
  {
   "cell_type": "code",
   "execution_count": null,
   "id": "832c2f48",
   "metadata": {},
   "outputs": [],
   "source": [
    "# Insert answer here"
   ]
  },
  {
   "cell_type": "markdown",
   "id": "fbdee534",
   "metadata": {},
   "source": [
    "12. Print the values that are <= 12 in the arr array using conditional selection"
   ]
  },
  {
   "cell_type": "code",
   "execution_count": null,
   "id": "a1fc4f46",
   "metadata": {},
   "outputs": [],
   "source": [
    "# Insert answer here"
   ]
  },
  {
   "cell_type": "markdown",
   "id": "b94e3a01",
   "metadata": {},
   "source": [
    "13. Print the sum of the arr array"
   ]
  },
  {
   "cell_type": "code",
   "execution_count": null,
   "id": "a572f484",
   "metadata": {},
   "outputs": [],
   "source": [
    "# Insert answer here"
   ]
  },
  {
   "cell_type": "code",
   "execution_count": null,
   "id": "8eec94a9",
   "metadata": {},
   "outputs": [],
   "source": [
    "# The twentyRandom array will be used to answer question 14\n",
    "twentyRandom = np.random.randint(1,201,20)\n",
    "print(twentyRandom)"
   ]
  },
  {
   "cell_type": "markdown",
   "id": "8d323e13",
   "metadata": {},
   "source": [
    "14. Print the argument of the min value and max value in the twentyRandom array"
   ]
  },
  {
   "cell_type": "code",
   "execution_count": null,
   "id": "187bd6b5",
   "metadata": {},
   "outputs": [],
   "source": [
    "# Insert answer here"
   ]
  },
  {
   "cell_type": "code",
   "execution_count": null,
   "id": "ace121e4",
   "metadata": {},
   "outputs": [],
   "source": [
    "# The arr_2d array will be used to answer questions 15 and 16\n",
    "arr_2d = np.array([[5,10,15],[20,25,30],[35,40,45],[50,55,60]])\n",
    "print(arr_2d)"
   ]
  },
  {
   "cell_type": "markdown",
   "id": "1af62206",
   "metadata": {},
   "source": [
    "15. Using single bracket notation get and print 40"
   ]
  },
  {
   "cell_type": "code",
   "execution_count": null,
   "id": "19ac1fe6",
   "metadata": {},
   "outputs": [],
   "source": [
    "# Insert answer here"
   ]
  },
  {
   "cell_type": "markdown",
   "id": "884a6869",
   "metadata": {},
   "source": [
    "16. Using single bracket notation get and print the following chunk from arr_2d:\n",
    "    [[25 30]\n",
    "     [40 45]\n",
    "     [55 60]]"
   ]
  },
  {
   "cell_type": "code",
   "execution_count": null,
   "id": "b87826ae",
   "metadata": {},
   "outputs": [],
   "source": [
    "# Insert answer here"
   ]
  },
  {
   "cell_type": "code",
   "execution_count": null,
   "id": "05afc4d4",
   "metadata": {},
   "outputs": [],
   "source": [
    "# The arrOne array will be used to answer questions 17 through 20\n",
    "arrOne = np.arange(1,11)\n",
    "print(arrOne)"
   ]
  },
  {
   "cell_type": "markdown",
   "id": "8c5a690b",
   "metadata": {},
   "source": [
    "17. Add three to each of the elements in the arrOne array and print the updated arrOne array. Do not update the arrOne array in memory."
   ]
  },
  {
   "cell_type": "code",
   "execution_count": null,
   "id": "655fe0db",
   "metadata": {},
   "outputs": [],
   "source": [
    "# Insert answer here"
   ]
  },
  {
   "cell_type": "markdown",
   "id": "cc36f661",
   "metadata": {},
   "source": [
    "18. Calculate and print the square of each element in the arrOne array, make sure and use the appropriate NumPy method to calculate the square. Do not update the arrOne array in memory."
   ]
  },
  {
   "cell_type": "code",
   "execution_count": null,
   "id": "1a596e09",
   "metadata": {},
   "outputs": [],
   "source": [
    "# Insert answer here"
   ]
  },
  {
   "cell_type": "markdown",
   "id": "7159b037",
   "metadata": {},
   "source": [
    "19. Use broadcasting to change the first four elements in the arrOne array to -999 and print the updated array."
   ]
  },
  {
   "cell_type": "code",
   "execution_count": null,
   "id": "9968ea43",
   "metadata": {},
   "outputs": [],
   "source": [
    "# Insert answer here"
   ]
  },
  {
   "cell_type": "markdown",
   "id": "b7ab3316",
   "metadata": {},
   "source": [
    "20. Print out the absolute value of each element in arrOne. Do not update the arrOne array in memory."
   ]
  },
  {
   "cell_type": "code",
   "execution_count": null,
   "id": "11a0c252",
   "metadata": {},
   "outputs": [],
   "source": [
    "# Insert answer here"
   ]
  }
 ],
 "metadata": {
  "kernelspec": {
   "display_name": "Python 3 (ipykernel)",
   "language": "python",
   "name": "python3"
  },
  "language_info": {
   "codemirror_mode": {
    "name": "ipython",
    "version": 3
   },
   "file_extension": ".py",
   "mimetype": "text/x-python",
   "name": "python",
   "nbconvert_exporter": "python",
   "pygments_lexer": "ipython3",
   "version": "3.9.12"
  }
 },
 "nbformat": 4,
 "nbformat_minor": 5
}
