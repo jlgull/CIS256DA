{
 "cells": [
  {
   "cell_type": "markdown",
   "id": "f938f04a",
   "metadata": {},
   "source": [
    "Each Question is worth 1 point"
   ]
  },
  {
   "cell_type": "code",
   "execution_count": 1,
   "id": "d572bb2a",
   "metadata": {},
   "outputs": [],
   "source": [
    "import numpy as np"
   ]
  },
  {
   "cell_type": "markdown",
   "id": "01e14af4",
   "metadata": {},
   "source": [
    "1. Create a 3x3 matrix of zeros stored in a variable named zeros and print zeros"
   ]
  },
  {
   "cell_type": "code",
   "execution_count": 2,
   "id": "a320ceab",
   "metadata": {},
   "outputs": [
    {
     "name": "stdout",
     "output_type": "stream",
     "text": [
      "A 3x3 matrix of zeros,\n",
      " [[0. 0. 0.]\n",
      " [0. 0. 0.]\n",
      " [0. 0. 0.]]\n"
     ]
    }
   ],
   "source": [
    "# Insert answer here\n",
    "zeros = np.zeros((3,3))\n",
    "print(f'A 3x3 matrix of zeros,\\n {zeros}')"
   ]
  },
  {
   "cell_type": "markdown",
   "id": "8d7eb670",
   "metadata": {},
   "source": [
    "2. Create an array of 10 .1's stored in a variable named tenths and print tenths"
   ]
  },
  {
   "cell_type": "code",
   "execution_count": 3,
   "id": "abcedaee",
   "metadata": {},
   "outputs": [
    {
     "name": "stdout",
     "output_type": "stream",
     "text": [
      "An array of 10 0.1's,\n",
      " [0.1 0.1 0.1 0.1 0.1 0.1 0.1 0.1 0.1 0.1]\n"
     ]
    }
   ],
   "source": [
    "# Insert answer here\n",
    "tenths = (np.ones(10)/10)\n",
    "print(f'An array of 10 0.1\\'s,\\n {tenths}')\n"
   ]
  },
  {
   "cell_type": "markdown",
   "id": "71c66dc4",
   "metadata": {},
   "source": [
    "3. Create an array of the odd number integers from 1 to 15 in a variable named odds and print odds\n"
   ]
  },
  {
   "cell_type": "code",
   "execution_count": 4,
   "id": "e1332340",
   "metadata": {},
   "outputs": [
    {
     "name": "stdout",
     "output_type": "stream",
     "text": [
      "An array of odd integers from 1 to 15,\n",
      " [ 1  3  5  7  9 11 13 15]\n"
     ]
    }
   ],
   "source": [
    "# Insert answer here\n",
    "odds = np.arange(1,16,2)\n",
    "print(f'An array of odd integers from 1 to 15,\\n {odds}')\n"
   ]
  },
  {
   "cell_type": "markdown",
   "id": "c2d39806",
   "metadata": {},
   "source": [
    "4. Create a 6x6 matrix with values ranging from 1 to 36 in a variable named sixBySix and print sixBySix"
   ]
  },
  {
   "cell_type": "code",
   "execution_count": 5,
   "id": "82df90ad",
   "metadata": {},
   "outputs": [
    {
     "name": "stdout",
     "output_type": "stream",
     "text": [
      "A 6x6 matrix, with values ranging from 1 to 36,\n",
      "[[ 1  2  3  4  5  6]\n",
      " [ 7  8  9 10 11 12]\n",
      " [13 14 15 16 17 18]\n",
      " [19 20 21 22 23 24]\n",
      " [25 26 27 28 29 30]\n",
      " [31 32 33 34 35 36]]\n"
     ]
    }
   ],
   "source": [
    "# Insert answer here\n",
    "sixBySix = np.arange(1,37).reshape(6,6)\n",
    "# sixBySix = sixBySix.reshape(6,6) merged back, with \".\" method.\n",
    "print(f'A 6x6 matrix, with values ranging from 1 to 36,\\n{sixBySix}')\n"
   ]
  },
  {
   "cell_type": "markdown",
   "id": "6c6dcf74",
   "metadata": {},
   "source": [
    "5. Create a 3x3 identity matrix in a variable named identity and print identity"
   ]
  },
  {
   "cell_type": "code",
   "execution_count": 6,
   "id": "7dacc9e0",
   "metadata": {},
   "outputs": [
    {
     "name": "stdout",
     "output_type": "stream",
     "text": [
      "A 3x3 identity matrix,\n",
      "[[1. 0. 0.]\n",
      " [0. 1. 0.]\n",
      " [0. 0. 1.]]\n"
     ]
    }
   ],
   "source": [
    "# Insert answer here\n",
    "identity = np.eye(3)\n",
    "print(f'A 3x3 identity matrix,\\n{identity}')\n"
   ]
  },
  {
   "cell_type": "markdown",
   "id": "e7ac5f6e",
   "metadata": {},
   "source": [
    "6. Create an array of 20 rand integers between 1 and 10 in a variable named twentyRandom and print twentyRandom"
   ]
  },
  {
   "cell_type": "code",
   "execution_count": 7,
   "id": "c17c1dfe",
   "metadata": {},
   "outputs": [
    {
     "name": "stdout",
     "output_type": "stream",
     "text": [
      "An array of 20 rand integers between 1 and 10,\n",
      "[9 7 5 1 3 8 3 5 4 4 8 9 8 6 3 8 6 4 3 7]\n"
     ]
    }
   ],
   "source": [
    "# Insert answer here\n",
    "from numpy.random import randint\n",
    "twentyRandom = randint(1,10,20)\n",
    "print(f'An array of 20 rand integers between 1 and 10,\\n{twentyRandom}')\n"
   ]
  },
  {
   "cell_type": "markdown",
   "id": "239d4c01",
   "metadata": {},
   "source": [
    "7. Create an array of 21 lineraly spaced points between 0 and 5 in a variable called spaced print spaced"
   ]
  },
  {
   "cell_type": "code",
   "execution_count": 8,
   "id": "9aa4e636",
   "metadata": {},
   "outputs": [
    {
     "name": "stdout",
     "output_type": "stream",
     "text": [
      "An array of 21 lineraly spaced points between 0 and 5,\n",
      "[0.   0.25 0.5  0.75 1.   1.25 1.5  1.75 2.   2.25 2.5  2.75 3.   3.25\n",
      " 3.5  3.75 4.   4.25 4.5  4.75 5.  ]\n",
      "\n"
     ]
    }
   ],
   "source": [
    "# Insert answer here\n",
    "spaced = np.linspace(0,5,21)\n",
    "print(f'An array of 21 lineraly spaced points between 0 and 5,\\n{spaced}\\n')\n"
   ]
  },
  {
   "cell_type": "code",
   "execution_count": 9,
   "id": "02d749d3",
   "metadata": {},
   "outputs": [
    {
     "name": "stdout",
     "output_type": "stream",
     "text": [
      "[ 1  2  3  4  5  6  7  8  9 10 11 12 13 14 15 16 17 18 19 20 21 22 23 24\n",
      " 25 26 27 28 29 30 31 32 33 34 35 36 37 38 39 40 41 42 43 44 45 46 47 48\n",
      " 49 50]\n"
     ]
    }
   ],
   "source": [
    "# The arr array will be used to answer questions 8 through 13\n",
    "arr = np.arange(1, 51)\n",
    "print(arr)"
   ]
  },
  {
   "cell_type": "markdown",
   "id": "fd7ac96f",
   "metadata": {},
   "source": [
    "8. Use a slice to print the first five elements in the arr array"
   ]
  },
  {
   "cell_type": "code",
   "execution_count": 10,
   "id": "7bd9793d",
   "metadata": {},
   "outputs": [
    {
     "name": "stdout",
     "output_type": "stream",
     "text": [
      "The base arr array,\n",
      "[ 1  2  3  4  5  6  7  8  9 10 11 12 13 14 15 16 17 18 19 20 21 22 23 24\n",
      " 25 26 27 28 29 30 31 32 33 34 35 36 37 38 39 40 41 42 43 44 45 46 47 48\n",
      " 49 50]\n",
      "\n",
      "Use a slice to print the first five elements in the arr array, \n",
      "[1 2 3 4 5]\n"
     ]
    }
   ],
   "source": [
    "# Insert answer here\n",
    "print(f'The base arr array,\\n{arr}\\n')\n",
    "print(f'Use a slice to print the first five elements in the arr array, \\n{arr[:5]}')\n"
   ]
  },
  {
   "cell_type": "markdown",
   "id": "4d09b73c",
   "metadata": {},
   "source": [
    "9. Use a slice to print the last fifteen elements in the arr array"
   ]
  },
  {
   "cell_type": "code",
   "execution_count": 11,
   "id": "41fba9c3",
   "metadata": {},
   "outputs": [
    {
     "name": "stdout",
     "output_type": "stream",
     "text": [
      "The base arr array,\n",
      "[ 1  2  3  4  5  6  7  8  9 10 11 12 13 14 15 16 17 18 19 20 21 22 23 24\n",
      " 25 26 27 28 29 30 31 32 33 34 35 36 37 38 39 40 41 42 43 44 45 46 47 48\n",
      " 49 50]\n",
      "\n",
      "Use a slice to print the last fifteen elements in the arr array. \n",
      "[36 37 38 39 40 41 42 43 44 45 46 47 48 49 50]\n"
     ]
    }
   ],
   "source": [
    "# Insert answer here\n",
    "print(f'The base arr array,\\n{arr}\\n')\n",
    "print(f'Use a slice to print the last fifteen elements in the arr array. \\n{arr[-15:]}')\n"
   ]
  },
  {
   "cell_type": "markdown",
   "id": "1f86051c",
   "metadata": {},
   "source": [
    "10. Use a slice to print the values from 20 through 30 in the arr array"
   ]
  },
  {
   "cell_type": "code",
   "execution_count": 12,
   "id": "bf0987ea",
   "metadata": {},
   "outputs": [
    {
     "name": "stdout",
     "output_type": "stream",
     "text": [
      "The base arr array,\n",
      "[ 1  2  3  4  5  6  7  8  9 10 11 12 13 14 15 16 17 18 19 20 21 22 23 24\n",
      " 25 26 27 28 29 30 31 32 33 34 35 36 37 38 39 40 41 42 43 44 45 46 47 48\n",
      " 49 50]\n",
      "\n",
      "Use a slice to print the values from 20 through 30 in the arr array,\n",
      "[20 21 22 23 24 25 26 27 28 29 30]\n"
     ]
    }
   ],
   "source": [
    "# Insert answer here\n",
    "print(f'The base arr array,\\n{arr}\\n')\n",
    "print(f'Use a slice to print the values from 20 through 30 in the arr array,\\n{arr[19:30]}')\n"
   ]
  },
  {
   "cell_type": "markdown",
   "id": "e8ae6ab9",
   "metadata": {},
   "source": [
    "11. Print the values that are > 43 in the arr array using conditional selection"
   ]
  },
  {
   "cell_type": "code",
   "execution_count": 13,
   "id": "832c2f48",
   "metadata": {},
   "outputs": [
    {
     "name": "stdout",
     "output_type": "stream",
     "text": [
      "The base arr array,\n",
      "[ 1  2  3  4  5  6  7  8  9 10 11 12 13 14 15 16 17 18 19 20 21 22 23 24\n",
      " 25 26 27 28 29 30 31 32 33 34 35 36 37 38 39 40 41 42 43 44 45 46 47 48\n",
      " 49 50]\n",
      "\n",
      "Print the values that are > 43 in the arr array using conditional selection,\n",
      "[44 45 46 47 48 49 50]\n"
     ]
    }
   ],
   "source": [
    "# Insert answer here\n",
    "print(f'The base arr array,\\n{arr}\\n')\n",
    "print(f'Print the values that are > 43 in the arr array using conditional selection,\\n{arr[arr>43]}')\n"
   ]
  },
  {
   "cell_type": "markdown",
   "id": "fbdee534",
   "metadata": {},
   "source": [
    "12. Print the values that are <= 12 in the arr array using conditional selection"
   ]
  },
  {
   "cell_type": "code",
   "execution_count": 14,
   "id": "a1fc4f46",
   "metadata": {},
   "outputs": [
    {
     "name": "stdout",
     "output_type": "stream",
     "text": [
      "The base arr array,\n",
      "[ 1  2  3  4  5  6  7  8  9 10 11 12 13 14 15 16 17 18 19 20 21 22 23 24\n",
      " 25 26 27 28 29 30 31 32 33 34 35 36 37 38 39 40 41 42 43 44 45 46 47 48\n",
      " 49 50]\n",
      "\n",
      "Print the values that are <= 12 in the arr array using conditional selection,\n",
      "[ 1  2  3  4  5  6  7  8  9 10 11 12]\n"
     ]
    }
   ],
   "source": [
    "# Insert answer here\n",
    "print(f'The base arr array,\\n{arr}\\n')\n",
    "print(f'Print the values that are <= 12 in the arr array using conditional selection,\\n{arr[arr<=12]}')\n"
   ]
  },
  {
   "cell_type": "markdown",
   "id": "b94e3a01",
   "metadata": {},
   "source": [
    "13. Print the sum of the arr array"
   ]
  },
  {
   "cell_type": "code",
   "execution_count": 15,
   "id": "a572f484",
   "metadata": {},
   "outputs": [
    {
     "name": "stdout",
     "output_type": "stream",
     "text": [
      "The base arr array,\n",
      "[ 1  2  3  4  5  6  7  8  9 10 11 12 13 14 15 16 17 18 19 20 21 22 23 24\n",
      " 25 26 27 28 29 30 31 32 33 34 35 36 37 38 39 40 41 42 43 44 45 46 47 48\n",
      " 49 50]\n",
      "\n",
      "Print the sum of the arr array,\n",
      "1275\n"
     ]
    }
   ],
   "source": [
    "# Insert answer here\n",
    "print(f'The base arr array,\\n{arr}\\n')\n",
    "print(f'Print the sum of the arr array,\\n{np.sum(arr)}')\n"
   ]
  },
  {
   "cell_type": "code",
   "execution_count": 16,
   "id": "8eec94a9",
   "metadata": {},
   "outputs": [
    {
     "name": "stdout",
     "output_type": "stream",
     "text": [
      "[ 47 179  55  50  26   8  98 101  14  87 116  98 199  64  12 109 154 126\n",
      "  90  57]\n"
     ]
    }
   ],
   "source": [
    "# The twentyRandom array will be used to answer question 14\n",
    "twentyRandom = np.random.randint(1,201,20)\n",
    "print(twentyRandom)"
   ]
  },
  {
   "cell_type": "markdown",
   "id": "8d323e13",
   "metadata": {},
   "source": [
    "14. Print the argument of the min value and max value in the twentyRandom array"
   ]
  },
  {
   "cell_type": "code",
   "execution_count": 17,
   "id": "187bd6b5",
   "metadata": {},
   "outputs": [],
   "source": [
    "# Insert answer here"
   ]
  },
  {
   "cell_type": "code",
   "execution_count": 18,
   "id": "ace121e4",
   "metadata": {},
   "outputs": [
    {
     "name": "stdout",
     "output_type": "stream",
     "text": [
      "[[ 5 10 15]\n",
      " [20 25 30]\n",
      " [35 40 45]\n",
      " [50 55 60]]\n"
     ]
    }
   ],
   "source": [
    "# The arr_2d array will be used to answer questions 15 and 16\n",
    "arr_2d = np.array([[5,10,15],[20,25,30],[35,40,45],[50,55,60]])\n",
    "print(arr_2d)"
   ]
  },
  {
   "cell_type": "markdown",
   "id": "1af62206",
   "metadata": {},
   "source": [
    "15. Using single bracket notation get and print 40"
   ]
  },
  {
   "cell_type": "code",
   "execution_count": 19,
   "id": "19ac1fe6",
   "metadata": {},
   "outputs": [],
   "source": [
    "# Insert answer here"
   ]
  },
  {
   "cell_type": "markdown",
   "id": "884a6869",
   "metadata": {},
   "source": [
    "16. Using single bracket notation get and print the following chunk from arr_2d:\n",
    "    [[25 30]\n",
    "     [40 45]\n",
    "     [55 60]]"
   ]
  },
  {
   "cell_type": "code",
   "execution_count": 20,
   "id": "b87826ae",
   "metadata": {},
   "outputs": [],
   "source": [
    "# Insert answer here"
   ]
  },
  {
   "cell_type": "code",
   "execution_count": 21,
   "id": "05afc4d4",
   "metadata": {},
   "outputs": [
    {
     "name": "stdout",
     "output_type": "stream",
     "text": [
      "[ 1  2  3  4  5  6  7  8  9 10]\n"
     ]
    }
   ],
   "source": [
    "# The arrOne array will be used to answer questions 17 through 20\n",
    "arrOne = np.arange(1,11)\n",
    "print(arrOne)"
   ]
  },
  {
   "cell_type": "markdown",
   "id": "8c5a690b",
   "metadata": {},
   "source": [
    "17. Add three to each of the elements in the arrOne array and print the updated arrOne array. Do not update the arrOne array in memory."
   ]
  },
  {
   "cell_type": "code",
   "execution_count": 22,
   "id": "655fe0db",
   "metadata": {},
   "outputs": [],
   "source": [
    "# Insert answer here"
   ]
  },
  {
   "cell_type": "markdown",
   "id": "cc36f661",
   "metadata": {},
   "source": [
    "18. Calculate and print the square of each element in the arrOne array, make sure and use the appropriate NumPy method to calculate the square. Do not update the arrOne array in memory."
   ]
  },
  {
   "cell_type": "code",
   "execution_count": 23,
   "id": "1a596e09",
   "metadata": {},
   "outputs": [],
   "source": [
    "# Insert answer here"
   ]
  },
  {
   "cell_type": "markdown",
   "id": "7159b037",
   "metadata": {},
   "source": [
    "19. Use broadcasting to change the first four elements in the arrOne array to -999 and print the updated array."
   ]
  },
  {
   "cell_type": "code",
   "execution_count": 24,
   "id": "9968ea43",
   "metadata": {},
   "outputs": [],
   "source": [
    "# Insert answer here"
   ]
  },
  {
   "cell_type": "markdown",
   "id": "b7ab3316",
   "metadata": {},
   "source": [
    "20. Print out the absolute value of each element in arrOne. Do not update the arrOne array in memory."
   ]
  },
  {
   "cell_type": "code",
   "execution_count": 25,
   "id": "11a0c252",
   "metadata": {},
   "outputs": [],
   "source": [
    "# Insert answer here"
   ]
  }
 ],
 "metadata": {
  "kernelspec": {
   "display_name": "Python 3 (ipykernel)",
   "language": "python",
   "name": "python3"
  },
  "language_info": {
   "codemirror_mode": {
    "name": "ipython",
    "version": 3
   },
   "file_extension": ".py",
   "mimetype": "text/x-python",
   "name": "python",
   "nbconvert_exporter": "python",
   "pygments_lexer": "ipython3",
   "version": "3.10.4"
  }
 },
 "nbformat": 4,
 "nbformat_minor": 5
}
