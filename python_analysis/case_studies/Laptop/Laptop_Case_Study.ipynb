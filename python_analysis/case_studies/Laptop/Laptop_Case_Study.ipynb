{
 "cells": [
  {
   "cell_type": "markdown",
   "metadata": {},
   "source": [
    "# Case Study: Laptop market analysis"
   ]
  },
  {
   "cell_type": "markdown",
   "metadata": {},
   "source": [
    "Prerequisite chapters: 2-4\n",
    "\n",
    "Scenario\n",
    "\n",
    "You are an analyst employed by a health care company. Your boss has asked you to produce a report that answers the following questions about medical insurance charges.\n",
    "\n",
    "Instructions\n",
    "\n",
    "1. Create a Notebook for the study, name the Notebook first_last_medical_costs where first_last specifies your first and last name.\n",
    "2. Complete the tasks listed\n",
    "3. Create a heading for the question.\n",
    "4. Create a table or plot that answers the question and use a heading or raw text to summarize what the table or plot tells you.\n",
    "5. Repeat steps 2-4 for each question.\n",
    "\n"
   ]
  },
  {
   "cell_type": "markdown",
   "metadata": {},
   "source": [
    "## Data file is laptop.csv"
   ]
  },
  {
   "cell_type": "markdown",
   "metadata": {},
   "source": [
    "## Import all required modules"
   ]
  },
  {
   "cell_type": "code",
   "execution_count": 1,
   "metadata": {},
   "outputs": [],
   "source": [
    "# Import pandas and assign the alias pd\n",
    "import pandas as pd\n",
    "\n",
    "# Import Seaborn and assign the alias sns\n",
    "import seaborn as sns\n",
    "\n",
    "# Import numpy and assign the alias np\n",
    "import numpy as np\n",
    "\n",
    "# Import the Scikit-learn library\n",
    "from sklearn.linear_model import LinearRegression\n",
    "from sklearn.model_selection import train_test_split\n",
    "\n",
    "# Import additional SciKit-learn class\n",
    "from sklearn.preprocessing import StandardScaler\n",
    "\n",
    "# Import additional SciKit-learn classes\n",
    "\n",
    "from sklearn.feature_selection import SelectKBest\n",
    "from sklearn.feature_selection import mutual_info_regression"
   ]
  },
  {
   "cell_type": "markdown",
   "metadata": {},
   "source": [
    "## The Laptops dataset"
   ]
  },
  {
   "cell_type": "code",
   "execution_count": 2,
   "metadata": {},
   "outputs": [],
   "source": [
    "# Read in the data into a new DataFrame\n",
    "\n",
    "laptops = pd.read_csv('laptops.csv')"
   ]
  },
  {
   "cell_type": "code",
   "execution_count": 3,
   "metadata": {},
   "outputs": [
    {
     "name": "stdout",
     "output_type": "stream",
     "text": [
      "<class 'pandas.core.frame.DataFrame'>\n",
      "RangeIndex: 205 entries, 0 to 204\n",
      "Data columns (total 9 columns):\n",
      " #   Column          Non-Null Count  Dtype  \n",
      "---  ------          --------------  -----  \n",
      " 0   brand           205 non-null    object \n",
      " 1   laptop_name     204 non-null    object \n",
      " 2   display_size    205 non-null    float64\n",
      " 3   processor_type  205 non-null    object \n",
      " 4   graphics_card   205 non-null    object \n",
      " 5   disk_space      205 non-null    object \n",
      " 6   discount_price  205 non-null    float64\n",
      " 7   old_price       205 non-null    float64\n",
      " 8   ratings_5max    205 non-null    object \n",
      "dtypes: float64(3), object(6)\n",
      "memory usage: 90.7 KB\n"
     ]
    },
    {
     "data": {
      "text/html": [
       "<div>\n",
       "<style scoped>\n",
       "    .dataframe tbody tr th:only-of-type {\n",
       "        vertical-align: middle;\n",
       "    }\n",
       "\n",
       "    .dataframe tbody tr th {\n",
       "        vertical-align: top;\n",
       "    }\n",
       "\n",
       "    .dataframe thead th {\n",
       "        text-align: right;\n",
       "    }\n",
       "</style>\n",
       "<table border=\"1\" class=\"dataframe\">\n",
       "  <thead>\n",
       "    <tr style=\"text-align: right;\">\n",
       "      <th></th>\n",
       "      <th>brand</th>\n",
       "      <th>laptop_name</th>\n",
       "      <th>display_size</th>\n",
       "      <th>processor_type</th>\n",
       "      <th>graphics_card</th>\n",
       "      <th>disk_space</th>\n",
       "      <th>discount_price</th>\n",
       "      <th>old_price</th>\n",
       "      <th>ratings_5max</th>\n",
       "    </tr>\n",
       "  </thead>\n",
       "  <tbody>\n",
       "    <tr>\n",
       "      <th>0</th>\n",
       "      <td>HP</td>\n",
       "      <td>Notebook 14-df0008nx</td>\n",
       "      <td>14.0</td>\n",
       "      <td>Intel Celeron N4000</td>\n",
       "      <td>Intel HD Graphics 600</td>\n",
       "      <td>64 GB (eMMC)</td>\n",
       "      <td>1259.0</td>\n",
       "      <td>1259.0</td>\n",
       "      <td>0 / 5</td>\n",
       "    </tr>\n",
       "    <tr>\n",
       "      <th>1</th>\n",
       "      <td>Lenovo</td>\n",
       "      <td>IdeaPad 330S-14IKB</td>\n",
       "      <td>14.0</td>\n",
       "      <td>Intel Core i5-8250U</td>\n",
       "      <td>Intel UHD Graphics 620</td>\n",
       "      <td>1 TB HDD</td>\n",
       "      <td>1849.0</td>\n",
       "      <td>2099.0</td>\n",
       "      <td>3.3 / 5</td>\n",
       "    </tr>\n",
       "    <tr>\n",
       "      <th>2</th>\n",
       "      <td>Huawei</td>\n",
       "      <td>MateBook D Volta</td>\n",
       "      <td>14.0</td>\n",
       "      <td>Intel Core i5-8250U</td>\n",
       "      <td>NVIDIA GeForce MX150 (2 GB)</td>\n",
       "      <td>256 GB SSD</td>\n",
       "      <td>2999.0</td>\n",
       "      <td>3799.0</td>\n",
       "      <td>0 / 5</td>\n",
       "    </tr>\n",
       "    <tr>\n",
       "      <th>3</th>\n",
       "      <td>Dell</td>\n",
       "      <td>Inspiron 15 3567</td>\n",
       "      <td>15.6</td>\n",
       "      <td>Intel Core i3-7020U</td>\n",
       "      <td>Intel HD Graphics 620</td>\n",
       "      <td>1 TB HDD</td>\n",
       "      <td>1849.0</td>\n",
       "      <td>1849.0</td>\n",
       "      <td>0 / 5</td>\n",
       "    </tr>\n",
       "    <tr>\n",
       "      <th>4</th>\n",
       "      <td>Asus</td>\n",
       "      <td>VivoBook 15 X510UR</td>\n",
       "      <td>15.6</td>\n",
       "      <td>Intel Core i7-8550U</td>\n",
       "      <td>NVIDIA GeForce 930MX (2 GB)</td>\n",
       "      <td>1 TB HDD</td>\n",
       "      <td>2499.0</td>\n",
       "      <td>3149.0</td>\n",
       "      <td>0 / 5</td>\n",
       "    </tr>\n",
       "  </tbody>\n",
       "</table>\n",
       "</div>"
      ],
      "text/plain": [
       "    brand           laptop_name  display_size        processor_type  \\\n",
       "0      HP  Notebook 14-df0008nx          14.0   Intel Celeron N4000   \n",
       "1  Lenovo    IdeaPad 330S-14IKB          14.0   Intel Core i5-8250U   \n",
       "2  Huawei      MateBook D Volta          14.0   Intel Core i5-8250U   \n",
       "3    Dell      Inspiron 15 3567          15.6   Intel Core i3-7020U   \n",
       "4    Asus    VivoBook 15 X510UR          15.6   Intel Core i7-8550U   \n",
       "\n",
       "                  graphics_card     disk_space  discount_price  old_price  \\\n",
       "0         Intel HD Graphics 600   64 GB (eMMC)          1259.0     1259.0   \n",
       "1        Intel UHD Graphics 620       1 TB HDD          1849.0     2099.0   \n",
       "2   NVIDIA GeForce MX150 (2 GB)     256 GB SSD          2999.0     3799.0   \n",
       "3         Intel HD Graphics 620       1 TB HDD          1849.0     1849.0   \n",
       "4   NVIDIA GeForce 930MX (2 GB)       1 TB HDD          2499.0     3149.0   \n",
       "\n",
       "  ratings_5max  \n",
       "0        0 / 5  \n",
       "1      3.3 / 5  \n",
       "2        0 / 5  \n",
       "3        0 / 5  \n",
       "4        0 / 5  "
      ]
     },
     "execution_count": 3,
     "metadata": {},
     "output_type": "execute_result"
    }
   ],
   "source": [
    "# Display the info() and head() for the new DataFrame\n",
    "\n",
    "laptops.info(memory_usage = 'deep')\n",
    "\n",
    "laptops.head()"
   ]
  },
  {
   "cell_type": "markdown",
   "metadata": {},
   "source": [
    "# Clean the data"
   ]
  },
  {
   "cell_type": "code",
   "execution_count": 4,
   "metadata": {},
   "outputs": [
    {
     "data": {
      "text/html": [
       "<div>\n",
       "<style scoped>\n",
       "    .dataframe tbody tr th:only-of-type {\n",
       "        vertical-align: middle;\n",
       "    }\n",
       "\n",
       "    .dataframe tbody tr th {\n",
       "        vertical-align: top;\n",
       "    }\n",
       "\n",
       "    .dataframe thead th {\n",
       "        text-align: right;\n",
       "    }\n",
       "</style>\n",
       "<table border=\"1\" class=\"dataframe\">\n",
       "  <thead>\n",
       "    <tr style=\"text-align: right;\">\n",
       "      <th></th>\n",
       "      <th>brand</th>\n",
       "      <th>laptop_name</th>\n",
       "      <th>display_size</th>\n",
       "      <th>processor_type</th>\n",
       "      <th>graphics_card</th>\n",
       "      <th>disk_space</th>\n",
       "      <th>discount_price</th>\n",
       "      <th>old_price</th>\n",
       "      <th>ratings_5max</th>\n",
       "    </tr>\n",
       "  </thead>\n",
       "  <tbody>\n",
       "    <tr>\n",
       "      <th>195</th>\n",
       "      <td>HP</td>\n",
       "      <td>NaN</td>\n",
       "      <td>15.6</td>\n",
       "      <td>Intel Core i5-7200U</td>\n",
       "      <td>AMD Radeon 520 (2 GB)</td>\n",
       "      <td>1 TB HDD</td>\n",
       "      <td>2419.0</td>\n",
       "      <td>2419.0</td>\n",
       "      <td>0 / 5</td>\n",
       "    </tr>\n",
       "  </tbody>\n",
       "</table>\n",
       "</div>"
      ],
      "text/plain": [
       "    brand laptop_name  display_size        processor_type  \\\n",
       "195    HP         NaN          15.6   Intel Core i5-7200U   \n",
       "\n",
       "              graphics_card disk_space  discount_price  old_price ratings_5max  \n",
       "195   AMD Radeon 520 (2 GB)   1 TB HDD          2419.0     2419.0        0 / 5  "
      ]
     },
     "execution_count": 4,
     "metadata": {},
     "output_type": "execute_result"
    }
   ],
   "source": [
    "# Review the item with missing laptop name.\n",
    "\n",
    "laptops[laptops.isnull().any(axis = 1)]\n"
   ]
  },
  {
   "cell_type": "code",
   "execution_count": 5,
   "metadata": {},
   "outputs": [],
   "source": [
    "# Clean the data to make the column labels easier to understand.\n",
    "\n",
    "laptops.rename(columns = {'old_price':'list_price'}, inplace = True)\n"
   ]
  },
  {
   "cell_type": "code",
   "execution_count": 6,
   "metadata": {},
   "outputs": [
    {
     "data": {
      "text/html": [
       "<div>\n",
       "<style scoped>\n",
       "    .dataframe tbody tr th:only-of-type {\n",
       "        vertical-align: middle;\n",
       "    }\n",
       "\n",
       "    .dataframe tbody tr th {\n",
       "        vertical-align: top;\n",
       "    }\n",
       "\n",
       "    .dataframe thead th {\n",
       "        text-align: right;\n",
       "    }\n",
       "</style>\n",
       "<table border=\"1\" class=\"dataframe\">\n",
       "  <thead>\n",
       "    <tr style=\"text-align: right;\">\n",
       "      <th></th>\n",
       "      <th>brand</th>\n",
       "      <th>laptop_name</th>\n",
       "      <th>display_size</th>\n",
       "      <th>processor_type</th>\n",
       "      <th>graphics_card</th>\n",
       "      <th>disk_space</th>\n",
       "      <th>discount_price</th>\n",
       "      <th>list_price</th>\n",
       "      <th>ratings_5max</th>\n",
       "    </tr>\n",
       "  </thead>\n",
       "  <tbody>\n",
       "    <tr>\n",
       "      <th>0</th>\n",
       "      <td>HP</td>\n",
       "      <td>Notebook 14-df0008nx</td>\n",
       "      <td>14.0</td>\n",
       "      <td>Intel Celeron N4000</td>\n",
       "      <td>Intel HD Graphics 600</td>\n",
       "      <td>64 GB (eMMC)</td>\n",
       "      <td>1259.0</td>\n",
       "      <td>1259.0</td>\n",
       "      <td>0 / 5</td>\n",
       "    </tr>\n",
       "    <tr>\n",
       "      <th>1</th>\n",
       "      <td>Lenovo</td>\n",
       "      <td>IdeaPad 330S-14IKB</td>\n",
       "      <td>14.0</td>\n",
       "      <td>Intel Core i5-8250U</td>\n",
       "      <td>Intel UHD Graphics 620</td>\n",
       "      <td>1 TB HDD</td>\n",
       "      <td>1849.0</td>\n",
       "      <td>2099.0</td>\n",
       "      <td>3.3 / 5</td>\n",
       "    </tr>\n",
       "    <tr>\n",
       "      <th>2</th>\n",
       "      <td>Huawei</td>\n",
       "      <td>MateBook D Volta</td>\n",
       "      <td>14.0</td>\n",
       "      <td>Intel Core i5-8250U</td>\n",
       "      <td>NVIDIA GeForce MX150 (2 GB)</td>\n",
       "      <td>256 GB SSD</td>\n",
       "      <td>2999.0</td>\n",
       "      <td>3799.0</td>\n",
       "      <td>0 / 5</td>\n",
       "    </tr>\n",
       "    <tr>\n",
       "      <th>3</th>\n",
       "      <td>Dell</td>\n",
       "      <td>Inspiron 15 3567</td>\n",
       "      <td>15.6</td>\n",
       "      <td>Intel Core i3-7020U</td>\n",
       "      <td>Intel HD Graphics 620</td>\n",
       "      <td>1 TB HDD</td>\n",
       "      <td>1849.0</td>\n",
       "      <td>1849.0</td>\n",
       "      <td>0 / 5</td>\n",
       "    </tr>\n",
       "    <tr>\n",
       "      <th>4</th>\n",
       "      <td>Asus</td>\n",
       "      <td>VivoBook 15 X510UR</td>\n",
       "      <td>15.6</td>\n",
       "      <td>Intel Core i7-8550U</td>\n",
       "      <td>NVIDIA GeForce 930MX (2 GB)</td>\n",
       "      <td>1 TB HDD</td>\n",
       "      <td>2499.0</td>\n",
       "      <td>3149.0</td>\n",
       "      <td>0 / 5</td>\n",
       "    </tr>\n",
       "  </tbody>\n",
       "</table>\n",
       "</div>"
      ],
      "text/plain": [
       "    brand           laptop_name  display_size        processor_type  \\\n",
       "0      HP  Notebook 14-df0008nx          14.0   Intel Celeron N4000   \n",
       "1  Lenovo    IdeaPad 330S-14IKB          14.0   Intel Core i5-8250U   \n",
       "2  Huawei      MateBook D Volta          14.0   Intel Core i5-8250U   \n",
       "3    Dell      Inspiron 15 3567          15.6   Intel Core i3-7020U   \n",
       "4    Asus    VivoBook 15 X510UR          15.6   Intel Core i7-8550U   \n",
       "\n",
       "                  graphics_card     disk_space  discount_price  list_price  \\\n",
       "0         Intel HD Graphics 600   64 GB (eMMC)          1259.0      1259.0   \n",
       "1        Intel UHD Graphics 620       1 TB HDD          1849.0      2099.0   \n",
       "2   NVIDIA GeForce MX150 (2 GB)     256 GB SSD          2999.0      3799.0   \n",
       "3         Intel HD Graphics 620       1 TB HDD          1849.0      1849.0   \n",
       "4   NVIDIA GeForce 930MX (2 GB)       1 TB HDD          2499.0      3149.0   \n",
       "\n",
       "  ratings_5max  \n",
       "0        0 / 5  \n",
       "1      3.3 / 5  \n",
       "2        0 / 5  \n",
       "3        0 / 5  \n",
       "4        0 / 5  "
      ]
     },
     "execution_count": 6,
     "metadata": {},
     "output_type": "execute_result"
    }
   ],
   "source": [
    "# Drop the row which has the laptop_name missing and re-index\n",
    "\n",
    "laptops = laptops.dropna()\n",
    "\n",
    "laptops.reset_index(drop = True).head()"
   ]
  },
  {
   "cell_type": "markdown",
   "metadata": {},
   "source": [
    "## Questions"
   ]
  },
  {
   "cell_type": "code",
   "execution_count": 7,
   "metadata": {},
   "outputs": [
    {
     "name": "stdout",
     "output_type": "stream",
     "text": [
      "\n",
      "There are 9 unique laptop brands.\n",
      "\n"
     ]
    }
   ],
   "source": [
    "# How many laptop brands are there\n",
    "\n",
    "print(f'\\nThere are {laptops.brand.nunique()} unique laptop brands.\\n')\n"
   ]
  },
  {
   "cell_type": "code",
   "execution_count": 8,
   "metadata": {},
   "outputs": [
    {
     "data": {
      "text/html": [
       "<div>\n",
       "<style scoped>\n",
       "    .dataframe tbody tr th:only-of-type {\n",
       "        vertical-align: middle;\n",
       "    }\n",
       "\n",
       "    .dataframe tbody tr th {\n",
       "        vertical-align: top;\n",
       "    }\n",
       "\n",
       "    .dataframe thead th {\n",
       "        text-align: right;\n",
       "    }\n",
       "</style>\n",
       "<table border=\"1\" class=\"dataframe\">\n",
       "  <thead>\n",
       "    <tr style=\"text-align: right;\">\n",
       "      <th></th>\n",
       "      <th>laptop_name</th>\n",
       "      <th>list_price</th>\n",
       "    </tr>\n",
       "  </thead>\n",
       "  <tbody>\n",
       "    <tr>\n",
       "      <th>108</th>\n",
       "      <td>Aspire 1 A114-31-C6WP</td>\n",
       "      <td>999.0</td>\n",
       "    </tr>\n",
       "    <tr>\n",
       "      <th>132</th>\n",
       "      <td>MacBook Pro (Retina + Touch Bar)</td>\n",
       "      <td>12499.0</td>\n",
       "    </tr>\n",
       "  </tbody>\n",
       "</table>\n",
       "</div>"
      ],
      "text/plain": [
       "                          laptop_name  list_price\n",
       "108             Aspire 1 A114-31-C6WP       999.0\n",
       "132  MacBook Pro (Retina + Touch Bar)     12499.0"
      ]
     },
     "execution_count": 8,
     "metadata": {},
     "output_type": "execute_result"
    }
   ],
   "source": [
    "# What are the names and prices of the most and least expensive laptops?\n",
    "\n",
    "laptops.sort_values('list_price').iloc[[0,-1]][['laptop_name','list_price']]"
   ]
  },
  {
   "cell_type": "code",
   "execution_count": 9,
   "metadata": {},
   "outputs": [
    {
     "data": {
      "image/png": "[encoded data removed]",
      "text/plain": [
       "<Figure size 360x360 with 1 Axes>"
      ]
     },
     "metadata": {
      "needs_background": "light"
     },
     "output_type": "display_data"
    }
   ],
   "source": [
    "# How are the laptop prices distributed.\n",
    "\n",
    "g = sns.displot(data = laptops, x = 'list_price', bins = 15, kde = True)\n",
    "\n",
    "for ax in g.axes.flat:\n",
    "    ax.set(xlabel = 'Price');"
   ]
  },
  {
   "cell_type": "code",
   "execution_count": 10,
   "metadata": {},
   "outputs": [
    {
     "data": {
      "text/plain": [
       "count    204.000000\n",
       "mean      14.574804\n",
       "std        1.109869\n",
       "min       12.000000\n",
       "25%       13.300000\n",
       "50%       14.000000\n",
       "75%       15.600000\n",
       "max       18.400000\n",
       "Name: display_size, dtype: float64"
      ]
     },
     "execution_count": 10,
     "metadata": {},
     "output_type": "execute_result"
    }
   ],
   "source": [
    "# What are the min, max and mean display sizes?\n",
    "\n",
    "laptops.display_size.describe()"
   ]
  },
  {
   "cell_type": "markdown",
   "metadata": {},
   "source": [
    "## The min = 12\", the max = 18.4\" and the mean is 14.574\"."
   ]
  },
  {
   "cell_type": "code",
   "execution_count": 11,
   "metadata": {},
   "outputs": [
    {
     "data": {
      "text/html": [
       "<div>\n",
       "<style scoped>\n",
       "    .dataframe tbody tr th:only-of-type {\n",
       "        vertical-align: middle;\n",
       "    }\n",
       "\n",
       "    .dataframe tbody tr th {\n",
       "        vertical-align: top;\n",
       "    }\n",
       "\n",
       "    .dataframe thead th {\n",
       "        text-align: right;\n",
       "    }\n",
       "</style>\n",
       "<table border=\"1\" class=\"dataframe\">\n",
       "  <thead>\n",
       "    <tr style=\"text-align: right;\">\n",
       "      <th></th>\n",
       "      <th>brand</th>\n",
       "      <th>list_price</th>\n",
       "    </tr>\n",
       "  </thead>\n",
       "  <tbody>\n",
       "    <tr>\n",
       "      <th>7</th>\n",
       "      <td>MSI</td>\n",
       "      <td>9071.000000</td>\n",
       "    </tr>\n",
       "    <tr>\n",
       "      <th>1</th>\n",
       "      <td>Apple</td>\n",
       "      <td>7082.288158</td>\n",
       "    </tr>\n",
       "    <tr>\n",
       "      <th>8</th>\n",
       "      <td>Microsoft</td>\n",
       "      <td>5132.333333</td>\n",
       "    </tr>\n",
       "    <tr>\n",
       "      <th>5</th>\n",
       "      <td>Huawei</td>\n",
       "      <td>4040.666667</td>\n",
       "    </tr>\n",
       "    <tr>\n",
       "      <th>3</th>\n",
       "      <td>Dell</td>\n",
       "      <td>3872.029412</td>\n",
       "    </tr>\n",
       "    <tr>\n",
       "      <th>4</th>\n",
       "      <td>HP</td>\n",
       "      <td>3403.042553</td>\n",
       "    </tr>\n",
       "    <tr>\n",
       "      <th>2</th>\n",
       "      <td>Asus</td>\n",
       "      <td>3393.090909</td>\n",
       "    </tr>\n",
       "    <tr>\n",
       "      <th>0</th>\n",
       "      <td>Acer</td>\n",
       "      <td>2773.083333</td>\n",
       "    </tr>\n",
       "    <tr>\n",
       "      <th>6</th>\n",
       "      <td>Lenovo</td>\n",
       "      <td>2216.391304</td>\n",
       "    </tr>\n",
       "  </tbody>\n",
       "</table>\n",
       "</div>"
      ],
      "text/plain": [
       "       brand   list_price\n",
       "7        MSI  9071.000000\n",
       "1      Apple  7082.288158\n",
       "8  Microsoft  5132.333333\n",
       "5     Huawei  4040.666667\n",
       "3       Dell  3872.029412\n",
       "4         HP  3403.042553\n",
       "2       Asus  3393.090909\n",
       "0       Acer  2773.083333\n",
       "6     Lenovo  2216.391304"
      ]
     },
     "execution_count": 11,
     "metadata": {},
     "output_type": "execute_result"
    }
   ],
   "source": [
    "# What is the average price for each laptop brand.\n",
    "\n",
    "brand_prices = laptops.groupby(['brand']).mean()[['list_price']]\n",
    "\n",
    "brand_prices = brand_prices.reset_index().sort_values('list_price', ascending = False)\n",
    "\n",
    "brand_prices"
   ]
  },
  {
   "cell_type": "code",
   "execution_count": 12,
   "metadata": {},
   "outputs": [
    {
     "data": {
      "image/png": "[encoded data removed]",
      "text/plain": [
       "<Figure size 500x500 with 1 Axes>"
      ]
     },
     "metadata": {},
     "output_type": "display_data"
    }
   ],
   "source": [
    "# Plot the results of the groupby method.\n",
    "\n",
    "g = sns.catplot(data = brand_prices, x = 'list_price', y = 'brand', kind = 'bar')\n",
    "\n",
    "for ax in g.axes.flat:\n",
    "    ax.set(title = 'Average laptop price by brand.', \n",
    "           ylabel = 'Brand',\n",
    "           xlabel = 'List Price');"
   ]
  },
  {
   "cell_type": "markdown",
   "metadata": {},
   "source": [
    "# Section 2"
   ]
  },
  {
   "cell_type": "code",
   "execution_count": 13,
   "metadata": {},
   "outputs": [],
   "source": [
    "# Clean the data\n",
    "\n"
   ]
  },
  {
   "cell_type": "markdown",
   "metadata": {},
   "source": [
    "## What is the average laptop price for each processor brand?"
   ]
  },
  {
   "cell_type": "code",
   "execution_count": 14,
   "metadata": {},
   "outputs": [
    {
     "data": {
      "text/plain": [
       " Intel Core i5-8250U        38\n",
       " Intel Core i7-8550U        28\n",
       " Intel Core i7-8565U        24\n",
       " Intel Core i5 Dual Core    19\n",
       " Intel Core i5-8265U        17\n",
       " Intel Celeron N4000        11\n",
       " Intel Core i3-7020U         8\n",
       " Intel Core i5 Quad Core     8\n",
       " Intel Core i7-7500U         8\n",
       " Intel Core i5-7200U         6\n",
       " Intel Core i3-6006U         6\n",
       " Intel Core i7 6 Core        5\n",
       " Intel Core i3-8145U         4\n",
       " Intel Core i7 Quad Core     3\n",
       " Intel Core i7-7700HQ        2\n",
       " Intel Core i7-7820HK        2\n",
       " Intel Core i3-8130U         2\n",
       " Intel Celeron N3350         2\n",
       " Intel Celeron N3060         2\n",
       " Intel Core i7-8750H         2\n",
       " Intel Core M3               2\n",
       " Intel Core i9               1\n",
       " Intel Core i7-6700HQ        1\n",
       " Intel Core i3-5005U         1\n",
       " AMD A9-9425                 1\n",
       " Intel Celeron 4205U         1\n",
       "Name: processor_type, dtype: int64"
      ]
     },
     "execution_count": 14,
     "metadata": {},
     "output_type": "execute_result"
    }
   ],
   "source": [
    "# Examine the number and range of the processor_type column.\n",
    "\n",
    "laptops.processor_type.value_counts()"
   ]
  },
  {
   "cell_type": "code",
   "execution_count": 15,
   "metadata": {},
   "outputs": [],
   "source": [
    "# Extact the processor vendor from the processor_type column into a new column in the DataFrame.\n",
    "\n",
    "laptops['processor_brand'] = laptops.apply(lambda x: x.processor_type.split()[0], axis = 1)\n"
   ]
  },
  {
   "cell_type": "code",
   "execution_count": 16,
   "metadata": {},
   "outputs": [
    {
     "data": {
      "text/html": [
       "<div>\n",
       "<style scoped>\n",
       "    .dataframe tbody tr th:only-of-type {\n",
       "        vertical-align: middle;\n",
       "    }\n",
       "\n",
       "    .dataframe tbody tr th {\n",
       "        vertical-align: top;\n",
       "    }\n",
       "\n",
       "    .dataframe thead th {\n",
       "        text-align: right;\n",
       "    }\n",
       "</style>\n",
       "<table border=\"1\" class=\"dataframe\">\n",
       "  <thead>\n",
       "    <tr style=\"text-align: right;\">\n",
       "      <th></th>\n",
       "      <th>processor_brand</th>\n",
       "      <th>list_price</th>\n",
       "    </tr>\n",
       "  </thead>\n",
       "  <tbody>\n",
       "    <tr>\n",
       "      <th>0</th>\n",
       "      <td>AMD</td>\n",
       "      <td>1999.000000</td>\n",
       "    </tr>\n",
       "    <tr>\n",
       "      <th>1</th>\n",
       "      <td>Intel</td>\n",
       "      <td>4058.398768</td>\n",
       "    </tr>\n",
       "  </tbody>\n",
       "</table>\n",
       "</div>"
      ],
      "text/plain": [
       "  processor_brand   list_price\n",
       "0             AMD  1999.000000\n",
       "1           Intel  4058.398768"
      ]
     },
     "execution_count": 16,
     "metadata": {},
     "output_type": "execute_result"
    }
   ],
   "source": [
    "# Get the average list_price by processor_brand using the groupby() method.\n",
    "\n",
    "avgProcessorPrice = laptops.groupby('processor_brand').list_price.mean().reset_index()\n",
    "\n",
    "avgProcessorPrice.head()"
   ]
  },
  {
   "cell_type": "code",
   "execution_count": 17,
   "metadata": {},
   "outputs": [
    {
     "data": {
      "image/png": "[encoded data removed]",
      "text/plain": [
       "<Figure size 500x500 with 1 Axes>"
      ]
     },
     "metadata": {},
     "output_type": "display_data"
    }
   ],
   "source": [
    "# Plot the data for the average list_price by processor_brand.\n",
    "\n",
    "g = sns.catplot(data = avgProcessorPrice, x = 'processor_brand', y = 'list_price', kind = 'bar')\n",
    "\n",
    "for ax in g.axes.flat:\n",
    "    ax.set(title = 'Average price by Processor Brand',\n",
    "          xlabel = 'Processor Brand',\n",
    "          ylabel = 'Average Price');"
   ]
  },
  {
   "cell_type": "markdown",
   "metadata": {},
   "source": [
    "### The chart above shows the Average laptop price by Processor Brand."
   ]
  },
  {
   "cell_type": "markdown",
   "metadata": {},
   "source": [
    "## What are the average ratings for each laptop brand?"
   ]
  },
  {
   "cell_type": "code",
   "execution_count": 18,
   "metadata": {},
   "outputs": [
    {
     "data": {
      "text/plain": [
       "0 / 5      132\n",
       "4.0 / 5     10\n",
       "4.4 / 5      9\n",
       "3.9 / 5      9\n",
       "5.0 / 5      7\n",
       "4.1 / 5      6\n",
       "4.2 / 5      5\n",
       "3.7 / 5      5\n",
       "3.3 / 5      4\n",
       "3.8 / 5      4\n",
       "3.6 / 5      4\n",
       "4.6 / 5      4\n",
       "4.3 / 5      2\n",
       "4.9 / 5      1\n",
       "4.5 / 5      1\n",
       "3.0 / 5      1\n",
       "Name: ratings_5max, dtype: int64"
      ]
     },
     "execution_count": 18,
     "metadata": {},
     "output_type": "execute_result"
    }
   ],
   "source": [
    "# Examine the number and range of the ratings_5max column.\n",
    "\n",
    "laptops.ratings_5max.value_counts()\n"
   ]
  },
  {
   "cell_type": "code",
   "execution_count": 19,
   "metadata": {},
   "outputs": [
    {
     "data": {
      "text/html": [
       "<div>\n",
       "<style scoped>\n",
       "    .dataframe tbody tr th:only-of-type {\n",
       "        vertical-align: middle;\n",
       "    }\n",
       "\n",
       "    .dataframe tbody tr th {\n",
       "        vertical-align: top;\n",
       "    }\n",
       "\n",
       "    .dataframe thead th {\n",
       "        text-align: right;\n",
       "    }\n",
       "</style>\n",
       "<table border=\"1\" class=\"dataframe\">\n",
       "  <thead>\n",
       "    <tr style=\"text-align: right;\">\n",
       "      <th></th>\n",
       "      <th>brand</th>\n",
       "      <th>laptop_name</th>\n",
       "      <th>display_size</th>\n",
       "      <th>processor_type</th>\n",
       "      <th>graphics_card</th>\n",
       "      <th>disk_space</th>\n",
       "      <th>discount_price</th>\n",
       "      <th>list_price</th>\n",
       "      <th>processor_brand</th>\n",
       "      <th>rating</th>\n",
       "    </tr>\n",
       "  </thead>\n",
       "  <tbody>\n",
       "    <tr>\n",
       "      <th>0</th>\n",
       "      <td>HP</td>\n",
       "      <td>Notebook 14-df0008nx</td>\n",
       "      <td>14.0</td>\n",
       "      <td>Intel Celeron N4000</td>\n",
       "      <td>Intel HD Graphics 600</td>\n",
       "      <td>64 GB (eMMC)</td>\n",
       "      <td>1259.0</td>\n",
       "      <td>1259.0</td>\n",
       "      <td>Intel</td>\n",
       "      <td>NaN</td>\n",
       "    </tr>\n",
       "    <tr>\n",
       "      <th>1</th>\n",
       "      <td>Lenovo</td>\n",
       "      <td>IdeaPad 330S-14IKB</td>\n",
       "      <td>14.0</td>\n",
       "      <td>Intel Core i5-8250U</td>\n",
       "      <td>Intel UHD Graphics 620</td>\n",
       "      <td>1 TB HDD</td>\n",
       "      <td>1849.0</td>\n",
       "      <td>2099.0</td>\n",
       "      <td>Intel</td>\n",
       "      <td>3.3</td>\n",
       "    </tr>\n",
       "    <tr>\n",
       "      <th>2</th>\n",
       "      <td>Huawei</td>\n",
       "      <td>MateBook D Volta</td>\n",
       "      <td>14.0</td>\n",
       "      <td>Intel Core i5-8250U</td>\n",
       "      <td>NVIDIA GeForce MX150 (2 GB)</td>\n",
       "      <td>256 GB SSD</td>\n",
       "      <td>2999.0</td>\n",
       "      <td>3799.0</td>\n",
       "      <td>Intel</td>\n",
       "      <td>NaN</td>\n",
       "    </tr>\n",
       "    <tr>\n",
       "      <th>3</th>\n",
       "      <td>Dell</td>\n",
       "      <td>Inspiron 15 3567</td>\n",
       "      <td>15.6</td>\n",
       "      <td>Intel Core i3-7020U</td>\n",
       "      <td>Intel HD Graphics 620</td>\n",
       "      <td>1 TB HDD</td>\n",
       "      <td>1849.0</td>\n",
       "      <td>1849.0</td>\n",
       "      <td>Intel</td>\n",
       "      <td>NaN</td>\n",
       "    </tr>\n",
       "    <tr>\n",
       "      <th>4</th>\n",
       "      <td>Asus</td>\n",
       "      <td>VivoBook 15 X510UR</td>\n",
       "      <td>15.6</td>\n",
       "      <td>Intel Core i7-8550U</td>\n",
       "      <td>NVIDIA GeForce 930MX (2 GB)</td>\n",
       "      <td>1 TB HDD</td>\n",
       "      <td>2499.0</td>\n",
       "      <td>3149.0</td>\n",
       "      <td>Intel</td>\n",
       "      <td>NaN</td>\n",
       "    </tr>\n",
       "  </tbody>\n",
       "</table>\n",
       "</div>"
      ],
      "text/plain": [
       "    brand           laptop_name  display_size        processor_type  \\\n",
       "0      HP  Notebook 14-df0008nx          14.0   Intel Celeron N4000   \n",
       "1  Lenovo    IdeaPad 330S-14IKB          14.0   Intel Core i5-8250U   \n",
       "2  Huawei      MateBook D Volta          14.0   Intel Core i5-8250U   \n",
       "3    Dell      Inspiron 15 3567          15.6   Intel Core i3-7020U   \n",
       "4    Asus    VivoBook 15 X510UR          15.6   Intel Core i7-8550U   \n",
       "\n",
       "                  graphics_card     disk_space  discount_price  list_price  \\\n",
       "0         Intel HD Graphics 600   64 GB (eMMC)          1259.0      1259.0   \n",
       "1        Intel UHD Graphics 620       1 TB HDD          1849.0      2099.0   \n",
       "2   NVIDIA GeForce MX150 (2 GB)     256 GB SSD          2999.0      3799.0   \n",
       "3         Intel HD Graphics 620       1 TB HDD          1849.0      1849.0   \n",
       "4   NVIDIA GeForce 930MX (2 GB)       1 TB HDD          2499.0      3149.0   \n",
       "\n",
       "  processor_brand  rating  \n",
       "0           Intel     NaN  \n",
       "1           Intel     3.3  \n",
       "2           Intel     NaN  \n",
       "3           Intel     NaN  \n",
       "4           Intel     NaN  "
      ]
     },
     "execution_count": 19,
     "metadata": {},
     "output_type": "execute_result"
    }
   ],
   "source": [
    "# Extact the actual rating from the ratings_5max column into a new column in the DataFrame.\n",
    "\n",
    "laptops['rating'] = laptops.apply(lambda x: round(float(x.ratings_5max.split('/')[0]),1), axis = 1)\n",
    "\n",
    "# laptops.head()[['ratings_5max', 'rating']] # Used to see the results of the split() method.\n",
    "\n",
    "# Replace the 0.0 values with the numpy NaN value, to allow for the use of the dropna() method.\n",
    "\n",
    "laptops.rating.replace(0, np.NaN, inplace = True)\n",
    "\n",
    "# Drop the old ratings_5Max column, as it is no longer needed.\n",
    "\n",
    "laptops.drop(columns = ['ratings_5max'], inplace = True)\n",
    "\n",
    "# Show the top 5 rows of the laptops DataFrame\n",
    "\n",
    "laptops.head()\n"
   ]
  },
  {
   "cell_type": "code",
   "execution_count": 20,
   "metadata": {},
   "outputs": [
    {
     "data": {
      "text/plain": [
       "4.0    10\n",
       "4.4     9\n",
       "3.9     9\n",
       "5.0     7\n",
       "4.1     6\n",
       "4.2     5\n",
       "3.7     5\n",
       "3.3     4\n",
       "3.8     4\n",
       "3.6     4\n",
       "4.6     4\n",
       "4.3     2\n",
       "4.9     1\n",
       "4.5     1\n",
       "3.0     1\n",
       "Name: rating, dtype: int64"
      ]
     },
     "execution_count": 20,
     "metadata": {},
     "output_type": "execute_result"
    }
   ],
   "source": [
    "# Examine the number and range of the rating column.\n",
    "\n",
    "laptops.rating.value_counts()"
   ]
  },
  {
   "cell_type": "code",
   "execution_count": 21,
   "metadata": {},
   "outputs": [
    {
     "data": {
      "text/html": [
       "<div>\n",
       "<style scoped>\n",
       "    .dataframe tbody tr th:only-of-type {\n",
       "        vertical-align: middle;\n",
       "    }\n",
       "\n",
       "    .dataframe tbody tr th {\n",
       "        vertical-align: top;\n",
       "    }\n",
       "\n",
       "    .dataframe thead th {\n",
       "        text-align: right;\n",
       "    }\n",
       "</style>\n",
       "<table border=\"1\" class=\"dataframe\">\n",
       "  <thead>\n",
       "    <tr style=\"text-align: right;\">\n",
       "      <th></th>\n",
       "      <th>brand</th>\n",
       "      <th>rating</th>\n",
       "    </tr>\n",
       "  </thead>\n",
       "  <tbody>\n",
       "    <tr>\n",
       "      <th>1</th>\n",
       "      <td>Apple</td>\n",
       "      <td>4.335000</td>\n",
       "    </tr>\n",
       "    <tr>\n",
       "      <th>2</th>\n",
       "      <td>Asus</td>\n",
       "      <td>4.333333</td>\n",
       "    </tr>\n",
       "    <tr>\n",
       "      <th>4</th>\n",
       "      <td>HP</td>\n",
       "      <td>4.225000</td>\n",
       "    </tr>\n",
       "    <tr>\n",
       "      <th>5</th>\n",
       "      <td>Huawei</td>\n",
       "      <td>4.157143</td>\n",
       "    </tr>\n",
       "    <tr>\n",
       "      <th>8</th>\n",
       "      <td>Microsoft</td>\n",
       "      <td>4.100000</td>\n",
       "    </tr>\n",
       "    <tr>\n",
       "      <th>3</th>\n",
       "      <td>Dell</td>\n",
       "      <td>3.980000</td>\n",
       "    </tr>\n",
       "    <tr>\n",
       "      <th>6</th>\n",
       "      <td>Lenovo</td>\n",
       "      <td>3.830769</td>\n",
       "    </tr>\n",
       "    <tr>\n",
       "      <th>0</th>\n",
       "      <td>Acer</td>\n",
       "      <td>3.800000</td>\n",
       "    </tr>\n",
       "    <tr>\n",
       "      <th>7</th>\n",
       "      <td>MSI</td>\n",
       "      <td>NaN</td>\n",
       "    </tr>\n",
       "  </tbody>\n",
       "</table>\n",
       "</div>"
      ],
      "text/plain": [
       "       brand    rating\n",
       "1      Apple  4.335000\n",
       "2       Asus  4.333333\n",
       "4         HP  4.225000\n",
       "5     Huawei  4.157143\n",
       "8  Microsoft  4.100000\n",
       "3       Dell  3.980000\n",
       "6     Lenovo  3.830769\n",
       "0       Acer  3.800000\n",
       "7        MSI       NaN"
      ]
     },
     "execution_count": 21,
     "metadata": {},
     "output_type": "execute_result"
    }
   ],
   "source": [
    "# Get the average rating by brand using the groupby() method.\n",
    "\n",
    "avgRating = laptops.groupby(['brand']).rating.mean()\n",
    "\n",
    "avgRating = avgRating.reset_index().sort_values('rating', ascending = False)\n",
    "\n",
    "avgRating"
   ]
  },
  {
   "cell_type": "code",
   "execution_count": 22,
   "metadata": {},
   "outputs": [
    {
     "data": {
      "image/png": "[encoded data removed]",
      "text/plain": [
       "<Figure size 500x500 with 1 Axes>"
      ]
     },
     "metadata": {},
     "output_type": "display_data"
    }
   ],
   "source": [
    "# Plot the data for the average rating by brand.\n",
    "\n",
    "g = sns.catplot(data = avgRating.query('rating > 0'), x = 'rating', y = 'brand', kind = 'bar', ci = None)\n",
    "\n",
    "for ax in g.axes.flat:\n",
    "    ax.set(title = 'Average Rating by Laptop Brand',\n",
    "          xlabel = 'Rating',\n",
    "          ylabel = 'Brand');"
   ]
  },
  {
   "cell_type": "markdown",
   "metadata": {},
   "source": [
    "### The chart above shows the average rating by Laptop Brand."
   ]
  },
  {
   "cell_type": "markdown",
   "metadata": {},
   "source": [
    "## What is the average laptop price for each graphics card brand?"
   ]
  },
  {
   "cell_type": "code",
   "execution_count": 23,
   "metadata": {},
   "outputs": [
    {
     "data": {
      "text/plain": [
       " NVIDIA GeForce MX150 (2 GB)           25\n",
       " Intel UHD Graphics 620                24\n",
       " Intel GMA HD                          15\n",
       " NVIDIA GeForce MX130 (2 GB)           13\n",
       " Intel HD Graphics 620                 12\n",
       " Intel UHD Graphics 617                12\n",
       " AMD Radeon 530 (2 GB)                  7\n",
       " NVIDIA GeForce MX110 (2 GB)            6\n",
       " Intel HD Graphics 600                  5\n",
       " AMD Radeon 520 (2 GB)                  5\n",
       " Intel UHD Graphics 600                 5\n",
       " Intel Iris Plus Graphics 645           4\n",
       " Intel Iris Plus Graphics 640           4\n",
       " Intel Iris Plus Graphics 655           4\n",
       " NVIDIA GeForce MX150 (4 GB)            4\n",
       " AMD Radeon 530 (4 GB)                  4\n",
       " Intel Graphics 620                     4\n",
       " NVIDIA GeForce MX250 (4 GB)            3\n",
       " Radeon Pro 560X GDDR5 (4 GB)           3\n",
       " Radeon Pro 555X GDDR5 (4 GB)           3\n",
       " NVIDIA GeForce MX130 (4 GB)            3\n",
       " Intel HD Graphics 520                  3\n",
       " AMD Radeon R5-M340 (2 GB)              2\n",
       " NVIDIA GeForce 940MX (2 GB)            2\n",
       " NVIDIA GeForce MX250 (2 GB)            2\n",
       " NVIDIA GeForce GTX 1050 Ti (4 GB)      2\n",
       " Intel HD Graphics 615                  2\n",
       " NVIDIA GeForce MX230 (2 GB)            2\n",
       " AMD Radeon 540 (4 GB)                  1\n",
       " Radeon Pro 555 GDDR5 (2 GB)            1\n",
       " Intel Iris Graphics 550                1\n",
       " NVIDIA GeForce 930MX (2 GB)            1\n",
       " NVIDIA GeForce 940MX (4 GB)            1\n",
       " AMD Radeon R7-M445 (4 GB)              1\n",
       " AMD Radeon R5                          1\n",
       " NVIDIA GeForce GT 940MX (2 GB)         1\n",
       " Intel HD Graphics 6000                 1\n",
       " Intel Iris Plus Graphics 650           1\n",
       " Intel Iris Pro Graphics                1\n",
       " AMD Radeon 535 (2 GB)                  1\n",
       " NVIDIA GeForce GTX 1080 (8 GB)         1\n",
       " NVIDIA GeForce GTX 1050 (4 GB)         1\n",
       " AMD Radeon 530M (4 GB)                 1\n",
       " AMD Radeon R9-M370X (2 GB)             1\n",
       " NVIDIA GeForce GTX 980M (8 GB)         1\n",
       " NVIDIA GeForce GTX 1070 (8 GB)         1\n",
       " NVIDIA GeForce GTX 1080 (8 GB) SLI     1\n",
       " Intel HD Graphics 500                  1\n",
       " Intel HD Graphics 505                  1\n",
       " Intel HD Graphics 400                  1\n",
       " NVIDIA GeForce GTX 1050 (3 GB)         1\n",
       " AMD Radeon R5-M430 (2 GB)              1\n",
       "Name: graphics_card, dtype: int64"
      ]
     },
     "execution_count": 23,
     "metadata": {},
     "output_type": "execute_result"
    }
   ],
   "source": [
    "# Examine the number and range of the ratings_5max column.\n",
    "\n",
    "laptops.graphics_card.value_counts()\n"
   ]
  },
  {
   "cell_type": "code",
   "execution_count": 24,
   "metadata": {},
   "outputs": [
    {
     "data": {
      "text/html": [
       "<div>\n",
       "<style scoped>\n",
       "    .dataframe tbody tr th:only-of-type {\n",
       "        vertical-align: middle;\n",
       "    }\n",
       "\n",
       "    .dataframe tbody tr th {\n",
       "        vertical-align: top;\n",
       "    }\n",
       "\n",
       "    .dataframe thead th {\n",
       "        text-align: right;\n",
       "    }\n",
       "</style>\n",
       "<table border=\"1\" class=\"dataframe\">\n",
       "  <thead>\n",
       "    <tr style=\"text-align: right;\">\n",
       "      <th></th>\n",
       "      <th>brand</th>\n",
       "      <th>laptop_name</th>\n",
       "      <th>display_size</th>\n",
       "      <th>processor_type</th>\n",
       "      <th>graphics_card</th>\n",
       "      <th>disk_space</th>\n",
       "      <th>discount_price</th>\n",
       "      <th>list_price</th>\n",
       "      <th>processor_brand</th>\n",
       "      <th>rating</th>\n",
       "      <th>graphics_brand</th>\n",
       "    </tr>\n",
       "  </thead>\n",
       "  <tbody>\n",
       "    <tr>\n",
       "      <th>0</th>\n",
       "      <td>HP</td>\n",
       "      <td>Notebook 14-df0008nx</td>\n",
       "      <td>14.0</td>\n",
       "      <td>Intel Celeron N4000</td>\n",
       "      <td>Intel HD Graphics 600</td>\n",
       "      <td>64 GB (eMMC)</td>\n",
       "      <td>1259.0</td>\n",
       "      <td>1259.0</td>\n",
       "      <td>Intel</td>\n",
       "      <td>NaN</td>\n",
       "      <td>Intel</td>\n",
       "    </tr>\n",
       "    <tr>\n",
       "      <th>1</th>\n",
       "      <td>Lenovo</td>\n",
       "      <td>IdeaPad 330S-14IKB</td>\n",
       "      <td>14.0</td>\n",
       "      <td>Intel Core i5-8250U</td>\n",
       "      <td>Intel UHD Graphics 620</td>\n",
       "      <td>1 TB HDD</td>\n",
       "      <td>1849.0</td>\n",
       "      <td>2099.0</td>\n",
       "      <td>Intel</td>\n",
       "      <td>3.3</td>\n",
       "      <td>Intel</td>\n",
       "    </tr>\n",
       "    <tr>\n",
       "      <th>2</th>\n",
       "      <td>Huawei</td>\n",
       "      <td>MateBook D Volta</td>\n",
       "      <td>14.0</td>\n",
       "      <td>Intel Core i5-8250U</td>\n",
       "      <td>NVIDIA GeForce MX150 (2 GB)</td>\n",
       "      <td>256 GB SSD</td>\n",
       "      <td>2999.0</td>\n",
       "      <td>3799.0</td>\n",
       "      <td>Intel</td>\n",
       "      <td>NaN</td>\n",
       "      <td>NVIDIA</td>\n",
       "    </tr>\n",
       "    <tr>\n",
       "      <th>3</th>\n",
       "      <td>Dell</td>\n",
       "      <td>Inspiron 15 3567</td>\n",
       "      <td>15.6</td>\n",
       "      <td>Intel Core i3-7020U</td>\n",
       "      <td>Intel HD Graphics 620</td>\n",
       "      <td>1 TB HDD</td>\n",
       "      <td>1849.0</td>\n",
       "      <td>1849.0</td>\n",
       "      <td>Intel</td>\n",
       "      <td>NaN</td>\n",
       "      <td>Intel</td>\n",
       "    </tr>\n",
       "    <tr>\n",
       "      <th>4</th>\n",
       "      <td>Asus</td>\n",
       "      <td>VivoBook 15 X510UR</td>\n",
       "      <td>15.6</td>\n",
       "      <td>Intel Core i7-8550U</td>\n",
       "      <td>NVIDIA GeForce 930MX (2 GB)</td>\n",
       "      <td>1 TB HDD</td>\n",
       "      <td>2499.0</td>\n",
       "      <td>3149.0</td>\n",
       "      <td>Intel</td>\n",
       "      <td>NaN</td>\n",
       "      <td>NVIDIA</td>\n",
       "    </tr>\n",
       "  </tbody>\n",
       "</table>\n",
       "</div>"
      ],
      "text/plain": [
       "    brand           laptop_name  display_size        processor_type  \\\n",
       "0      HP  Notebook 14-df0008nx          14.0   Intel Celeron N4000   \n",
       "1  Lenovo    IdeaPad 330S-14IKB          14.0   Intel Core i5-8250U   \n",
       "2  Huawei      MateBook D Volta          14.0   Intel Core i5-8250U   \n",
       "3    Dell      Inspiron 15 3567          15.6   Intel Core i3-7020U   \n",
       "4    Asus    VivoBook 15 X510UR          15.6   Intel Core i7-8550U   \n",
       "\n",
       "                  graphics_card     disk_space  discount_price  list_price  \\\n",
       "0         Intel HD Graphics 600   64 GB (eMMC)          1259.0      1259.0   \n",
       "1        Intel UHD Graphics 620       1 TB HDD          1849.0      2099.0   \n",
       "2   NVIDIA GeForce MX150 (2 GB)     256 GB SSD          2999.0      3799.0   \n",
       "3         Intel HD Graphics 620       1 TB HDD          1849.0      1849.0   \n",
       "4   NVIDIA GeForce 930MX (2 GB)       1 TB HDD          2499.0      3149.0   \n",
       "\n",
       "  processor_brand  rating graphics_brand  \n",
       "0           Intel     NaN          Intel  \n",
       "1           Intel     3.3          Intel  \n",
       "2           Intel     NaN         NVIDIA  \n",
       "3           Intel     NaN          Intel  \n",
       "4           Intel     NaN         NVIDIA  "
      ]
     },
     "execution_count": 24,
     "metadata": {},
     "output_type": "execute_result"
    }
   ],
   "source": [
    "# Extact the graphics_brand name from the the graphics_card column into a new column in the DataFrame.\n",
    "\n",
    "laptops['graphics_brand'] = laptops.apply(lambda x: x.graphics_card.split()[0], axis = 1)\n",
    "\n",
    "laptops.head()"
   ]
  },
  {
   "cell_type": "code",
   "execution_count": 25,
   "metadata": {},
   "outputs": [
    {
     "data": {
      "text/html": [
       "<div>\n",
       "<style scoped>\n",
       "    .dataframe tbody tr th:only-of-type {\n",
       "        vertical-align: middle;\n",
       "    }\n",
       "\n",
       "    .dataframe tbody tr th {\n",
       "        vertical-align: top;\n",
       "    }\n",
       "\n",
       "    .dataframe thead th {\n",
       "        text-align: right;\n",
       "    }\n",
       "</style>\n",
       "<table border=\"1\" class=\"dataframe\">\n",
       "  <thead>\n",
       "    <tr style=\"text-align: right;\">\n",
       "      <th></th>\n",
       "      <th>graphics_brand</th>\n",
       "      <th>list_price</th>\n",
       "    </tr>\n",
       "  </thead>\n",
       "  <tbody>\n",
       "    <tr>\n",
       "      <th>3</th>\n",
       "      <td>Radeon</td>\n",
       "      <td>10739.000000</td>\n",
       "    </tr>\n",
       "    <tr>\n",
       "      <th>2</th>\n",
       "      <td>NVIDIA</td>\n",
       "      <td>4222.281690</td>\n",
       "    </tr>\n",
       "    <tr>\n",
       "      <th>1</th>\n",
       "      <td>Intel</td>\n",
       "      <td>3729.692574</td>\n",
       "    </tr>\n",
       "    <tr>\n",
       "      <th>0</th>\n",
       "      <td>AMD</td>\n",
       "      <td>2968.000000</td>\n",
       "    </tr>\n",
       "  </tbody>\n",
       "</table>\n",
       "</div>"
      ],
      "text/plain": [
       "  graphics_brand    list_price\n",
       "3         Radeon  10739.000000\n",
       "2         NVIDIA   4222.281690\n",
       "1          Intel   3729.692574\n",
       "0            AMD   2968.000000"
      ]
     },
     "execution_count": 25,
     "metadata": {},
     "output_type": "execute_result"
    }
   ],
   "source": [
    "# Get the average list_price by graphics_brand using the groupby() method.\n",
    "\n",
    "graphics = laptops.groupby(['graphics_brand']).list_price.mean()\n",
    "\n",
    "graphics = graphics.reset_index().sort_values('list_price', ascending = False)\n",
    "\n",
    "graphics"
   ]
  },
  {
   "cell_type": "code",
   "execution_count": 26,
   "metadata": {},
   "outputs": [
    {
     "data": {
      "image/png": "[encoded data removed]",
      "text/plain": [
       "<Figure size 500x500 with 1 Axes>"
      ]
     },
     "metadata": {},
     "output_type": "display_data"
    }
   ],
   "source": [
    "# Plot the data for the average rating by brand.\n",
    "\n",
    "g = sns.catplot(data = graphics, x = 'graphics_brand', y = 'list_price', kind = 'bar')\n",
    "\n",
    "for ax in g.axes.flat:\n",
    "    ax.set(title = 'Average Laptop Price by Graphics Brand',\n",
    "          ylabel = 'List Price',\n",
    "          xlabel = 'Graphics Brand');"
   ]
  },
  {
   "cell_type": "markdown",
   "metadata": {},
   "source": [
    "### The chart above shows the average Laptop Price by Graphics  Brand."
   ]
  },
  {
   "cell_type": "markdown",
   "metadata": {},
   "source": [
    "## What percent of laptops have a discount price?"
   ]
  },
  {
   "cell_type": "code",
   "execution_count": 27,
   "metadata": {},
   "outputs": [
    {
     "name": "stdout",
     "output_type": "stream",
     "text": [
      "\n",
      "The precent of laptops with a discounted price is 49.51%.\n",
      "\n"
     ]
    }
   ],
   "source": [
    "# Determine if a laptop has a discounted price, using a lamda function.\n",
    "\n",
    "laptops['discounted'] = laptops.apply(lambda x: 1 if x.discount_price != x.list_price else 0, axis = 1)\n",
    "\n",
    "# Calculate the percent of laptops with a discounted price\n",
    "\n",
    "percent = laptops.discounted.sum() / laptops.laptop_name.count()\n",
    "\n",
    "print(f'\\nThe precent of laptops with a discounted price is {percent * 100:.2f}%.\\n')\n"
   ]
  },
  {
   "cell_type": "markdown",
   "metadata": {},
   "source": [
    "### About 50%."
   ]
  },
  {
   "cell_type": "code",
   "execution_count": null,
   "metadata": {},
   "outputs": [],
   "source": []
  },
  {
   "cell_type": "markdown",
   "metadata": {},
   "source": [
    "## How is the display size related to price? ~ 13:10 in Video"
   ]
  },
  {
   "cell_type": "code",
   "execution_count": 28,
   "metadata": {},
   "outputs": [
    {
     "data": {
      "image/png": "[encoded data removed]",
      "text/plain": [
       "<Figure size 640x480 with 1 Axes>"
      ]
     },
     "metadata": {},
     "output_type": "display_data"
    }
   ],
   "source": [
    "laptops.plot(x = 'list_price', y = 'display_size', kind = 'scatter');"
   ]
  },
  {
   "cell_type": "markdown",
   "metadata": {},
   "source": [
    "### Based on this scatter plot, it is difficult to see a relationship between Diplay Size and List Price."
   ]
  },
  {
   "cell_type": "code",
   "execution_count": null,
   "metadata": {},
   "outputs": [],
   "source": []
  },
  {
   "cell_type": "markdown",
   "metadata": {},
   "source": [
    "## How is the disk space related to price?"
   ]
  },
  {
   "cell_type": "code",
   "execution_count": 29,
   "metadata": {},
   "outputs": [
    {
     "data": {
      "text/plain": [
       " 1 TB HDD                             59\n",
       " 256 GB SSD                           21\n",
       " 512 GB SSD                           15\n",
       " 128 GB M.2 SSD/1 TB HDD              13\n",
       " 128 GB SSD/1 TB HDD                  11\n",
       " 500 GB HDD                            8\n",
       " 64 GB (eMMC)                          7\n",
       " 128 GB (PCIe SSD)                     6\n",
       " 256 GB (PCIe SSD)                     6\n",
       " 256 GB PCIe NVMe M.2 SSD              6\n",
       " 2 TB HDD                              6\n",
       " 512 GB PCIe NVMe M.2 SSD              5\n",
       " 128 GB SSD                            5\n",
       " 1 TB PCIe NVMe M.2 SSD                5\n",
       " 16 GB (Optane)/1 TB HDD               4\n",
       " 256 GB SSD/1 TB HDD                   4\n",
       " 512 GB NVMe M.2 SSD                   3\n",
       " 256 GB NVMe M.2 SSD/1 TB HDD          3\n",
       " 256 GB M.2 SSD/1 TB HDD               3\n",
       " 1 TB SSD                              2\n",
       " 128 GB PCIe NVMe M.2 SSD/1 TB HDD     2\n",
       " 8 GB (Cache Flash)/1 TB HDD           2\n",
       " 256 GB (PCIe Flash)                   1\n",
       " 128 GB M.2 SSD                        1\n",
       " 128 GB (PCIe Flash)                   1\n",
       " 256 GB NVMe M.2 SSD                   1\n",
       " 32 GB (eMMC)                          1\n",
       " 512 GB (PCIe Flash)                   1\n",
       " 256 GB SSD (Super Raid)/1 TB HDD      1\n",
       " 128 GB PCIe NVMe M.2 SSD              1\n",
       "Name: disk_space, dtype: int64"
      ]
     },
     "execution_count": 29,
     "metadata": {},
     "output_type": "execute_result"
    }
   ],
   "source": [
    "# Display a value_count() of the disk_space column.\n",
    "\n",
    "laptops.disk_space.value_counts()"
   ]
  },
  {
   "cell_type": "code",
   "execution_count": 30,
   "metadata": {},
   "outputs": [],
   "source": [
    "# Define a function to extract a numeric value from the disk_space column.\n",
    "\n",
    "def isolateDiskSpace(row):\n",
    "    storageType = row.disk_space.split()[1]\n",
    "    storageValue = row.disk_space.split()[0]\n",
    "    spaceGB = 0\n",
    "    if storageType == 'GB':\n",
    "        spaceGB = int(storageValue)\n",
    "    elif storageType == 'TB':\n",
    "        spaceGB = int(storageValue) * 1000\n",
    "    return spaceGB\n"
   ]
  },
  {
   "cell_type": "code",
   "execution_count": 43,
   "metadata": {},
   "outputs": [
    {
     "data": {
      "text/html": [
       "<div>\n",
       "<style scoped>\n",
       "    .dataframe tbody tr th:only-of-type {\n",
       "        vertical-align: middle;\n",
       "    }\n",
       "\n",
       "    .dataframe tbody tr th {\n",
       "        vertical-align: top;\n",
       "    }\n",
       "\n",
       "    .dataframe thead th {\n",
       "        text-align: right;\n",
       "    }\n",
       "</style>\n",
       "<table border=\"1\" class=\"dataframe\">\n",
       "  <thead>\n",
       "    <tr style=\"text-align: right;\">\n",
       "      <th></th>\n",
       "      <th>disk_space_GB</th>\n",
       "      <th>disk_space</th>\n",
       "    </tr>\n",
       "  </thead>\n",
       "  <tbody>\n",
       "    <tr>\n",
       "      <th>0</th>\n",
       "      <td>64</td>\n",
       "      <td>64 GB (eMMC)</td>\n",
       "    </tr>\n",
       "    <tr>\n",
       "      <th>1</th>\n",
       "      <td>1000</td>\n",
       "      <td>1 TB HDD</td>\n",
       "    </tr>\n",
       "    <tr>\n",
       "      <th>2</th>\n",
       "      <td>256</td>\n",
       "      <td>256 GB SSD</td>\n",
       "    </tr>\n",
       "    <tr>\n",
       "      <th>3</th>\n",
       "      <td>1000</td>\n",
       "      <td>1 TB HDD</td>\n",
       "    </tr>\n",
       "    <tr>\n",
       "      <th>4</th>\n",
       "      <td>1000</td>\n",
       "      <td>1 TB HDD</td>\n",
       "    </tr>\n",
       "  </tbody>\n",
       "</table>\n",
       "</div>"
      ],
      "text/plain": [
       "   disk_space_GB     disk_space\n",
       "0             64   64 GB (eMMC)\n",
       "1           1000       1 TB HDD\n",
       "2            256     256 GB SSD\n",
       "3           1000       1 TB HDD\n",
       "4           1000       1 TB HDD"
      ]
     },
     "execution_count": 43,
     "metadata": {},
     "output_type": "execute_result"
    }
   ],
   "source": [
    "# Create a new column for the disk_space numeric value.\n",
    "\n",
    "laptops['disk_space_GB'] = laptops.apply(isolateDiskSpace, axis = 1)\n",
    "\n",
    "# Display the added column and the source column.\n",
    "laptops[['disk_space_GB', 'disk_space']].head()"
   ]
  },
  {
   "cell_type": "code",
   "execution_count": 44,
   "metadata": {},
   "outputs": [
    {
     "data": {
      "text/plain": [
       "1000    66\n",
       "256     46\n",
       "128     40\n",
       "512     24\n",
       "500      8\n",
       "64       7\n",
       "2000     6\n",
       "16       4\n",
       "8        2\n",
       "32       1\n",
       "Name: disk_space_GB, dtype: int64"
      ]
     },
     "execution_count": 44,
     "metadata": {},
     "output_type": "execute_result"
    }
   ],
   "source": [
    "# Count the resulting disk_space_GB values\n",
    "\n",
    "laptops.disk_space_GB.value_counts()"
   ]
  },
  {
   "cell_type": "code",
   "execution_count": 46,
   "metadata": {},
   "outputs": [
    {
     "data": {
      "image/png": "[encoded data removed]",
      "text/plain": [
       "<Figure size 640x480 with 1 Axes>"
      ]
     },
     "metadata": {},
     "output_type": "display_data"
    }
   ],
   "source": [
    "# Create a scatter plot of the list_price vs disk_space_GB columns.\n",
    "\n",
    "laptops.plot(x = 'list_price', y = 'disk_space_GB', kind = 'scatter');"
   ]
  },
  {
   "cell_type": "markdown",
   "metadata": {},
   "source": [
    "### Based on this scatter plot, it is difficult to see a relationship between Disk Space (in GB) and List Price."
   ]
  },
  {
   "cell_type": "code",
   "execution_count": null,
   "metadata": {},
   "outputs": [],
   "source": []
  }
 ],
 "metadata": {
  "kernelspec": {
   "display_name": "Python 3 (ipykernel)",
   "language": "python",
   "name": "python3"
  },
  "language_info": {
   "codemirror_mode": {
    "name": "ipython",
    "version": 3
   },
   "file_extension": ".py",
   "mimetype": "text/x-python",
   "name": "python",
   "nbconvert_exporter": "python",
   "pygments_lexer": "ipython3",
   "version": "3.10.6"
  }
 },
 "nbformat": 4,
 "nbformat_minor": 4
}
