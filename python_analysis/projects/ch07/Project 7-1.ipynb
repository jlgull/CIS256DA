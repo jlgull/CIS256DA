{
 "cells": [
  {
   "cell_type": "markdown",
   "id": "3bc1a68d-6553-4535-a28e-02b22ba98dc2",
   "metadata": {},
   "source": [
    "# Project 7-1: Prepare the ramen data"
   ]
  },
  {
   "cell_type": "markdown",
   "id": "c58bb356-ce5a-4d8e-b90f-6c3aa2fb68ad",
   "metadata": {},
   "source": [
    "## The data for this project is in: ramen-ratings.csv"
   ]
  },
  {
   "cell_type": "code",
   "execution_count": 1,
   "id": "d1fef3c1-df55-4aec-bf79-75599aa154cd",
   "metadata": {},
   "outputs": [],
   "source": [
    "# Import needed modules\n",
    "\n",
    "# Import pandas and create the alias pd\n",
    "import pandas as pd"
   ]
  },
  {
   "cell_type": "markdown",
   "id": "48780d46-487e-4317-af6d-52fa7313607d",
   "metadata": {},
   "source": [
    "## Tasks"
   ]
  },
  {
   "cell_type": "code",
   "execution_count": 2,
   "id": "3f0d8d87-1fa2-4a38-8afd-0d2bf679e5bb",
   "metadata": {},
   "outputs": [
    {
     "data": {
      "text/html": [
       "<div>\n",
       "<style scoped>\n",
       "    .dataframe tbody tr th:only-of-type {\n",
       "        vertical-align: middle;\n",
       "    }\n",
       "\n",
       "    .dataframe tbody tr th {\n",
       "        vertical-align: top;\n",
       "    }\n",
       "\n",
       "    .dataframe thead th {\n",
       "        text-align: right;\n",
       "    }\n",
       "</style>\n",
       "<table border=\"1\" class=\"dataframe\">\n",
       "  <thead>\n",
       "    <tr style=\"text-align: right;\">\n",
       "      <th></th>\n",
       "      <th>Brand</th>\n",
       "      <th>Variety</th>\n",
       "      <th>Style</th>\n",
       "      <th>Country</th>\n",
       "      <th>Stars</th>\n",
       "    </tr>\n",
       "  </thead>\n",
       "  <tbody>\n",
       "    <tr>\n",
       "      <th>0</th>\n",
       "      <td>New Touch</td>\n",
       "      <td>T's Restaurant Tantanmen</td>\n",
       "      <td>Cup</td>\n",
       "      <td>Japan</td>\n",
       "      <td>3.75</td>\n",
       "    </tr>\n",
       "    <tr>\n",
       "      <th>1</th>\n",
       "      <td>Just Way</td>\n",
       "      <td>Noodles Spicy Hot Sesame Spicy Hot Sesame Guan...</td>\n",
       "      <td>Pack</td>\n",
       "      <td>Taiwan</td>\n",
       "      <td>1.00</td>\n",
       "    </tr>\n",
       "    <tr>\n",
       "      <th>2</th>\n",
       "      <td>Nissin</td>\n",
       "      <td>Cup Noodles Chicken Vegetable</td>\n",
       "      <td>Cup</td>\n",
       "      <td>USA</td>\n",
       "      <td>2.25</td>\n",
       "    </tr>\n",
       "    <tr>\n",
       "      <th>3</th>\n",
       "      <td>Wei Lih</td>\n",
       "      <td>GGE Ramen Snack Tomato Flavor</td>\n",
       "      <td>Pack</td>\n",
       "      <td>Taiwan</td>\n",
       "      <td>2.75</td>\n",
       "    </tr>\n",
       "    <tr>\n",
       "      <th>4</th>\n",
       "      <td>Ching's Secret</td>\n",
       "      <td>Singapore Curry</td>\n",
       "      <td>Pack</td>\n",
       "      <td>India</td>\n",
       "      <td>3.75</td>\n",
       "    </tr>\n",
       "  </tbody>\n",
       "</table>\n",
       "</div>"
      ],
      "text/plain": [
       "            Brand                                            Variety Style  \\\n",
       "0       New Touch                          T's Restaurant Tantanmen    Cup   \n",
       "1        Just Way  Noodles Spicy Hot Sesame Spicy Hot Sesame Guan...  Pack   \n",
       "2          Nissin                      Cup Noodles Chicken Vegetable   Cup   \n",
       "3         Wei Lih                      GGE Ramen Snack Tomato Flavor  Pack   \n",
       "4  Ching's Secret                                    Singapore Curry  Pack   \n",
       "\n",
       "  Country  Stars  \n",
       "0   Japan   3.75  \n",
       "1  Taiwan   1.00  \n",
       "2     USA   2.25  \n",
       "3  Taiwan   2.75  \n",
       "4   India   3.75  "
      ]
     },
     "execution_count": 2,
     "metadata": {},
     "output_type": "execute_result"
    }
   ],
   "source": [
    "# Create a ramen DataFrame using read_csv from the ramen-ratings.csv\n",
    "#    and display the first 5 rows.\n",
    "\n",
    "ramen = pd.read_csv('ramen-ratings.csv')\n",
    "\n",
    "ramen.head()\n"
   ]
  },
  {
   "cell_type": "code",
   "execution_count": 3,
   "id": "5665a6ae-569b-422b-a97d-593ed7a817f3",
   "metadata": {},
   "outputs": [
    {
     "name": "stdout",
     "output_type": "stream",
     "text": [
      "<class 'pandas.core.frame.DataFrame'>\n",
      "RangeIndex: 2577 entries, 0 to 2576\n",
      "Data columns (total 5 columns):\n",
      " #   Column   Non-Null Count  Dtype  \n",
      "---  ------   --------------  -----  \n",
      " 0   Brand    2577 non-null   object \n",
      " 1   Variety  2577 non-null   object \n",
      " 2   Style    2575 non-null   object \n",
      " 3   Country  2577 non-null   object \n",
      " 4   Stars    2577 non-null   float64\n",
      "dtypes: float64(1), object(4)\n",
      "memory usage: 715.8 KB\n"
     ]
    }
   ],
   "source": [
    "ramen.info(memory_usage = 'deep')"
   ]
  },
  {
   "cell_type": "code",
   "execution_count": null,
   "id": "c2bdabcf-b784-431b-b579-4a8c5a308b7c",
   "metadata": {},
   "outputs": [],
   "source": [
    "# Task 2, rename the Stars column to Rating.\n",
    "\n",
    "ramen.rename(columns = {'Stars':'Rating'}, inplace = True)"
   ]
  },
  {
   "cell_type": "code",
   "execution_count": null,
   "id": "884f1d92-cd96-4457-84d1-4c8590dba987",
   "metadata": {},
   "outputs": [],
   "source": [
    "# Task 3, convert the Style column to the category type\n",
    "ramen.Style = ramen.Style.astype('category')"
   ]
  },
  {
   "cell_type": "code",
   "execution_count": null,
   "id": "49da593f-42c9-40c0-ae9d-7b4c3ec90f87",
   "metadata": {},
   "outputs": [],
   "source": [
    "# Task 4, drop the Country column\n",
    "ramen.drop(columns = ['Country'], inplace = True)"
   ]
  },
  {
   "cell_type": "code",
   "execution_count": null,
   "id": "cf34aaa1-55c9-4e73-b84d-fda868fb03d6",
   "metadata": {},
   "outputs": [],
   "source": [
    "# Task 5, Check that the changes have been applied.\n",
    "\n",
    "ramen.info(memory_usage = 'deep')"
   ]
  },
  {
   "cell_type": "code",
   "execution_count": null,
   "id": "6efc9b14-9e56-4ece-b204-9ed52b52b7bc",
   "metadata": {},
   "outputs": [],
   "source": [
    "# Task 6, rename the Brand column to Company and the Variety column to Product\n",
    "rename_columns_dic = {'Brand':'Company', 'Variety':'Product'}\n",
    "\n",
    "ramen.rename(columns = rename_columns_dic, inplace = True)"
   ]
  },
  {
   "cell_type": "code",
   "execution_count": null,
   "id": "27727953-69df-4023-9395-8e91e673bb9a",
   "metadata": {},
   "outputs": [],
   "source": [
    "# Task 7, use the duplicate() method to display all rows with duplicate Company/Product combinations\n",
    "ramen[ramen.duplicated(subset = ['Company', 'Product'], keep = False)]"
   ]
  },
  {
   "cell_type": "code",
   "execution_count": null,
   "id": "4a0aeb57-22c8-4afe-b2d5-0ddb919e46da",
   "metadata": {},
   "outputs": [],
   "source": [
    "# Task 8, drop all rows with duplicate Company/Product, except for the first row in each set.\n",
    "#   Then display data to see how many rows have bee droped.\n",
    "\n",
    "ramen.drop_duplicates(subset = ['Company', 'Product'], inplace = True)\n",
    "ramen"
   ]
  },
  {
   "cell_type": "code",
   "execution_count": null,
   "id": "b8ddcb7b-791b-453e-bda1-1c0aefe662c2",
   "metadata": {},
   "outputs": [],
   "source": [
    "# Task 9, drop any rows with missing data\n",
    "\n",
    "ramen.dropna(inplace = True)"
   ]
  },
  {
   "cell_type": "code",
   "execution_count": null,
   "id": "0cacb4dc-f44d-4e19-a71d-e883de11efd5",
   "metadata": {},
   "outputs": [],
   "source": [
    "# Task 10, Check again to see `that the changes have been applied.\n",
    "\n",
    "ramen.info(memory_usage = 'deep')"
   ]
  },
  {
   "cell_type": "code",
   "execution_count": null,
   "id": "90f50829-f251-4090-9a21-5be0d5d8af7e",
   "metadata": {},
   "outputs": [],
   "source": []
  }
 ],
 "metadata": {
  "kernelspec": {
   "display_name": "Python 3 (ipykernel)",
   "language": "python",
   "name": "python3"
  },
  "language_info": {
   "codemirror_mode": {
    "name": "ipython",
    "version": 3
   },
   "file_extension": ".py",
   "mimetype": "text/x-python",
   "name": "python",
   "nbconvert_exporter": "python",
   "pygments_lexer": "ipython3",
   "version": "3.10.6"
  }
 },
 "nbformat": 4,
 "nbformat_minor": 5
}
