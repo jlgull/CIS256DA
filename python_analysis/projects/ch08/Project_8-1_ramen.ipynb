{
 "cells": [
  {
   "cell_type": "markdown",
   "id": "3bc1a68d-6553-4535-a28e-02b22ba98dc2",
   "metadata": {},
   "source": [
    "# Project 8-1: Analyze the ramen data"
   ]
  },
  {
   "cell_type": "markdown",
   "id": "c58bb356-ce5a-4d8e-b90f-6c3aa2fb68ad",
   "metadata": {},
   "source": [
    "## The data for this project is in: ramen-ratings.csv"
   ]
  },
  {
   "cell_type": "code",
   "execution_count": 1,
   "id": "d1fef3c1-df55-4aec-bf79-75599aa154cd",
   "metadata": {},
   "outputs": [],
   "source": [
    "# Import needed modules\n",
    "\n",
    "# Import pandas and create the alias pd\n",
    "import pandas as pd\n",
    "\n",
    "# Import seaborn and create the alias sbn\n",
    "import seaborn as sbn"
   ]
  },
  {
   "cell_type": "markdown",
   "id": "48780d46-487e-4317-af6d-52fa7313607d",
   "metadata": {},
   "source": [
    "## Tasks"
   ]
  },
  {
   "cell_type": "code",
   "execution_count": null,
   "id": "3f0d8d87-1fa2-4a38-8afd-0d2bf679e5bb",
   "metadata": {},
   "outputs": [],
   "source": [
    "# 1\n",
    "# Create a ramen DataFrame using read_csv from the ramen-ratings.csv\n",
    "#    and display the first 5 rows.\n",
    "\n",
    "ramen = pd.read_csv('ramen-ratings.csv')\n",
    "\n",
    "ramen.head()\n"
   ]
  },
  {
   "cell_type": "code",
   "execution_count": null,
   "id": "5665a6ae-569b-422b-a97d-593ed7a817f3",
   "metadata": {},
   "outputs": [],
   "source": [
    "ramen.info(memory_usage = 'deep')"
   ]
  },
  {
   "cell_type": "code",
   "execution_count": null,
   "id": "c2bdabcf-b784-431b-b579-4a8c5a308b7c",
   "metadata": {},
   "outputs": [],
   "source": [
    "# Task 2, add a column for average rating for each country.\n",
    "#  Then display the data to ensure the calculation appears correct.\n",
    "\n",
    "ramen['Country_Mean_rating'] = ramen.groupby('Country')['Stars'].transform(func = 'mean')\n",
    "\n",
    "ramen.head()"
   ]
  },
  {
   "cell_type": "code",
   "execution_count": null,
   "id": "884f1d92-cd96-4457-84d1-4c8590dba987",
   "metadata": {},
   "outputs": [],
   "source": [
    "# Task 3, group the data by Country and Style and take the mean.\n",
    "#    Then unstack Style column and display the data for the Stars column.\n",
    "\n",
    "ramen.groupby(['Country', 'Style']).mean().unstack('Style')[['Stars']]\n"
   ]
  },
  {
   "cell_type": "code",
   "execution_count": null,
   "id": "adb661ba-411c-426c-93a0-98b0696fb736",
   "metadata": {},
   "outputs": [],
   "source": [
    "# Replace 'United States' with 'USA'\n",
    "\n",
    "ramen.Country.replace({'United States':'USA'}, inplace = True)\n",
    "\n",
    "ramen.groupby(['Country', 'Style']).mean().unstack('Style')[['Stars']]"
   ]
  },
  {
   "cell_type": "code",
   "execution_count": null,
   "id": "49da593f-42c9-40c0-ae9d-7b4c3ec90f87",
   "metadata": {},
   "outputs": [],
   "source": [
    "# Task 4, write a funtion to take row data and shorten the Variety column.\n",
    "#  Take the first 2 words and add an elipse \"...\" to each name.\n",
    "#  Hint: You will need to take the Variety column and split it into a list of names,\n",
    "#        then take the first 2 words and append the elipse to that name.\n",
    "\n",
    "def shorten_string(row):\n",
    "    words = row.Variety.split(' ')\n",
    "    words = words[:2]\n",
    "    words.append('...')\n",
    "    return ' '.join(words)\n",
    "\n"
   ]
  },
  {
   "cell_type": "code",
   "execution_count": null,
   "id": "cf34aaa1-55c9-4e73-b84d-fda868fb03d6",
   "metadata": {},
   "outputs": [],
   "source": [
    "# Task 5, Apply the function to the DataFrame, creating a column \"ShortVariety\"\n",
    "#   Display the DataFrame to see the new column\n",
    "\n",
    "ramen['ShortVariety'] = ramen.apply(shorten_string, axis = 1)\n",
    "\n",
    "ramen.head()"
   ]
  },
  {
   "cell_type": "code",
   "execution_count": null,
   "id": "6efc9b14-9e56-4ece-b204-9ed52b52b7bc",
   "metadata": {},
   "outputs": [],
   "source": [
    "# Task 6, Set an index on the Brand column then display the first 5 rows\n",
    "\n",
    "ramen.set_index(['Brand'], inplace = True)\n",
    "\n",
    "ramen.head()\n"
   ]
  },
  {
   "cell_type": "code",
   "execution_count": null,
   "id": "27727953-69df-4023-9395-8e91e673bb9a",
   "metadata": {},
   "outputs": [],
   "source": [
    "# Task 7, Reset index to default\n",
    "\n",
    "ramen.reset_index(inplace = True)\n",
    "\n",
    "ramen.head()\n"
   ]
  },
  {
   "cell_type": "code",
   "execution_count": null,
   "id": "90f50829-f251-4090-9a21-5be0d5d8af7e",
   "metadata": {},
   "outputs": [],
   "source": []
  }
 ],
 "metadata": {
  "kernelspec": {
   "display_name": "Python 3 (ipykernel)",
   "language": "python",
   "name": "python3"
  },
  "language_info": {
   "codemirror_mode": {
    "name": "ipython",
    "version": 3
   },
   "file_extension": ".py",
   "mimetype": "text/x-python",
   "name": "python",
   "nbconvert_exporter": "python",
   "pygments_lexer": "ipython3",
   "version": "3.10.6"
  }
 },
 "nbformat": 4,
 "nbformat_minor": 5
}
