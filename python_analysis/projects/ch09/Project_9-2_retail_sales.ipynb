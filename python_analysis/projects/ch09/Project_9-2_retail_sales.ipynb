{
 "cells": [
  {
   "cell_type": "markdown",
   "id": "3bc1a68d-6553-4535-a28e-02b22ba98dc2",
   "metadata": {},
   "source": [
    "# Project 9-2: Analyze retail sales over time"
   ]
  },
  {
   "cell_type": "markdown",
   "id": "c58bb356-ce5a-4d8e-b90f-6c3aa2fb68ad",
   "metadata": {},
   "source": [
    "## The data for this project is in: scanner_data.csv"
   ]
  },
  {
   "cell_type": "code",
   "execution_count": 1,
   "id": "d1fef3c1-df55-4aec-bf79-75599aa154cd",
   "metadata": {},
   "outputs": [],
   "source": [
    "# Import needed modules\n",
    "\n",
    "# Import pandas and create the alias pd\n",
    "import pandas as pd\n",
    "\n",
    "# Import seaborn and create the alias sbn\n",
    "import seaborn as sbn"
   ]
  },
  {
   "cell_type": "markdown",
   "id": "48780d46-487e-4317-af6d-52fa7313607d",
   "metadata": {},
   "source": [
    "## Tasks"
   ]
  },
  {
   "cell_type": "code",
   "execution_count": 2,
   "id": "3f0d8d87-1fa2-4a38-8afd-0d2bf679e5bb",
   "metadata": {},
   "outputs": [],
   "source": [
    "# 1\n",
    "# Read the data from the csv file, scanner_data.csv\n",
    "\n",
    "data = pd.read_csv('scanner_data.csv')\n"
   ]
  },
  {
   "cell_type": "code",
   "execution_count": 3,
   "id": "c2bdabcf-b784-431b-b579-4a8c5a308b7c",
   "metadata": {},
   "outputs": [
    {
     "name": "stdout",
     "output_type": "stream",
     "text": [
      "<class 'pandas.core.frame.DataFrame'>\n",
      "RangeIndex: 131706 entries, 0 to 131705\n",
      "Data columns (total 8 columns):\n",
      " #   Column          Non-Null Count   Dtype  \n",
      "---  ------          --------------   -----  \n",
      " 0   Unnamed: 0      131706 non-null  int64  \n",
      " 1   Date            131706 non-null  object \n",
      " 2   Customer_ID     131706 non-null  int64  \n",
      " 3   Transaction_ID  131706 non-null  int64  \n",
      " 4   SKU_Category    131706 non-null  object \n",
      " 5   SKU             131706 non-null  object \n",
      " 6   Quantity        131706 non-null  float64\n",
      " 7   Sales_Amount    131706 non-null  float64\n",
      "dtypes: float64(2), int64(3), object(3)\n",
      "memory usage: 28.8 MB\n"
     ]
    },
    {
     "data": {
      "text/html": [
       "<div>\n",
       "<style scoped>\n",
       "    .dataframe tbody tr th:only-of-type {\n",
       "        vertical-align: middle;\n",
       "    }\n",
       "\n",
       "    .dataframe tbody tr th {\n",
       "        vertical-align: top;\n",
       "    }\n",
       "\n",
       "    .dataframe thead th {\n",
       "        text-align: right;\n",
       "    }\n",
       "</style>\n",
       "<table border=\"1\" class=\"dataframe\">\n",
       "  <thead>\n",
       "    <tr style=\"text-align: right;\">\n",
       "      <th></th>\n",
       "      <th>Unnamed: 0</th>\n",
       "      <th>Date</th>\n",
       "      <th>Customer_ID</th>\n",
       "      <th>Transaction_ID</th>\n",
       "      <th>SKU_Category</th>\n",
       "      <th>SKU</th>\n",
       "      <th>Quantity</th>\n",
       "      <th>Sales_Amount</th>\n",
       "    </tr>\n",
       "  </thead>\n",
       "  <tbody>\n",
       "    <tr>\n",
       "      <th>0</th>\n",
       "      <td>1</td>\n",
       "      <td>02/01/2016</td>\n",
       "      <td>2547</td>\n",
       "      <td>1</td>\n",
       "      <td>X52</td>\n",
       "      <td>0EM7L</td>\n",
       "      <td>1.0</td>\n",
       "      <td>3.13</td>\n",
       "    </tr>\n",
       "    <tr>\n",
       "      <th>1</th>\n",
       "      <td>2</td>\n",
       "      <td>02/01/2016</td>\n",
       "      <td>822</td>\n",
       "      <td>2</td>\n",
       "      <td>2ML</td>\n",
       "      <td>68BRQ</td>\n",
       "      <td>1.0</td>\n",
       "      <td>5.46</td>\n",
       "    </tr>\n",
       "    <tr>\n",
       "      <th>2</th>\n",
       "      <td>3</td>\n",
       "      <td>02/01/2016</td>\n",
       "      <td>3686</td>\n",
       "      <td>3</td>\n",
       "      <td>0H2</td>\n",
       "      <td>CZUZX</td>\n",
       "      <td>1.0</td>\n",
       "      <td>6.35</td>\n",
       "    </tr>\n",
       "    <tr>\n",
       "      <th>3</th>\n",
       "      <td>4</td>\n",
       "      <td>02/01/2016</td>\n",
       "      <td>3719</td>\n",
       "      <td>4</td>\n",
       "      <td>0H2</td>\n",
       "      <td>549KK</td>\n",
       "      <td>1.0</td>\n",
       "      <td>5.59</td>\n",
       "    </tr>\n",
       "    <tr>\n",
       "      <th>4</th>\n",
       "      <td>5</td>\n",
       "      <td>02/01/2016</td>\n",
       "      <td>9200</td>\n",
       "      <td>5</td>\n",
       "      <td>0H2</td>\n",
       "      <td>K8EHH</td>\n",
       "      <td>1.0</td>\n",
       "      <td>6.88</td>\n",
       "    </tr>\n",
       "  </tbody>\n",
       "</table>\n",
       "</div>"
      ],
      "text/plain": [
       "   Unnamed: 0        Date  Customer_ID  Transaction_ID SKU_Category    SKU  \\\n",
       "0           1  02/01/2016         2547               1          X52  0EM7L   \n",
       "1           2  02/01/2016          822               2          2ML  68BRQ   \n",
       "2           3  02/01/2016         3686               3          0H2  CZUZX   \n",
       "3           4  02/01/2016         3719               4          0H2  549KK   \n",
       "4           5  02/01/2016         9200               5          0H2  K8EHH   \n",
       "\n",
       "   Quantity  Sales_Amount  \n",
       "0       1.0          3.13  \n",
       "1       1.0          5.46  \n",
       "2       1.0          6.35  \n",
       "3       1.0          5.59  \n",
       "4       1.0          6.88  "
      ]
     },
     "execution_count": 3,
     "metadata": {},
     "output_type": "execute_result"
    }
   ],
   "source": [
    "# Task 2, run info() and display the first five rows\n",
    "\n",
    "data.info(memory_usage = 'deep')\n",
    "\n",
    "data.head()\n"
   ]
  },
  {
   "cell_type": "code",
   "execution_count": 4,
   "id": "884f1d92-cd96-4457-84d1-4c8590dba987",
   "metadata": {},
   "outputs": [],
   "source": [
    "# Task 3, Drop the 2 index columns and the SKU column.\n",
    "\n",
    "data.drop(columns = ['Unnamed: 0', 'Transaction_ID', 'SKU'], inplace = True)\n"
   ]
  },
  {
   "cell_type": "code",
   "execution_count": 5,
   "id": "7fadbd97-7603-4419-b8c6-48a5ddd8c1b4",
   "metadata": {},
   "outputs": [
    {
     "data": {
      "text/html": [
       "<div>\n",
       "<style scoped>\n",
       "    .dataframe tbody tr th:only-of-type {\n",
       "        vertical-align: middle;\n",
       "    }\n",
       "\n",
       "    .dataframe tbody tr th {\n",
       "        vertical-align: top;\n",
       "    }\n",
       "\n",
       "    .dataframe thead th {\n",
       "        text-align: right;\n",
       "    }\n",
       "</style>\n",
       "<table border=\"1\" class=\"dataframe\">\n",
       "  <thead>\n",
       "    <tr style=\"text-align: right;\">\n",
       "      <th></th>\n",
       "      <th>Date</th>\n",
       "      <th>Customer_ID</th>\n",
       "      <th>SKU_Category</th>\n",
       "      <th>Quantity</th>\n",
       "      <th>Sales_Amount</th>\n",
       "    </tr>\n",
       "  </thead>\n",
       "  <tbody>\n",
       "    <tr>\n",
       "      <th>10222</th>\n",
       "      <td>01/02/2016</td>\n",
       "      <td>37</td>\n",
       "      <td>U5F</td>\n",
       "      <td>1.0</td>\n",
       "      <td>2.49</td>\n",
       "    </tr>\n",
       "  </tbody>\n",
       "</table>\n",
       "</div>"
      ],
      "text/plain": [
       "             Date  Customer_ID SKU_Category  Quantity  Sales_Amount\n",
       "10222  01/02/2016           37          U5F       1.0          2.49"
      ]
     },
     "execution_count": 5,
     "metadata": {},
     "output_type": "execute_result"
    }
   ],
   "source": [
    "data_test = data.query('Customer_ID == 37')\n",
    "\n",
    "data_test.head()"
   ]
  },
  {
   "cell_type": "code",
   "execution_count": 6,
   "id": "49da593f-42c9-40c0-ae9d-7b4c3ec90f87",
   "metadata": {},
   "outputs": [
    {
     "data": {
      "text/html": [
       "<div>\n",
       "<style scoped>\n",
       "    .dataframe tbody tr th:only-of-type {\n",
       "        vertical-align: middle;\n",
       "    }\n",
       "\n",
       "    .dataframe tbody tr th {\n",
       "        vertical-align: top;\n",
       "    }\n",
       "\n",
       "    .dataframe thead th {\n",
       "        text-align: right;\n",
       "    }\n",
       "</style>\n",
       "<table border=\"1\" class=\"dataframe\">\n",
       "  <thead>\n",
       "    <tr style=\"text-align: right;\">\n",
       "      <th></th>\n",
       "      <th>Date</th>\n",
       "      <th>Customer_ID</th>\n",
       "      <th>SKU_Category</th>\n",
       "      <th>Quantity</th>\n",
       "      <th>Sales_Amount</th>\n",
       "    </tr>\n",
       "  </thead>\n",
       "  <tbody>\n",
       "    <tr>\n",
       "      <th>0</th>\n",
       "      <td>2016-01-02</td>\n",
       "      <td>2547</td>\n",
       "      <td>X52</td>\n",
       "      <td>1.0</td>\n",
       "      <td>3.13</td>\n",
       "    </tr>\n",
       "    <tr>\n",
       "      <th>1</th>\n",
       "      <td>2016-01-02</td>\n",
       "      <td>822</td>\n",
       "      <td>2ML</td>\n",
       "      <td>1.0</td>\n",
       "      <td>5.46</td>\n",
       "    </tr>\n",
       "    <tr>\n",
       "      <th>2</th>\n",
       "      <td>2016-01-02</td>\n",
       "      <td>3686</td>\n",
       "      <td>0H2</td>\n",
       "      <td>1.0</td>\n",
       "      <td>6.35</td>\n",
       "    </tr>\n",
       "    <tr>\n",
       "      <th>3</th>\n",
       "      <td>2016-01-02</td>\n",
       "      <td>3719</td>\n",
       "      <td>0H2</td>\n",
       "      <td>1.0</td>\n",
       "      <td>5.59</td>\n",
       "    </tr>\n",
       "    <tr>\n",
       "      <th>4</th>\n",
       "      <td>2016-01-02</td>\n",
       "      <td>9200</td>\n",
       "      <td>0H2</td>\n",
       "      <td>1.0</td>\n",
       "      <td>6.88</td>\n",
       "    </tr>\n",
       "  </tbody>\n",
       "</table>\n",
       "</div>"
      ],
      "text/plain": [
       "        Date  Customer_ID SKU_Category  Quantity  Sales_Amount\n",
       "0 2016-01-02         2547          X52       1.0          3.13\n",
       "1 2016-01-02          822          2ML       1.0          5.46\n",
       "2 2016-01-02         3686          0H2       1.0          6.35\n",
       "3 2016-01-02         3719          0H2       1.0          5.59\n",
       "4 2016-01-02         9200          0H2       1.0          6.88"
      ]
     },
     "execution_count": 6,
     "metadata": {},
     "output_type": "execute_result"
    }
   ],
   "source": [
    "# Task 4, Convert the Date column to the dateTime data type.\n",
    "\n",
    "data.Date = pd.to_datetime(data.Date, format = \"%d/%m/%Y\")\n",
    "\n",
    "data.head()\n"
   ]
  },
  {
   "cell_type": "code",
   "execution_count": 7,
   "id": "627b7723-f30c-42a4-b92a-d68b8628c328",
   "metadata": {},
   "outputs": [
    {
     "data": {
      "text/html": [
       "<div>\n",
       "<style scoped>\n",
       "    .dataframe tbody tr th:only-of-type {\n",
       "        vertical-align: middle;\n",
       "    }\n",
       "\n",
       "    .dataframe tbody tr th {\n",
       "        vertical-align: top;\n",
       "    }\n",
       "\n",
       "    .dataframe thead th {\n",
       "        text-align: right;\n",
       "    }\n",
       "</style>\n",
       "<table border=\"1\" class=\"dataframe\">\n",
       "  <thead>\n",
       "    <tr style=\"text-align: right;\">\n",
       "      <th></th>\n",
       "      <th>Date</th>\n",
       "      <th>Customer_ID</th>\n",
       "      <th>SKU_Category</th>\n",
       "      <th>Quantity</th>\n",
       "      <th>Sales_Amount</th>\n",
       "    </tr>\n",
       "  </thead>\n",
       "  <tbody>\n",
       "    <tr>\n",
       "      <th>10222</th>\n",
       "      <td>2016-02-01</td>\n",
       "      <td>37</td>\n",
       "      <td>U5F</td>\n",
       "      <td>1.0</td>\n",
       "      <td>2.49</td>\n",
       "    </tr>\n",
       "  </tbody>\n",
       "</table>\n",
       "</div>"
      ],
      "text/plain": [
       "            Date  Customer_ID SKU_Category  Quantity  Sales_Amount\n",
       "10222 2016-02-01           37          U5F       1.0          2.49"
      ]
     },
     "execution_count": 7,
     "metadata": {},
     "output_type": "execute_result"
    }
   ],
   "source": [
    "data_Customer = data.query('Customer_ID == 37')\n",
    "\n",
    "data_Customer.head()"
   ]
  },
  {
   "cell_type": "code",
   "execution_count": 8,
   "id": "cf34aaa1-55c9-4e73-b84d-fda868fb03d6",
   "metadata": {},
   "outputs": [
    {
     "data": {
      "text/html": [
       "<div>\n",
       "<style scoped>\n",
       "    .dataframe tbody tr th:only-of-type {\n",
       "        vertical-align: middle;\n",
       "    }\n",
       "\n",
       "    .dataframe tbody tr th {\n",
       "        vertical-align: top;\n",
       "    }\n",
       "\n",
       "    .dataframe thead th {\n",
       "        text-align: right;\n",
       "    }\n",
       "</style>\n",
       "<table border=\"1\" class=\"dataframe\">\n",
       "  <thead>\n",
       "    <tr style=\"text-align: right;\">\n",
       "      <th></th>\n",
       "      <th></th>\n",
       "      <th></th>\n",
       "      <th>Quantity</th>\n",
       "      <th>Sales_Amount</th>\n",
       "    </tr>\n",
       "    <tr>\n",
       "      <th>Date</th>\n",
       "      <th>Customer_ID</th>\n",
       "      <th>SKU_Category</th>\n",
       "      <th></th>\n",
       "      <th></th>\n",
       "    </tr>\n",
       "  </thead>\n",
       "  <tbody>\n",
       "    <tr>\n",
       "      <th rowspan=\"5\" valign=\"top\">2016-01-02</th>\n",
       "      <th rowspan=\"2\" valign=\"top\">3</th>\n",
       "      <th>LPF</th>\n",
       "      <td>2.0</td>\n",
       "      <td>8.16</td>\n",
       "    </tr>\n",
       "    <tr>\n",
       "      <th>TW8</th>\n",
       "      <td>2.0</td>\n",
       "      <td>2.76</td>\n",
       "    </tr>\n",
       "    <tr>\n",
       "      <th rowspan=\"2\" valign=\"top\">178</th>\n",
       "      <th>Q4N</th>\n",
       "      <td>1.0</td>\n",
       "      <td>34.06</td>\n",
       "    </tr>\n",
       "    <tr>\n",
       "      <th>R6E</th>\n",
       "      <td>1.0</td>\n",
       "      <td>24.93</td>\n",
       "    </tr>\n",
       "    <tr>\n",
       "      <th>195</th>\n",
       "      <th>8H8</th>\n",
       "      <td>1.0</td>\n",
       "      <td>6.75</td>\n",
       "    </tr>\n",
       "  </tbody>\n",
       "</table>\n",
       "</div>"
      ],
      "text/plain": [
       "                                     Quantity  Sales_Amount\n",
       "Date       Customer_ID SKU_Category                        \n",
       "2016-01-02 3           LPF                2.0          8.16\n",
       "                       TW8                2.0          2.76\n",
       "           178         Q4N                1.0         34.06\n",
       "                       R6E                1.0         24.93\n",
       "           195         8H8                1.0          6.75"
      ]
     },
     "execution_count": 8,
     "metadata": {},
     "output_type": "execute_result"
    }
   ],
   "source": [
    "# Task 5, Group the data by Date, Customer_ID, and SKU_Category columns\n",
    "#         and calculate the sum of the Quantity and Sales_Amount columns.\n",
    "#         Then display the first five rows.\n",
    "\n",
    "data_grouped = data.groupby(['Date', 'Customer_ID', 'SKU_Category']).sum()\n",
    "\n",
    "data_grouped.head()\n"
   ]
  },
  {
   "cell_type": "code",
   "execution_count": 9,
   "id": "6efc9b14-9e56-4ece-b204-9ed52b52b7bc",
   "metadata": {},
   "outputs": [],
   "source": [
    "# Task 6, Resample the date to a monthly frequency and save the results to a new DataFrame.\n",
    "\n",
    "data_monthly = data_grouped.resample(rule = 'M', level = 0).sum()\n"
   ]
  },
  {
   "cell_type": "code",
   "execution_count": 10,
   "id": "27727953-69df-4023-9395-8e91e673bb9a",
   "metadata": {},
   "outputs": [
    {
     "data": {
      "image/png": "[encoded data removed]",
      "text/plain": [
       "<Figure size 432x288 with 1 Axes>"
      ]
     },
     "metadata": {
      "needs_background": "light"
     },
     "output_type": "display_data"
    }
   ],
   "source": [
    "# Task 7, Plot the monthly Quantity and Sales_Amount column by Date in a Pandas line plot.\n",
    "\n",
    "data_monthly.plot();"
   ]
  },
  {
   "cell_type": "code",
   "execution_count": 11,
   "id": "90f50829-f251-4090-9a21-5be0d5d8af7e",
   "metadata": {},
   "outputs": [],
   "source": [
    "# Task 8, Resample the date to a quarterly frequency and save the results to a new DataFrame.\n",
    "\n",
    "data_quarterly = data_grouped.resample(rule = 'Q', level = 0).sum()"
   ]
  },
  {
   "cell_type": "code",
   "execution_count": 12,
   "id": "6d79c567-7ded-4c9d-98f3-82159cdf45f1",
   "metadata": {},
   "outputs": [
    {
     "data": {
      "image/png": "[encoded data removed]",
      "text/plain": [
       "<Figure size 432x288 with 1 Axes>"
      ]
     },
     "metadata": {
      "needs_background": "light"
     },
     "output_type": "display_data"
    }
   ],
   "source": [
    "# Task 9, Plot the quarterly Quantity and Sales_Amount column by Date in a Pandas line plot.\n",
    "\n",
    "data_quarterly.plot();"
   ]
  },
  {
   "cell_type": "code",
   "execution_count": 13,
   "id": "b92f5c95-17af-42ca-8b4b-399fa08c9b2f",
   "metadata": {},
   "outputs": [],
   "source": [
    "# Task 10, Add the running total for the Sales_Amount column to the DataFrame that contains\n",
    "#          the monthly data.\n",
    "\n",
    "data_monthly['SalesRunning'] = data_monthly.Sales_Amount.expanding().sum()\n"
   ]
  },
  {
   "cell_type": "code",
   "execution_count": 14,
   "id": "fe3e6c87-1730-4f50-84d2-1db3c9304699",
   "metadata": {},
   "outputs": [
    {
     "data": {
      "image/png": "[encoded data removed]",
      "text/plain": [
       "<Figure size 432x288 with 1 Axes>"
      ]
     },
     "metadata": {
      "needs_background": "light"
     },
     "output_type": "display_data"
    }
   ],
   "source": [
    "# Task 11, Plot the running total and Sales_Amount column together in a Pandas bar plot.\n",
    "\n",
    "data_monthly.plot(y = ['Sales_Amount', 'SalesRunning'], kind = 'bar');"
   ]
  },
  {
   "cell_type": "code",
   "execution_count": null,
   "id": "371e2d28-1b38-4b76-ad5c-5165ab4757ce",
   "metadata": {},
   "outputs": [],
   "source": []
  }
 ],
 "metadata": {
  "kernelspec": {
   "display_name": "Python 3 (ipykernel)",
   "language": "python",
   "name": "python3"
  },
  "language_info": {
   "codemirror_mode": {
    "name": "ipython",
    "version": 3
   },
   "file_extension": ".py",
   "mimetype": "text/x-python",
   "name": "python",
   "nbconvert_exporter": "python",
   "pygments_lexer": "ipython3",
   "version": "3.10.6"
  }
 },
 "nbformat": 4,
 "nbformat_minor": 5
}
